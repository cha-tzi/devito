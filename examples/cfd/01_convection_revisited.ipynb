{
 "cells": [
  {
   "cell_type": "markdown",
   "metadata": {},
   "source": [
    "### Example 1b: Linear convection in 2D, revisited\n",
    "\n",
    "We will now revisit the first example of this tutorial with an example that is better suited to the numerical scheme used in Devito. As a reminder, the governing equation is:\n",
    "\n",
    "$$\\frac{\\partial u}{\\partial t}+c\\frac{\\partial u}{\\partial x} + c\\frac{\\partial u}{\\partial y} = 0$$\n",
    "\n",
    "We then discretized this using forward differences in time and backward differences in space:\n",
    "\n",
    "$$u_{i,j}^{n+1} = u_{i,j}^n-c \\frac{\\Delta t}{\\Delta x}(u_{i,j}^n-u_{i-1,j}^n)-c \\frac{\\Delta t}{\\Delta y}(u_{i,j}^n-u_{i,j-1}^n)$$\n",
    "\n",
    "In the previous example, the system was initialised with a hat function. As easy as this example seems, it actually highlights a few limitations of finite differences and related methods:\n",
    " - The governing equation above contains spatial derivatives ($\\frac{\\partial u}{\\partial x}$ and $\\frac{\\partial u}{\\partial y}$). The hat, with its sharp corners, is discontinuous and therefore non-smooth, meaning that the derivatives do not exist at the corners of the hat. This means that the governing equation has no solution in the strict sense for this problem. Mathematically, this problem can be overcome by introducing weak solutions, which still exist in the presence of discontinuities, as long as the problem is smooth almost everywhere. The Finite Volume (FV), Finite Element (FEM) and related schemes are based on this weak form.\n",
    " - The finite differences method only works well if finite differences are a good approximation of the derivatives. With the chosen discretization above, this requires that $\\frac{u_{i,j}^n-u_{i-1,j}^n}{\\Delta x} \\approx \\frac{\\partial u}{\\partial x}$ and $\\frac{u_{i,j}^n-u_{i,j-1}^n}{\\Delta y} \\approx \\frac{\\partial u}{\\partial y}$. This is the case for systems with a smooth solution if $\\Delta x$ and $\\Delta y$ are sufficiently small. But if the solution is non-smooth, as in this example, then we can't expect much regardless of the grid size.\n",
    " - First-order methods, such as the backward differences that we have used in this example, are known to create artificial diffusion. Higher-order schemes, such as central differences, avoid this problem. However, in the presence of discontinuities these methods introduce so-called spurious oscillations. These oscillations may even build up (grow infinitely) and cause the computation to diverge.\n",
    " - Discontinuities can appear by themselves for some equations (such as the Burgers equation that we discuss next), even if the initial condition is smooth. In CFD, discontinuities appear for example as shocks in the simulation of transonic flow. For this reason, numerical schemes that behave well in the presence of discontinuities have been a research subject for a long time. A thorough discussion is beyond the scope of this tutorial, but can be found in [R. LeVeque (1992): Numerical Methods for Conservation Laws, 2nd ed., Birkhäuser Verlag, pp. 8-13].\n",
    " \n",
    "In the remainder of this example, we will reproduce the results from the previous example, only this time with a smooth initial condition. This lets us observe Devito in a setting for which it is better equipped.\n",
    " "
   ]
  },
  {
   "cell_type": "code",
   "execution_count": 1,
   "metadata": {
    "scrolled": true
   },
   "outputs": [],
   "source": [
    "from examples.cfd import plot_field, init_hat, init_smooth\n",
    "import numpy as np\n",
    "%matplotlib inline\n",
    "\n",
    "# Some variable declarations\n",
    "nx = 81\n",
    "ny = 81\n",
    "nt = 100\n",
    "c = 1.\n",
    "dx = 2. / (nx - 1)\n",
    "dy = 2. / (ny - 1)\n",
    "sigma = .2\n",
    "dt = sigma * dx"
   ]
  },
  {
   "cell_type": "markdown",
   "metadata": {},
   "source": [
    "Let us now initialise the field with an infinitely smooth bump, as given by [J.A. Krakos (2012): Unsteady Adjoint Analysis for Output Sensitivity\n",
    "and Mesh Adaptation, PhD thesis, p. 68] as $$\n",
    "f(r)=\n",
    "\\begin{cases}\n",
    "\\frac{1}{A}e^{-1/(r-r^2)} &\\text{ for } 0 < r < 1,\\\\\n",
    "0 &\\text{ else.}\n",
    "\\end{cases}\n",
    "$$\n",
    "We use this with $A=100$, and define the initial condition in two dimensions as $$u^0(x,y)=1+f\\left(\\frac{2}{3}x\\right)*f\\left(\\frac{2}{3}y\\right).$$"
   ]
  },
  {
   "cell_type": "code",
   "execution_count": 2,
   "metadata": {},
   "outputs": [],
   "source": [
    "#NBVAL_IGNORE_OUTPUT\n",
    "\n",
    "# Create field and assign initial conditions\n",
    "u = np.empty((nx, ny))\n",
    "init_smooth(field=u, dx=dx, dy=dy)\n",
    "\n",
    "# Plot initial condition\n",
    "plot_field(u, zmax=4)"
   ]
  },
  {
   "cell_type": "markdown",
   "metadata": {},
   "source": [
    "Solving this will move the bump again."
   ]
  },
  {
   "cell_type": "code",
   "execution_count": 3,
   "metadata": {
    "scrolled": true
   },
   "outputs": [],
   "source": [
    "# Repeat initialisation, so we can re-run the cell\n",
    "init_smooth(field=u, dx=dx, dy=dy)\n",
    "\n",
    "for n in range(nt + 1):\n",
    "    # Copy previous result into a new buffer\n",
    "    un = u.copy()\n",
    "    \n",
    "    # Update the new result with a 3-point stencil\n",
    "    u[1:, 1:] = (un[1:, 1:] - (c * dt / dy * (un[1:, 1:] - un[1:, :-1])) -\n",
    "                              (c * dt / dx * (un[1:, 1:] - un[:-1, 1:])))\n",
    "\n",
    "    # Apply boundary conditions\n",
    "    u[0, :] = 1.\n",
    "    u[-1, :] = 1.\n",
    "    u[:, 0] = 1.\n",
    "    u[:, -1] = 1."
   ]
  },
  {
   "cell_type": "code",
   "execution_count": 4,
   "metadata": {},
   "outputs": [],
   "source": [
    "#NBVAL_IGNORE_OUTPUT\n",
    "\n",
    "# A small sanity check for auto-testing\n",
    "assert (u[45:55, 45:55] > 1.8).all()\n",
    "u_ref = u.copy()\n",
    "\n",
    "plot_field(u, zmax=4.)"
   ]
  },
  {
   "cell_type": "markdown",
   "metadata": {},
   "source": [
    "Hooray, the wave moved! It looks like the solver works much better for this example: The wave has not noticeably changed its shape."
   ]
  },
  {
   "cell_type": "markdown",
   "metadata": {},
   "source": [
    "#### Devito implementation\n",
    "Again, we can re-create this via a Devito operator. Let's fill the initial buffer with smooth data and look at it:"
   ]
  },
  {
   "cell_type": "code",
   "execution_count": 5,
   "metadata": {},
   "outputs": [],
   "source": [
    "#NBVAL_IGNORE_OUTPUT\n",
    "from devito import Grid, TimeFunction\n",
    "\n",
    "grid = Grid(shape=(nx, ny), extent=(2., 2.))\n",
    "u = TimeFunction(name='u', grid=grid)\n",
    "init_smooth(field=u.data[0], dx=dx, dy=dy)\n",
    "\n",
    "plot_field(u.data[0])"
   ]
  },
  {
   "cell_type": "markdown",
   "metadata": {},
   "source": [
    "We create again the discretized equation as shown below. Note that the equation is still the same, only the initial condition has changed."
   ]
  },
  {
   "cell_type": "code",
   "execution_count": 6,
   "metadata": {},
   "outputs": [
    {
     "name": "stdout",
     "output_type": "stream",
     "text": [
      "Eq(1.0*Derivative(u(t, x, y), x) + 1.0*Derivative(u(t, x, y), y) + Derivative(u(t, x, y), t), 0)\n"
     ]
    }
   ],
   "source": [
    "from devito import Eq\n",
    "\n",
    "eq = Eq(u.dt + c*u.dxl + c*u.dyl)\n",
    "\n",
    "print(eq)"
   ]
  },
  {
   "cell_type": "markdown",
   "metadata": {},
   "source": [
    "SymPy can re-organise this equation just like in the previous example."
   ]
  },
  {
   "cell_type": "code",
   "execution_count": 7,
   "metadata": {},
   "outputs": [],
   "source": [
    "from devito import solve \n",
    "\n",
    "stencil = solve(eq, u.forward)\n",
    "\n",
    "print(stencil)"
   ]
  },
  {
   "cell_type": "markdown",
   "metadata": {},
   "source": [
    "We can now use this stencil expression to create an operator to apply to our data object:"
   ]
  },
  {
   "cell_type": "code",
   "execution_count": 8,
   "metadata": {},
   "outputs": [],
   "source": [
    "#NBVAL_IGNORE_OUTPUT\n",
    "from devito import Operator\n",
    "\n",
    "# Reset our initial condition in both buffers.\n",
    "# This is required to avoid 0s propagating into\n",
    "# our solution, which has a background value of 1.\n",
    "init_smooth(field=u.data[0], dx=dx, dy=dy)\n",
    "init_smooth(field=u.data[1], dx=dx, dy=dy)\n",
    "\n",
    "# Apply boundary conditions\n",
    "u.data[:, 0, :] = 1.\n",
    "u.data[:, -1, :] = 1.\n",
    "u.data[:, :, 0] = 1.\n",
    "u.data[:, :, -1] = 1.\n",
    "    \n",
    "# Create an Operator that updates the forward stencil\n",
    "# point in the interior subdomain only.\n",
    "op = Operator(Eq(u.forward, stencil, subdomain=grid.interior))\n",
    "\n",
    "# Apply the operator for a number of timesteps\n",
    "op(time=nt, dt=dt)\n",
    "\n",
    "plot_field(u.data[0, :, :])\n",
    "\n",
    "# Some small sanity checks for the testing framework\n",
    "assert (u.data[0, 45:55, 45:55] > 1.8).all()\n",
    "assert np.allclose(u.data[0], u_ref, rtol=3.e-2)"
   ]
  },
  {
   "cell_type": "markdown",
   "metadata": {},
   "source": [
    "Again, this looks just like the result from NumPy. Since this example is just like the one before, the low-level treatment of boundaries is also unchanged."
   ]
  },
  {
   "cell_type": "code",
   "execution_count": 9,
   "metadata": {},
   "outputs": [],
   "source": [
    "#NBVAL_IGNORE_OUTPUT\n",
    "\n",
    "# Reset our data field and ICs in both buffers\n",
    "init_smooth(field=u.data[0], dx=dx, dy=dy)\n",
    "init_smooth(field=u.data[1], dx=dx, dy=dy)\n",
    "\n",
    "# For defining BCs, we generally to explicitly set rows/columns\n",
    "# in our field using an expression. We can use Devito's \"indexed\" \n",
    "# notation to do this:\n",
    "x, y = grid.dimensions\n",
    "t = grid.stepping_dim\n",
    "bc_left = Eq(u[t + 1, 0, y], 1.)\n",
    "bc_right = Eq(u[t + 1, nx-1, y], 1.)\n",
    "bc_top = Eq(u[t + 1, x, ny-1], 1.)\n",
    "bc_bottom = Eq(u[t + 1, x, 0], 1.)\n",
    "\n",
    "# Now combine the BC expressions with the stencil to form operator.\n",
    "expressions = [Eq(u.forward, stencil, subdomain=grid.interior)]\n",
    "expressions += [bc_left, bc_right, bc_top, bc_bottom]\n",
    "op = Operator(expressions=expressions, opt=None, openmp=False)  # <-- Turn off performance optimisations\n",
    "op(time=nt, dt=dt)\n",
    "\n",
    "plot_field(u.data[0, :, :])\n",
    "\n",
    "# Some small sanity checks for the testing framework\n",
    "assert (u.data[0, 45:55, 45:55] > 1.8).all()\n",
    "assert np.allclose(u.data[0], u_ref, rtol=3.e-2)"
   ]
  },
  {
   "cell_type": "markdown",
   "metadata": {},
   "source": [
    "The C code of the Kernel is also still the same."
   ]
  },
  {
   "cell_type": "code",
   "execution_count": 10,
   "metadata": {
    "scrolled": true
   },
   "outputs": [
    {
     "name": "stdout",
     "output_type": "stream",
     "text": [
      "#define _POSIX_C_SOURCE 200809L\n",
      "#include \"stdlib.h\"\n",
      "#include \"math.h\"\n",
      "#include \"sys/time.h\"\n",
      "\n",
      "struct dataobj\n",
      "{\n",
      "  void *restrict data;\n",
      "  int * size;\n",
      "  int * npsize;\n",
      "  int * dsize;\n",
      "  int * hsize;\n",
      "  int * hofs;\n",
      "  int * oofs;\n",
      "} ;\n",
      "\n",
      "struct profiler\n",
      "{\n",
      "  double section0;\n",
      "  double section1;\n",
      "  double section2;\n",
      "} ;\n",
      "\n",
      "\n",
      "int Kernel(const float dt, const float h_x, const float h_y, struct dataobj *restrict u_vec, const int i0x_ltkn, const int i0x_rtkn, const int i0y_ltkn, const int i0y_rtkn, const int time_M, const int time_m, struct profiler * timers, const int x_M, const int x_m, const int y_M, const int y_m)\n",
      "{\n",
      "  float (*restrict u)[u_vec->size[1]][u_vec->size[2]] __attribute__ ((aligned (64))) = (float (*)[u_vec->size[1]][u_vec->size[2]]) u_vec->data;\n",
      "  for (int time = time_m, t0 = (time)%(2), t1 = (time + 1)%(2); time <= time_M; time += 1, t0 = (time)%(2), t1 = (time + 1)%(2))\n",
      "  {\n",
      "    struct timeval start_section0, end_section0;\n",
      "    gettimeofday(&start_section0, NULL);\n",
      "    /* Begin section0 */\n",
      "    for (int i0x = i0x_ltkn + x_m; i0x <= -i0x_rtkn + x_M; i0x += 1)\n",
      "    {\n",
      "      for (int i0y = i0y_ltkn + y_m; i0y <= -i0y_rtkn + y_M; i0y += 1)\n",
      "      {\n",
      "        u[t1][i0x + 1][i0y + 1] = 1.0F*(dt*h_x*u[t0][i0x + 1][i0y] - dt*h_x*u[t0][i0x + 1][i0y + 1] + dt*h_y*u[t0][i0x][i0y + 1] - dt*h_y*u[t0][i0x + 1][i0y + 1] + h_x*h_y*u[t0][i0x + 1][i0y + 1])/(h_x*h_y);\n",
      "      }\n",
      "    }\n",
      "    /* End section0 */\n",
      "    gettimeofday(&end_section0, NULL);\n",
      "    timers->section0 += (double)(end_section0.tv_sec-start_section0.tv_sec)+(double)(end_section0.tv_usec-start_section0.tv_usec)/1000000;\n",
      "    struct timeval start_section1, end_section1;\n",
      "    gettimeofday(&start_section1, NULL);\n",
      "    /* Begin section1 */\n",
      "    for (int y = y_m; y <= y_M; y += 1)\n",
      "    {\n",
      "      u[t1][1][y + 1] = 1.00000000000000F;\n",
      "      u[t1][81][y + 1] = 1.00000000000000F;\n",
      "    }\n",
      "    /* End section1 */\n",
      "    gettimeofday(&end_section1, NULL);\n",
      "    timers->section1 += (double)(end_section1.tv_sec-start_section1.tv_sec)+(double)(end_section1.tv_usec-start_section1.tv_usec)/1000000;\n",
      "    struct timeval start_section2, end_section2;\n",
      "    gettimeofday(&start_section2, NULL);\n",
      "    /* Begin section2 */\n",
      "    for (int x = x_m; x <= x_M; x += 1)\n",
      "    {\n",
      "      u[t1][x + 1][81] = 1.00000000000000F;\n",
      "      u[t1][x + 1][1] = 1.00000000000000F;\n",
      "    }\n",
      "    /* End section2 */\n",
      "    gettimeofday(&end_section2, NULL);\n",
      "    timers->section2 += (double)(end_section2.tv_sec-start_section2.tv_sec)+(double)(end_section2.tv_usec-start_section2.tv_usec)/1000000;\n",
      "  }\n",
      "  return 0;\n",
      "}\n",
      "\n"
     ]
    }
   ],
   "source": [
    "print(op.ccode)"
   ]
  },
  {
   "cell_type": "code",
   "execution_count": null,
   "metadata": {},
   "outputs": [],
   "source": []
  }
 ],
 "metadata": {
  "@webio": {
   "lastCommId": null,
   "lastKernelId": null
  },
  "hide_input": false,
  "kernelspec": {
   "display_name": "Python 3",
   "language": "python",
   "name": "python3"
  },
  "language_info": {
   "codemirror_mode": {
    "name": "ipython",
    "version": 3
   },
   "file_extension": ".py",
   "mimetype": "text/x-python",
   "name": "python",
   "nbconvert_exporter": "python",
   "pygments_lexer": "ipython3",
   "version": "3.6.8"
  },
  "latex_envs": {
   "LaTeX_envs_menu_present": true,
   "autoclose": false,
   "autocomplete": true,
   "bibliofile": "biblio.bib",
   "cite_by": "apalike",
   "current_citInitial": 1,
   "eqLabelWithNumbers": true,
   "eqNumInitial": 1,
   "hotkeys": {
    "equation": "Ctrl-E",
    "itemize": "Ctrl-I"
   },
   "labels_anchors": false,
   "latex_user_defs": false,
   "report_style_numbering": false,
   "user_envs_cfg": false
  },
  "widgets": {
   "state": {},
   "version": "1.1.2"
  }
 },
 "nbformat": 4,
 "nbformat_minor": 1
}
