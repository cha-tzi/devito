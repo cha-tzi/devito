{
 "cells": [
  {
   "cell_type": "markdown",
   "metadata": {},
   "source": [
    "### Example 2: Nonlinear convection in 2D\n",
    "\n",
    "Following the initial convection tutorial with a single state variable $u$, we will now look at non-linear convection (step 6 in the original). This brings one new crucial challenge: computing a pair of coupled equations and thus updating two time-dependent variables $u$ and $v$.\n",
    "\n",
    "The full set of coupled equations is now\n",
    "\n",
    "\\begin{aligned}\n",
    "\\frac{\\partial u}{\\partial t} + u \\frac{\\partial u}{\\partial x} + v \\frac{\\partial u}{\\partial y} = 0 \\\\\n",
    "\\\\\n",
    "\\frac{\\partial v}{\\partial t} + u \\frac{\\partial v}{\\partial x} + v \\frac{\\partial v}{\\partial y} = 0\\\\\n",
    "\\end{aligned}\n",
    "\n",
    "and rearranging the discretized version gives us an expression for the update of both variables\n",
    "\n",
    "\\begin{aligned}\n",
    "u_{i,j}^{n+1} &= u_{i,j}^n - u_{i,j}^n \\frac{\\Delta t}{\\Delta x} (u_{i,j}^n-u_{i-1,j}^n) - v_{i,j}^n \\frac{\\Delta t}{\\Delta y} (u_{i,j}^n-u_{i,j-1}^n) \\\\\n",
    "\\\\\n",
    "v_{i,j}^{n+1} &= v_{i,j}^n - u_{i,j}^n \\frac{\\Delta t}{\\Delta x} (v_{i,j}^n-v_{i-1,j}^n) - v_{i,j}^n \\frac{\\Delta t}{\\Delta y} (v_{i,j}^n-v_{i,j-1}^n)\n",
    "\\end{aligned}\n",
    "\n",
    "So, for starters we will re-create the original example run in pure NumPy array notation, before demonstrating \n",
    "the Devito version. Let's start again with some utilities and parameters:"
   ]
  },
  {
   "cell_type": "code",
   "execution_count": null,
   "metadata": {},
   "outputs": [],
   "source": [
    "from examples.cfd import plot_field, init_hat\n",
    "import numpy as np\n",
    "import sympy\n",
    "%matplotlib inline\n",
    "\n",
    "# Some variable declarations\n",
    "nx = 101\n",
    "ny = 101\n",
    "nt = 80\n",
    "c = 1.\n",
    "dx = 2. / (nx - 1)\n",
    "dy = 2. / (ny - 1)\n",
    "sigma = .2\n",
    "dt = sigma * dx"
   ]
  },
  {
   "cell_type": "markdown",
   "metadata": {},
   "source": [
    "Let's re-create the initial setup with a 2D \"hat function\", but this time for two state variables."
   ]
  },
  {
   "cell_type": "code",
   "execution_count": null,
   "metadata": {},
   "outputs": [],
   "source": [
    "#NBVAL_IGNORE_OUTPUT\n",
    "\n",
    "# Allocate fields and assign initial conditions\n",
    "u = np.empty((nx, ny))\n",
    "v = np.empty((nx, ny))\n",
    "\n",
    "init_hat(field=u, dx=dx, dy=dy, value=2.)\n",
    "init_hat(field=v, dx=dx, dy=dy, value=2.)\n",
    "\n",
    "plot_field(u)"
   ]
  },
  {
   "cell_type": "markdown",
   "metadata": {},
   "source": [
    "Now we can create the two stencil expression for our two coupled equations according to the discretized equation above. We again use some simple Dirichlet boundary conditions to keep the values on all sides constant."
   ]
  },
  {
   "cell_type": "code",
   "execution_count": null,
   "metadata": {},
   "outputs": [],
   "source": [
    "#NBVAL_IGNORE_OUTPUT\n",
    "for n in range(nt + 1): ##loop across number of time steps\n",
    "    un = u.copy()\n",
    "    vn = v.copy()\n",
    "    u[1:, 1:] = (un[1:, 1:] - \n",
    "                 (un[1:, 1:] * c * dt / dy * (un[1:, 1:] - un[1:, :-1])) -\n",
    "                  vn[1:, 1:] * c * dt / dx * (un[1:, 1:] - un[:-1, 1:]))\n",
    "    v[1:, 1:] = (vn[1:, 1:] -\n",
    "                 (un[1:, 1:] * c * dt / dy * (vn[1:, 1:] - vn[1:, :-1])) -\n",
    "                 vn[1:, 1:] * c * dt / dx * (vn[1:, 1:] - vn[:-1, 1:]))\n",
    "    \n",
    "    u[0, :] = 1\n",
    "    u[-1, :] = 1\n",
    "    u[:, 0] = 1\n",
    "    u[:, -1] = 1\n",
    "    \n",
    "    v[0, :] = 1\n",
    "    v[-1, :] = 1\n",
    "    v[:, 0] = 1\n",
    "    v[:, -1] = 1\n",
    "    \n",
    "plot_field(u)"
   ]
  },
  {
   "cell_type": "markdown",
   "metadata": {},
   "source": [
    "Excellent, we again get a wave that resembles the one from the oiginal examples.\n",
    "\n",
    "Now we can set up our coupled problem in Devito. Let's start by creating two initial state variables $u$ and $v$, as before, and initialising them with our \"hat function."
   ]
  },
  {
   "cell_type": "code",
   "execution_count": null,
   "metadata": {},
   "outputs": [],
   "source": [
    "#NBVAL_IGNORE_OUTPUT\n",
    "from devito import Grid, TimeFunction\n",
    "\n",
    "# First we need two time-dependent data fields, both initialized with the hat function\n",
    "grid = Grid(shape=(nx, ny), extent=(2., 2.))\n",
    "u = TimeFunction(name='u', grid=grid)\n",
    "init_hat(field=u.data[0], dx=dx, dy=dy, value=2.)\n",
    "\n",
    "v = TimeFunction(name='v', grid=grid)\n",
    "init_hat(field=v.data[0], dx=dx, dy=dy, value=2.)\n",
    "\n",
    "plot_field(u.data[0])"
   ]
  },
  {
   "cell_type": "markdown",
   "metadata": {},
   "source": [
    "Using the two `TimeFunction` objects we can again derive our discretized equation, rearrange for the forward stencil point in time and define our variable update expression - only we have to do everything twice now! We again use forward differences for time via `u.dt` and backward differences in space via `u.dxl` and `u.dyl` to match the original tutorial."
   ]
  },
  {
   "cell_type": "code",
   "execution_count": null,
   "metadata": {},
   "outputs": [],
   "source": [
    "from devito import Eq, solve\n",
    "\n",
    "eq_u = Eq(u.dt + u*u.dxl + v*u.dyl)\n",
    "eq_v = Eq(v.dt + u*v.dxl + v*v.dyl)\n",
    "\n",
    "# We can use the same SymPy trick to generate two\n",
    "# stencil expressions, one for each field update.\n",
    "stencil_u = solve(eq_u, u.forward)\n",
    "stencil_v = solve(eq_v, v.forward)\n",
    "update_u = Eq(u.forward, stencil_u, subdomain=grid.interior)\n",
    "update_v = Eq(v.forward, stencil_v, subdomain=grid.interior)\n",
    "\n",
    "print(\"U update:\\n%s\\n\" % update_u)\n",
    "print(\"V update:\\n%s\\n\" % update_v)"
   ]
  },
  {
   "cell_type": "markdown",
   "metadata": {},
   "source": [
    "We then set Dirichlet boundary conditions at all sides of the domain to $1$."
   ]
  },
  {
   "cell_type": "code",
   "execution_count": null,
   "metadata": {},
   "outputs": [],
   "source": [
    "x, y = grid.dimensions\n",
    "t = grid.stepping_dim\n",
    "bc_u = [Eq(u[t+1, 0, y], 1.)]  # left\n",
    "bc_u += [Eq(u[t+1, nx-1, y], 1.)]  # right\n",
    "bc_u += [Eq(u[t+1, x, ny-1], 1.)]  # top\n",
    "bc_u += [Eq(u[t+1, x, 0], 1.)]  # bottom\n",
    "bc_v = [Eq(v[t+1, 0, y], 1.)]  # left\n",
    "bc_v += [Eq(v[t+1, nx-1, y], 1.)]  # right\n",
    "bc_v += [Eq(v[t+1, x, ny-1], 1.)]  # top\n",
    "bc_v += [Eq(v[t+1, x, 0], 1.)]  # bottom"
   ]
  },
  {
   "cell_type": "markdown",
   "metadata": {},
   "source": [
    "And finally we can put it all together to build an operator and solve our coupled problem."
   ]
  },
  {
   "cell_type": "code",
   "execution_count": null,
   "metadata": {},
   "outputs": [],
   "source": [
    "#NBVAL_IGNORE_OUTPUT\n",
    "from devito import Operator\n",
    "\n",
    "# Reset our data field and ICs\n",
    "init_hat(field=u.data[0], dx=dx, dy=dy, value=2.)\n",
    "init_hat(field=v.data[0], dx=dx, dy=dy, value=2.)\n",
    "\n",
    "op = Operator([update_u, update_v] + bc_u + bc_v)\n",
    "op(time=nt, dt=dt)\n",
    "\n",
    "plot_field(u.data[0])"
   ]
  },
  {
   "cell_type": "markdown",
   "metadata": {},
   "source": [
    "Excellent, we have now a scalar implementation of a convection problem, but this can be written as a single vectorial equation:\n",
    "\n",
    "$\\frac{d U}{dt} + \\nabla(U)U = 0$\n",
    "\n",
    "Let's now use devito vectorial utilities and implement the vectorial equation"
   ]
  },
  {
   "cell_type": "code",
   "execution_count": null,
   "metadata": {},
   "outputs": [],
   "source": [
    "from devito import VectorTimeFunction, grad\n",
    "\n",
    "U = VectorTimeFunction(name='U', grid=grid)\n",
    "init_hat(field=U[0].data[0], dx=dx, dy=dy, value=2.)\n",
    "init_hat(field=U[1].data[0], dx=dx, dy=dy, value=2.)\n",
    "\n",
    "plot_field(U[1].data[0])\n",
    "\n",
    "eq_u = Eq(U.dt + grad(U)*U)"
   ]
  },
  {
   "cell_type": "markdown",
   "metadata": {},
   "source": [
    "We now have a vectorial equation. Unlike the previous case, we do not need to play with left/right derivatives\n",
    "as the automated staggering of the vectorial function takes care of it."
   ]
  },
  {
   "cell_type": "code",
   "execution_count": null,
   "metadata": {},
   "outputs": [],
   "source": [
    "eq_u"
   ]
  },
  {
   "cell_type": "markdown",
   "metadata": {},
   "source": [
    "Then we set the nboundary conditions"
   ]
  },
  {
   "cell_type": "code",
   "execution_count": null,
   "metadata": {},
   "outputs": [],
   "source": [
    "x, y = grid.dimensions\n",
    "t = grid.stepping_dim\n",
    "bc_u = [Eq(U[0][t+1, 0, y], 1.)]  # left\n",
    "bc_u += [Eq(U[0][t+1, nx-1, y], 1.)]  # right\n",
    "bc_u += [Eq(U[0][t+1, x, ny-1], 1.)]  # top\n",
    "bc_u += [Eq(U[0][t+1, x, 0], 1.)]  # bottom\n",
    "bc_v = [Eq(U[1][t+1, 0, y], 1.)]  # left\n",
    "bc_v += [Eq(U[1][t+1, nx-1, y], 1.)]  # right\n",
    "bc_v += [Eq(U[1][t+1, x, ny-1], 1.)]  # top\n",
    "bc_v += [Eq(U[1][t+1, x, 0], 1.)]  # bottom"
   ]
  },
  {
   "cell_type": "code",
   "execution_count": null,
   "metadata": {},
   "outputs": [],
   "source": [
    "# We can use the same SymPy trick to generate two\n",
    "# stencil expressions, one for each field update.\n",
    "stencil_U = solve(eq_u, U.forward)\n",
    "update_U = Eq(U.forward, stencil_U, subdomain=grid.interior)"
   ]
  },
  {
   "cell_type": "markdown",
   "metadata": {},
   "source": [
    "And we have the updated (stencil) as a vectorial equation once again"
   ]
  },
  {
   "cell_type": "code",
   "execution_count": null,
   "metadata": {},
   "outputs": [],
   "source": [
    "update_U"
   ]
  },
  {
   "cell_type": "markdown",
   "metadata": {},
   "source": [
    "We finally run the operator"
   ]
  },
  {
   "cell_type": "code",
   "execution_count": null,
   "metadata": {},
   "outputs": [],
   "source": [
    "#NBVAL_IGNORE_OUTPUT\n",
    "op = Operator([update_U] + bc_u + bc_v)\n",
    "op(time=nt, dt=dt)\n",
    "\n",
    "# The result is indeed the expected one.\n",
    "plot_field(U[0].data[0])"
   ]
  },
  {
   "cell_type": "code",
   "execution_count": null,
   "metadata": {},
   "outputs": [],
   "source": [
    "from devito import norm\n",
    "assert np.isclose(norm(u), norm(U[0]), rtol=1e-5, atol=0)"
   ]
  },
  {
   "cell_type": "code",
   "execution_count": null,
   "metadata": {},
   "outputs": [],
   "source": []
  }
 ],
 "metadata": {
  "@webio": {
   "lastCommId": null,
   "lastKernelId": null
  },
  "hide_input": false,
  "kernelspec": {
   "display_name": "Python 3",
   "language": "python",
   "name": "python3"
  },
  "language_info": {
   "codemirror_mode": {
    "name": "ipython",
    "version": 3
   },
   "file_extension": ".py",
   "mimetype": "text/x-python",
   "name": "python",
   "nbconvert_exporter": "python",
   "pygments_lexer": "ipython3",
   "version": "3.8.3"
  },
  "latex_envs": {
   "LaTeX_envs_menu_present": true,
   "autoclose": false,
   "autocomplete": true,
   "bibliofile": "biblio.bib",
   "cite_by": "apalike",
   "current_citInitial": 1,
   "eqLabelWithNumbers": true,
   "eqNumInitial": 1,
   "hotkeys": {
    "equation": "Ctrl-E",
    "itemize": "Ctrl-I"
   },
   "labels_anchors": false,
   "latex_user_defs": false,
   "report_style_numbering": false,
   "user_envs_cfg": false
  },
  "widgets": {
   "state": {},
   "version": "1.1.2"
  }
 },
 "nbformat": 4,
 "nbformat_minor": 1
}
