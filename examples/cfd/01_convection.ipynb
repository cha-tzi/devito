{
 "cells": [
  {
   "cell_type": "markdown",
   "metadata": {},
   "source": [
    "## Devito CFD Tutorial series\n",
    "\n",
    "The following series of notebook tutorials will demonstrate the use of Devito and it's SymPy-based API to solve a set of classic examples from Computational Fluid Dynamics (CFD). The tutorials are based on the excellent tutorial series _CFD Python: 12 steps to Navier-Stokes_ by Lorena Barba and focus on the implementation with Devito rather than pure CFD or finite difference theory. For a refresher on how to implement 2D finite difference solvers for CFD problems, please see the original tutorial series here: <br>\n",
    "http://lorenabarba.com/blog/cfd-python-12-steps-to-navier-stokes/"
   ]
  },
  {
   "cell_type": "markdown",
   "metadata": {},
   "source": [
    "### Example 1: Linear convection in 2D\n",
    "\n",
    "Lets start with a simple 2D convection example - step 5 in the original blog. This will already allow us to demonstrate a lot about the use of Devito's symbolic data objects and how to use them to build a simple operator directly from the symbolic notation of the equation. The governing equation we will implement in this tutorial is:\n",
    "\n",
    "$$\\frac{\\partial u}{\\partial t}+c\\frac{\\partial u}{\\partial x} + c\\frac{\\partial u}{\\partial y} = 0$$\n",
    "\n",
    "In order to implement this equation we first discretize it using forward differences in time and backward differences in space. Just as the original tutorial, we will use $u_{i,j}^n$ to denote a finite difference stencil point with $i$ and $j$ denoting spatial indices and $n$ denoting the time index. So, after re-arranging the discretized equation for the forward stencil point in time we get \n",
    "\n",
    "$$u_{i,j}^{n+1} = u_{i,j}^n-c \\frac{\\Delta t}{\\Delta x}(u_{i,j}^n-u_{i-1,j}^n)-c \\frac{\\Delta t}{\\Delta y}(u_{i,j}^n-u_{i,j-1}^n)$$\n",
    "\n",
    "Using this, we can start deriving the computational stencil for this equation. Let's first look at the original _pure Python_ implementation of the linear convection flow - but first we import our tools and define some parameters:"
   ]
  },
  {
   "cell_type": "code",
   "execution_count": null,
   "metadata": {
    "scrolled": true
   },
   "outputs": [],
   "source": [
    "from examples.cfd import plot_field, init_hat\n",
    "import numpy as np\n",
    "%matplotlib inline\n",
    "\n",
    "# Some variable declarations\n",
    "nx = 81\n",
    "ny = 81\n",
    "nt = 100\n",
    "c = 1.\n",
    "dx = 2. / (nx - 1)\n",
    "dy = 2. / (ny - 1)\n",
    "print(\"dx %s, dy %s\" % (dx, dy))\n",
    "sigma = .2\n",
    "dt = sigma * dx"
   ]
  },
  {
   "cell_type": "markdown",
   "metadata": {},
   "source": [
    "**A small note on style:** Throughout this tutorial series we will use utility functions to plot the various 2D functions and data sets we deal with. These are all taken from the original tutorial series, but have been slightly modified for our purposes. One of the differences readers might find is that the original series uses _(y, x)_ indexing for 2d data arrays, whereas many of the examples have been adapted to use _(x, y)_ notation in our tutorials.\n",
    "\n",
    "So, let's start by creating a simple 2D function and initialising it with a \"hat function\". We will use that initialisation function a lot, so it comes from our utility scripts:"
   ]
  },
  {
   "cell_type": "code",
   "execution_count": null,
   "metadata": {},
   "outputs": [],
   "source": [
    "#NBVAL_IGNORE_OUTPUT\n",
    "\n",
    "# Create field and assign initial conditions\n",
    "u = np.empty((nx, ny))\n",
    "init_hat(field=u, dx=dx, dy=dy, value=2.)\n",
    "\n",
    "# Plot initial condition\n",
    "plot_field(u)"
   ]
  },
  {
   "cell_type": "markdown",
   "metadata": {},
   "source": [
    "Now we can repeat the _pure NumPy_ solve from the original tutorial, where we use NumPy array operations to speed up the computation. Note that we skip the derivation of the stencil used to implement our convection equation, as we are going to walk though this process using the Devito API later in this tutorial."
   ]
  },
  {
   "cell_type": "code",
   "execution_count": null,
   "metadata": {
    "scrolled": true
   },
   "outputs": [],
   "source": [
    "# Repeat initialisation, so we can re-run the cell\n",
    "init_hat(field=u, dx=dx, dy=dy, value=2.)\n",
    "\n",
    "for n in range(nt + 1):\n",
    "    # Copy previous result into a new buffer\n",
    "    un = u.copy()\n",
    "    \n",
    "    # Update the new result with a 3-point stencil\n",
    "    u[1:, 1:] = (un[1:, 1:] - (c * dt / dy * (un[1:, 1:] - un[1:, :-1])) -\n",
    "                              (c * dt / dx * (un[1:, 1:] - un[:-1, 1:])))\n",
    "\n",
    "    # Apply boundary conditions\n",
    "    u[0, :] = 1.\n",
    "    u[-1, :] = 1.\n",
    "    u[:, 0] = 1.\n",
    "    u[:, -1] = 1."
   ]
  },
  {
   "cell_type": "code",
   "execution_count": null,
   "metadata": {},
   "outputs": [],
   "source": [
    "#NBVAL_IGNORE_OUTPUT\n",
    "\n",
    "# A small sanity check for auto-testing\n",
    "assert (u[45:55, 45:55] > 1.8).all()\n",
    "u_ref = u.copy()\n",
    "\n",
    "plot_field(u)"
   ]
  },
  {
   "cell_type": "markdown",
   "metadata": {},
   "source": [
    "Hooray, the wave moved! Now, this little example is already very concise from a notational point of view and it teaches us quite a few key points about how to perform finite difference stencil computation via NumPy:\n",
    "* Due to the backward differencing scheme in space (more later) we use only three stencil point in this example:  $u^{n}_{i, j}$, $u^{n}_{i-1, j}$ and $u^{n}_{i, j-1}$. These can be identified in the code through the array indices and correspond to `un[1:, 1:]`, `un[:-1, 1:]` and `un[1:, :-1]` respectively. \n",
    "* Two buffers for array data are used throughout: `un[...]` is read from, while `u[...]` is updated, where the line `un = u.copy()` performs a deep copy of the field to switch buffers between timesteps. Note that in some other finite difference tutorials the cost of this copy operation is sometimes amortised by using two pre-allocated buffers and switching the indices of them explicitly.   \n",
    "* The final four lines within the loop code show us how to implement simple Dirichlet boundary condition by simply setting a value on the outermost rows and columns of our cartesian grid.\n",
    "\n",
    "You may have noticed that the hat has not only moved to a different location, but has also changed its shape into a smooth bump. This is a little surprising, as the correct solution of the convection equation would be movement without shape change. The smooth shape is caused by numerical diffusion, a well-known limitation of low-order finite difference schemes. We will discuss this issue and some solutions later in this tutorial."
   ]
  },
  {
   "cell_type": "markdown",
   "metadata": {},
   "source": [
    "#### Devito implementation\n",
    "Now we want to re-create the above example via a Devito operator. To do this, we can start by defining our computational grid and creating a function `u` as a symbolic `devito.TimeFunction`. The core thing to note here is that this is one of Devito's symbolic functions, which have a dual role in the creation of finite difference solvers:\n",
    "* They behave symbolically like `sympy.Function` objects, so that we can construct derivatives and use them in symbolic expressions, thus inheriting all the power of automated symbolic manipulation that SymPy provides.\n",
    "* They act as containers for user data by providing a `.data` property that wraps automatically allocated memory space in a neat NumPy array.\n",
    "\n",
    "The particular `TimeFunction` type that we will declare our variable $u$ as in this case is aware of the fact that we will want to implement a timestepping algorithm with it. So the object `u` will declare two buffers of shape `(nx, ny)` for us, as defined by the `Grid` object, and present them as `u.data[0]` and `u.data[1]`. Let's fill the initial buffer with some data and look at it:"
   ]
  },
  {
   "cell_type": "code",
   "execution_count": null,
   "metadata": {
    "scrolled": false
   },
   "outputs": [],
   "source": [
    "#NBVAL_IGNORE_OUTPUT\n",
    "from devito import Grid, TimeFunction\n",
    "\n",
    "grid = Grid(shape=(nx, ny), extent=(2., 2.))\n",
    "u = TimeFunction(name='u', grid=grid)\n",
    "init_hat(field=u.data[0], dx=dx, dy=dy, value=2.)\n",
    "\n",
    "plot_field(u.data[0])"
   ]
  },
  {
   "cell_type": "markdown",
   "metadata": {},
   "source": [
    "Nice. Now we can look at deriving our 3-point stencil using the symbolic capabilities given to our function $u$ by SymPy. For this we will first construct our derivative terms in space and time. For the forward derivative in time we can easily use Devito's shorthand notation `u.dt` to denote the first derivative in time and `u.dxl` and `u.dyl` to denote the space derivatives. Note that the `l` means were using the \"left\" or backward difference here to adhere to the discretization used in the original tutorials.\n",
    "\n",
    "From the resulting terms we can then create a `sympy.Equation` object that contains the fully discretized equation, but from a neat high-level notation, as shown below."
   ]
  },
  {
   "cell_type": "code",
   "execution_count": null,
   "metadata": {},
   "outputs": [],
   "source": [
    "from devito import Eq\n",
    "\n",
    "# Specify the `interior` flag so that the stencil is only\n",
    "# applied to the interior of the domain.\n",
    "eq = Eq(u.dt + c*u.dxl + c*u.dyl, subdomain=grid.interior)\n",
    "\n",
    "print(eq)"
   ]
  },
  {
   "cell_type": "markdown",
   "metadata": {},
   "source": [
    "The above step resulted in a fully discretized version of our equation, which includes place-holder symbols for the spacing in time (`s`) and space (`h`). These symbols are based on an internal convention and will later be replaced when we build an operator.\n",
    "\n",
    "But before we can build an operator, we first need to change our discretized expression so that we are updating the forward stencil point in our timestepping scheme - Devito provides another short-hand notation for this: `u.forward`. For the actual symbolic reordering, SymPy comes to the rescue with the `solve` utility that we can use to re-organise our equation."
   ]
  },
  {
   "cell_type": "code",
   "execution_count": null,
   "metadata": {},
   "outputs": [],
   "source": [
    "from devito import solve\n",
    "\n",
    "stencil = solve(eq, u.forward)\n",
    "\n",
    "print(stencil)"
   ]
  },
  {
   "cell_type": "markdown",
   "metadata": {},
   "source": [
    "The careful reader will note that this is now the equivalent symbolic expression to the RHS term of the NumPy code we showed earlier - only with `dx` and `dy` denoted as `h_x` and `h_y` respectively, while `u(t, x, y)`, `u(t, x - h, y)` and `u(t, x, y - h)` denote the equivalent of $u^{n}_{i, j}$, $u^{n}_{i-1, j}$ and $u^{n}_{i, j-1}$ respectively. \n",
    "\n",
    "We can now use this stencil expression to create an operator to apply to our data object:"
   ]
  },
  {
   "cell_type": "code",
   "execution_count": null,
   "metadata": {},
   "outputs": [],
   "source": [
    "#NBVAL_IGNORE_OUTPUT\n",
    "from devito import Operator\n",
    "\n",
    "# Reset our initial condition in both buffers.\n",
    "# This is required to avoid 0s propagating into\n",
    "# our solution, which has a background value of 1.\n",
    "init_hat(field=u.data[0], dx=dx, dy=dy, value=2.)\n",
    "init_hat(field=u.data[1], dx=dx, dy=dy, value=2.)\n",
    "\n",
    "# Create an operator that updates the forward stencil point\n",
    "op = Operator(Eq(u.forward, stencil, subdomain=grid.interior))\n",
    "\n",
    "# Apply the operator for a number of timesteps\n",
    "op(time=nt, dt=dt)\n",
    "\n",
    "plot_field(u.data[0, :, :])\n",
    "\n",
    "# Some small sanity checks for the testing framework\n",
    "assert (u.data[0, 45:55, 45:55] > 1.8).all()\n",
    "assert np.allclose(u.data[0], u_ref, rtol=3.e-2)"
   ]
  },
  {
   "cell_type": "markdown",
   "metadata": {},
   "source": [
    "Great, that looks to have done the same thing as the original NumPy example, so we seem to be doing something right, at least.\n",
    "\n",
    "**A note on performance:** During the code generation phase of the previous operator Devito has introduced several performance optimisations. We will ignore this aspect for now, also because our example is tiny - but for large runs where performance matters, these optimisations will make a Devito kernel run very fast in comparison to raw Python/NumPy.\n",
    "\n",
    "Now, despite getting a correct looking result, there is still one problem with the above operator: It doesn't set any boundary conditions as part of the time loop. We also note that the operator includes a time loop, but at this point Devito doesn't actually provide any language constructs to explicitly define different types of boundary conditions (Devito is probably still a kind of prototype at this point). Luckily though, Devito provides a backdoor for us to insert custom expression in the so-called \"indexed\" or \"low-level\" API that allow us to encode the Dirichlet boundary condition of the original example.\n",
    "\n",
    "#### The \"indexed\" or low-level API\n",
    "The `TimeFunction` field we created earlier behaves symbolically like a `sympy.Function` object with the appropriate indices, eg. `u(t, x, y)`. If we take a simple first-order derivative of that we have a term that includes the spacing variable `h`, which Devito uses as the default for encoding $dx$ or $dy$. For example, `u.dx` simply expands to `-u(t, x, y)/h + u(t, x + h, y)/h`.\n",
    "\n",
    "Now, when the `Operator` creates explicit C-code from that expression, it at some point \"lowers\" that expression by resolving explicit data accesses (or indices) into our grid by transforming it into a `sympy.Indexed` object. During this process all occurrences of `h` in data accesses get replaced with integers, so that the expression now looks like `-u[t, x, y]/h + u[t, x + 1, y]/h`. This is the \"indexed\" notation and we can create custom expression of the same kind by explicitly writing `u[...]`, that is with indices in square-bracket notation. These custom expressions can then be injected into our operator like this:"
   ]
  },
  {
   "cell_type": "code",
   "execution_count": null,
   "metadata": {},
   "outputs": [],
   "source": [
    "#NBVAL_IGNORE_OUTPUT\n",
    "\n",
    "# Reset our data field and ICs in both buffers\n",
    "init_hat(field=u.data[0], dx=dx, dy=dy, value=2.)\n",
    "init_hat(field=u.data[1], dx=dx, dy=dy, value=2.)\n",
    "\n",
    "# For defining BCs, we want to explicitly set rows/columns in our field\n",
    "# We can use Devito's \"indexed\" notation to do this:\n",
    "x, y = grid.dimensions\n",
    "t = grid.stepping_dim\n",
    "bc_left = Eq(u[t + 1, 0, y], 1.)\n",
    "bc_right = Eq(u[t + 1, nx-1, y], 1.)\n",
    "bc_top = Eq(u[t + 1, x, ny-1], 1.)\n",
    "bc_bottom = Eq(u[t + 1, x, 0], 1.)\n",
    "\n",
    "# Now combine the BC expressions with the stencil to form operator\n",
    "expressions = [Eq(u.forward, stencil)]\n",
    "expressions += [bc_left, bc_right, bc_top, bc_bottom]\n",
    "op = Operator(expressions=expressions, opt=None, openmp=False)  # <-- Turn off performance optimisations\n",
    "op(time=nt, dt=dt)\n",
    "\n",
    "plot_field(u.data[0, :, :])\n",
    "\n",
    "# Some small sanity checks for the testing framework\n",
    "assert (u.data[0, 45:55, 45:55] > 1.8).all()\n",
    "assert np.allclose(u.data[0], u_ref, rtol=3.e-2)"
   ]
  },
  {
   "cell_type": "markdown",
   "metadata": {},
   "source": [
    "You might have noticed that we used the argument `opt=None` in the creation of the previous operator. This suppresses the various performance optimisation steps in the code-generation pipeline, which makes the auto-generated C code much easier to look at. So, for the brave, let's have a little peek under the hood... "
   ]
  },
  {
   "cell_type": "code",
   "execution_count": null,
   "metadata": {},
   "outputs": [],
   "source": [
    "print(op.ccode)"
   ]
  },
  {
   "cell_type": "code",
   "execution_count": null,
   "metadata": {},
   "outputs": [],
   "source": []
  }
 ],
 "metadata": {
  "@webio": {
   "lastCommId": null,
   "lastKernelId": null
  },
  "hide_input": false,
  "kernelspec": {
   "display_name": "Python 3",
   "language": "python",
   "name": "python3"
  },
  "language_info": {
   "codemirror_mode": {
    "name": "ipython",
    "version": 3
   },
   "file_extension": ".py",
   "mimetype": "text/x-python",
   "name": "python",
   "nbconvert_exporter": "python",
   "pygments_lexer": "ipython3",
   "version": "3.8.3"
  },
  "latex_envs": {
   "LaTeX_envs_menu_present": true,
   "autoclose": false,
   "autocomplete": true,
   "bibliofile": "biblio.bib",
   "cite_by": "apalike",
   "current_citInitial": 1,
   "eqLabelWithNumbers": true,
   "eqNumInitial": 1,
   "hotkeys": {
    "equation": "Ctrl-E",
    "itemize": "Ctrl-I"
   },
   "labels_anchors": false,
   "latex_user_defs": false,
   "report_style_numbering": false,
   "user_envs_cfg": false
  },
  "widgets": {
   "state": {},
   "version": "1.1.2"
  }
 },
 "nbformat": 4,
 "nbformat_minor": 1
}
