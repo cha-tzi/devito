{
 "cells": [
  {
   "cell_type": "markdown",
   "metadata": {},
   "source": [
    "### Example 3 , part B: Diffusion for non uniform material properties \n",
    "\n",
    "In this example we will look at the diffusion equation for non uniform material properties and how to handle second-order derivatives. For this, we will introduce Devito's `.laplace` short-hand expression and demonstrate it using the examples from step 7 of the original tutorial. This example is an enhancement of `03_diffusion` in terms of having non-uniform viscosity as opposed to the constant $\\nu$. This example introduces the use of `Function` in order to create this non-uniform space.\n",
    "\n",
    "So, the equation we are now trying to implement is\n",
    "\n",
    "$$\\frac{\\partial u}{\\partial t} = \\nu(x,y) \\frac{\\partial ^2 u}{\\partial x^2} + \\nu(x,y) \\frac{\\partial ^2 u}{\\partial y^2}$$\n",
    "\n",
    "In our case $\\nu(x,y)$ is depended on the material properties as we may have different viscosity for a (x,y) pair. So $\\nu(x,y)$ is not uniform.\n",
    "To discretize this equation we will use central differences and reorganizing the terms yields\n",
    "\n",
    "\\begin{align}\n",
    "u_{i,j}^{n+1} = u_{i,j}^n &+ \\frac{\\nu(x,y) \\Delta t}{\\Delta x^2}(u_{i+1,j}^n - 2 u_{i,j}^n + u_{i-1,j}^n) \\\\\n",
    "&+ \\frac{\\nu(x,y) \\Delta t}{\\Delta y^2}(u_{i,j+1}^n-2 u_{i,j}^n + u_{i,j-1}^n)\n",
    "\\end{align}\n",
    "\n",
    "As usual, we establish our baseline experiment by re-creating some of the original example runs. So let's start by defining some parameters."
   ]
  },
  {
   "cell_type": "code",
   "execution_count": null,
   "metadata": {},
   "outputs": [],
   "source": [
    "from examples.cfd import plot_field, init_hat\n",
    "import numpy as np\n",
    "%matplotlib inline\n",
    "\n",
    "# Some variable declarations\n",
    "nx = 100\n",
    "ny = 100\n",
    "nt = 1000\n",
    "\n",
    "nu = 0.15 #the value of base viscosity\n",
    "\n",
    "offset = 1 # Used for field definition\n",
    "\n",
    "visc =  np.full((nx, ny), nu) # Initialize viscosity\n",
    "visc[nx//4-offset:nx//4+offset, 1:-1] = 0.0001 # Adding a material with different viscosity\n",
    "visc[1:-1,nx//4-offset:nx//4+offset ] = 0.0001 \n",
    "visc[3*nx//4-offset:3*nx//4+offset, 1:-1] = 0.0001 \n",
    "\n",
    "visc_nb = visc[1:-1,1:-1]\n",
    "\n",
    "dx = 2. / (nx - 1)\n",
    "dy = 2. / (ny - 1)\n",
    "sigma = .25\n",
    "dt = sigma * dx * dy / nu\n",
    "\n",
    "\n",
    "# Initialize our field\n",
    "\n",
    "# Initialise u with hat function\n",
    "u_init = np.empty((nx, ny))\n",
    "init_hat(field=u_init, dx=dx, dy=dy, value=1)\n",
    "u_init[10:-10, 10:-10] = 1.5\n",
    "\n",
    "\n",
    "zmax = 2.5 # zmax for plotting"
   ]
  },
  {
   "cell_type": "markdown",
   "metadata": {},
   "source": [
    "We now set up the diffusion operator as a separate function, so that we can re-use if for several runs."
   ]
  },
  {
   "cell_type": "code",
   "execution_count": null,
   "metadata": {},
   "outputs": [],
   "source": [
    "def diffuse(u, nt ,visc):\n",
    "    for n in range(nt + 1): \n",
    "        un = u.copy()\n",
    "        u[1:-1, 1:-1] = (un[1:-1,1:-1] + \n",
    "                        visc*dt / dy**2 * (un[1:-1, 2:] - 2 * un[1:-1, 1:-1] + un[1:-1, 0:-2]) +\n",
    "                        visc*dt / dx**2 * (un[2:,1: -1] - 2 * un[1:-1, 1:-1] + un[0:-2, 1:-1]))\n",
    "        u[0, :] = 1\n",
    "        u[-1, :] = 1\n",
    "        u[:, 0] = 1\n",
    "        u[:, -1] = 1"
   ]
  },
  {
   "cell_type": "markdown",
   "metadata": {},
   "source": [
    "Now let's take this for a spin. In the next two cells we run the same diffusion operator for a varying number of timesteps to see our \"hat function\" dissipate to varying degrees."
   ]
  },
  {
   "cell_type": "code",
   "execution_count": null,
   "metadata": {},
   "outputs": [],
   "source": [
    "#NBVAL_IGNORE_OUTPUT\n",
    "\n",
    "# Plot material according to viscosity, uncomment to plot\n",
    "import matplotlib.pyplot as plt\n",
    "plt.imshow(visc_nb, cmap='Greys',  interpolation='nearest')\n",
    "\n",
    "# Field initialization\n",
    "u = u_init\n",
    "\n",
    "print (\"Initial state\")\n",
    "plot_field(u, zmax=zmax)\n",
    "\n",
    "diffuse(u, nt , visc_nb )\n",
    "print (\"After\", nt, \"timesteps\")\n",
    "plot_field(u, zmax=zmax)\n",
    "\n",
    "diffuse(u, nt, visc_nb)\n",
    "print (\"After another\", nt, \"timesteps\")\n",
    "plot_field(u, zmax=zmax)"
   ]
  },
  {
   "cell_type": "markdown",
   "metadata": {},
   "source": [
    "You can notice that the area with lower viscosity is not diffusing its heat as quickly as the area with higher viscosity."
   ]
  },
  {
   "cell_type": "code",
   "execution_count": null,
   "metadata": {},
   "outputs": [],
   "source": [
    "#NBVAL_IGNORE_OUTPUT\n",
    "\n",
    "# Field initialization\n",
    "u = u_init\n",
    "\n",
    "\n",
    "diffuse(u, nt , visc_nb)\n",
    "print (\"After\", nt, \"timesteps\")\n",
    "plot_field(u, zmax=zmax)"
   ]
  },
  {
   "cell_type": "markdown",
   "metadata": {},
   "source": [
    "Excellent. Now for the Devito part, we need to note one important detail to our previous examples: we now have a second-order derivative. So, when creating our `TimeFunction` object we need to tell it about our spatial discretization by setting `space_order=2`. Only then can we use the shorthand notation `u.dx2` and `u.dx2` to denote second order derivatives."
   ]
  },
  {
   "cell_type": "code",
   "execution_count": null,
   "metadata": {},
   "outputs": [],
   "source": [
    "from devito import Grid, TimeFunction, Eq, solve, Function\n",
    "from sympy.abc import a\n",
    "\n",
    "# Initialize `u` for space order 2\n",
    "grid = Grid(shape=(nx, ny), extent=(2., 2.))\n",
    "\n",
    "# Create an operator with second-order derivatives\n",
    "a = Function(name='a',grid = grid) # Define as Function\n",
    "a.data[:]= visc  # Pass the viscosity in order to be used in the operator.\n",
    "\n",
    "\n",
    "\n",
    "u = TimeFunction(name='u', grid=grid, space_order=2)\n",
    "\n",
    "# Create an equation with second-order derivatives\n",
    "eq = Eq(u.dt, a * (u.dx2 + u.dy2))\n",
    "stencil = solve(eq, u.forward)\n",
    "eq_stencil = Eq(u.forward, stencil)\n",
    "\n",
    "print(eq_stencil)"
   ]
  },
  {
   "cell_type": "markdown",
   "metadata": {},
   "source": [
    "Now, there is another trick here! Note how the above formulation explicitly uses `u.dx2` and `u.dy2` to denote the laplace operator, which makes this equation dependent on the spatial dimension. We can instead use the notation `u.laplace` to denote all second order derivatives in space, allowing us to reuse this code for 2D and 3D examples."
   ]
  },
  {
   "cell_type": "code",
   "execution_count": null,
   "metadata": {},
   "outputs": [],
   "source": [
    "eq = Eq(u.dt, a * u.laplace)\n",
    "stencil = solve(eq, u.forward)\n",
    "eq_stencil = Eq(u.forward, stencil)\n",
    "\n",
    "print(eq_stencil)"
   ]
  },
  {
   "cell_type": "markdown",
   "metadata": {},
   "source": [
    "Great. Now all that is left is to put it all together to build the operator and use it on our examples. For illustration purposes we will do this in one cell, including update equation and boundary conditions."
   ]
  },
  {
   "cell_type": "code",
   "execution_count": null,
   "metadata": {
    "scrolled": true
   },
   "outputs": [],
   "source": [
    "#NBVAL_IGNORE_OUTPUT\n",
    "from devito import Operator, Constant, Eq, solve, Function\n",
    "\n",
    "\n",
    "# Reset our data field and ICs\n",
    "init_hat(field=u.data[0], dx=dx, dy=dy, value=1.)\n",
    "\n",
    "# Field initialization\n",
    "u.data[0] = u_init\n",
    "\n",
    "\n",
    "# Create an operator with second-order derivatives\n",
    "a = Function(name='a',grid = grid)\n",
    "a.data[:]= visc\n",
    "\n",
    "eq = Eq(u.dt, a * u.laplace, subdomain=grid.interior)\n",
    "stencil = solve(eq, u.forward)\n",
    "eq_stencil = Eq(u.forward, stencil)\n",
    "\n",
    "# Create boundary condition expressions\n",
    "x, y = grid.dimensions\n",
    "t = grid.stepping_dim\n",
    "bc = [Eq(u[t+1, 0, y], 1.)]  # left\n",
    "bc += [Eq(u[t+1, nx-1, y], 1.)]  # right\n",
    "bc += [Eq(u[t+1, x, ny-1], 1.)]  # top\n",
    "bc += [Eq(u[t+1, x, 0], 1.)]  # bottom\n",
    "\n",
    "\n",
    "op = Operator([eq_stencil] + bc)\n",
    "op(time=nt, dt=dt, a = a)\n",
    "\n",
    "print (\"After\", nt, \"timesteps\")\n",
    "plot_field(u.data[0], zmax=zmax)\n",
    "\n",
    "op(time=nt, dt=dt, a = a)\n",
    "print (\"After another\", nt, \"timesteps\")\n",
    "plot_field(u.data[0], zmax=zmax)"
   ]
  },
  {
   "cell_type": "markdown",
   "metadata": {
    "collapsed": true
   },
   "source": [
    "And now let's use the same operator again to show the more diffused field. In fact, instead of resetting the previously used object `u`, we can also create a new `TimeFunction` object and tell our operator to use this."
   ]
  },
  {
   "cell_type": "code",
   "execution_count": null,
   "metadata": {},
   "outputs": [],
   "source": [
    "#NBVAL_IGNORE_OUTPUT\n",
    "u2 = TimeFunction(name='u2', grid=grid, space_order=2)\n",
    "\n",
    "# Field initialization\n",
    "u2.data[0] = u_init\n",
    "\n",
    "op(u=u2, time=nt, dt=dt, a=a)\n",
    "\n",
    "print (\"After\", nt, \"timesteps\")\n",
    "plot_field(u2.data[0], zmax=zmax)\n",
    "\n",
    "op(u=u2, time=nt, dt=dt, a=a)\n",
    "print (\"After another\", nt, \"timesteps\")\n",
    "plot_field(u2.data[0], zmax=zmax)"
   ]
  },
  {
   "cell_type": "code",
   "execution_count": null,
   "metadata": {},
   "outputs": [],
   "source": []
  }
 ],
 "metadata": {
  "kernelspec": {
   "display_name": "Python 3",
   "language": "python",
   "name": "python3"
  },
  "language_info": {
   "codemirror_mode": {
    "name": "ipython",
    "version": 3
   },
   "file_extension": ".py",
   "mimetype": "text/x-python",
   "name": "python",
   "nbconvert_exporter": "python",
   "pygments_lexer": "ipython3",
   "version": "3.8.3"
  },
  "varInspector": {
   "cols": {
    "lenName": 16,
    "lenType": 16,
    "lenVar": 40
   },
   "kernels_config": {
    "python": {
     "delete_cmd_postfix": "",
     "delete_cmd_prefix": "del ",
     "library": "var_list.py",
     "varRefreshCmd": "print(var_dic_list())"
    },
    "r": {
     "delete_cmd_postfix": ") ",
     "delete_cmd_prefix": "rm(",
     "library": "var_list.r",
     "varRefreshCmd": "cat(var_dic_list()) "
    }
   },
   "position": {
    "height": "953.35px",
    "left": "1764.25px",
    "right": "-93.1333px",
    "top": "116px",
    "width": "670.133px"
   },
   "types_to_exclude": [
    "module",
    "function",
    "builtin_function_or_method",
    "instance",
    "_Feature"
   ],
   "window_display": true
  },
  "widgets": {
   "state": {},
   "version": "1.1.2"
  }
 },
 "nbformat": 4,
 "nbformat_minor": 1
}
