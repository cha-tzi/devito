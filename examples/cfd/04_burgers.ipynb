{
 "cells": [
  {
   "cell_type": "markdown",
   "metadata": {},
   "source": [
    "### Example 4: Burgers' equation\n",
    "\n",
    "Now that we have seen how to construct the non-linear convection and diffusion examples, we can combine them to form Burgers' equations. We again create a set of coupled equations which are actually starting to form quite complicated stencil expressions, even if we are only using low-order discretizations.\n",
    "\n",
    "Let's start with the definition fo the governing equations:\n",
    "$$ \\frac{\\partial u}{\\partial t} + u \\frac{\\partial u}{\\partial x} + v \\frac{\\partial u}{\\partial y} = \\nu \\; \\left(\\frac{\\partial ^2 u}{\\partial x^2} + \\frac{\\partial ^2 u}{\\partial y^2}\\right)$$\n",
    " \n",
    "$$ \\frac{\\partial v}{\\partial t} + u \\frac{\\partial v}{\\partial x} + v \\frac{\\partial v}{\\partial y} = \\nu \\; \\left(\\frac{\\partial ^2 v}{\\partial x^2} + \\frac{\\partial ^2 v}{\\partial y^2}\\right)$$\n",
    "\n",
    "The discretized and rearranged form then looks like this:\n",
    "\n",
    "\\begin{aligned}\n",
    "u_{i,j}^{n+1} &= u_{i,j}^n - \\frac{\\Delta t}{\\Delta x} u_{i,j}^n (u_{i,j}^n - u_{i-1,j}^n) - \\frac{\\Delta t}{\\Delta y} v_{i,j}^n (u_{i,j}^n - u_{i,j-1}^n) \\\\\n",
    "&+ \\frac{\\nu \\Delta t}{\\Delta x^2}(u_{i+1,j}^n-2u_{i,j}^n+u_{i-1,j}^n) + \\frac{\\nu \\Delta t}{\\Delta y^2} (u_{i,j+1}^n - 2u_{i,j}^n + u_{i,j+1}^n)\n",
    "\\end{aligned}\n",
    "\n",
    "\\begin{aligned}\n",
    "v_{i,j}^{n+1} &=  v_{i,j}^n - \\frac{\\Delta t}{\\Delta x} u_{i,j}^n (v_{i,j}^n - v_{i-1,j}^n) - \\frac{\\Delta t}{\\Delta y} v_{i,j}^n (v_{i,j}^n - v_{i,j-1}^n) \\\\\n",
    "&+ \\frac{\\nu \\Delta t}{\\Delta x^2}(v_{i+1,j}^n-2v_{i,j}^n+v_{i-1,j}^n) + \\frac{\\nu \\Delta t}{\\Delta y^2} (v_{i,j+1}^n - 2v_{i,j}^n + v_{i,j+1}^n)\n",
    "\\end{aligned}\n",
    "\n",
    "Great. Now before we look at the Devito implementation, let's re-create the NumPy-based implementation from the original."
   ]
  },
  {
   "cell_type": "code",
   "execution_count": null,
   "metadata": {},
   "outputs": [],
   "source": [
    "from examples.cfd import plot_field, init_hat\n",
    "import numpy as np\n",
    "%matplotlib inline\n",
    "\n",
    "# Some variable declarations\n",
    "nx = 41  # Grid size on x axis\n",
    "ny = 41  # Grid size on y axis\n",
    "\n",
    "batches = 5 # Batches of timesteps, increase number of batches to extend evolution in time\n",
    "# A figure of the wave state will be produced for each batch.\n",
    "batch_size = 640 # Number of timesteps for every batch\n",
    "nt = batches*batch_size # Number of total timesteps\n",
    "\n",
    "c = 1\n",
    "dx = 2. / (nx - 1)\n",
    "dy = 2. / (ny - 1)\n",
    "sigma = .0009\n",
    "nu = 0.01\n",
    "dt = sigma * dx * dy / nu"
   ]
  },
  {
   "cell_type": "code",
   "execution_count": null,
   "metadata": {},
   "outputs": [],
   "source": [
    "#NBVAL_IGNORE_OUTPUT\n",
    "\n",
    "# Assign initial conditions\n",
    "u = np.empty((nx, ny))\n",
    "v = np.empty((nx, ny))\n",
    "\n",
    "init_hat(field=u, dx=dx, dy=dy, value=2.)\n",
    "init_hat(field=v, dx=dx, dy=dy, value=2.)\n",
    "\n",
    "plot_field(u)"
   ]
  },
  {
   "cell_type": "code",
   "execution_count": null,
   "metadata": {},
   "outputs": [],
   "source": [
    "#NBVAL_IGNORE_OUTPUT\n",
    "\n",
    "for n in range(nt + 1): ##loop across number of time steps\n",
    "    un = u.copy()\n",
    "    vn = v.copy()\n",
    "\n",
    "    u[1:-1, 1:-1] = (un[1:-1, 1:-1] -\n",
    "                     dt / dy * un[1:-1, 1:-1] * \n",
    "                     (un[1:-1, 1:-1] - un[1:-1, 0:-2]) - \n",
    "                     dt / dx * vn[1:-1, 1:-1] * \n",
    "                     (un[1:-1, 1:-1] - un[0:-2, 1:-1]) + \n",
    "                     nu * dt / dy**2 * \n",
    "                     (un[1:-1,2:] - 2 * un[1:-1, 1:-1] + un[1:-1, 0:-2]) + \n",
    "                     nu * dt / dx**2 * \n",
    "                     (un[2:, 1:-1] - 2 * un[1:-1, 1:-1] + un[0:-2, 1:-1]))\n",
    "    \n",
    "    v[1:-1, 1:-1] = (vn[1:-1, 1:-1] - \n",
    "                     dt / dy * un[1:-1, 1:-1] *\n",
    "                     (vn[1:-1, 1:-1] - vn[1:-1, 0:-2]) -\n",
    "                     dt / dx * vn[1:-1, 1:-1] * \n",
    "                    (vn[1:-1, 1:-1] - vn[0:-2, 1:-1]) + \n",
    "                     nu * dt / dy**2 * \n",
    "                     (vn[1:-1, 2:] - 2 * vn[1:-1, 1:-1] + vn[1:-1, 0:-2]) +\n",
    "                     nu * dt / dx**2 *\n",
    "                     (vn[2:, 1:-1] - 2 * vn[1:-1, 1:-1] + vn[0:-2, 1:-1]))\n",
    "     \n",
    "    u[0, :] = 1\n",
    "    u[-1, :] = 1\n",
    "    u[:, 0] = 1\n",
    "    u[:, -1] = 1\n",
    "    \n",
    "    v[0, :] = 1\n",
    "    v[-1, :] = 1\n",
    "    v[:, 0] = 1\n",
    "    v[:, -1] = 1\n",
    "    \n",
    "    \n",
    "    # A figure of the wave state will be produced for each batch\n",
    "    if (n%batch_size) == 0:\n",
    "        print (\"Batch:\",n/(batch_size))\n",
    "        plot_field(u)"
   ]
  },
  {
   "cell_type": "markdown",
   "metadata": {},
   "source": [
    "Nice, our wave looks just like the original. Now we shall attempt to write our entire Burgers' equation operator in a single cell - but before we can demonstrate this, there is one slight problem.\n",
    "\n",
    "The diffusion term in our equation requires a second-order space discretization on our velocity fields, which we set through the `TimeFunction` constructor for $u$ and $v$. The `TimeFunction` objects will store this discretisation information and use it as default whenever we use the shorthand notations for derivative, like `u.dxl` or `u.dyl`. For the advection term, however, we want to use a first-order discretization, which we now have to create by hand when combining terms with different stencil discretizations. To illustrate let's consider the following example: "
   ]
  },
  {
   "cell_type": "code",
   "execution_count": null,
   "metadata": {},
   "outputs": [],
   "source": [
    "from devito import Grid, TimeFunction, first_derivative, left\n",
    "\n",
    "grid = Grid(shape=(nx, ny), extent=(2., 2.))\n",
    "x, y = grid.dimensions\n",
    "t = grid.stepping_dim\n",
    "\n",
    "u1 = TimeFunction(name='u1', grid=grid, space_order=1)\n",
    "print(\"Space order 1:\\n%s\\n\" % u1.dxl)\n",
    "\n",
    "u2 = TimeFunction(name='u2', grid=grid, space_order=2)\n",
    "print(\"Space order 2:\\n%s\\n\" % u2.dxl)\n",
    "\n",
    "# We use u2 to create the explicit first-order derivative\n",
    "u1_dx = first_derivative(u2, dim=x, side=left, fd_order=1)\n",
    "print(\"Explicit space order 1:\\n%s\\n\" % u1_dx)"
   ]
  },
  {
   "cell_type": "markdown",
   "metadata": {},
   "source": [
    "Ok, so by constructing derivative terms explicitly we again have full control of the spatial discretization - the power of symbolic computation. Armed with that trick, we can now build and execute our advection-diffusion operator from scratch in one cell."
   ]
  },
  {
   "cell_type": "code",
   "execution_count": null,
   "metadata": {
    "scrolled": false
   },
   "outputs": [],
   "source": [
    "#NBVAL_IGNORE_OUTPUT\n",
    "from devito import Operator, Constant, Eq, solve\n",
    "\n",
    "# Define our velocity fields and initialize with hat function\n",
    "u = TimeFunction(name='u', grid=grid, space_order=2)\n",
    "v = TimeFunction(name='v', grid=grid, space_order=2)\n",
    "init_hat(field=u.data[0], dx=dx, dy=dy, value=2.)\n",
    "init_hat(field=v.data[0], dx=dx, dy=dy, value=2.)\n",
    "\n",
    "# Write down the equations with explicit backward differences\n",
    "a = Constant(name='a')\n",
    "u_dx = first_derivative(u, dim=x, side=left, fd_order=1)\n",
    "u_dy = first_derivative(u, dim=y, side=left, fd_order=1)\n",
    "v_dx = first_derivative(v, dim=x, side=left, fd_order=1)\n",
    "v_dy = first_derivative(v, dim=y, side=left, fd_order=1)\n",
    "eq_u = Eq(u.dt + u*u_dx + v*u_dy, a*u.laplace, subdomain=grid.interior)\n",
    "eq_v = Eq(v.dt + u*v_dx + v*v_dy, a*v.laplace, subdomain=grid.interior)\n",
    "\n",
    "# Let SymPy rearrange our stencils to form the update expressions\n",
    "stencil_u = solve(eq_u, u.forward)\n",
    "stencil_v = solve(eq_v, v.forward)\n",
    "update_u = Eq(u.forward, stencil_u)\n",
    "update_v = Eq(v.forward, stencil_v)\n",
    "\n",
    "# Create Dirichlet BC expressions using the low-level API\n",
    "bc_u = [Eq(u[t+1, 0, y], 1.)]  # left\n",
    "bc_u += [Eq(u[t+1, nx-1, y], 1.)]  # right\n",
    "bc_u += [Eq(u[t+1, x, ny-1], 1.)]  # top\n",
    "bc_u += [Eq(u[t+1, x, 0], 1.)]  # bottom\n",
    "bc_v = [Eq(v[t+1, 0, y], 1.)]  # left\n",
    "bc_v += [Eq(v[t+1, nx-1, y], 1.)]  # right\n",
    "bc_v += [Eq(v[t+1, x, ny-1], 1.)]  # top\n",
    "bc_v += [Eq(v[t+1, x, 0], 1.)]  # bottom\n",
    "\n",
    "# Create the operator\n",
    "op = Operator([update_u, update_v] + bc_u + bc_v)\n",
    "\n",
    "# Execute the operator for a number of timesteps\n",
    "for batch_no in range(batches):\n",
    "    op(time=batch_size, dt=dt, a=nu)\n",
    "    print (\"Batch:\",batch_no+1)\n",
    "    plot_field(u.data[0])\n"
   ]
  },
  {
   "cell_type": "markdown",
   "metadata": {},
   "source": [
    "Following the non-linear convection example, we now rewrite this example in term of vectorial equation"
   ]
  },
  {
   "cell_type": "code",
   "execution_count": null,
   "metadata": {},
   "outputs": [],
   "source": [
    "from devito import VectorTimeFunction, grad, div, NODE\n",
    "x, y = grid.dimensions\n",
    "\n",
    "U = VectorTimeFunction(name='U', grid=grid, space_order=2)\n",
    "init_hat(field=U[0].data[0], dx=dx, dy=dy, value=2.)\n",
    "init_hat(field=U[1].data[0], dx=dx, dy=dy, value=2.)\n",
    "\n",
    "plot_field(U[1].data[0])\n",
    "\n",
    "eq_u = Eq(U.dt + grad(U)*U - a * div(grad(U)))"
   ]
  },
  {
   "cell_type": "markdown",
   "metadata": {},
   "source": [
    "Boundary conditions"
   ]
  },
  {
   "cell_type": "code",
   "execution_count": null,
   "metadata": {},
   "outputs": [],
   "source": [
    "x, y = grid.dimensions\n",
    "t = grid.stepping_dim\n",
    "bc_U = [Eq(U[0][t+1, 0, y], 1.)]  # left\n",
    "bc_U += [Eq(U[0][t+1, nx-1, y], 1.)]  # right\n",
    "bc_U += [Eq(U[0][t+1, x, ny-1], 1.)]  # top\n",
    "bc_U += [Eq(U[0][t+1, x, 0], 1.)]  # bottom\n",
    "bc_U += [Eq(U[1][t+1, 0, y], 1.)]  # left\n",
    "bc_U += [Eq(U[1][t+1, nx-1, y], 1.)]  # right\n",
    "bc_U += [Eq(U[1][t+1, x, ny-1], 1.)]  # top\n",
    "bc_U += [Eq(U[1][t+1, x, 0], 1.)]  # bottom"
   ]
  },
  {
   "cell_type": "code",
   "execution_count": null,
   "metadata": {},
   "outputs": [],
   "source": [
    "# Now this is a trivial stencil so let's just write it directly\n",
    "s = grid.time_dim.spacing\n",
    "update_U = Eq(U.forward, U - s * (grad(U)*U - a * U.laplace), subdomain=grid.interior)"
   ]
  },
  {
   "cell_type": "markdown",
   "metadata": {},
   "source": [
    "And we have the update (stencil) as a vectorial equation once again"
   ]
  },
  {
   "cell_type": "code",
   "execution_count": null,
   "metadata": {},
   "outputs": [],
   "source": [
    "update_U"
   ]
  },
  {
   "cell_type": "code",
   "execution_count": null,
   "metadata": {},
   "outputs": [],
   "source": [
    "div(grad(U))"
   ]
  },
  {
   "cell_type": "markdown",
   "metadata": {},
   "source": [
    "We finally run the operator"
   ]
  },
  {
   "cell_type": "code",
   "execution_count": null,
   "metadata": {},
   "outputs": [],
   "source": [
    "#NBVAL_IGNORE_OUTPUT\n",
    "op = Operator([update_U] + bc_U)\n",
    "# Execute the operator for a number of timesteps\n",
    "for batch_no in range(batches):\n",
    "    op(time=batch_size, dt=dt, a=nu)\n",
    "    print (\"Batch:\",batch_no+1)\n",
    "    plot_field(U[0].data[0])"
   ]
  },
  {
   "cell_type": "code",
   "execution_count": null,
   "metadata": {},
   "outputs": [],
   "source": []
  }
 ],
 "metadata": {
  "@webio": {
   "lastCommId": null,
   "lastKernelId": null
  },
  "hide_input": false,
  "kernelspec": {
   "display_name": "Python 3",
   "language": "python",
   "name": "python3"
  },
  "language_info": {
   "codemirror_mode": {
    "name": "ipython",
    "version": 3
   },
   "file_extension": ".py",
   "mimetype": "text/x-python",
   "name": "python",
   "nbconvert_exporter": "python",
   "pygments_lexer": "ipython3",
   "version": "3.8.3"
  },
  "latex_envs": {
   "LaTeX_envs_menu_present": true,
   "autoclose": false,
   "autocomplete": true,
   "bibliofile": "biblio.bib",
   "cite_by": "apalike",
   "current_citInitial": 1,
   "eqLabelWithNumbers": true,
   "eqNumInitial": 1,
   "hotkeys": {
    "equation": "Ctrl-E",
    "itemize": "Ctrl-I"
   },
   "labels_anchors": false,
   "latex_user_defs": false,
   "report_style_numbering": false,
   "user_envs_cfg": false
  },
  "varInspector": {
   "cols": {
    "lenName": 16,
    "lenType": 16,
    "lenVar": 40
   },
   "kernels_config": {
    "python": {
     "delete_cmd_postfix": "",
     "delete_cmd_prefix": "del ",
     "library": "var_list.py",
     "varRefreshCmd": "print(var_dic_list())"
    },
    "r": {
     "delete_cmd_postfix": ") ",
     "delete_cmd_prefix": "rm(",
     "library": "var_list.r",
     "varRefreshCmd": "cat(var_dic_list()) "
    }
   },
   "types_to_exclude": [
    "module",
    "function",
    "builtin_function_or_method",
    "instance",
    "_Feature"
   ],
   "window_display": false
  },
  "widgets": {
   "state": {},
   "version": "1.1.2"
  }
 },
 "nbformat": 4,
 "nbformat_minor": 1
}
