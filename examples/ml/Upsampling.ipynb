{
 "cells": [
  {
   "cell_type": "markdown",
   "metadata": {},
   "source": [
    "# Upsampling"
   ]
  },
  {
   "cell_type": "markdown",
   "metadata": {},
   "source": [
    "Here we want to create the operator for nn.upsample(scale_factor=2, mode='bilinear', align_corners=True)"
   ]
  },
  {
   "cell_type": "code",
   "execution_count": 2,
   "metadata": {},
   "outputs": [],
   "source": [
    "import torch\n",
    "from devito import Operator, Grid, Function, dimensions, Eq, Inc\n",
    "import numpy as np\n",
    "import sympy"
   ]
  },
  {
   "cell_type": "code",
   "execution_count": 4,
   "metadata": {},
   "outputs": [],
   "source": [
    "#init input same as in pytorch tutorial\n",
    "input = torch.arange(1, 5, dtype=torch.float32).view(1, 1, 2, 2)"
   ]
  },
  {
   "cell_type": "code",
   "execution_count": 6,
   "metadata": {},
   "outputs": [
    {
     "data": {
      "text/plain": [
       "tensor([[[[1.0000, 1.3333, 1.6667, 2.0000],\n",
       "          [1.6667, 2.0000, 2.3333, 2.6667],\n",
       "          [2.3333, 2.6667, 3.0000, 3.3333],\n",
       "          [3.0000, 3.3333, 3.6667, 4.0000]]]])"
      ]
     },
     "execution_count": 6,
     "metadata": {},
     "output_type": "execute_result"
    }
   ],
   "source": [
    "m = torch.nn.Upsample(scale_factor=2, mode='bilinear', align_corners=True)\n",
    "torch_out = m(input)\n",
    "torch_out"
   ]
  },
  {
   "cell_type": "code",
   "execution_count": 29,
   "metadata": {},
   "outputs": [
    {
     "name": "stdout",
     "output_type": "stream",
     "text": [
      "tensor([[[[0.6250, 0.1692, 0.5333],\n",
      "          [0.1604, 0.4394, 0.0758],\n",
      "          [0.4560, 0.8314, 0.4342]]]])\n"
     ]
    },
    {
     "data": {
      "text/plain": [
       "tensor([[[[0.6250, 0.5111, 0.2832, 0.2602, 0.4423, 0.5333],\n",
       "          [0.5089, 0.4408, 0.3048, 0.2823, 0.3734, 0.4189],\n",
       "          [0.2765, 0.3004, 0.3480, 0.3264, 0.2356, 0.1901],\n",
       "          [0.2343, 0.3101, 0.4616, 0.4444, 0.2584, 0.1654],\n",
       "          [0.3821, 0.4699, 0.6456, 0.6362, 0.4418, 0.3446],\n",
       "          [0.4560, 0.5499, 0.7376, 0.7321, 0.5335, 0.4342]]]])"
      ]
     },
     "execution_count": 29,
     "metadata": {},
     "output_type": "execute_result"
    }
   ],
   "source": [
    "inp = torch.rand((1,1,3,3))\n",
    "print(inp)\n",
    "n = torch.nn.Upsample(scale_factor=2, mode='bilinear', align_corners=False)\n",
    "torch_out = n(inp)\n",
    "torch_out"
   ]
  },
  {
   "cell_type": "code",
   "execution_count": 79,
   "metadata": {},
   "outputs": [
    {
     "name": "stdout",
     "output_type": "stream",
     "text": [
      "x: -0.25 x1: -1\n",
      "x ,y, indeces 0 0 input[y, x] 0.6250223\n",
      "x ,y, indeces 0 0 input[y, x] 0.6250223\n",
      "x ,y, indeces 0 0 input[y, x] 0.6250223\n",
      "x ,y, indeces 0 0 input[y, x] 0.6250223\n",
      "x: 0.25 x1: 0\n",
      "x ,y, indeces 0 0 input[y, x] 0.6250223\n",
      "x ,y, indeces 0 0 input[y, x] 0.6250223\n",
      "x ,y, indeces 1 0 input[y, x] 0.16919512\n",
      "x ,y, indeces 1 0 input[y, x] 0.16919512\n",
      "x: 0.75 x1: 0\n",
      "x ,y, indeces 0 0 input[y, x] 0.6250223\n",
      "x ,y, indeces 0 0 input[y, x] 0.6250223\n",
      "x ,y, indeces 1 0 input[y, x] 0.16919512\n",
      "x ,y, indeces 1 0 input[y, x] 0.16919512\n",
      "x: 1.25 x1: 1\n",
      "x ,y, indeces 1 0 input[y, x] 0.16919512\n",
      "x ,y, indeces 1 0 input[y, x] 0.16919512\n",
      "x ,y, indeces 2 0 input[y, x] 0.53328013\n",
      "x ,y, indeces 2 0 input[y, x] 0.53328013\n",
      "x: 1.75 x1: 1\n",
      "x ,y, indeces 1 0 input[y, x] 0.16919512\n",
      "x ,y, indeces 1 0 input[y, x] 0.16919512\n",
      "x ,y, indeces 2 0 input[y, x] 0.53328013\n",
      "x ,y, indeces 2 0 input[y, x] 0.53328013\n",
      "x: 2.25 x1: 2\n",
      "x ,y, indeces 2 0 input[y, x] 0.53328013\n",
      "x ,y, indeces 2 0 input[y, x] 0.53328013\n",
      "x ,y, indeces 2 0 input[y, x] 0.53328013\n",
      "x ,y, indeces 2 0 input[y, x] 0.53328013\n",
      "x: -0.25 x1: -1\n",
      "x ,y, indeces 0 0 input[y, x] 0.6250223\n",
      "x ,y, indeces 0 1 input[y, x] 0.16036487\n",
      "x ,y, indeces 0 0 input[y, x] 0.6250223\n",
      "x ,y, indeces 0 1 input[y, x] 0.16036487\n",
      "x: 0.25 x1: 0\n",
      "x ,y, indeces 0 0 input[y, x] 0.6250223\n",
      "x ,y, indeces 0 1 input[y, x] 0.16036487\n",
      "x ,y, indeces 1 0 input[y, x] 0.16919512\n",
      "x ,y, indeces 1 1 input[y, x] 0.43940836\n",
      "x: 0.75 x1: 0\n",
      "x ,y, indeces 0 0 input[y, x] 0.6250223\n",
      "x ,y, indeces 0 1 input[y, x] 0.16036487\n",
      "x ,y, indeces 1 0 input[y, x] 0.16919512\n",
      "x ,y, indeces 1 1 input[y, x] 0.43940836\n",
      "x: 1.25 x1: 1\n",
      "x ,y, indeces 1 0 input[y, x] 0.16919512\n",
      "x ,y, indeces 1 1 input[y, x] 0.43940836\n",
      "x ,y, indeces 2 0 input[y, x] 0.53328013\n",
      "x ,y, indeces 2 1 input[y, x] 0.075766146\n",
      "x: 1.75 x1: 1\n",
      "x ,y, indeces 1 0 input[y, x] 0.16919512\n",
      "x ,y, indeces 1 1 input[y, x] 0.43940836\n",
      "x ,y, indeces 2 0 input[y, x] 0.53328013\n",
      "x ,y, indeces 2 1 input[y, x] 0.075766146\n",
      "x: 2.25 x1: 2\n",
      "x ,y, indeces 2 0 input[y, x] 0.53328013\n",
      "x ,y, indeces 2 1 input[y, x] 0.075766146\n",
      "x ,y, indeces 2 0 input[y, x] 0.53328013\n",
      "x ,y, indeces 2 1 input[y, x] 0.075766146\n",
      "x: -0.25 x1: -1\n",
      "x ,y, indeces 0 0 input[y, x] 0.6250223\n",
      "x ,y, indeces 0 1 input[y, x] 0.16036487\n",
      "x ,y, indeces 0 0 input[y, x] 0.6250223\n",
      "x ,y, indeces 0 1 input[y, x] 0.16036487\n",
      "x: 0.25 x1: 0\n",
      "x ,y, indeces 0 0 input[y, x] 0.6250223\n",
      "x ,y, indeces 0 1 input[y, x] 0.16036487\n",
      "x ,y, indeces 1 0 input[y, x] 0.16919512\n",
      "x ,y, indeces 1 1 input[y, x] 0.43940836\n",
      "x: 0.75 x1: 0\n",
      "x ,y, indeces 0 0 input[y, x] 0.6250223\n",
      "x ,y, indeces 0 1 input[y, x] 0.16036487\n",
      "x ,y, indeces 1 0 input[y, x] 0.16919512\n",
      "x ,y, indeces 1 1 input[y, x] 0.43940836\n",
      "x: 1.25 x1: 1\n",
      "x ,y, indeces 1 0 input[y, x] 0.16919512\n",
      "x ,y, indeces 1 1 input[y, x] 0.43940836\n",
      "x ,y, indeces 2 0 input[y, x] 0.53328013\n",
      "x ,y, indeces 2 1 input[y, x] 0.075766146\n",
      "x: 1.75 x1: 1\n",
      "x ,y, indeces 1 0 input[y, x] 0.16919512\n",
      "x ,y, indeces 1 1 input[y, x] 0.43940836\n",
      "x ,y, indeces 2 0 input[y, x] 0.53328013\n",
      "x ,y, indeces 2 1 input[y, x] 0.075766146\n",
      "x: 2.25 x1: 2\n",
      "x ,y, indeces 2 0 input[y, x] 0.53328013\n",
      "x ,y, indeces 2 1 input[y, x] 0.075766146\n",
      "x ,y, indeces 2 0 input[y, x] 0.53328013\n",
      "x ,y, indeces 2 1 input[y, x] 0.075766146\n",
      "x: -0.25 x1: -1\n",
      "x ,y, indeces 0 1 input[y, x] 0.16036487\n",
      "x ,y, indeces 0 2 input[y, x] 0.4560393\n",
      "x ,y, indeces 0 1 input[y, x] 0.16036487\n",
      "x ,y, indeces 0 2 input[y, x] 0.4560393\n",
      "x: 0.25 x1: 0\n",
      "x ,y, indeces 0 1 input[y, x] 0.16036487\n",
      "x ,y, indeces 0 2 input[y, x] 0.4560393\n",
      "x ,y, indeces 1 1 input[y, x] 0.43940836\n",
      "x ,y, indeces 1 2 input[y, x] 0.8314114\n",
      "x: 0.75 x1: 0\n",
      "x ,y, indeces 0 1 input[y, x] 0.16036487\n",
      "x ,y, indeces 0 2 input[y, x] 0.4560393\n",
      "x ,y, indeces 1 1 input[y, x] 0.43940836\n",
      "x ,y, indeces 1 2 input[y, x] 0.8314114\n",
      "x: 1.25 x1: 1\n",
      "x ,y, indeces 1 1 input[y, x] 0.43940836\n",
      "x ,y, indeces 1 2 input[y, x] 0.8314114\n",
      "x ,y, indeces 2 1 input[y, x] 0.075766146\n",
      "x ,y, indeces 2 2 input[y, x] 0.43418592\n",
      "x: 1.75 x1: 1\n",
      "x ,y, indeces 1 1 input[y, x] 0.43940836\n",
      "x ,y, indeces 1 2 input[y, x] 0.8314114\n",
      "x ,y, indeces 2 1 input[y, x] 0.075766146\n",
      "x ,y, indeces 2 2 input[y, x] 0.43418592\n",
      "x: 2.25 x1: 2\n",
      "x ,y, indeces 2 1 input[y, x] 0.075766146\n",
      "x ,y, indeces 2 2 input[y, x] 0.43418592\n",
      "x ,y, indeces 2 1 input[y, x] 0.075766146\n",
      "x ,y, indeces 2 2 input[y, x] 0.43418592\n",
      "x: -0.25 x1: -1\n",
      "x ,y, indeces 0 1 input[y, x] 0.16036487\n",
      "x ,y, indeces 0 2 input[y, x] 0.4560393\n",
      "x ,y, indeces 0 1 input[y, x] 0.16036487\n",
      "x ,y, indeces 0 2 input[y, x] 0.4560393\n",
      "x: 0.25 x1: 0\n",
      "x ,y, indeces 0 1 input[y, x] 0.16036487\n",
      "x ,y, indeces 0 2 input[y, x] 0.4560393\n",
      "x ,y, indeces 1 1 input[y, x] 0.43940836\n",
      "x ,y, indeces 1 2 input[y, x] 0.8314114\n",
      "x: 0.75 x1: 0\n",
      "x ,y, indeces 0 1 input[y, x] 0.16036487\n",
      "x ,y, indeces 0 2 input[y, x] 0.4560393\n",
      "x ,y, indeces 1 1 input[y, x] 0.43940836\n",
      "x ,y, indeces 1 2 input[y, x] 0.8314114\n",
      "x: 1.25 x1: 1\n",
      "x ,y, indeces 1 1 input[y, x] 0.43940836\n",
      "x ,y, indeces 1 2 input[y, x] 0.8314114\n",
      "x ,y, indeces 2 1 input[y, x] 0.075766146\n",
      "x ,y, indeces 2 2 input[y, x] 0.43418592\n",
      "x: 1.75 x1: 1\n",
      "x ,y, indeces 1 1 input[y, x] 0.43940836\n",
      "x ,y, indeces 1 2 input[y, x] 0.8314114\n",
      "x ,y, indeces 2 1 input[y, x] 0.075766146\n",
      "x ,y, indeces 2 2 input[y, x] 0.43418592\n",
      "x: 2.25 x1: 2\n",
      "x ,y, indeces 2 1 input[y, x] 0.075766146\n",
      "x ,y, indeces 2 2 input[y, x] 0.43418592\n",
      "x ,y, indeces 2 1 input[y, x] 0.075766146\n",
      "x ,y, indeces 2 2 input[y, x] 0.43418592\n",
      "x: -0.25 x1: -1\n",
      "x ,y, indeces 0 2 input[y, x] 0.4560393\n",
      "x ,y, indeces 0 2 input[y, x] 0.4560393\n",
      "x ,y, indeces 0 2 input[y, x] 0.4560393\n",
      "x ,y, indeces 0 2 input[y, x] 0.4560393\n",
      "x: 0.25 x1: 0\n",
      "x ,y, indeces 0 2 input[y, x] 0.4560393\n",
      "x ,y, indeces 0 2 input[y, x] 0.4560393\n",
      "x ,y, indeces 1 2 input[y, x] 0.8314114\n",
      "x ,y, indeces 1 2 input[y, x] 0.8314114\n",
      "x: 0.75 x1: 0\n",
      "x ,y, indeces 0 2 input[y, x] 0.4560393\n",
      "x ,y, indeces 0 2 input[y, x] 0.4560393\n",
      "x ,y, indeces 1 2 input[y, x] 0.8314114\n",
      "x ,y, indeces 1 2 input[y, x] 0.8314114\n",
      "x: 1.25 x1: 1\n",
      "x ,y, indeces 1 2 input[y, x] 0.8314114\n",
      "x ,y, indeces 1 2 input[y, x] 0.8314114\n",
      "x ,y, indeces 2 2 input[y, x] 0.43418592\n",
      "x ,y, indeces 2 2 input[y, x] 0.43418592\n",
      "x: 1.75 x1: 1\n",
      "x ,y, indeces 1 2 input[y, x] 0.8314114\n",
      "x ,y, indeces 1 2 input[y, x] 0.8314114\n",
      "x ,y, indeces 2 2 input[y, x] 0.43418592\n",
      "x ,y, indeces 2 2 input[y, x] 0.43418592\n",
      "x: 2.25 x1: 2\n",
      "x ,y, indeces 2 2 input[y, x] 0.43418592\n",
      "x ,y, indeces 2 2 input[y, x] 0.43418592\n",
      "x ,y, indeces 2 2 input[y, x] 0.43418592\n",
      "x ,y, indeces 2 2 input[y, x] 0.43418592\n"
     ]
    },
    {
     "data": {
      "text/plain": [
       "True"
      ]
     },
     "execution_count": 79,
     "metadata": {},
     "output_type": "execute_result"
    }
   ],
   "source": [
    "def resize_bilinear(input, scale_factor):\n",
    "    source_H = input.shape[0]\n",
    "    source_W = input.shape[1]\n",
    "    #3 , 3\n",
    "    resized_H = int(source_H * scale_factor)\n",
    "    resized_W = int(source_W * scale_factor)\n",
    "    #6,6\n",
    "\n",
    "    output = np.zeros((resized_H, resized_W), dtype=np.float32)\n",
    "    \n",
    "    def read_pixel(x, y):\n",
    "        #Given an interval, values outside the interval are clipped to the interval edges\n",
    "        #np.minimum(a_max, np.maximum(a, a_min)).\n",
    "        # array, min, max\n",
    "        x = np.clip(x, 0, source_W - 1)\n",
    "        y = np.clip(y, 0, source_H - 1)\n",
    "        print(\"x ,y, indeces\", x,y,\"input[y, x]\" , input[y, x])\n",
    "        return input[y, x]\n",
    "\n",
    "    def bilinear_interpolate(x, y):\n",
    "        x1 = int(np.floor(x))\n",
    "        print(\"x:\", x,\"x1:\", x1)\n",
    "        x2 = x1 + 1\n",
    "\n",
    "        y1 = int(np.floor(y))\n",
    "        y2 = y1 + 1\n",
    "\n",
    "        P11 = read_pixel(x1, y1)\n",
    "        P12 = read_pixel(x1, y2)\n",
    "        P21 = read_pixel(x2, y1)\n",
    "        P22 = read_pixel(x2, y2)\n",
    "        \n",
    "        return (P11 * (x2 - x) * (y2 - y) + \n",
    "                P12 * (x2 - x) * (y - y1) + \n",
    "                P21 * (x - x1) * (y2 - y) + \n",
    "                P22 * (x - x1) * (y - y1)) / ((x2 - x1) * (y2 - y1))\n",
    "\n",
    "    for dst_y in range(resized_H):\n",
    "        for dst_x in range(resized_W):\n",
    "            src_x = (dst_x + 0.5) / scale_factor - 0.5\n",
    "            src_y = (dst_y + 0.5) / scale_factor - 0.5\n",
    "            output[dst_y, dst_x] = bilinear_interpolate(src_x, src_y)\n",
    "\n",
    "    return output\n",
    "python_out = resize_bilinear(inp[0][0].numpy(),2)\n",
    "np.allclose(torch_out, python_out)"
   ]
  },
  {
   "cell_type": "code",
   "execution_count": 45,
   "metadata": {},
   "outputs": [],
   "source": [
    "inparray = inp[0][0].numpy()"
   ]
  },
  {
   "cell_type": "code",
   "execution_count": 46,
   "metadata": {},
   "outputs": [
    {
     "data": {
      "text/plain": [
       "array([[0.6250223 , 0.16919512, 0.53328013],\n",
       "       [0.16036487, 0.43940836, 0.07576615],\n",
       "       [0.4560393 , 0.8314114 , 0.43418592]], dtype=float32)"
      ]
     },
     "execution_count": 46,
     "metadata": {},
     "output_type": "execute_result"
    }
   ],
   "source": [
    "inparray"
   ]
  },
  {
   "cell_type": "code",
   "execution_count": 51,
   "metadata": {},
   "outputs": [
    {
     "data": {
      "text/plain": [
       "True"
      ]
     },
     "execution_count": 51,
     "metadata": {},
     "output_type": "execute_result"
    }
   ],
   "source": [
    "np.allclose(torch_out, python_out)"
   ]
  },
  {
   "cell_type": "code",
   "execution_count": null,
   "metadata": {},
   "outputs": [],
   "source": [
    "wheited sum but the weights depends on how far you are"
   ]
  },
  {
   "cell_type": "code",
   "execution_count": 54,
   "metadata": {},
   "outputs": [],
   "source": [
    "import inspect"
   ]
  },
  {
   "cell_type": "code",
   "execution_count": null,
   "metadata": {},
   "outputs": [],
   "source": [
    "inspect."
   ]
  }
 ],
 "metadata": {
  "kernelspec": {
   "display_name": "Python 3",
   "language": "python",
   "name": "python3"
  },
  "language_info": {
   "codemirror_mode": {
    "name": "ipython",
    "version": 3
   },
   "file_extension": ".py",
   "mimetype": "text/x-python",
   "name": "python",
   "nbconvert_exporter": "python",
   "pygments_lexer": "ipython3",
   "version": "3.6.10"
  }
 },
 "nbformat": 4,
 "nbformat_minor": 4
}
