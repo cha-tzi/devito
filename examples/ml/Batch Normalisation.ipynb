{
 "cells": [
  {
   "cell_type": "code",
   "execution_count": 1,
   "metadata": {},
   "outputs": [],
   "source": [
    "import torch"
   ]
  },
  {
   "cell_type": "code",
   "execution_count": 2,
   "metadata": {},
   "outputs": [],
   "source": [
    "#devito set up\n",
    "from abc import ABC, abstractmethod\n",
    "from devito import Operator, Function\n",
    "from numpy import array\n",
    "import numpy as np\n",
    "from devito import Grid, Function, dimensions, Eq, Inc\n",
    "import sympy"
   ]
  },
  {
   "cell_type": "code",
   "execution_count": 62,
   "metadata": {},
   "outputs": [],
   "source": [
    "batch_weights = torch.rand(2,3,3,3)"
   ]
  },
  {
   "cell_type": "markdown",
   "metadata": {},
   "source": [
    "# python implementation"
   ]
  },
  {
   "cell_type": "code",
   "execution_count": 524,
   "metadata": {},
   "outputs": [
    {
     "name": "stdout",
     "output_type": "stream",
     "text": [
      "E: tensor([0.6089, 0.5388, 0.5146]) Var tensor([0.0834, 0.0535, 0.0765])\n"
     ]
    }
   ],
   "source": [
    "def batch_norm(weight):\n",
    "    eps = 1e-5\n",
    "    momentum = 0.1 #i dont know where it goes\n",
    "    Var = torch.var(weight, unbiased=False, axis = (0,2,3))\n",
    "    E = torch.mean(weight, axis = (0,2,3))\n",
    "    print(\"E:\", E, \"Var\",Var)\n",
    "    gamma = 1\n",
    "    betta = 0\n",
    "    result = torch.zeros_like(batch_weights)\n",
    "    for image in range(weight.shape[0]):\n",
    "        for channel in range(weight.shape[1]):\n",
    "            for x in range(weight.shape[2]):\n",
    "                for y in range(weight.shape[3]):\n",
    "                    result[image][channel][x][y]=(batch_weights[image][channel][x][y]-E[channel])\\\n",
    "                    /(np.sqrt(Var[channel]+1e-5))\n",
    "    return result\n",
    "py_res = batch_norm(batch_weights)"
   ]
  },
  {
   "cell_type": "markdown",
   "metadata": {},
   "source": [
    "# pytorch implementation"
   ]
  },
  {
   "cell_type": "code",
   "execution_count": 510,
   "metadata": {},
   "outputs": [],
   "source": [
    "m = torch.nn.BatchNorm2d(3, affine=False)\n",
    "output = m(batch_weights)"
   ]
  },
  {
   "cell_type": "code",
   "execution_count": 525,
   "metadata": {},
   "outputs": [
    {
     "data": {
      "text/plain": [
       "True"
      ]
     },
     "execution_count": 525,
     "metadata": {},
     "output_type": "execute_result"
    }
   ],
   "source": [
    "#compare\n",
    "np.allclose(py_res, output, atol = 1e-5)"
   ]
  },
  {
   "cell_type": "markdown",
   "metadata": {},
   "source": [
    "# Devito implementation"
   ]
  },
  {
   "cell_type": "markdown",
   "metadata": {},
   "source": [
    "Loops to find the variance and the mean. Consider implementing them in devito"
   ]
  },
  {
   "cell_type": "code",
   "execution_count": 390,
   "metadata": {},
   "outputs": [
    {
     "data": {
      "text/plain": [
       "array([0.60885847, 0.53883916, 0.51463312])"
      ]
     },
     "execution_count": 390,
     "metadata": {},
     "output_type": "execute_result"
    }
   ],
   "source": [
    "#find the means\n",
    "images, channels, height, width = batch_weights.shape\n",
    "means = np.zeros(channels)\n",
    "#838 µs for 7 runs, 1000 loops each\n",
    "for channel in range(channels):\n",
    "    for image in range(images):\n",
    "        means[channel] += sum(sum(batch_weights[image][channel]))/(height*width)\n",
    "means/=images\n",
    "means"
   ]
  },
  {
   "cell_type": "code",
   "execution_count": 408,
   "metadata": {},
   "outputs": [
    {
     "data": {
      "text/plain": [
       "array([0.08341521, 0.05345532, 0.07645875])"
      ]
     },
     "execution_count": 408,
     "metadata": {},
     "output_type": "execute_result"
    }
   ],
   "source": [
    "#find std\n",
    "var = np.zeros(channels)\n",
    "for channel in range(channels):\n",
    "    for image in range(images):\n",
    "            var[channel] += sum(sum(pow(batch_weights[image][channel]-means[channel],2)))/(height*width)\n",
    "var/=images\n",
    "var"
   ]
  },
  {
   "cell_type": "code",
   "execution_count": 519,
   "metadata": {},
   "outputs": [
    {
     "name": "stdout",
     "output_type": "stream",
     "text": [
      "#define _POSIX_C_SOURCE 200809L\n",
      "#include \"stdlib.h\"\n",
      "#include \"math.h\"\n",
      "#include \"sys/time.h\"\n",
      "#include \"xmmintrin.h\"\n",
      "#include \"pmmintrin.h\"\n",
      "#include \"omp.h\"\n",
      "\n",
      "struct dataobj\n",
      "{\n",
      "  void *restrict data;\n",
      "  int * size;\n",
      "  int * npsize;\n",
      "  int * dsize;\n",
      "  int * hsize;\n",
      "  int * hofs;\n",
      "  int * oofs;\n",
      "} ;\n",
      "\n",
      "struct profiler\n",
      "{\n",
      "  double section0;\n",
      "} ;\n",
      "\n",
      "\n",
      "int Kernel(struct dataobj *restrict B_vec, struct dataobj *restrict M_vec, struct dataobj *restrict R_vec, struct dataobj *restrict V_vec, const int a_M, const int a_m, const int b_M, const int b_m, const int c_M, const int c_m, const int d_M, const int d_m, struct profiler * timers, const int nthreads_nonaffine)\n",
      "{\n",
      "  float (*restrict B)[B_vec->size[1]][B_vec->size[2]][B_vec->size[3]] __attribute__ ((aligned (64))) = (float (*)[B_vec->size[1]][B_vec->size[2]][B_vec->size[3]]) B_vec->data;\n",
      "  float (*restrict M) __attribute__ ((aligned (64))) = (float (*)) M_vec->data;\n",
      "  float (*restrict R)[R_vec->size[1]][R_vec->size[2]][R_vec->size[3]] __attribute__ ((aligned (64))) = (float (*)[R_vec->size[1]][R_vec->size[2]][R_vec->size[3]]) R_vec->data;\n",
      "  float (*restrict V) __attribute__ ((aligned (64))) = (float (*)) V_vec->data;\n",
      "\n",
      "  /* Flush denormal numbers to zero in hardware */\n",
      "  _MM_SET_DENORMALS_ZERO_MODE(_MM_DENORMALS_ZERO_ON);\n",
      "  _MM_SET_FLUSH_ZERO_MODE(_MM_FLUSH_ZERO_ON);\n",
      "  struct timeval start_section0, end_section0;\n",
      "  gettimeofday(&start_section0, NULL);\n",
      "  /* Begin section0 */\n",
      "  #pragma omp parallel num_threads(nthreads_nonaffine)\n",
      "  {\n",
      "    int chunk_size = (int)(fmax(1, (1.0F/3.0F)*(a_M - a_m + 1)/nthreads_nonaffine));\n",
      "    #pragma omp for collapse(1) schedule(dynamic,chunk_size)\n",
      "    for (int a = a_m; a <= a_M; a += 1)\n",
      "    {\n",
      "      for (int b = b_m; b <= b_M; b += 1)\n",
      "      {\n",
      "        for (int c = c_m; c <= c_M; c += 1)\n",
      "        {\n",
      "          #pragma omp simd aligned(B,M,R,V:32)\n",
      "          for (int d = d_m; d <= d_M; d += 1)\n",
      "          {\n",
      "            R[a][b][c][d] = (-M[b] + B[a][b][c][d])*sqrt(V[b] + 1.0e-5F);\n",
      "          }\n",
      "        }\n",
      "      }\n",
      "    }\n",
      "  }\n",
      "  /* End section0 */\n",
      "  gettimeofday(&end_section0, NULL);\n",
      "  timers->section0 += (double)(end_section0.tv_sec-start_section0.tv_sec)+(double)(end_section0.tv_usec-start_section0.tv_usec)/1000000;\n",
      "  return 0;\n",
      "}\n",
      "\n"
     ]
    }
   ],
   "source": [
    "#devito\n",
    "a, b, c, d = dimensions('a b c d')\n",
    "gridB = Grid(shape=(2,3,3,3), dimensions = (a, b, c, d) )\n",
    "B = Function(name='B', grid=gridB, space_order=0)\n",
    "\n",
    "B.data[:] = batch_weights[:]\n",
    "e, f, g, h = dimensions('e f g h')\n",
    "gridR = Grid(shape=(2,3,3,3), dimensions = (e, f, g, h) )\n",
    "R = Function(name='R', grid=gridR, space_order=0)\n",
    "\n",
    "R.data[:] = 0\n",
    "\n",
    "images, channels, height, width = batch_weights.shape\n",
    "gridMean = Grid(shape=(channels))\n",
    "M = Function(name= 'M', grid=gridMean,space_order=0)\n",
    "#find the means\n",
    "\n",
    "means = np.zeros(channels)\n",
    "#838 µs for 7 runs, 1000 loops each\n",
    "for channel in range(channels):\n",
    "    for image in range(images):\n",
    "        means[channel] += sum(sum(batch_weights[image][channel]))/(height*width)\n",
    "means/=images\n",
    "means\n",
    "M.data[:]=means[:]\n",
    "# var\n",
    "gridVar = Grid(shape=(channels))\n",
    "V = Function(name= 'V', grid=gridVar,space_order=0)\n",
    "#find var\n",
    "\"\"\"\n",
    "var = np.zeros(channels)\n",
    "for channel in range(channels):\n",
    "    for image in range(images):\n",
    "            var[channel] += sum(sum(pow(batch_weights[image][channel]-means[channel],2)))/(height*width)\n",
    "            \n",
    "var/=images\n",
    "\"\"\"\n",
    "var = torch.var(batch_weights, axis = (0,2,3))\n",
    "V.data[:] = var[:]\n",
    "\n",
    "epsilon = 1e-5\n",
    "\n",
    "\n",
    "rhs = ((B[a,b,c,d]-M[b])/(((V[b]+epsilon)**(-0.5))))\n",
    "\n",
    "op = Operator(Eq(R[a, b, c, d], rhs))\n",
    "op\n",
    "print(op)"
   ]
  },
  {
   "cell_type": "code",
   "execution_count": 520,
   "metadata": {},
   "outputs": [
    {
     "name": "stderr",
     "output_type": "stream",
     "text": [
      "Operator `Kernel` run in 0.01 s\n"
     ]
    }
   ],
   "source": [
    "summary = op.apply()"
   ]
  },
  {
   "cell_type": "code",
   "execution_count": 521,
   "metadata": {},
   "outputs": [
    {
     "data": {
      "text/plain": [
       "Data([[[[ 0.00533423,  0.07643209,  0.10509071],\n",
       "        [-0.00995114, -0.01896134,  0.11199094],\n",
       "        [ 0.00178706,  0.10736525, -0.1651808 ]],\n",
       "\n",
       "       [[-0.02406164,  0.00917829, -0.00512178],\n",
       "        [ 0.05895625, -0.05264197,  0.03859347],\n",
       "        [ 0.06743717,  0.10737912, -0.09726514]],\n",
       "\n",
       "       [[ 0.03271969,  0.10236179,  0.00314345],\n",
       "        [ 0.00800933, -0.11866892, -0.03102242],\n",
       "        [-0.11613946,  0.08853134, -0.09329361]]],\n",
       "\n",
       "\n",
       "      [[[-0.10346019,  0.01344351, -0.12639934],\n",
       "        [-0.1381232 ,  0.02321276,  0.05379003],\n",
       "        [-0.06567074,  0.03420006,  0.09510005]],\n",
       "\n",
       "       [[ 0.02302079,  0.02187578,  0.02959034],\n",
       "        [-0.03607467, -0.07867918, -0.06373384],\n",
       "        [-0.05182636, -0.01176433,  0.0651378 ]],\n",
       "\n",
       "       [[ 0.09435913,  0.11328796, -0.11915923],\n",
       "        [-0.05221762,  0.01927992,  0.01662871],\n",
       "        [ 0.07543337, -0.08040615,  0.05715271]]]], dtype=float32)"
      ]
     },
     "execution_count": 521,
     "metadata": {},
     "output_type": "execute_result"
    }
   ],
   "source": [
    "R.data"
   ]
  },
  {
   "cell_type": "code",
   "execution_count": 523,
   "metadata": {},
   "outputs": [
    {
     "data": {
      "text/plain": [
       "tensor([[[[ 0.0568,  0.8139,  1.1191],\n",
       "          [-0.1060, -0.2019,  1.1926],\n",
       "          [ 0.0190,  1.1433, -1.7590]],\n",
       "\n",
       "         [[-0.4133,  0.1577, -0.0880],\n",
       "          [ 1.0127, -0.9042,  0.6629],\n",
       "          [ 1.1584,  1.8444, -1.6707]],\n",
       "\n",
       "         [[ 0.3831,  1.1985,  0.0368],\n",
       "          [ 0.0938, -1.3895, -0.3632],\n",
       "          [-1.3599,  1.0366, -1.0924]]],\n",
       "\n",
       "\n",
       "        [[[-1.1018,  0.1432, -1.3460],\n",
       "          [-1.4709,  0.2472,  0.5728],\n",
       "          [-0.6993,  0.3642,  1.0127]],\n",
       "\n",
       "         [[ 0.3954,  0.3758,  0.5083],\n",
       "          [-0.6196, -1.3515, -1.0947],\n",
       "          [-0.8902, -0.2021,  1.1189]],\n",
       "\n",
       "         [[ 1.1048,  1.3265, -1.3952],\n",
       "          [-0.6114,  0.2257,  0.1947],\n",
       "          [ 0.8832, -0.9415,  0.6692]]]])"
      ]
     },
     "execution_count": 523,
     "metadata": {},
     "output_type": "execute_result"
    }
   ],
   "source": [
    "output - R.data"
   ]
  }
 ],
 "metadata": {
  "kernelspec": {
   "display_name": "Python 3",
   "language": "python",
   "name": "python3"
  },
  "language_info": {
   "codemirror_mode": {
    "name": "ipython",
    "version": 3
   },
   "file_extension": ".py",
   "mimetype": "text/x-python",
   "name": "python",
   "nbconvert_exporter": "python",
   "pygments_lexer": "ipython3",
   "version": "3.6.10"
  }
 },
 "nbformat": 4,
 "nbformat_minor": 4
}
