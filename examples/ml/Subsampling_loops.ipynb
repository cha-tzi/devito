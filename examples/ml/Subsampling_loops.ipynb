{
 "cells": [
  {
   "cell_type": "code",
   "execution_count": 1,
   "metadata": {},
   "outputs": [],
   "source": [
    "import torch"
   ]
  },
  {
   "cell_type": "code",
   "execution_count": 2,
   "metadata": {},
   "outputs": [],
   "source": [
    "#devito set up\n",
    "from abc import ABC, abstractmethod\n",
    "from devito import Operator, Function\n",
    "from numpy import array\n",
    "import numpy as np\n",
    "from devito import Grid, Function, dimensions, Eq, Inc\n",
    "import sympy\n",
    "class Layer(ABC):\n",
    "    def __init__(self, input_data):\n",
    "        self._input_data = input_data\n",
    "        self._R = self._allocate()\n",
    "\n",
    "    @abstractmethod\n",
    "    def _allocate(self) -> Function:\n",
    "        # This method should return a Function object corresponding to\n",
    "        # an output of the layer.\n",
    "        pass\n",
    "\n",
    "    def execute(self) -> (Operator, array):\n",
    "        op = Operator(self.equations())\n",
    "        op.cfunction\n",
    "\n",
    "        return (op, self._R.data)\n",
    "\n",
    "    @abstractmethod\n",
    "    def equations(self) -> list:\n",
    "        pass"
   ]
  },
  {
   "cell_type": "code",
   "execution_count": 3,
   "metadata": {},
   "outputs": [],
   "source": [
    "batch_image = torch.randint(0,60,(2,3,3,3))"
   ]
  },
  {
   "cell_type": "code",
   "execution_count": 4,
   "metadata": {},
   "outputs": [
    {
     "name": "stdout",
     "output_type": "stream",
     "text": [
      "Grid[extent=(1.0, 1.0, 1.0, 1.0), shape=(2, 3, 2, 2), dimensions=(e, f, g, h)]\n"
     ]
    },
    {
     "name": "stderr",
     "output_type": "stream",
     "text": [
      "Operator `Kernel` run in 0.01 s\n"
     ]
    },
    {
     "data": {
      "text/plain": [
       "(2, 3, 2, 2)"
      ]
     },
     "execution_count": 4,
     "metadata": {},
     "output_type": "execute_result"
    }
   ],
   "source": [
    "class Subsampling_4d(Layer):\n",
    "    def __init__(self, kernel_size, feature_map, function,\n",
    "                 stride=(1, 1), padding=(0, 0), activation=None,\n",
    "                 bias=0):\n",
    "        # All sizes are expressed as (batch, channel, rows, columns).\n",
    "        #error check to be added later\n",
    "        #self._error_check(kernel_size, feature_map, stride, padding)\n",
    "\n",
    "        self._kernel_size = kernel_size\n",
    "        self._function = function\n",
    "        self._activation = activation\n",
    "        self._bias = bias\n",
    "\n",
    "        self._stride = stride\n",
    "        self._padding = padding\n",
    "\n",
    "        super().__init__(input_data=feature_map)\n",
    "\n",
    "\n",
    "    def _allocate(self):\n",
    "        map_height = self._input_data.shape[2] + 2 * self._padding[0]\n",
    "        map_width = self._input_data.shape[3] + 2 * self._padding[1]\n",
    "        kernel_height, kernel_width = self._kernel_size\n",
    "        a, b, c, d = dimensions('a b c d')\n",
    "        gridB = Grid(shape=(self._input_data.shape[0], self._input_data.shape[1], map_height, map_width),\\\n",
    "                    dimensions=(a, b, c, d))\n",
    "        B = Function(name='B', grid=gridB, space_order=0)\n",
    "\n",
    "        e, f, g, h = dimensions('e f g h')\n",
    "        gridR = Grid(shape=( self._input_data.shape[0],  self._input_data.shape[1],\\\n",
    "                            (map_height - kernel_height + self._stride[0])\n",
    "                            // self._stride[0],\n",
    "                            (map_width - kernel_width + self._stride[1])\n",
    "                            // self._stride[1]),\n",
    "                     dimensions=(e, f, g, h))\n",
    "        print(gridR)\n",
    "        R = Function(name='R', grid=gridR, space_order=0)\n",
    "        #add padding to start and end of each row\n",
    "        for image in range(self._input_data.shape[0]):\n",
    "            for channel in range(self._input_data.shape[1]):\n",
    "                for i in range(self._padding[0], map_height - self._padding[0]):\n",
    "                    B.data[image, channel, i] = \\\n",
    "                        np.concatenate(([0] * self._padding[1],\n",
    "                                        self._input_data[image, channel, i - self._padding[0]],\n",
    "                                        [0] * self._padding[1]))\n",
    "\n",
    "        self._B = B\n",
    "        return R\n",
    "\n",
    "    def equations(self):\n",
    "        a, b, c, d = self._B.dimensions\n",
    "        kernel_height, kernel_width = self._kernel_size\n",
    "        images = self._input_data.shape[0]\n",
    "        channels = self._input_data.shape[1]\n",
    "        equation_sum = []\n",
    "        for image in range(images):\n",
    "            for channel in range(channels):\n",
    "                rhs = self._function([self._B[image,channel, self._stride[0] * c + i,\n",
    "                                          self._stride[1] * d + j]\n",
    "                                  for i in range(kernel_height)\n",
    "                                  for j in range(kernel_width)])\n",
    "                equation_sum.append(Eq(self._R[image,channel, c, d], rhs))\n",
    "            #equation_sum.append(Eq(self._R[image,0,channel, b, c], rhs))\n",
    "        if self._activation is not None:\n",
    "            rhs = self._activation(rhs)\n",
    "        return equation_sum\n",
    "Sample_obj4 = Subsampling_4d((2,2),batch_image, lambda l: sympy.Max(*l))\n",
    "tup4 = Sample_obj4.execute()\n",
    "tup4[0].apply()\n",
    "tup4[1].shape"
   ]
  },
  {
   "cell_type": "code",
   "execution_count": 5,
   "metadata": {},
   "outputs": [
    {
     "data": {
      "text/plain": [
       "[Eq(R[0, 0, c, d], Max(B[0, 0, c, d], B[0, 0, c, d + 1], B[0, 0, c + 1, d], B[0, 0, c + 1, d + 1])),\n",
       " Eq(R[0, 1, c, d], Max(B[0, 1, c, d], B[0, 1, c, d + 1], B[0, 1, c + 1, d], B[0, 1, c + 1, d + 1])),\n",
       " Eq(R[0, 2, c, d], Max(B[0, 2, c, d], B[0, 2, c, d + 1], B[0, 2, c + 1, d], B[0, 2, c + 1, d + 1])),\n",
       " Eq(R[1, 0, c, d], Max(B[1, 0, c, d], B[1, 0, c, d + 1], B[1, 0, c + 1, d], B[1, 0, c + 1, d + 1])),\n",
       " Eq(R[1, 1, c, d], Max(B[1, 1, c, d], B[1, 1, c, d + 1], B[1, 1, c + 1, d], B[1, 1, c + 1, d + 1])),\n",
       " Eq(R[1, 2, c, d], Max(B[1, 2, c, d], B[1, 2, c, d + 1], B[1, 2, c + 1, d], B[1, 2, c + 1, d + 1]))]"
      ]
     },
     "execution_count": 5,
     "metadata": {},
     "output_type": "execute_result"
    }
   ],
   "source": [
    "Sample_obj4.equations()"
   ]
  },
  {
   "cell_type": "code",
   "execution_count": 7,
   "metadata": {},
   "outputs": [
    {
     "name": "stdout",
     "output_type": "stream",
     "text": [
      "#define _POSIX_C_SOURCE 200809L\n",
      "#include \"stdlib.h\"\n",
      "#include \"math.h\"\n",
      "#include \"sys/time.h\"\n",
      "#include \"xmmintrin.h\"\n",
      "#include \"pmmintrin.h\"\n",
      "#include \"omp.h\"\n",
      "\n",
      "struct dataobj\n",
      "{\n",
      "  void *restrict data;\n",
      "  int * size;\n",
      "  int * npsize;\n",
      "  int * dsize;\n",
      "  int * hsize;\n",
      "  int * hofs;\n",
      "  int * oofs;\n",
      "} ;\n",
      "\n",
      "struct profiler\n",
      "{\n",
      "  double section0;\n",
      "} ;\n",
      "\n",
      "\n",
      "int Kernel(struct dataobj *restrict B_vec, struct dataobj *restrict R_vec, const int c_M, const int c_m, const int d_M, const int d_m, struct profiler * timers)\n",
      "{\n",
      "  float (*restrict B)[B_vec->size[1]][B_vec->size[2]][B_vec->size[3]] __attribute__ ((aligned (64))) = (float (*)[B_vec->size[1]][B_vec->size[2]][B_vec->size[3]]) B_vec->data;\n",
      "  float (*restrict R)[R_vec->size[1]][R_vec->size[2]][R_vec->size[3]] __attribute__ ((aligned (64))) = (float (*)[R_vec->size[1]][R_vec->size[2]][R_vec->size[3]]) R_vec->data;\n",
      "\n",
      "  /* Flush denormal numbers to zero in hardware */\n",
      "  _MM_SET_DENORMALS_ZERO_MODE(_MM_DENORMALS_ZERO_ON);\n",
      "  _MM_SET_FLUSH_ZERO_MODE(_MM_FLUSH_ZERO_ON);\n",
      "  struct timeval start_section0, end_section0;\n",
      "  gettimeofday(&start_section0, NULL);\n",
      "  /* Begin section0 */\n",
      "  for (int c = c_m; c <= c_M; c += 1)\n",
      "  {\n",
      "    for (int d = d_m; d <= d_M; d += 1)\n",
      "    {\n",
      "      R[0][0][c][d] = fmax(B[0][0][c][d], fmax(B[0][0][c][d + 1], fmax(B[0][0][c + 1][d], B[0][0][c + 1][d + 1])));\n",
      "      R[0][1][c][d] = fmax(B[0][1][c][d], fmax(B[0][1][c][d + 1], fmax(B[0][1][c + 1][d], B[0][1][c + 1][d + 1])));\n",
      "      R[0][2][c][d] = fmax(B[0][2][c][d], fmax(B[0][2][c][d + 1], fmax(B[0][2][c + 1][d], B[0][2][c + 1][d + 1])));\n",
      "      R[1][0][c][d] = fmax(B[1][0][c][d], fmax(B[1][0][c][d + 1], fmax(B[1][0][c + 1][d], B[1][0][c + 1][d + 1])));\n",
      "      R[1][1][c][d] = fmax(B[1][1][c][d], fmax(B[1][1][c][d + 1], fmax(B[1][1][c + 1][d], B[1][1][c + 1][d + 1])));\n",
      "      R[1][2][c][d] = fmax(B[1][2][c][d], fmax(B[1][2][c][d + 1], fmax(B[1][2][c + 1][d], B[1][2][c + 1][d + 1])));\n",
      "    }\n",
      "  }\n",
      "  /* End section0 */\n",
      "  gettimeofday(&end_section0, NULL);\n",
      "  timers->section0 += (double)(end_section0.tv_sec-start_section0.tv_sec)+(double)(end_section0.tv_usec-start_section0.tv_usec)/1000000;\n",
      "  return 0;\n",
      "}\n",
      "\n"
     ]
    }
   ],
   "source": [
    "print(tup4[0])"
   ]
  }
 ],
 "metadata": {
  "kernelspec": {
   "display_name": "Python 3",
   "language": "python",
   "name": "python3"
  },
  "language_info": {
   "codemirror_mode": {
    "name": "ipython",
    "version": 3
   },
   "file_extension": ".py",
   "mimetype": "text/x-python",
   "name": "python",
   "nbconvert_exporter": "python",
   "pygments_lexer": "ipython3",
   "version": "3.6.10"
  }
 },
 "nbformat": 4,
 "nbformat_minor": 4
}
