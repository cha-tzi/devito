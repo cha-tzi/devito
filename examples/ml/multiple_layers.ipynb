{
 "cells": [
  {
   "cell_type": "markdown",
   "metadata": {},
   "source": [
    "# Embedding a sequence of CNN layers in one Operator"
   ]
  },
  {
   "cell_type": "markdown",
   "metadata": {},
   "source": [
    "In this example, we will create a simple 2D convolutional neural network (CNN) and execute a forward pass through it using Devito."
   ]
  },
  {
   "cell_type": "markdown",
   "metadata": {},
   "source": [
    "Firstly, let's import all the prerequisites:"
   ]
  },
  {
   "cell_type": "code",
   "execution_count": 1,
   "metadata": {},
   "outputs": [],
   "source": [
    "import devito.ml\n",
    "from devito import Operator\n",
    "from sympy import Max"
   ]
  },
  {
   "cell_type": "markdown",
   "metadata": {},
   "source": [
    "The CNN will have the following layers:\n",
    "\n",
    "1. Max pooling on a 4x4 input with a 2x2 kernel, 1x1 stride, no padding and no bias\n",
    "2. Convolution on a 3x3 input with a 2x2 kernel, 1x1 stride, no padding and no bias\n",
    "3. Flat (this turns a matrix into a vector)\n",
    "4. Full connection on a 4-element vector with a 2x4 weight matrix and softmax as an activation function\n",
    "\n",
    "We'll instruct Devito not to generate any C code at this stage (i.e. declaring layers) by adding `generate_code=False` (this is because every layer is standalone and can be used in isolation, i.e. we can have one `Operator` per layer if we wish)."
   ]
  },
  {
   "cell_type": "code",
   "execution_count": 8,
   "metadata": {},
   "outputs": [],
   "source": [
    "layer1 = devito.ml.Subsampling(kernel_size=(2, 2), input_size=(4,4, 4, 4), function=lambda l: Max(*l),\n",
    "                               generate_code=False)\n",
    "layer2 = devito.ml.Conv(kernel_size=(2, 2, 2), input_size=(3, 3, 3, 3), generate_code=False)\n",
    "layer3 = devito.ml.Flat(input_size=(2, 2, 2, 2), generate_code=False)\n",
    "layer4 = devito.ml.FullyConnectedSoftmax(weight_size=(2, 4), input_size=4, generate_code=False)"
   ]
  },
  {
   "cell_type": "code",
   "execution_count": 13,
   "metadata": {},
   "outputs": [],
   "source": [
    "layerconv = devito.ml.Conv(kernel_size=(2, 2, 2), input_size=(3, 3, 3, 3), generate_code=True)"
   ]
  },
  {
   "cell_type": "code",
   "execution_count": 16,
   "metadata": {},
   "outputs": [
    {
     "data": {
      "text/plain": [
       "[Eq(f27[0, 0, d80, d81], f25[0] + Max(f26[0, 0, d80, d81], f26[0, 0, d80, d81 + 1], f26[0, 0, d80 + 1, d81], f26[0, 0, d80 + 1, d81 + 1])),\n",
       " Eq(f27[0, 1, d80, d81], f25[1] + Max(f26[0, 1, d80, d81], f26[0, 1, d80, d81 + 1], f26[0, 1, d80 + 1, d81], f26[0, 1, d80 + 1, d81 + 1])),\n",
       " Eq(f27[0, 2, d80, d81], f25[2] + Max(f26[0, 2, d80, d81], f26[0, 2, d80, d81 + 1], f26[0, 2, d80 + 1, d81], f26[0, 2, d80 + 1, d81 + 1])),\n",
       " Eq(f27[0, 3, d80, d81], f25[3] + Max(f26[0, 3, d80, d81], f26[0, 3, d80, d81 + 1], f26[0, 3, d80 + 1, d81], f26[0, 3, d80 + 1, d81 + 1])),\n",
       " Eq(f27[1, 0, d80, d81], f25[0] + Max(f26[1, 0, d80, d81], f26[1, 0, d80, d81 + 1], f26[1, 0, d80 + 1, d81], f26[1, 0, d80 + 1, d81 + 1])),\n",
       " Eq(f27[1, 1, d80, d81], f25[1] + Max(f26[1, 1, d80, d81], f26[1, 1, d80, d81 + 1], f26[1, 1, d80 + 1, d81], f26[1, 1, d80 + 1, d81 + 1])),\n",
       " Eq(f27[1, 2, d80, d81], f25[2] + Max(f26[1, 2, d80, d81], f26[1, 2, d80, d81 + 1], f26[1, 2, d80 + 1, d81], f26[1, 2, d80 + 1, d81 + 1])),\n",
       " Eq(f27[1, 3, d80, d81], f25[3] + Max(f26[1, 3, d80, d81], f26[1, 3, d80, d81 + 1], f26[1, 3, d80 + 1, d81], f26[1, 3, d80 + 1, d81 + 1])),\n",
       " Eq(f27[2, 0, d80, d81], f25[0] + Max(f26[2, 0, d80, d81], f26[2, 0, d80, d81 + 1], f26[2, 0, d80 + 1, d81], f26[2, 0, d80 + 1, d81 + 1])),\n",
       " Eq(f27[2, 1, d80, d81], f25[1] + Max(f26[2, 1, d80, d81], f26[2, 1, d80, d81 + 1], f26[2, 1, d80 + 1, d81], f26[2, 1, d80 + 1, d81 + 1])),\n",
       " Eq(f27[2, 2, d80, d81], f25[2] + Max(f26[2, 2, d80, d81], f26[2, 2, d80, d81 + 1], f26[2, 2, d80 + 1, d81], f26[2, 2, d80 + 1, d81 + 1])),\n",
       " Eq(f27[2, 3, d80, d81], f25[3] + Max(f26[2, 3, d80, d81], f26[2, 3, d80, d81 + 1], f26[2, 3, d80 + 1, d81], f26[2, 3, d80 + 1, d81 + 1])),\n",
       " Eq(f27[3, 0, d80, d81], f25[0] + Max(f26[3, 0, d80, d81], f26[3, 0, d80, d81 + 1], f26[3, 0, d80 + 1, d81], f26[3, 0, d80 + 1, d81 + 1])),\n",
       " Eq(f27[3, 1, d80, d81], f25[1] + Max(f26[3, 1, d80, d81], f26[3, 1, d80, d81 + 1], f26[3, 1, d80 + 1, d81], f26[3, 1, d80 + 1, d81 + 1])),\n",
       " Eq(f27[3, 2, d80, d81], f25[2] + Max(f26[3, 2, d80, d81], f26[3, 2, d80, d81 + 1], f26[3, 2, d80 + 1, d81], f26[3, 2, d80 + 1, d81 + 1])),\n",
       " Eq(f27[3, 3, d80, d81], f25[3] + Max(f26[3, 3, d80, d81], f26[3, 3, d80, d81 + 1], f26[3, 3, d80 + 1, d81], f26[3, 3, d80 + 1, d81 + 1]))]"
      ]
     },
     "execution_count": 16,
     "metadata": {},
     "output_type": "execute_result"
    }
   ],
   "source": [
    "layer1.equations()"
   ]
  },
  {
   "cell_type": "code",
   "execution_count": 20,
   "metadata": {},
   "outputs": [
    {
     "ename": "TypeError",
     "evalue": "execute() missing 2 required positional arguments: 'input_data' and 'bias'",
     "output_type": "error",
     "traceback": [
      "\u001b[0;31m---------------------------------------------------------------------------\u001b[0m",
      "\u001b[0;31mTypeError\u001b[0m                                 Traceback (most recent call last)",
      "\u001b[0;32m<ipython-input-20-2fcee09ad89a>\u001b[0m in \u001b[0;36m<module>\u001b[0;34m\u001b[0m\n\u001b[0;32m----> 1\u001b[0;31m \u001b[0mlayer1\u001b[0m\u001b[0;34m.\u001b[0m\u001b[0mexecute\u001b[0m\u001b[0;34m(\u001b[0m\u001b[0;34m)\u001b[0m\u001b[0;34m\u001b[0m\u001b[0;34m\u001b[0m\u001b[0m\n\u001b[0m",
      "\u001b[0;31mTypeError\u001b[0m: execute() missing 2 required positional arguments: 'input_data' and 'bias'"
     ]
    }
   ],
   "source": [
    "layer1.execute()"
   ]
  },
  {
   "cell_type": "markdown",
   "metadata": {},
   "source": [
    "Every layer has an `equations()` method which returns a list of equations that can be supplied to an `Operator` in Devito. The method accepts an `input_function` argument, making it possible to merge equations from different layers into one list forming a chain of layers. We'll use it to create **one** `Operator` running a forward pass through our CNN."
   ]
  },
  {
   "cell_type": "code",
   "execution_count": 9,
   "metadata": {},
   "outputs": [
    {
     "ename": "IndexException",
     "evalue": "Rank mismatch.",
     "output_type": "error",
     "traceback": [
      "\u001b[0;31m---------------------------------------------------------------------------\u001b[0m",
      "\u001b[0;31mIndexException\u001b[0m                            Traceback (most recent call last)",
      "\u001b[0;32m<ipython-input-9-91a1ce2e07ef>\u001b[0m in \u001b[0;36m<module>\u001b[0;34m\u001b[0m\n\u001b[1;32m      1\u001b[0m \u001b[0mequations\u001b[0m \u001b[0;34m=\u001b[0m \u001b[0mlayer1\u001b[0m\u001b[0;34m.\u001b[0m\u001b[0mequations\u001b[0m\u001b[0;34m(\u001b[0m\u001b[0;34m)\u001b[0m \u001b[0;34m+\u001b[0m \u001b[0mlayer2\u001b[0m\u001b[0;34m.\u001b[0m\u001b[0mequations\u001b[0m\u001b[0;34m(\u001b[0m\u001b[0minput_function\u001b[0m\u001b[0;34m=\u001b[0m\u001b[0mlayer1\u001b[0m\u001b[0;34m.\u001b[0m\u001b[0mresult\u001b[0m\u001b[0;34m)\u001b[0m \u001b[0;34m+\u001b[0m\u001b[0;31m \u001b[0m\u001b[0;31m\\\u001b[0m\u001b[0;34m\u001b[0m\u001b[0;34m\u001b[0m\u001b[0m\n\u001b[1;32m      2\u001b[0m             \u001b[0mlayer3\u001b[0m\u001b[0;34m.\u001b[0m\u001b[0mequations\u001b[0m\u001b[0;34m(\u001b[0m\u001b[0minput_function\u001b[0m\u001b[0;34m=\u001b[0m\u001b[0mlayer2\u001b[0m\u001b[0;34m.\u001b[0m\u001b[0mresult\u001b[0m\u001b[0;34m)\u001b[0m \u001b[0;34m+\u001b[0m\u001b[0;31m \u001b[0m\u001b[0;31m\\\u001b[0m\u001b[0;34m\u001b[0m\u001b[0;34m\u001b[0m\u001b[0m\n\u001b[0;32m----> 3\u001b[0;31m             \u001b[0mlayer4\u001b[0m\u001b[0;34m.\u001b[0m\u001b[0mequations\u001b[0m\u001b[0;34m(\u001b[0m\u001b[0minput_function\u001b[0m\u001b[0;34m=\u001b[0m\u001b[0mlayer3\u001b[0m\u001b[0;34m.\u001b[0m\u001b[0mresult\u001b[0m\u001b[0;34m)\u001b[0m\u001b[0;34m\u001b[0m\u001b[0;34m\u001b[0m\u001b[0m\n\u001b[0m\u001b[1;32m      4\u001b[0m \u001b[0mop\u001b[0m \u001b[0;34m=\u001b[0m \u001b[0mOperator\u001b[0m\u001b[0;34m(\u001b[0m\u001b[0mequations\u001b[0m\u001b[0;34m)\u001b[0m\u001b[0;34m\u001b[0m\u001b[0;34m\u001b[0m\u001b[0m\n",
      "\u001b[0;32m/app/devito/ml/layers.py\u001b[0m in \u001b[0;36mequations\u001b[0;34m(self, input_function)\u001b[0m\n\u001b[1;32m    416\u001b[0m \u001b[0;34m\u001b[0m\u001b[0m\n\u001b[1;32m    417\u001b[0m         \u001b[0;32mif\u001b[0m \u001b[0mself\u001b[0m\u001b[0;34m.\u001b[0m\u001b[0m_input_is_vector\u001b[0m\u001b[0;34m:\u001b[0m\u001b[0;34m\u001b[0m\u001b[0;34m\u001b[0m\u001b[0m\n\u001b[0;32m--> 418\u001b[0;31m             \u001b[0;32mreturn\u001b[0m \u001b[0mself\u001b[0m\u001b[0;34m.\u001b[0m\u001b[0m_equations_vector\u001b[0m\u001b[0;34m(\u001b[0m\u001b[0minput_function\u001b[0m\u001b[0;34m)\u001b[0m\u001b[0;34m\u001b[0m\u001b[0;34m\u001b[0m\u001b[0m\n\u001b[0m\u001b[1;32m    419\u001b[0m         \u001b[0;32melse\u001b[0m\u001b[0;34m:\u001b[0m\u001b[0;34m\u001b[0m\u001b[0;34m\u001b[0m\u001b[0m\n\u001b[1;32m    420\u001b[0m             \u001b[0;32mreturn\u001b[0m \u001b[0mself\u001b[0m\u001b[0;34m.\u001b[0m\u001b[0m_equations_matrix\u001b[0m\u001b[0;34m(\u001b[0m\u001b[0minput_function\u001b[0m\u001b[0;34m)\u001b[0m\u001b[0;34m\u001b[0m\u001b[0;34m\u001b[0m\u001b[0m\n",
      "\u001b[0;32m/app/devito/ml/layers.py\u001b[0m in \u001b[0;36m_equations_vector\u001b[0;34m(self, input_function)\u001b[0m\n\u001b[1;32m    423\u001b[0m         \u001b[0mC\u001b[0m \u001b[0;34m=\u001b[0m \u001b[0mConstant\u001b[0m\u001b[0;34m(\u001b[0m\u001b[0mname\u001b[0m\u001b[0;34m=\u001b[0m\u001b[0mself\u001b[0m\u001b[0;34m.\u001b[0m\u001b[0m_name_allocator\u001b[0m\u001b[0;34m(\u001b[0m\u001b[0;34m)\u001b[0m\u001b[0;34m)\u001b[0m\u001b[0;34m\u001b[0m\u001b[0;34m\u001b[0m\u001b[0m\n\u001b[1;32m    424\u001b[0m         \u001b[0ma\u001b[0m\u001b[0;34m,\u001b[0m \u001b[0mb\u001b[0m\u001b[0;34m,\u001b[0m \u001b[0mc\u001b[0m \u001b[0;34m=\u001b[0m \u001b[0mself\u001b[0m\u001b[0;34m.\u001b[0m\u001b[0m_dimensions\u001b[0m\u001b[0;34m\u001b[0m\u001b[0;34m\u001b[0m\u001b[0m\n\u001b[0;32m--> 425\u001b[0;31m         return [Inc(self._T[a], self._K[a, b] * input_function[b]),\n\u001b[0m\u001b[1;32m    426\u001b[0m                 \u001b[0mInc\u001b[0m\u001b[0;34m(\u001b[0m\u001b[0mself\u001b[0m\u001b[0;34m.\u001b[0m\u001b[0m_T\u001b[0m\u001b[0;34m,\u001b[0m \u001b[0mself\u001b[0m\u001b[0;34m.\u001b[0m\u001b[0m_bias\u001b[0m\u001b[0;34m)\u001b[0m\u001b[0;34m,\u001b[0m\u001b[0;34m\u001b[0m\u001b[0;34m\u001b[0m\u001b[0m\n\u001b[1;32m    427\u001b[0m                 \u001b[0mEq\u001b[0m\u001b[0;34m(\u001b[0m\u001b[0mC\u001b[0m\u001b[0;34m,\u001b[0m \u001b[0msum\u001b[0m\u001b[0;34m(\u001b[0m\u001b[0;34m[\u001b[0m\u001b[0mexp\u001b[0m\u001b[0;34m(\u001b[0m\u001b[0mself\u001b[0m\u001b[0;34m.\u001b[0m\u001b[0m_T\u001b[0m\u001b[0;34m[\u001b[0m\u001b[0mi\u001b[0m\u001b[0;34m]\u001b[0m\u001b[0;34m)\u001b[0m \u001b[0;32mfor\u001b[0m \u001b[0mi\u001b[0m \u001b[0;32min\u001b[0m \u001b[0mrange\u001b[0m\u001b[0;34m(\u001b[0m\u001b[0mself\u001b[0m\u001b[0;34m.\u001b[0m\u001b[0m_R\u001b[0m\u001b[0;34m.\u001b[0m\u001b[0mshape\u001b[0m\u001b[0;34m[\u001b[0m\u001b[0;36m0\u001b[0m\u001b[0;34m]\u001b[0m\u001b[0;34m)\u001b[0m\u001b[0;34m]\u001b[0m\u001b[0;34m)\u001b[0m\u001b[0;34m)\u001b[0m\u001b[0;34m,\u001b[0m\u001b[0;34m\u001b[0m\u001b[0;34m\u001b[0m\u001b[0m\n",
      "\u001b[0;32m/app/devito/types/basic.py\u001b[0m in \u001b[0;36m__getitem__\u001b[0;34m(self, index)\u001b[0m\n\u001b[1;32m    966\u001b[0m     \u001b[0;32mdef\u001b[0m \u001b[0m__getitem__\u001b[0m\u001b[0;34m(\u001b[0m\u001b[0mself\u001b[0m\u001b[0;34m,\u001b[0m \u001b[0mindex\u001b[0m\u001b[0;34m)\u001b[0m\u001b[0;34m:\u001b[0m\u001b[0;34m\u001b[0m\u001b[0;34m\u001b[0m\u001b[0m\n\u001b[1;32m    967\u001b[0m         \u001b[0;34m\"\"\"Shortcut for ``self.indexed[index]``.\"\"\"\u001b[0m\u001b[0;34m\u001b[0m\u001b[0;34m\u001b[0m\u001b[0m\n\u001b[0;32m--> 968\u001b[0;31m         \u001b[0;32mreturn\u001b[0m \u001b[0mself\u001b[0m\u001b[0;34m.\u001b[0m\u001b[0mindexed\u001b[0m\u001b[0;34m[\u001b[0m\u001b[0mindex\u001b[0m\u001b[0;34m]\u001b[0m\u001b[0;34m\u001b[0m\u001b[0;34m\u001b[0m\u001b[0m\n\u001b[0m\u001b[1;32m    969\u001b[0m \u001b[0;34m\u001b[0m\u001b[0m\n\u001b[1;32m    970\u001b[0m     \u001b[0;31m# Pickling support\u001b[0m\u001b[0;34m\u001b[0m\u001b[0;34m\u001b[0m\u001b[0;34m\u001b[0m\u001b[0m\n",
      "\u001b[0;32m/app/devito/types/basic.py\u001b[0m in \u001b[0;36m__getitem__\u001b[0;34m(self, indices, **kwargs)\u001b[0m\n\u001b[1;32m   1152\u001b[0m     \u001b[0;32mdef\u001b[0m \u001b[0m__getitem__\u001b[0m\u001b[0;34m(\u001b[0m\u001b[0mself\u001b[0m\u001b[0;34m,\u001b[0m \u001b[0mindices\u001b[0m\u001b[0;34m,\u001b[0m \u001b[0;34m**\u001b[0m\u001b[0mkwargs\u001b[0m\u001b[0;34m)\u001b[0m\u001b[0;34m:\u001b[0m\u001b[0;34m\u001b[0m\u001b[0;34m\u001b[0m\u001b[0m\n\u001b[1;32m   1153\u001b[0m         \u001b[0;34m\"\"\"Produce a types.Indexed, rather than a sympy.Indexed.\"\"\"\u001b[0m\u001b[0;34m\u001b[0m\u001b[0;34m\u001b[0m\u001b[0m\n\u001b[0;32m-> 1154\u001b[0;31m         \u001b[0mindexed\u001b[0m \u001b[0;34m=\u001b[0m \u001b[0msuper\u001b[0m\u001b[0;34m(\u001b[0m\u001b[0mIndexedData\u001b[0m\u001b[0;34m,\u001b[0m \u001b[0mself\u001b[0m\u001b[0;34m)\u001b[0m\u001b[0;34m.\u001b[0m\u001b[0m__getitem__\u001b[0m\u001b[0;34m(\u001b[0m\u001b[0mindices\u001b[0m\u001b[0;34m,\u001b[0m \u001b[0;34m**\u001b[0m\u001b[0mkwargs\u001b[0m\u001b[0;34m)\u001b[0m\u001b[0;34m\u001b[0m\u001b[0;34m\u001b[0m\u001b[0m\n\u001b[0m\u001b[1;32m   1155\u001b[0m         \u001b[0;32mreturn\u001b[0m \u001b[0mIndexed\u001b[0m\u001b[0;34m(\u001b[0m\u001b[0;34m*\u001b[0m\u001b[0mindexed\u001b[0m\u001b[0;34m.\u001b[0m\u001b[0margs\u001b[0m\u001b[0;34m)\u001b[0m\u001b[0;34m\u001b[0m\u001b[0;34m\u001b[0m\u001b[0m\n\u001b[1;32m   1156\u001b[0m \u001b[0;34m\u001b[0m\u001b[0m\n",
      "\u001b[0;32m/venv/lib/python3.6/site-packages/sympy/tensor/indexed.py\u001b[0m in \u001b[0;36m__getitem__\u001b[0;34m(self, indices, **kw_args)\u001b[0m\n\u001b[1;32m    487\u001b[0m         \u001b[0;32melse\u001b[0m\u001b[0;34m:\u001b[0m\u001b[0;34m\u001b[0m\u001b[0;34m\u001b[0m\u001b[0m\n\u001b[1;32m    488\u001b[0m             \u001b[0;32mif\u001b[0m \u001b[0mself\u001b[0m\u001b[0;34m.\u001b[0m\u001b[0mshape\u001b[0m \u001b[0;32mand\u001b[0m \u001b[0mlen\u001b[0m\u001b[0;34m(\u001b[0m\u001b[0mself\u001b[0m\u001b[0;34m.\u001b[0m\u001b[0mshape\u001b[0m\u001b[0;34m)\u001b[0m \u001b[0;34m!=\u001b[0m \u001b[0;36m1\u001b[0m\u001b[0;34m:\u001b[0m\u001b[0;34m\u001b[0m\u001b[0;34m\u001b[0m\u001b[0m\n\u001b[0;32m--> 489\u001b[0;31m                 \u001b[0;32mraise\u001b[0m \u001b[0mIndexException\u001b[0m\u001b[0;34m(\u001b[0m\u001b[0;34m\"Rank mismatch.\"\u001b[0m\u001b[0;34m)\u001b[0m\u001b[0;34m\u001b[0m\u001b[0;34m\u001b[0m\u001b[0m\n\u001b[0m\u001b[1;32m    490\u001b[0m             \u001b[0;32mreturn\u001b[0m \u001b[0mIndexed\u001b[0m\u001b[0;34m(\u001b[0m\u001b[0mself\u001b[0m\u001b[0;34m,\u001b[0m \u001b[0mindices\u001b[0m\u001b[0;34m,\u001b[0m \u001b[0;34m**\u001b[0m\u001b[0mkw_args\u001b[0m\u001b[0;34m)\u001b[0m\u001b[0;34m\u001b[0m\u001b[0;34m\u001b[0m\u001b[0m\n\u001b[1;32m    491\u001b[0m \u001b[0;34m\u001b[0m\u001b[0m\n",
      "\u001b[0;31mIndexException\u001b[0m: Rank mismatch."
     ]
    }
   ],
   "source": [
    "equations = layer1.equations() + layer2.equations(input_function=layer1.result) + \\\n",
    "            layer3.equations(input_function=layer2.result) + \\\n",
    "            layer4.equations(input_function=layer3.result)\n",
    "op = Operator(equations)"
   ]
  },
  {
   "cell_type": "markdown",
   "metadata": {},
   "source": [
    "Now, let's inject sample data into layers by using `input` and `kernel` properties.\n",
    "\n",
    "* `layer1.input` represents input data for the CNN.\n",
    "* `layer2.kernel` represents a convolutional filter.\n",
    "* `layer4.kernel` represents a weight matrix."
   ]
  },
  {
   "cell_type": "code",
   "execution_count": 19,
   "metadata": {},
   "outputs": [],
   "source": [
    "layer1.input.data[:] = [[5, 7, 8, 0],\n",
    "                        [-1, -2, -3, 10],\n",
    "                        [1, 2, 3, 4],\n",
    "                        [11, 12, 9, 9]]\n",
    "layer2.kernel.data[:] = [[1, -1],\n",
    "                         [-1, 1]]\n",
    "layer4.kernel.data[:] = [[1, 1, 1, 0.5],\n",
    "                         [1, 1, 1, 0]]"
   ]
  },
  {
   "cell_type": "markdown",
   "metadata": {},
   "source": [
    "Once all the data are added, we're ready to run the `Operator`."
   ]
  },
  {
   "cell_type": "code",
   "execution_count": 5,
   "metadata": {},
   "outputs": [
    {
     "name": "stderr",
     "output_type": "stream",
     "text": [
      "Operator `Kernel` run in 0.01 s\n"
     ]
    },
    {
     "data": {
      "text/plain": [
       "PerformanceSummary([(PerfKey(name='section0', rank=None),\n",
       "                     PerfEntry(time=1e-06, gflopss=0.0, gpointss=0.0, oi=0.0, ops=0, itershapes=[])),\n",
       "                    (PerfKey(name='section1', rank=None),\n",
       "                     PerfEntry(time=1e-06, gflopss=0.0, gpointss=0.0, oi=0.0, ops=0, itershapes=[])),\n",
       "                    (PerfKey(name='section2', rank=None),\n",
       "                     PerfEntry(time=1e-06, gflopss=0.0, gpointss=0.0, oi=0.0, ops=0, itershapes=[])),\n",
       "                    (PerfKey(name='section3', rank=None),\n",
       "                     PerfEntry(time=2e-06, gflopss=0.0, gpointss=0.0, oi=0.0, ops=0, itershapes=[])),\n",
       "                    (PerfKey(name='section4', rank=None),\n",
       "                     PerfEntry(time=2e-06, gflopss=0.0, gpointss=0.0, oi=0.0, ops=0, itershapes=[]))])"
      ]
     },
     "execution_count": 5,
     "metadata": {},
     "output_type": "execute_result"
    }
   ],
   "source": [
    "op.apply()"
   ]
  },
  {
   "cell_type": "markdown",
   "metadata": {},
   "source": [
    "The results can be obtained by using a `result` property of the final layer."
   ]
  },
  {
   "cell_type": "code",
   "execution_count": 6,
   "metadata": {},
   "outputs": [
    {
     "name": "stdout",
     "output_type": "stream",
     "text": [
      "[0.00669285 0.9933071 ]\n"
     ]
    }
   ],
   "source": [
    "print(layer4.result.data)"
   ]
  },
  {
   "cell_type": "markdown",
   "metadata": {},
   "source": [
    "For reference purposes, here's the C code generated by our `Operator`:"
   ]
  },
  {
   "cell_type": "code",
   "execution_count": 7,
   "metadata": {},
   "outputs": [
    {
     "name": "stdout",
     "output_type": "stream",
     "text": [
      "#define _POSIX_C_SOURCE 200809L\n",
      "#include \"stdlib.h\"\n",
      "#include \"math.h\"\n",
      "#include \"sys/time.h\"\n",
      "#include \"xmmintrin.h\"\n",
      "#include \"pmmintrin.h\"\n",
      "\n",
      "struct dataobj\n",
      "{\n",
      "  void *restrict data;\n",
      "  int * size;\n",
      "  int * npsize;\n",
      "  int * dsize;\n",
      "  int * hsize;\n",
      "  int * hofs;\n",
      "  int * oofs;\n",
      "} ;\n",
      "\n",
      "struct profiler\n",
      "{\n",
      "  double section0;\n",
      "  double section1;\n",
      "  double section2;\n",
      "  double section3;\n",
      "  double section4;\n",
      "} ;\n",
      "\n",
      "\n",
      "int Kernel(const float f0, struct dataobj *restrict f1_vec, struct dataobj *restrict f10_vec, struct dataobj *restrict f12_vec, struct dataobj *restrict f13_vec, struct dataobj *restrict f2_vec, const float f3, struct dataobj *restrict f4_vec, struct dataobj *restrict f6_vec, struct dataobj *restrict f8_vec, const float f9, const int d0_M, const int d0_m, const int d13_M, const int d13_m, const int d14_M, const int d14_m, const int d1_M, const int d1_m, const int d2_M, const int d2_m, const int d3_M, const int d3_m, const int d8_M, const int d8_m, const int d9_M, const int d9_m, struct profiler * timers)\n",
      "{\n",
      "  float (*restrict f1)[f1_vec->size[1]] __attribute__ ((aligned (64))) = (float (*)[f1_vec->size[1]]) f1_vec->data;\n",
      "  float (*restrict f10)[f10_vec->size[1]] __attribute__ ((aligned (64))) = (float (*)[f10_vec->size[1]]) f10_vec->data;\n",
      "  float (*restrict f12) __attribute__ ((aligned (64))) = (float (*)) f12_vec->data;\n",
      "  float (*restrict f13) __attribute__ ((aligned (64))) = (float (*)) f13_vec->data;\n",
      "  float (*restrict f2)[f2_vec->size[1]] __attribute__ ((aligned (64))) = (float (*)[f2_vec->size[1]]) f2_vec->data;\n",
      "  float (*restrict f4)[f4_vec->size[1]] __attribute__ ((aligned (64))) = (float (*)[f4_vec->size[1]]) f4_vec->data;\n",
      "  float (*restrict f6)[f6_vec->size[1]] __attribute__ ((aligned (64))) = (float (*)[f6_vec->size[1]]) f6_vec->data;\n",
      "  float (*restrict f8) __attribute__ ((aligned (64))) = (float (*)) f8_vec->data;\n",
      "\n",
      "  /* Flush denormal numbers to zero in hardware */\n",
      "  _MM_SET_DENORMALS_ZERO_MODE(_MM_DENORMALS_ZERO_ON);\n",
      "  _MM_SET_FLUSH_ZERO_MODE(_MM_FLUSH_ZERO_ON);\n",
      "  struct timeval start_section0, end_section0;\n",
      "  gettimeofday(&start_section0, NULL);\n",
      "  /* Begin section0 */\n",
      "  for (int d0 = d0_m; d0 <= d0_M; d0 += 1)\n",
      "  {\n",
      "    #pragma omp simd aligned(f1,f2:32)\n",
      "    for (int d1 = d1_m; d1 <= d1_M; d1 += 1)\n",
      "    {\n",
      "      f2[d0][d1] = f0 + fmax(f1[d0][d1], fmax(f1[d0][d1 + 1], fmax(f1[d0 + 1][d1], f1[d0 + 1][d1 + 1])));\n",
      "    }\n",
      "  }\n",
      "  /* End section0 */\n",
      "  gettimeofday(&end_section0, NULL);\n",
      "  timers->section0 += (double)(end_section0.tv_sec-start_section0.tv_sec)+(double)(end_section0.tv_usec-start_section0.tv_usec)/1000000;\n",
      "  struct timeval start_section1, end_section1;\n",
      "  gettimeofday(&start_section1, NULL);\n",
      "  /* Begin section1 */\n",
      "  for (int d2 = d2_m; d2 <= d2_M; d2 += 1)\n",
      "  {\n",
      "    #pragma omp simd aligned(f2,f4,f6:32)\n",
      "    for (int d3 = d3_m; d3 <= d3_M; d3 += 1)\n",
      "    {\n",
      "      f6[d2][d3] = f3 + f2[d2][d3]*f4[0][0] + f2[d2][d3 + 1]*f4[0][1] + f2[d2 + 1][d3]*f4[1][0] + f2[d2 + 1][d3 + 1]*f4[1][1];\n",
      "    }\n",
      "  }\n",
      "  /* End section1 */\n",
      "  gettimeofday(&end_section1, NULL);\n",
      "  timers->section1 += (double)(end_section1.tv_sec-start_section1.tv_sec)+(double)(end_section1.tv_usec-start_section1.tv_usec)/1000000;\n",
      "  struct timeval start_section2, end_section2;\n",
      "  gettimeofday(&start_section2, NULL);\n",
      "  /* Begin section2 */\n",
      "  for (int d8 = d8_m; d8 <= d8_M; d8 += 1)\n",
      "  {\n",
      "    #pragma omp simd aligned(f6,f8:32)\n",
      "    for (int d9 = d9_m; d9 <= d9_M; d9 += 1)\n",
      "    {\n",
      "      f8[2*d8 + d9] = f6[d8][d9];\n",
      "    }\n",
      "  }\n",
      "  /* End section2 */\n",
      "  gettimeofday(&end_section2, NULL);\n",
      "  timers->section2 += (double)(end_section2.tv_sec-start_section2.tv_sec)+(double)(end_section2.tv_usec-start_section2.tv_usec)/1000000;\n",
      "  struct timeval start_section3, end_section3;\n",
      "  gettimeofday(&start_section3, NULL);\n",
      "  /* Begin section3 */\n",
      "  for (int d13 = d13_m; d13 <= d13_M; d13 += 1)\n",
      "  {\n",
      "    for (int d14 = d14_m; d14 <= d14_M; d14 += 1)\n",
      "    {\n",
      "      float r0 = f8[d14]*f10[d13][d14];\n",
      "      f13[d13] += r0;\n",
      "    }\n",
      "    f13[d13] += f9;\n",
      "  }\n",
      "  /* End section3 */\n",
      "  gettimeofday(&end_section3, NULL);\n",
      "  timers->section3 += (double)(end_section3.tv_sec-start_section3.tv_sec)+(double)(end_section3.tv_usec-start_section3.tv_usec)/1000000;\n",
      "  float f14 = exp(f13[0]) + exp(f13[1]);\n",
      "  struct timeval start_section4, end_section4;\n",
      "  gettimeofday(&start_section4, NULL);\n",
      "  /* Begin section4 */\n",
      "  for (int d13 = d13_m; d13 <= d13_M; d13 += 1)\n",
      "  {\n",
      "    f12[d13] = exp(f13[d13])/f14;\n",
      "  }\n",
      "  /* End section4 */\n",
      "  gettimeofday(&end_section4, NULL);\n",
      "  timers->section4 += (double)(end_section4.tv_sec-start_section4.tv_sec)+(double)(end_section4.tv_usec-start_section4.tv_usec)/1000000;\n",
      "  return 0;\n",
      "}\n",
      "\n"
     ]
    }
   ],
   "source": [
    "print(op)"
   ]
  }
 ],
 "metadata": {
  "kernelspec": {
   "display_name": "Python 3",
   "language": "python",
   "name": "python3"
  },
  "language_info": {
   "codemirror_mode": {
    "name": "ipython",
    "version": 3
   },
   "file_extension": ".py",
   "mimetype": "text/x-python",
   "name": "python",
   "nbconvert_exporter": "python",
   "pygments_lexer": "ipython3",
   "version": "3.6.10"
  }
 },
 "nbformat": 4,
 "nbformat_minor": 4
}
