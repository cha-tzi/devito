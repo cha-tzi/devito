{
 "cells": [
  {
   "cell_type": "markdown",
   "metadata": {},
   "source": [
    "# Embedding a sequence of CNN layers in one Operator"
   ]
  },
  {
   "cell_type": "markdown",
   "metadata": {},
   "source": [
    "In this example, we will create a simple 2D convolutional neural network (CNN) and execute a forward pass through it using Devito."
   ]
  },
  {
   "cell_type": "markdown",
   "metadata": {},
   "source": [
    "Firstly, let's import all the prerequisites:"
   ]
  },
  {
   "cell_type": "code",
   "execution_count": 1,
   "metadata": {},
   "outputs": [],
   "source": [
    "import devito.ml\n",
    "from devito import Operator\n",
    "from sympy import Max"
   ]
  },
  {
   "cell_type": "markdown",
   "metadata": {},
   "source": [
    "The CNN will have the following layers:\n",
    "\n",
    "1. Max pooling on a 4x4 input with a 2x2 kernel, 1x1 stride, no padding and no bias\n",
    "2. Convolution on a 3x3 input with a 2x2 kernel, 1x1 stride, no padding and no bias\n",
    "3. Flat (this turns a matrix into a vector)\n",
    "4. Full connection on a 4-element vector with a 2x4 weight matrix and softmax as an activation function\n",
    "\n",
    "We'll instruct Devito not to generate any C code at this stage (i.e. declaring layers) by adding `generate_code=False` (this is because every layer is standalone and can be used in isolation, i.e. we can have one `Operator` per layer if we wish)."
   ]
  },
  {
   "cell_type": "code",
   "execution_count": 2,
   "metadata": {},
   "outputs": [
    {
     "name": "stderr",
     "output_type": "stream",
     "text": [
      "/home/maksymilian/Desktop/UROP/devito/devito/types/grid.py:206: RuntimeWarning: divide by zero encountered in true_divide\n",
      "  spacing = (np.array(self.extent) / (np.array(self.shape) - 1)).astype(self.dtype)\n"
     ]
    }
   ],
   "source": [
    "layer1 = devito.ml.Subsampling(kernel_size=(2, 2), input_size=(1, 1, 4, 4), function=lambda l: Max(*l),\n",
    "                               generate_code=False)\n",
    "layer2 = devito.ml.Conv(kernel_size=(1, 2, 2), input_size=(1, 1, 3, 3), generate_code=False)\n",
    "layer3 = devito.ml.Flat(input_size=(1, 1, 2, 2), generate_code=False)\n",
    "layer4 = devito.ml.FullyConnectedSoftmax(weight_size=(2, 4), input_size=(4, 1), generate_code=False)"
   ]
  },
  {
   "cell_type": "markdown",
   "metadata": {},
   "source": [
    "Every layer has an `equations()` method which returns a list of equations that can be supplied to an `Operator` in Devito. The method accepts an `input_function` argument, making it possible to merge equations from different layers into one list forming a chain of layers. We'll use it to create **one** `Operator` running a forward pass through our CNN."
   ]
  },
  {
   "cell_type": "code",
   "execution_count": 3,
   "metadata": {},
   "outputs": [],
   "source": [
    "equations = layer1.equations() + layer2.equations(input_function=layer1.result) + \\\n",
    "            layer3.equations(input_function=layer2.result) + \\\n",
    "            layer4.equations(input_function=layer3.result)\n",
    "op = Operator(equations)"
   ]
  },
  {
   "cell_type": "markdown",
   "metadata": {},
   "source": [
    "Now, let's inject sample data into layers by using `input` and `kernel` properties.\n",
    "\n",
    "* `layer1.input` represents input data for the CNN.\n",
    "* `layer2.kernel` represents a convolutional filter.\n",
    "* `layer4.kernel` represents a weight matrix."
   ]
  },
  {
   "cell_type": "code",
   "execution_count": 4,
   "metadata": {},
   "outputs": [],
   "source": [
    "layer1.input.data[:] = [[[[5, 7, 8, 0],\n",
    "                        [-1, -2, -3, 10],\n",
    "                        [1, 2, 3, 4],\n",
    "                        [11, 12, 9, 9]]]]\n",
    "layer2.kernel.data[:] = [[[1, -1],\n",
    "                         [-1, 1]]]\n",
    "layer4.kernel.data[:] = [[1, 1, 1, 0.5],\n",
    "                         [1, 1, 1, 0]]"
   ]
  },
  {
   "cell_type": "markdown",
   "metadata": {},
   "source": [
    "Once all the data are added, we're ready to run the `Operator`."
   ]
  },
  {
   "cell_type": "code",
   "execution_count": 5,
   "metadata": {},
   "outputs": [
    {
     "name": "stderr",
     "output_type": "stream",
     "text": [
      "Operator `Kernel` run in 0.01 s\n"
     ]
    },
    {
     "data": {
      "text/plain": [
       "PerformanceSummary([(PerfKey(name='section0', rank=None),\n",
       "                     PerfEntry(time=2e-06, gflopss=0.0, gpointss=0.0, oi=0.0, ops=0, itershapes=[])),\n",
       "                    (PerfKey(name='section1', rank=None),\n",
       "                     PerfEntry(time=2e-06, gflopss=0.0, gpointss=0.0, oi=0.0, ops=0, itershapes=[])),\n",
       "                    (PerfKey(name='section2', rank=None),\n",
       "                     PerfEntry(time=1e-06, gflopss=0.0, gpointss=0.0, oi=0.0, ops=0, itershapes=[])),\n",
       "                    (PerfKey(name='section3', rank=None),\n",
       "                     PerfEntry(time=2e-06, gflopss=0.0, gpointss=0.0, oi=0.0, ops=0, itershapes=[])),\n",
       "                    (PerfKey(name='section4', rank=None),\n",
       "                     PerfEntry(time=1e-06, gflopss=0.0, gpointss=0.0, oi=0.0, ops=0, itershapes=[])),\n",
       "                    (PerfKey(name='section5', rank=None),\n",
       "                     PerfEntry(time=4e-06, gflopss=0.0, gpointss=0.0, oi=0.0, ops=0, itershapes=[]))])"
      ]
     },
     "execution_count": 5,
     "metadata": {},
     "output_type": "execute_result"
    }
   ],
   "source": [
    "op.apply()"
   ]
  },
  {
   "cell_type": "markdown",
   "metadata": {},
   "source": [
    "The results can be obtained by using a `result` property of the final layer."
   ]
  },
  {
   "cell_type": "code",
   "execution_count": 6,
   "metadata": {},
   "outputs": [
    {
     "name": "stdout",
     "output_type": "stream",
     "text": [
      "[[0.00669285]\n",
      " [0.9933071 ]]\n"
     ]
    }
   ],
   "source": [
    "print(layer4.result.data)"
   ]
  },
  {
   "cell_type": "markdown",
   "metadata": {},
   "source": [
    "For reference purposes, here's the C code generated by our `Operator`:"
   ]
  },
  {
   "cell_type": "code",
   "execution_count": 7,
   "metadata": {},
   "outputs": [
    {
     "name": "stdout",
     "output_type": "stream",
     "text": [
      "#define _POSIX_C_SOURCE 200809L\n",
      "#include \"stdlib.h\"\n",
      "#include \"math.h\"\n",
      "#include \"sys/time.h\"\n",
      "#include \"xmmintrin.h\"\n",
      "#include \"pmmintrin.h\"\n",
      "\n",
      "struct dataobj\n",
      "{\n",
      "  void *restrict data;\n",
      "  int * size;\n",
      "  int * npsize;\n",
      "  int * dsize;\n",
      "  int * hsize;\n",
      "  int * hofs;\n",
      "  int * oofs;\n",
      "} ;\n",
      "\n",
      "struct profiler\n",
      "{\n",
      "  double section0;\n",
      "  double section1;\n",
      "  double section2;\n",
      "  double section3;\n",
      "  double section4;\n",
      "  double section5;\n",
      "} ;\n",
      "\n",
      "\n",
      "int Kernel(struct dataobj *restrict f0_vec, struct dataobj *restrict f1_vec, struct dataobj *restrict f10_vec, struct dataobj *restrict f12_vec, struct dataobj *restrict f13_vec, struct dataobj *restrict f14_vec, struct dataobj *restrict f2_vec, struct dataobj *restrict f3_vec, struct dataobj *restrict f4_vec, struct dataobj *restrict f6_vec, struct dataobj *restrict f8_vec, struct dataobj *restrict f9_vec, const int d10_M, const int d10_m, const int d11_M, const int d11_m, const int d18_M, const int d18_m, const int d19_M, const int d19_m, const int d20_M, const int d20_m, const int d21_M, const int d21_m, const int d28_M, const int d28_m, const int d29_M, const int d29_m, const int d30_M, const int d30_m, const int d31_M, const int d31_m, const int d32_M, const int d32_m, const int d5_M, const int d5_m, const int d6_M, const int d6_m, const int d7_M, const int d7_m, const int d8_M, const int d8_m, struct profiler * timers)\n",
      "{\n",
      "  float (*restrict f0) __attribute__ ((aligned (64))) = (float (*)) f0_vec->data;\n",
      "  float (*restrict f1)[f1_vec->size[1]][f1_vec->size[2]][f1_vec->size[3]] __attribute__ ((aligned (64))) = (float (*)[f1_vec->size[1]][f1_vec->size[2]][f1_vec->size[3]]) f1_vec->data;\n",
      "  float (*restrict f10)[f10_vec->size[1]] __attribute__ ((aligned (64))) = (float (*)[f10_vec->size[1]]) f10_vec->data;\n",
      "  float (*restrict f12)[f12_vec->size[1]] __attribute__ ((aligned (64))) = (float (*)[f12_vec->size[1]]) f12_vec->data;\n",
      "  float (*restrict f13)[f13_vec->size[1]] __attribute__ ((aligned (64))) = (float (*)[f13_vec->size[1]]) f13_vec->data;\n",
      "  float (*restrict f14) __attribute__ ((aligned (64))) = (float (*)) f14_vec->data;\n",
      "  float (*restrict f2)[f2_vec->size[1]][f2_vec->size[2]][f2_vec->size[3]] __attribute__ ((aligned (64))) = (float (*)[f2_vec->size[1]][f2_vec->size[2]][f2_vec->size[3]]) f2_vec->data;\n",
      "  float (*restrict f3) __attribute__ ((aligned (64))) = (float (*)) f3_vec->data;\n",
      "  float (*restrict f4)[f4_vec->size[1]][f4_vec->size[2]][f4_vec->size[3]] __attribute__ ((aligned (64))) = (float (*)[f4_vec->size[1]][f4_vec->size[2]][f4_vec->size[3]]) f4_vec->data;\n",
      "  float (*restrict f6)[f6_vec->size[1]][f6_vec->size[2]][f6_vec->size[3]] __attribute__ ((aligned (64))) = (float (*)[f6_vec->size[1]][f6_vec->size[2]][f6_vec->size[3]]) f6_vec->data;\n",
      "  float (*restrict f8)[f8_vec->size[1]] __attribute__ ((aligned (64))) = (float (*)[f8_vec->size[1]]) f8_vec->data;\n",
      "  float (*restrict f9) __attribute__ ((aligned (64))) = (float (*)) f9_vec->data;\n",
      "\n",
      "  /* Flush denormal numbers to zero in hardware */\n",
      "  _MM_SET_DENORMALS_ZERO_MODE(_MM_DENORMALS_ZERO_ON);\n",
      "  _MM_SET_FLUSH_ZERO_MODE(_MM_FLUSH_ZERO_ON);\n",
      "  struct timeval start_section0, end_section0;\n",
      "  gettimeofday(&start_section0, NULL);\n",
      "  /* Begin section0 */\n",
      "  for (int d5 = d5_m; d5 <= d5_M; d5 += 1)\n",
      "  {\n",
      "    for (int d6 = d6_m; d6 <= d6_M; d6 += 1)\n",
      "    {\n",
      "      for (int d7 = d7_m; d7 <= d7_M; d7 += 1)\n",
      "      {\n",
      "        #pragma omp simd aligned(f0,f1,f2:32)\n",
      "        for (int d8 = d8_m; d8 <= d8_M; d8 += 1)\n",
      "        {\n",
      "          f2[d5][d6][d7][d8] = f0[d6] + fmax(f1[d5][d6][d7][d8], fmax(f1[d5][d6][d7][d8 + 1], fmax(f1[d5][d6][d7 + 1][d8], f1[d5][d6][d7 + 1][d8 + 1])));\n",
      "        }\n",
      "      }\n",
      "    }\n",
      "  }\n",
      "  /* End section0 */\n",
      "  gettimeofday(&end_section0, NULL);\n",
      "  timers->section0 += (double)(end_section0.tv_sec-start_section0.tv_sec)+(double)(end_section0.tv_usec-start_section0.tv_usec)/1000000;\n",
      "  struct timeval start_section1, end_section1;\n",
      "  gettimeofday(&start_section1, NULL);\n",
      "  /* Begin section1 */\n",
      "  for (int d18 = d18_m; d18 <= d18_M; d18 += 1)\n",
      "  {\n",
      "    for (int d10 = d10_m; d10 <= d10_M; d10 += 1)\n",
      "    {\n",
      "      for (int d11 = d11_m; d11 <= d11_M; d11 += 1)\n",
      "      {\n",
      "        for (int d20 = d20_m; d20 <= d20_M; d20 += 1)\n",
      "        {\n",
      "          for (int d21 = d21_m; d21 <= d21_M; d21 += 1)\n",
      "          {\n",
      "            float r0 = f2[d18][d11][d20][d21]*f4[d10][d11][0][0] + f2[d18][d11][d20][d21 + 1]*f4[d10][d11][0][1] + f2[d18][d11][d20 + 1][d21]*f4[d10][d11][1][0] + f2[d18][d11][d20 + 1][d21 + 1]*f4[d10][d11][1][1];\n",
      "            f6[d18][d10][d20][d21] += r0;\n",
      "          }\n",
      "        }\n",
      "      }\n",
      "      for (int d20 = d20_m; d20 <= d20_M; d20 += 1)\n",
      "      {\n",
      "        for (int d21 = d21_m; d21 <= d21_M; d21 += 1)\n",
      "        {\n",
      "          float r1 = f3[d10];\n",
      "          f6[d18][d10][d20][d21] += r1;\n",
      "        }\n",
      "      }\n",
      "    }\n",
      "  }\n",
      "  /* End section1 */\n",
      "  gettimeofday(&end_section1, NULL);\n",
      "  timers->section1 += (double)(end_section1.tv_sec-start_section1.tv_sec)+(double)(end_section1.tv_usec-start_section1.tv_usec)/1000000;\n",
      "  struct timeval start_section2, end_section2;\n",
      "  gettimeofday(&start_section2, NULL);\n",
      "  /* Begin section2 */\n",
      "  for (int d19 = d19_m; d19 <= d19_M; d19 += 1)\n",
      "  {\n",
      "    for (int d20 = d20_m; d20 <= d20_M; d20 += 1)\n",
      "    {\n",
      "      #pragma omp simd aligned(f6,f8:32)\n",
      "      for (int d21 = d21_m; d21 <= d21_M; d21 += 1)\n",
      "      {\n",
      "        f8[4*d19 + 2*d20 + d21][0] = f6[0][d19][d20][d21];\n",
      "      }\n",
      "    }\n",
      "  }\n",
      "  /* End section2 */\n",
      "  gettimeofday(&end_section2, NULL);\n",
      "  timers->section2 += (double)(end_section2.tv_sec-start_section2.tv_sec)+(double)(end_section2.tv_usec-start_section2.tv_usec)/1000000;\n",
      "  struct timeval start_section3, end_section3;\n",
      "  gettimeofday(&start_section3, NULL);\n",
      "  /* Begin section3 */\n",
      "  for (int d29 = d29_m; d29 <= d29_M; d29 += 1)\n",
      "  {\n",
      "    for (int d30 = d30_m; d30 <= d30_M; d30 += 1)\n",
      "    {\n",
      "      #pragma omp simd aligned(f10,f13,f8:32)\n",
      "      for (int d31 = d31_m; d31 <= d31_M; d31 += 1)\n",
      "      {\n",
      "        float r2 = f10[d29][d30]*f8[d30][d31];\n",
      "        f13[d29][d31] += r2;\n",
      "      }\n",
      "    }\n",
      "    for (int d28 = d28_m; d28 <= d28_M; d28 += 1)\n",
      "    {\n",
      "      #pragma omp simd aligned(f13,f9:32)\n",
      "      for (int d31 = d31_m; d31 <= d31_M; d31 += 1)\n",
      "      {\n",
      "        f13[d29][d31] += f9[d28];\n",
      "      }\n",
      "    }\n",
      "  }\n",
      "  /* End section3 */\n",
      "  gettimeofday(&end_section3, NULL);\n",
      "  timers->section3 += (double)(end_section3.tv_sec-start_section3.tv_sec)+(double)(end_section3.tv_usec-start_section3.tv_usec)/1000000;\n",
      "  struct timeval start_section4, end_section4;\n",
      "  gettimeofday(&start_section4, NULL);\n",
      "  /* Begin section4 */\n",
      "  for (int d32 = d32_m; d32 <= d32_M; d32 += 1)\n",
      "  {\n",
      "    f14[d32] = exp(f13[0][d32]) + exp(f13[1][d32]);\n",
      "  }\n",
      "  /* End section4 */\n",
      "  gettimeofday(&end_section4, NULL);\n",
      "  timers->section4 += (double)(end_section4.tv_sec-start_section4.tv_sec)+(double)(end_section4.tv_usec-start_section4.tv_usec)/1000000;\n",
      "  struct timeval start_section5, end_section5;\n",
      "  gettimeofday(&start_section5, NULL);\n",
      "  /* Begin section5 */\n",
      "  for (int d29 = d29_m; d29 <= d29_M; d29 += 1)\n",
      "  {\n",
      "    #pragma omp simd aligned(f12,f13,f14:32)\n",
      "    for (int d30 = d30_m; d30 <= d30_M; d30 += 1)\n",
      "    {\n",
      "      f12[d29][d30] = exp(f13[d29][d30])/f14[d30];\n",
      "    }\n",
      "  }\n",
      "  /* End section5 */\n",
      "  gettimeofday(&end_section5, NULL);\n",
      "  timers->section5 += (double)(end_section5.tv_sec-start_section5.tv_sec)+(double)(end_section5.tv_usec-start_section5.tv_usec)/1000000;\n",
      "  return 0;\n",
      "}\n",
      "\n"
     ]
    }
   ],
   "source": [
    "print(op)"
   ]
  }
 ],
 "metadata": {
  "kernelspec": {
   "display_name": "Python 3",
   "language": "python",
   "name": "python3"
  },
  "language_info": {
   "codemirror_mode": {
    "name": "ipython",
    "version": 3
   },
   "file_extension": ".py",
   "mimetype": "text/x-python",
   "name": "python",
   "nbconvert_exporter": "python",
   "pygments_lexer": "ipython3",
   "version": "3.8.3"
  }
 },
 "nbformat": 4,
 "nbformat_minor": 4
}
