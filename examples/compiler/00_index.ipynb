{
 "cells": [
  {
   "cell_type": "markdown",
   "metadata": {},
   "source": [
    "# The Devito's Operator \n",
    "\n",
    "In Devito, an `Operator` carries out three fundamental tasks: generation of low-level code, JIT compilation, and execution. Overall, the lowering process performed by an `Operator` – from high-level equations to dynamically compiled and executable code – consists of multiple compiler passes, summarized in the Figure bellow. \n",
    "\n",
    "![Compiler Stages](https://i.ibb.co/dKjsZ72/compiler-stages.png)\n",
    "\n",
    "The following series of notebooks will expose key aspects of those compilation stages in a hands-on fashion. We will be exploring the heart of the `Operator` class, which can be found at `devito/operator.py`.\n",
    "\n",
    "The examples and exercices shown here are mostly taken either from tests found in the folder `devito/tests`, or from the documentation itself.\n",
    "\n",
    "## Outline\n",
    "- 01) Lowering\n",
    "    - Indexification\n",
    "    - Substitution\n",
    "- 02) Data Regions\n",
    "- 03) IET-a\n",
    "- 04) IET-b\n",
    "\n",
    "### References\n",
    "\n",
    "F. Luporini, M. Lange, M. Loubotin, N. Kukreja, J. Huckelheim, C. Yount, P. Witte, P. Kelly, G. Gorman, F. Herrmann. _Architecture and Performance of Devito, A System for Automated Stencil Computation_. Submitted to SIAM Journal on Scientific Computing, 2018. [arXiv:1807.03032]\n",
    "\n"
   ]
  }
 ],
 "metadata": {
  "kernelspec": {
   "display_name": "Python 3",
   "language": "python",
   "name": "python3"
  },
  "language_info": {
   "codemirror_mode": {
    "name": "ipython",
    "version": 3
   },
   "file_extension": ".py",
   "mimetype": "text/x-python",
   "name": "python",
   "nbconvert_exporter": "python",
   "pygments_lexer": "ipython3",
   "version": "3.6.8"
  }
 },
 "nbformat": 4,
 "nbformat_minor": 2
}
