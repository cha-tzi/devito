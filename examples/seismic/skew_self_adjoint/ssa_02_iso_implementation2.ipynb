{
 "cells": [
  {
   "cell_type": "markdown",
   "metadata": {},
   "source": [
    "# Implementation of a Devito skew self adjoint variable density visco- acoustic isotropic modeling operator <br>-- Linearized Ops --\n",
    "\n",
    "## This operator is contributed by Chevron Energy Technology Company (2020)\n",
    "\n",
    "This operator is based on simplfications of the systems presented in:\n",
    "<br>**Self-adjoint, energy-conserving second-order pseudoacoustic systems for VTI and TTI media for reverse time migration and full-waveform inversion** (2016)\n",
    "<br>Kenneth Bube, John Washbourne, Raymond Ergas, and Tamas Nemeth\n",
    "<br>SEG Technical Program Expanded Abstracts\n",
    "<br>https://library.seg.org/doi/10.1190/segam2016-13878451.1"
   ]
  },
  {
   "cell_type": "markdown",
   "metadata": {},
   "source": [
    "## Introduction \n",
    "\n",
    "The goal of this tutorial set is to generate and prove correctness of modeling and inversion capability in Devito for variable density visco- acoustics using an energy conserving form of the wave equation. We describe how the linearization of the energy conserving *skew self adjoint* system with respect to modeling parameters allows using the same modeling system for all nonlinear and linearized forward and adjoint finite difference evolutions. \n",
    "\n",
    "This notebook implements the linearized (Jacobian) ```forward``` and ```adjoint``` modeling operations and is the second in a set of 3, beginning with a notebook that implements the nonlinear ops ([ssa_01_iso_implementation1.ipynb](ssa_01_iso_implementation1.ipynb)), and finishing with a notebook that tests the correctness of the implemented operators ([ssa_03_iso_correctness.ipynb](ssa_03_iso_correctness.ipynb)). Note there are similar notebooks implementing and testing operators for VTI and TTI anisotropy.\n",
    "\n",
    "Please review the previous tutorial [ssa_01_iso_implementation1.ipynb](ssa_01_iso_implementation1.ipynb) before this one. \n",
    "\n",
    "## Outline \n",
    "1. Define symbols [[link]](#ln_symbols) \n",
    "2. The linearization [[link]](#ln_linearization) \n",
    "3. Create the Devito grid and model fields [[link]](#ln_grid_and_model) \n",
    "4. Implement the linearized forward operator [[link]](#ln_linearized_forward) \n",
    "5. Exercise the linearized forward operator [[link]](#ln_linearized_forward_run) \n",
    "6. Implement the linearized adjoint operator [[link]](#ln_linearized_adjoint) \n",
    "7. Exercise the linearized adjoint operator [[link]](#ln_linearized_adjoint_run) "
   ]
  },
  {
   "cell_type": "markdown",
   "metadata": {},
   "source": [
    "<a id=\"ln_symbols\"></a>\n",
    "## Table of symbols\n",
    "\n",
    "| Symbol &nbsp; &nbsp; &nbsp; &nbsp; &nbsp; | Description  | Dimensionality | \n",
    "|:---|:---|:---|\n",
    "| $\\omega_c = 2 \\pi f$ | center angular frequency | constant |\n",
    "| $v(x,y,z)$   | Total P wave velocity ($v_0+\\delta v$) | function of space |\n",
    "| $v_0(x,y,z)$   | Reference P wave velocity    | function of space |\n",
    "| $\\delta v(x,y,z)$   | Perturbation to P wave velocity    | function of space |\n",
    "| $b(x,y,z)$   | buoyancy $(1 / \\rho)$ | function of space |\n",
    "| $Q(x,y,z)$   | Attenuation at frequency $\\omega_c$ | function of space |\n",
    "| $P(t,x,y,z)$ | Total pressure wavefield ($P_0+\\delta P$)| function of time and space |\n",
    "| $P_0(t,x,y,z)$ | Reference pressure wavefield | function of time and space |\n",
    "| $\\delta P(t,x,y,z)$ | Perturbation to pressure wavefield | function of time and space |\n",
    "| $s(t,x,y,z)$ | Source term        | function of time, localized in space |\n",
    "| $\\overrightarrow{\\partial_x},\\overrightarrow{\\partial_y},\\overrightarrow{\\partial_z}$ | + shifted first derivative wrt $x,y,z$ | shifted 1/2 cell forward in space |\n",
    "| $\\overleftarrow{\\partial_x},\\overleftarrow{\\partial_y},\\overleftarrow{\\partial_z}$ | - shifted first derivative wrt $x,y,z$ | shifted 1/2 cell backward in space |"
   ]
  },
  {
   "cell_type": "markdown",
   "metadata": {},
   "source": [
    "<a id=\"ln_linearization\"></a>\n",
    "## The linearization\n",
    "\n",
    "The SSA wave equation as introduced in the previous notebook:\n",
    "\n",
    "$$\n",
    "\\frac{b}{v^2} \\left( \\frac{\\omega_c}{Q}\\overleftarrow{\\partial_t}P + \\partial_{tt} P \\right) =\n",
    "    \\overleftarrow{\\partial_x}\\left(b\\ \\overrightarrow{\\partial_x} P \\right) +\n",
    "    \\overleftarrow{\\partial_y}\\left(b\\ \\overrightarrow{\\partial_y} P \\right) +\n",
    "    \\overleftarrow{\\partial_z}\\left(b\\ \\overrightarrow{\\partial_z} P \\right) + s \n",
    "$$\n",
    "\n",
    "To simplify the treatment below we introduce the operator $L_t(\\cdot)$, which accounts for the time derivatives inside the parentheses on the left hand side of the wave equation.\n",
    "\n",
    "$$\n",
    "L_t(\\cdot) \\equiv \\frac{\\omega_c}{Q} \\overleftarrow{\\partial_t}(\\cdot) + \\partial_{tt}(\\cdot)\n",
    "$$\n",
    "\n",
    "We re-write the wave equation using this notation.\n",
    "\n",
    "$$\n",
    "\\frac{b}{v^2} L_t(P) =\n",
    "    \\overleftarrow{\\partial_x}\\left(b\\ \\overrightarrow{\\partial_x} P \\right) +\n",
    "    \\overleftarrow{\\partial_y}\\left(b\\ \\overrightarrow{\\partial_y} P \\right) +\n",
    "    \\overleftarrow{\\partial_z}\\left(b\\ \\overrightarrow{\\partial_z} P \\right) + s \n",
    "$$\n",
    "\n",
    "To linearize we treat the model parameters and the pressure wavefield as the sum of reference and perturbation states. \n",
    "\n",
    "$$\n",
    "\\begin{aligned}\n",
    "P(t) &= P_0(t) + \\delta P(t)\\\\[5pt]\n",
    "m &= m_0 + \\delta m\n",
    "\\end{aligned}\n",
    "$$\n",
    "\n",
    "Note that *model parameters* for this type of constant density isotropic physics is velocity only, we do not treat buoyancy (reciprocal density).\n",
    "\n",
    "$$\n",
    "\\frac{b}{(v_0+\\delta v)^2} L_t(P_0+\\delta P) =\n",
    "    \\overleftarrow{\\partial_x}\\left(b\\ \\overrightarrow{\\partial_x} (P_0+\\delta P) \\right) +\n",
    "    \\overleftarrow{\\partial_y}\\left(b\\ \\overrightarrow{\\partial_y} (P_0+\\delta P) \\right) +\n",
    "    \\overleftarrow{\\partial_z}\\left(b\\ \\overrightarrow{\\partial_z} (P_0+\\delta P) \\right) + s \n",
    "$$\n",
    "\n",
    "After taking the derivative with respect to velocity and keeping only terms up to first order in  perturbations we get the following linearized equation:\n",
    "\n",
    "$$\n",
    "\\frac{b}{v_0^2} L_t\\left(\\delta P\\right) =\n",
    "    \\overleftarrow{\\partial_x}\\left(b\\ \\overrightarrow{\\partial_x} \\delta P \\right) +\n",
    "    \\overleftarrow{\\partial_y}\\left(b\\ \\overrightarrow{\\partial_y} \\delta P \\right) +\n",
    "    \\overleftarrow{\\partial_z}\\left(b\\ \\overrightarrow{\\partial_z} \\delta P \\right) + \n",
    "    \\frac{2\\ b\\ \\delta v}{v_0^3} L_t\\left(P_0\\right)\n",
    "$$\n",
    "\n",
    "Note this is the same equation as used for the nonlinear forward, only with a difference source term. The source $s$ in the nonlinear forward is replaced by the Born source $\\frac{\\displaystyle 2\\ b\\ \\delta v}{\\displaystyle v_0^3} L_t\\left(P_0\\right)$."
   ]
  },
  {
   "cell_type": "markdown",
   "metadata": {},
   "source": [
    "## Alternative linearization for slowness squared parameterization\n",
    "\n",
    "<br>\n",
    "\n",
    "$$\n",
    "b\\ m\\ L_t(P) =\n",
    "    \\overleftarrow{\\partial_x}\\left(b\\ \\overrightarrow{\\partial_x} P \\right) +\n",
    "    \\overleftarrow{\\partial_y}\\left(b\\ \\overrightarrow{\\partial_y} P \\right) +\n",
    "    \\overleftarrow{\\partial_z}\\left(b\\ \\overrightarrow{\\partial_z} P \\right) + s \n",
    "$$\n",
    "\n",
    "<br>\n",
    "\n",
    "$$\n",
    "b\\ (m_0+\\delta m)\\ L_t(P_0+\\delta P) =\n",
    "    \\overleftarrow{\\partial_x}\\left(b\\ \\overrightarrow{\\partial_x} (P_0+\\delta P) \\right) +\n",
    "    \\overleftarrow{\\partial_y}\\left(b\\ \\overrightarrow{\\partial_y} (P_0+\\delta P) \\right) +\n",
    "    \\overleftarrow{\\partial_z}\\left(b\\ \\overrightarrow{\\partial_z} (P_0+\\delta P) \\right) + s \n",
    "$$\n",
    "\n",
    "<br>\n",
    "\n",
    "$$\n",
    "b\\ m_0\\ L_t\\left(\\delta P\\right) =\n",
    "    \\overleftarrow{\\partial_x}\\left(b\\ \\overrightarrow{\\partial_x} \\delta P \\right) +\n",
    "    \\overleftarrow{\\partial_y}\\left(b\\ \\overrightarrow{\\partial_y} \\delta P \\right) +\n",
    "    \\overleftarrow{\\partial_z}\\left(b\\ \\overrightarrow{\\partial_z} \\delta P \\right) -\n",
    "    b\\ \\delta m\\ L_t\\left(P_0\\right)\n",
    "$$\n",
    "\n"
   ]
  },
  {
   "cell_type": "markdown",
   "metadata": {},
   "source": [
    "## Imports \n",
    "\n",
    "We have grouped all imports used in this notebook here for consistency."
   ]
  },
  {
   "cell_type": "code",
   "execution_count": 1,
   "metadata": {},
   "outputs": [],
   "source": [
    "import numpy as np\n",
    "from examples.seismic import RickerSource, Receiver, TimeAxis\n",
    "from devito import (Grid, Function, TimeFunction, SpaceDimension, Constant, \n",
    "                    Eq, Operator, solve, configuration)\n",
    "from devito.finite_differences import Derivative\n",
    "from devito.builtins import gaussian_smooth\n",
    "from examples.seismic.skew_self_adjoint import *\n",
    "import matplotlib as mpl\n",
    "import matplotlib.pyplot as plt\n",
    "from matplotlib import cm\n",
    "from timeit import default_timer as timer\n",
    "%matplotlib inline\n",
    "mpl.rc('font', size=14)\n",
    "\n",
    "# We also define 32 bit floating point as the precision type \n",
    "dtype = np.float32\n",
    "\n",
    "# set the default language to openmp\n",
    "configuration['language'] = 'openmp'\n",
    "\n",
    "# set the logging to debug\n",
    "# this allows seeing the statistics computed on performance of operators\n",
    "configuration['log-level'] = 'DEBUG'"
   ]
  },
  {
   "cell_type": "markdown",
   "metadata": {},
   "source": [
    "<a id=\"ln_grid_and_model\"></a>\n",
    "## Instantiate the Devito grid for a two dimensional problem\n",
    "\n",
    "We define the grid the same as in the previous notebook outlining implementation for the nonlinear forward."
   ]
  },
  {
   "cell_type": "code",
   "execution_count": 2,
   "metadata": {},
   "outputs": [
    {
     "name": "stdout",
     "output_type": "stream",
     "text": [
      "shape;            (751, 751)\n",
      "origin;           (0.0, 0.0)\n",
      "spacing;          (10.0, 10.0)\n",
      "extent;           (7500.0, 7500.0)\n",
      "\n",
      "shape_pad;        [851 851]\n",
      "origin_pad;       (-500.0, -500.0)\n",
      "extent_pad;       (8500.0, 8500.0)\n",
      "\n",
      "grid.shape;       (851, 851)\n",
      "grid.extent;      (8500.0, 8500.0)\n",
      "grid.spacing_map; {h_x: 10.0, h_z: 10.0}\n"
     ]
    }
   ],
   "source": [
    "# Define dimensions for the interior of the model\n",
    "nx,nz = 751,751\n",
    "dx,dz = 10.0,10.0                # Grid spacing in m\n",
    "shape = (nx, nz)                 # Number of grid points\n",
    "spacing = (dx, dz)               # Domain size is now 5 km by 5 km\n",
    "origin = (0., 0.)                # Origin of coordinate system, specified in m.\n",
    "extent = tuple([s*(n-1) for s, n in zip(spacing, shape)])\n",
    "\n",
    "# Define dimensions for the model padded with absorbing boundaries\n",
    "npad        = 50                 # number of points in absorbing boundary region (all sides)\n",
    "nxpad,nzpad = nx+2*npad, nz+2*npad\n",
    "shape_pad   = np.array(shape) + 2 * npad\n",
    "origin_pad  = tuple([o - s*npad for o, s in zip(origin, spacing)])\n",
    "extent_pad  = tuple([s*(n-1) for s, n in zip(spacing, shape_pad)])\n",
    "\n",
    "# Initialize the Devito grid \n",
    "x = SpaceDimension(name='x', spacing=Constant(name='h_x', value=extent_pad[0]/(shape_pad[0]-1)))\n",
    "z = SpaceDimension(name='z', spacing=Constant(name='h_z', value=extent_pad[1]/(shape_pad[1]-1)))\n",
    "grid = Grid(extent=extent_pad, shape=shape_pad, origin=origin_pad, dimensions=(x, z), dtype=dtype)\n",
    "\n",
    "print(\"shape;           \", shape)\n",
    "print(\"origin;          \", origin)\n",
    "print(\"spacing;         \", spacing)\n",
    "print(\"extent;          \", extent)\n",
    "print(\"\")\n",
    "print(\"shape_pad;       \", shape_pad)\n",
    "print(\"origin_pad;      \", origin_pad)\n",
    "print(\"extent_pad;      \", extent_pad)\n",
    "\n",
    "print(\"\")\n",
    "print(\"grid.shape;      \", grid.shape)\n",
    "print(\"grid.extent;     \", grid.extent)\n",
    "print(\"grid.spacing_map;\", grid.spacing_map)"
   ]
  },
  {
   "cell_type": "markdown",
   "metadata": {},
   "source": [
    "## Define velocity and buoyancy model parameters\n",
    "\n",
    "We have the following constants and fields from equation (1) that we define as time invariant using ```Functions```:\n",
    "\n",
    "| &nbsp; Symbol &nbsp; | Description |\n",
    "|:---:|:---|\n",
    "| $v(x,z)$ | Acoustic velocity |\n",
    "| $$b(x,z)=\\frac{1}{\\rho(x,z)}$$ | Buoyancy (reciprocal density) |"
   ]
  },
  {
   "cell_type": "code",
   "execution_count": 3,
   "metadata": {},
   "outputs": [
    {
     "name": "stderr",
     "output_type": "stream",
     "text": [
      "Allocating memory for v(867, 867)\n",
      "Allocating memory for b(867, 867)\n"
     ]
    }
   ],
   "source": [
    "# Create the velocity and buoyancy fields. \n",
    "#   - We use a wholespace 1500 m/s velocity model here\n",
    "#   - These fields are scalar constants, so we use Function to define them\n",
    "#   - We specify space_order in order to establish the appropriate size halo on the edges \n",
    "space_order = 8\n",
    "v = Function(name='v', grid=grid, space_order=space_order)\n",
    "b = Function(name='b', grid=grid, space_order=space_order)\n",
    "v.data[:] = 1.5\n",
    "# v.data[:,:nzpad//2] = 1.5\n",
    "# v.data[:,nzpad//2:] = 2.5\n",
    "\n",
    "# constant density\n",
    "b.data[:,:] = 1.0 / 1000.0"
   ]
  },
  {
   "cell_type": "markdown",
   "metadata": {},
   "source": [
    "## Define the simulation time range\n",
    "\n",
    "In this notebook we run 1 second of simulation using the sample rate defined by the CFL condition as implemented in ```examples/seismic/model.py```.\n",
    "\n",
    "We also use the convenience ```TimeRange``` as defined in ```examples/seismic/source.py```."
   ]
  },
  {
   "cell_type": "code",
   "execution_count": 4,
   "metadata": {},
   "outputs": [
    {
     "name": "stdout",
     "output_type": "stream",
     "text": [
      "Time min,max,dt,num;   0.000000 2000.000000   1.000000 2001\n"
     ]
    }
   ],
   "source": [
    "t0 = dtype(0.)     # Simulation time start\n",
    "tn = dtype(2000.)  # Simulation time end (1 second = 1000 msec)\n",
    "# dt = np.float32(0.2 * np.min(spacing) / np.max(v.data))\n",
    "dt = 1.0\n",
    "time_range = TimeAxis(start=t0, stop=tn, step=dt)\n",
    "print(\"Time min,max,dt,num; %10.6f %10.6f %10.6f %d\" % (t0, tn, dt, int(tn//dt) + 1))"
   ]
  },
  {
   "cell_type": "markdown",
   "metadata": {},
   "source": [
    "## Define the acquisition geometry: locations of sources and receivers \n",
    "\n",
    "**source**:\n",
    "- X coordinate: center of the model: dx*(nx//2)\n",
    "- Z coordinate: in the middle of the upper layer: dz*(nz//4)\n",
    "- We use a 10 Hz center frequency ```RickerSource``` wavelet source as defined in ```examples/seismic/source.py```\n",
    "\n",
    "**receivers**:\n",
    "- X coordinate: center of the model: dx*(nx//2)  \n",
    "- Z coordinate: vertical line from top to bottom of model\n",
    "- We use a ```Receiver``` as defined in ```examples/seismic/source.py```"
   ]
  },
  {
   "cell_type": "code",
   "execution_count": 5,
   "metadata": {},
   "outputs": [
    {
     "name": "stderr",
     "output_type": "stream",
     "text": [
      "Allocating memory for src(2001, 1)\n",
      "Allocating memory for src_coords(1, 2)\n",
      "Allocating memory for rec_coords(751, 2)\n"
     ]
    },
    {
     "name": "stdout",
     "output_type": "stream",
     "text": [
      "src_coordinate  X;           +3750.0000\n",
      "src_coordinate  Z;           +3750.0000\n",
      "src_coordinates X min/max;   +3750.0000   +3750.0000\n",
      "src_coordinates Z min/max;      +0.0000   +7500.0000\n"
     ]
    },
    {
     "data": {
      "image/png": "[encoded data removed]",
      "text/plain": [
       "<Figure size 432x288 with 1 Axes>"
      ]
     },
     "metadata": {
      "needs_background": "light"
     },
     "output_type": "display_data"
    }
   ],
   "source": [
    "# Source in the center of the model at 10 Hz center frequency\n",
    "fpeak = 0.010\n",
    "src = RickerSource(name='src', grid=grid, f0=fpeak, npoint=1, time_range=time_range)\n",
    "src.coordinates.data[0,0] = dx * (nx//2)\n",
    "src.coordinates.data[0,1] = dz * (nz//2)\n",
    "\n",
    "# line of receivers along the right edge of the model\n",
    "rec = Receiver(name='rec', grid=grid, npoint=nz, time_range=time_range)\n",
    "rec.coordinates.data[:,0] = dx * (nx//2)\n",
    "rec.coordinates.data[:,1] = np.linspace(0.0, dz*(nz-1), nz)\n",
    "\n",
    "print(\"src_coordinate  X;         %+12.4f\" % (src.coordinates.data[0,0]))\n",
    "print(\"src_coordinate  Z;         %+12.4f\" % (src.coordinates.data[0,1]))\n",
    "print(\"src_coordinates X min/max; %+12.4f %+12.4f\" % \\\n",
    "      (np.min(rec.coordinates.data[:,0]), np.max(rec.coordinates.data[:,0])))\n",
    "print(\"src_coordinates Z min/max; %+12.4f %+12.4f\" % \\\n",
    "      (np.min(rec.coordinates.data[:,1]), np.max(rec.coordinates.data[:,1])))\n",
    "\n",
    "# We can plot the time signature to see the wavelet\n",
    "src.show()"
   ]
  },
  {
   "cell_type": "markdown",
   "metadata": {},
   "source": [
    "## Plot velocity model\n",
    "\n",
    "Next we plot the half-space velocity model for illustration. \n",
    "- The demarcation between interior and absorbing boundary is shown with a dotted white line\n",
    "- The source is shown as a large red asterisk\n",
    "- The extent of the receiver array is shown with a thick dashed blue line"
   ]
  },
  {
   "cell_type": "code",
   "execution_count": 6,
   "metadata": {},
   "outputs": [
    {
     "data": {
      "image/png": "[encoded data removed]",
      "text/plain": [
       "<Figure size 864x576 with 2 Axes>"
      ]
     },
     "metadata": {
      "needs_background": "light"
     },
     "output_type": "display_data"
    }
   ],
   "source": [
    "# note: flip sense of second dimension to make the plot positive downwards\n",
    "plt_extent = [origin_pad[0], origin_pad[0] + spacing[0]*(shape_pad[0]-1), \n",
    "              origin_pad[1] + spacing[1]*(shape_pad[1]-1), origin_pad[1]]\n",
    "\n",
    "plt.figure(1, figsize=(12,8))\n",
    "plt.clf()\n",
    "plt.imshow(np.transpose(v.data), cmap=cm.jet, vmin=1.25, vmax=1.75, extent=plt_extent)\n",
    "plt.plot([origin[0], origin[0], extent[0], extent[0], origin[0]], \n",
    "         [origin[1], extent[1], extent[1], origin[1], origin[1]], \n",
    "         'white', linewidth=4, linestyle=':', label=\"Absorbing Boundary\")\n",
    "plt.plot(rec.coordinates.data[:, 0], rec.coordinates.data[:, 1], \\\n",
    "         'blue', linewidth=5, linestyle='--', label=\"Receiver line\")\n",
    "plt.plot(src.coordinates.data[:, 0], src.coordinates.data[:, 1], \\\n",
    "         'red', linestyle='None', marker='*', markersize=15, label=\"Source\")\n",
    "ax = plt.legend(bbox_to_anchor=(1.25, 0.5), loc='upper left')\n",
    "ax.get_frame().set_color(\"gray\")\n",
    "plt.colorbar()\n",
    "plt.xlabel(\"X Coordinate (m)\", labelpad=15)\n",
    "plt.ylabel(\"Z Coordinate (m)\", labelpad=15)\n",
    "plt.title(\"Wholespace velocity model including absorbing boundary region\", y=1.025)\n",
    "plt.tight_layout()\n",
    "None"
   ]
  },
  {
   "cell_type": "markdown",
   "metadata": {},
   "source": [
    "## Define The $\\omega_c\\ /\\ Q(x,z)$ model used for dissipation only attenuation\n",
    "\n",
    "In the previous notebook we defined a python function used to initialize the  $\\omega_c\\ /\\ Q(x,z)$ profile and then used that function to populate our attenuation profile. Please see the figure in that notebook, not repeated here."
   ]
  },
  {
   "cell_type": "code",
   "execution_count": 7,
   "metadata": {},
   "outputs": [
    {
     "name": "stderr",
     "output_type": "stream",
     "text": [
      "Allocating memory for wOverQ(867, 867)\n",
      "Allocating memory for f_c(947, 947)\n"
     ]
    },
    {
     "name": "stdout",
     "output_type": "stream",
     "text": [
      "w,fpeak;  0.06283185307179587 0.01\n"
     ]
    },
    {
     "name": "stderr",
     "output_type": "stream",
     "text": [
      "Operator `smooth` generated in 0.53 s\n",
      "  * lowering.Clusters: 0.22 s (41.7 %)\n",
      "     * specializing.Clusters: 0.15 s (28.4 %)\n",
      "  * lowering.Expressions: 0.17 s (32.2 %)\n",
      "  * lowering.IET: 0.11 s (20.9 %)\n",
      "Flops reduction after symbolic optimization: [130 --> 98]\n",
      "Allocating memory for f_o(885, 885)\n",
      "Operator `smooth` fetched `/tmp/devito-jitcache-uid5138/740485db37ef92aad2a2e993522472be117304fa.c` in 0.09 s from jit-cache\n",
      "Operator `smooth` run in 0.01 s\n",
      "* section0<<16,883>,<16,883>,<851,851>,<851,851>,<883,16>,<883,16>,<851,851>,<851,851>> with OI=0.01 computed in 0.01 s [15.36 GFlops/s]\n",
      "Performance[mode=advanced] arguments: {'nthreads': 16}\n"
     ]
    },
    {
     "name": "stdout",
     "output_type": "stream",
     "text": [
      "setup_wOverQ ran in 0.8983 seconds -- min/max Q values; 0.1000 100.0000\n"
     ]
    }
   ],
   "source": [
    "# Initialize the attenuation profile\n",
    "w = 2.0 * np.pi * fpeak\n",
    "print(\"w,fpeak; \", w, fpeak)\n",
    "qmin = 0.1\n",
    "qmax = 100.0\n",
    "wOverQ = Function(name='wOverQ', grid=grid, space_order=space_order)\n",
    "setup_wOverQ(wOverQ, w, qmin, qmax, npad)"
   ]
  },
  {
   "cell_type": "markdown",
   "metadata": {},
   "source": [
    "## Define the pressure wavefield as a ```TimeFunction```\n",
    "\n",
    "We specify the time_order as 2, which allocates 3 time steps in the pressure wavefield. As described elsewhere, Devito will use \"cyclic indexing\" to index into this multi-dimensional array."
   ]
  },
  {
   "cell_type": "code",
   "execution_count": 8,
   "metadata": {},
   "outputs": [],
   "source": [
    "# Define the TimeFunction\n",
    "p = TimeFunction(name=\"p\", grid=grid, time_order=2, space_order=space_order)\n",
    "\n",
    "# Get the dimensions and spacing for t, x, z \n",
    "t,x,z = p.dimensions\n",
    "h_t = t.spacing\n",
    "h_x = x.spacing\n",
    "h_z = z.spacing"
   ]
  },
  {
   "cell_type": "markdown",
   "metadata": {},
   "source": [
    "## Define the source injection and receiver extraction "
   ]
  },
  {
   "cell_type": "code",
   "execution_count": 9,
   "metadata": {},
   "outputs": [],
   "source": [
    "# Finally we define the source injection and receiver extraction functions \n",
    "src_term = src.inject(field=p.forward, expr=src * h_t**2 * v**2 / b)\n",
    "\n",
    "# Create interpolation expression for receivers\n",
    "rec_term = rec.interpolate(expr=p.forward)"
   ]
  },
  {
   "cell_type": "markdown",
   "metadata": {},
   "source": [
    "## Finally, the Devito operator\n",
    "\n",
    "We next transcribe the time update expression above into a Devito ```Eq```. Then we add the source injection and receiver extraction and build an ```Operator``` that will generate the c++ code for performing the model.\n",
    "\n",
    "We copy the time update expression from above for clarity. Note we omit $s$ from the ```Eq``` below because we will be explicitly injecting the source using ```src_term```.\n",
    "\n",
    "$$\n",
    "\\begin{aligned}\n",
    "    P(t+\\delta t) &=\n",
    "        \\frac{\\delta t^2 v^2}{b} \\left[ \n",
    "            \\overleftarrow{\\partial_x}\\left(b\\ \\overrightarrow{\\partial_x} P \\right) +\n",
    "            \\overleftarrow{\\partial_y}\\left(b\\ \\overrightarrow{\\partial_y} P \\right) +\n",
    "            \\overleftarrow{\\partial_z}\\left(b\\ \\overrightarrow{\\partial_z} P \\right) + s\n",
    "        \\right] \\\\[5pt]\n",
    "        &\\quad +\\ P(t) \\left(2 - \\frac{\\delta t^2 \\omega_c}{Q} \\right)\n",
    "        - P(t-\\delta t) \\left(1 - \\frac{\\delta t\\ \\omega_c}{Q} \\right)\n",
    "\\end{aligned}\n",
    "$$"
   ]
  },
  {
   "cell_type": "code",
   "execution_count": 10,
   "metadata": {},
   "outputs": [
    {
     "name": "stderr",
     "output_type": "stream",
     "text": [
      "Operator `Kernel` generated in 1.57 s\n",
      "  * lowering.Expressions: 0.87 s (55.6 %)\n",
      "  * lowering.IET: 0.33 s (21.1 %)\n",
      "  * lowering.Clusters: 0.33 s (21.1 %)\n",
      "Flops reduction after symbolic optimization: [300 --> 69]\n"
     ]
    }
   ],
   "source": [
    "#NBVAL_IGNORE_OUTPUT\n",
    "eq_time_update = (h_t**2 * v**2 / b) * \\\n",
    "    ((b * p.dx(x0=x+h_x/2)).dx(x0=x-h_x/2) + \\\n",
    "     (b * p.dz(x0=z+h_z/2)).dz(x0=z-h_z/2)) + \\\n",
    "    p * (2 - h_t**2 * wOverQ) - p.backward * (1 - h_t * wOverQ)\n",
    "\n",
    "stencil = Eq(p.forward, eq_time_update)\n",
    "\n",
    "op = Operator([stencil] + src_term + rec_term, subs=p.grid.spacing_map)"
   ]
  },
  {
   "cell_type": "code",
   "execution_count": 11,
   "metadata": {},
   "outputs": [
    {
     "name": "stdout",
     "output_type": "stream",
     "text": [
      "v        min/max; +1.500000e+00 +1.500000e+00\n",
      "b        min/max; +1.000000e-03 +1.000000e-03\n",
      "wOverQ   min/max; +6.283185e-04 +6.283185e-01\n",
      "TimeAxis: start=0, stop=2000, step=1, num=2001\n"
     ]
    }
   ],
   "source": [
    "# run the operator\n",
    "print(\"v        min/max; %+12.6e %+12.6e\" % (np.min(v.data), np.max(v.data)))\n",
    "print(\"b        min/max; %+12.6e %+12.6e\" % (np.min(b.data), np.max(b.data)))\n",
    "print(\"wOverQ   min/max; %+12.6e %+12.6e\" % (np.min(wOverQ.data), np.max(wOverQ.data)))\n",
    "print(time_range)\n",
    "# summary = op(time=time_range.num-1, h_x=dx, h_z=dz, dt=dt)\n",
    "# print(\"data min/max; %+12.6e %+12.6e\" % (np.min(p.data[1,:,:]), np.max(p.data[1,:,:])))"
   ]
  },
  {
   "cell_type": "markdown",
   "metadata": {},
   "source": [
    "## Plot the computed wavefield"
   ]
  },
  {
   "cell_type": "code",
   "execution_count": 12,
   "metadata": {},
   "outputs": [],
   "source": [
    "# Plot the wavefield in the model\n",
    "# plt.figure(1, figsize=(12,8))\n",
    "# plt.clf()\n",
    "# amax = np.max(np.abs(p.data[1,:,:]))\n",
    "# plt.imshow(np.transpose(p.data[1,:,:]), vmin=-amax, vmax=+amax, cmap=\"seismic\", extent=plt_extent)\n",
    "# plt.plot([origin[0], origin[0], extent[0], extent[0], origin[0]], \n",
    "#          [origin[1], extent[1], extent[1], origin[1], origin[1]], \n",
    "#          'black', linewidth=4, linestyle=':', label=\"Absorbing Boundary\")\n",
    "# plt.plot(rec.coordinates.data[:, 0], rec.coordinates.data[:, 1], \\\n",
    "#          'blue', linewidth=5, linestyle='--', label=\"Receiver line\")\n",
    "# plt.plot(src.coordinates.data[:, 0], src.coordinates.data[:, 1], \\\n",
    "#          'red', linestyle='None', marker='*', markersize=15, label=\"Source\")\n",
    "# ax = plt.legend(bbox_to_anchor=(1.05, 0.5), loc='upper left')\n",
    "# ax.get_frame().set_color(\"gray\")\n",
    "# plt.xlabel('X coordinate (m)')\n",
    "# plt.ylabel('Z coordinate (m)')\n",
    "# plt.title('Model wavefield at time = %.2f msec' % (time_range.stop))\n",
    "# plt.tight_layout()\n",
    "\n",
    "# # Plot the receiver wavefield\n",
    "# plt.figure(figsize=(8,8))\n",
    "# amax = np.max(np.abs(rec.data[:])) / 10\n",
    "# plt.imshow(rec.data[:,:], vmin=-amax, vmax=+amax, cmap=\"seismic\", aspect=\"auto\")\n",
    "# plt.xlabel('Z coordinate (m)')\n",
    "# plt.ylabel('Time (msec)')\n",
    "# plt.title('Receiver wavefield')\n",
    "# plt.tight_layout()"
   ]
  },
  {
   "cell_type": "markdown",
   "metadata": {},
   "source": []
  },
  {
   "cell_type": "markdown",
   "metadata": {},
   "source": [
    "<a id=\"nl_refs\"></a>\n",
    "## References\n",
    "<br>\n",
    "\n",
    "- **A nonreflecting boundary condition for discrete acoustic and elastic wave equations** (1985)\n",
    "<br>Charles Cerjan, Dan Kosloff, Ronnie Kosloff, and Moshe Resheq\n",
    "<br> Geophysics, Vol. 50, No. 4\n",
    "<br>https://library.seg.org/doi/pdfplus/10.1190/segam2016-13878451.1\n",
    "<br>\n",
    "\n",
    "- **Generation of Finite Difference Formulas on Arbitrarily Spaced Grids** (1988)\n",
    "<br>Bengt Fornberg\n",
    "<br>Mathematics of Computation, Vol. 51, No. 184\n",
    "<br>http://dx.doi.org/10.1090/S0025-5718-1988-0935077-0\n",
    "<br>https://web.njit.edu/~jiang/math712/fornberg.pdf\n",
    "<br>\n",
    "\n",
    "- **Self-adjoint, energy-conserving second-order pseudoacoustic systems for VTI and TTI media for reverse time migration and full-waveform inversion** (2016)\n",
    "<br>Kenneth Bube, John Washbourne, Raymond Ergas, and Tamas Nemeth\n",
    "<br>SEG Technical Program Expanded Abstracts\n",
    "<br>https://library.seg.org/doi/10.1190/segam2016-13878451.1\n"
   ]
  },
  {
   "cell_type": "code",
   "execution_count": null,
   "metadata": {},
   "outputs": [],
   "source": []
  }
 ],
 "metadata": {
  "anaconda-cloud": {},
  "kernelspec": {
   "display_name": "Python 3",
   "language": "python",
   "name": "python3"
  },
  "language_info": {
   "codemirror_mode": {
    "name": "ipython",
    "version": 3
   },
   "file_extension": ".py",
   "mimetype": "text/x-python",
   "name": "python",
   "nbconvert_exporter": "python",
   "pygments_lexer": "ipython3",
   "version": "3.8.2"
  }
 },
 "nbformat": 4,
 "nbformat_minor": 4
}
