{
 "cells": [
  {
   "cell_type": "markdown",
   "metadata": {},
   "source": [
    "# Implementation of a Devito skew self adjoint variable density visco- acoustic isotropic modeling operator <br>-- Jacobian Ops --\n",
    "\n",
    "## This operator is contributed by Chevron Energy Technology Company (2020)\n",
    "\n",
    "This operator is based on simplfications of the systems presented in:\n",
    "<br>**Self-adjoint, energy-conserving second-order pseudoacoustic systems for VTI and TTI media for reverse time migration and full-waveform inversion** (2016)\n",
    "<br>Kenneth Bube, John Washbourne, Raymond Ergas, and Tamas Nemeth\n",
    "<br>SEG Technical Program Expanded Abstracts\n",
    "<br>https://library.seg.org/doi/10.1190/segam2016-13878451.1"
   ]
  },
  {
   "cell_type": "markdown",
   "metadata": {},
   "source": [
    "## Introduction \n",
    "\n",
    "The goal of this tutorial set is to generate and prove correctness of modeling and inversion capability in Devito for variable density visco- acoustics using an energy conserving form of the wave equation. We describe how the linearization of the energy conserving *skew self adjoint* system with respect to modeling parameters allows using the same modeling system for all nonlinear and linearized forward and adjoint finite difference evolutions. \n",
    "\n",
    "This notebook implements the linearized (Jacobian) ```forward``` and ```adjoint``` modeling operations and is the second in a set of 3, beginning with a notebook that implements the nonlinear ops ([ssa_01_iso_implementation1.ipynb](ssa_01_iso_implementation1.ipynb)), and finishing with a notebook that tests the correctness of the implemented operators ([ssa_03_iso_correctness.ipynb](ssa_03_iso_correctness.ipynb)). Note there are similar notebooks implementing and testing operators for VTI and TTI anisotropy.\n",
    "\n",
    "Please review the previous tutorial [ssa_01_iso_implementation1.ipynb](ssa_01_iso_implementation1.ipynb) before this one. \n",
    "\n",
    "## Outline \n",
    "1. Define symbols [[link]](#ln_symbols) \n",
    "2. The linearization [[link]](#ln_linearization) \n",
    "3. Create the Devito grid and model fields [[link]](#ln_grid_and_model) \n",
    "4. Implement the linearized forward operator [[link]](#ln_linearized_forward) \n",
    "5. Exercise the linearized forward operator [[link]](#ln_linearized_forward_run) \n",
    "6. Implement the linearized adjoint operator [[link]](#ln_linearized_adjoint) \n",
    "7. Exercise the linearized adjoint operator [[link]](#ln_linearized_adjoint_run) "
   ]
  },
  {
   "cell_type": "markdown",
   "metadata": {},
   "source": [
    "<a id=\"ln_symbols\"></a>\n",
    "## Table of symbols\n",
    "\n",
    "| Symbol &nbsp; &nbsp; &nbsp; &nbsp; &nbsp; | Description  | Dimensionality | \n",
    "|:---|:---|:---|\n",
    "| $\\omega = 2 \\pi f$ | center angular frequency | constant |\n",
    "| $v(x,y,z)$   | Total P wave velocity ($v_0+\\delta v$) | function of space |\n",
    "| $v_0(x,y,z)$   | Reference P wave velocity    | function of space |\n",
    "| $\\delta v(x,y,z)$   | Perturbation to P wave velocity    | function of space |\n",
    "| $b(x,y,z)$   | buoyancy $(1 / \\rho)$ | function of space |\n",
    "| $Q(x,y,z)$   | Attenuation at frequency $\\omega$ | function of space |\n",
    "| $P(t,x,y,z)$ | Total pressure wavefield ($P_0+\\delta P$)| function of time and space |\n",
    "| $P_0(t,x,y,z)$ | Reference pressure wavefield | function of time and space |\n",
    "| $\\delta P(t,x,y,z)$ | Perturbation to pressure wavefield | function of time and space |\n",
    "| $s(t,x,y,z)$ | Source term        | function of time, localized in space |\n",
    "| $\\overrightarrow{\\partial x},\\overrightarrow{\\partial y},\\overrightarrow{\\partial z}$ | + shifted first derivative wrt $x,y,z$ | shifted 1/2 cell forward in space |\n",
    "| $\\overleftarrow{\\partial x},\\overleftarrow{\\partial y},\\overleftarrow{\\partial z}$ | - shifted first derivative wrt $x,y,z$ | shifted 1/2 cell backward in space |"
   ]
  },
  {
   "cell_type": "markdown",
   "metadata": {},
   "source": [
    "<a id=\"ln_linearization\"></a>\n",
    "## The linearization\n",
    "\n",
    "The SSA wave equation as introduced in the previous notebook:\n",
    "\n",
    "$$\n",
    "\\frac{b}{v^2} \\left( \\frac{\\omega}{Q} \\frac{\\partial}{\\partial t} P +\n",
    "    \\frac{\\partial^2}{\\partial t^2} P \\right) =\n",
    "    \\overleftarrow{\\partial x}\\left(b\\ \\overrightarrow{\\partial x} P \\right) +\n",
    "    \\overleftarrow{\\partial y}\\left(b\\ \\overrightarrow{\\partial y} P \\right) +\n",
    "    \\overleftarrow{\\partial z}\\left(b\\ \\overrightarrow{\\partial z} P \\right) + s \n",
    "$$\n",
    "\n",
    "To simplify the treatment below we introduce the operator $L_t(\\cdot)$, which accounts for the time derivatives inside the parentheses on the left hand side of the wave equation.\n",
    "\n",
    "$$\n",
    "L_t(\\cdot) \\equiv \\frac{\\omega}{Q} \\frac{\\partial}{\\partial t}(\\cdot) +\n",
    "    \\frac{\\partial^2}{\\partial t^2}(\\cdot)\n",
    "$$\n",
    "\n",
    "We re-write the wave equation using this notation.\n",
    "\n",
    "$$\n",
    "\\frac{b}{v^2} L_t(P) =\n",
    "    \\overleftarrow{\\partial x}\\left(b\\ \\overrightarrow{\\partial x} P \\right) +\n",
    "    \\overleftarrow{\\partial y}\\left(b\\ \\overrightarrow{\\partial y} P \\right) +\n",
    "    \\overleftarrow{\\partial z}\\left(b\\ \\overrightarrow{\\partial z} P \\right) + s \n",
    "$$\n",
    "\n",
    "To linearize we treat the model parameters and the pressure wavefield as the sum of reference and perturbation states. \n",
    "\n",
    "$$\n",
    "\\begin{aligned}\n",
    "P(t) &= P_0(t) + \\delta P(t)\\\\[5pt]\n",
    "m &= m_0 + \\delta m\n",
    "\\end{aligned}\n",
    "$$\n",
    "\n",
    "Note that *model parameters* for this type of constant density isotropic physics is velocity only, we do not treat buoyancy (reciprocal density).\n",
    "\n",
    "$$\n",
    "\\frac{b}{(v_0+\\delta v)^2} L_t(P_0+\\delta P) =\n",
    "    \\overleftarrow{\\partial x}\\left(b\\ \\overrightarrow{\\partial x} (P_0+\\delta P) \\right) +\n",
    "    \\overleftarrow{\\partial y}\\left(b\\ \\overrightarrow{\\partial y} (P_0+\\delta P) \\right) +\n",
    "    \\overleftarrow{\\partial z}\\left(b\\ \\overrightarrow{\\partial z} (P_0+\\delta P) \\right) + s \n",
    "$$\n",
    "\n",
    "After taking the derivative with respect to velocity and keeping only terms up to first order in  perturbations we get the following linearized equation:\n",
    "\n",
    "$$\n",
    "\\frac{b}{v_0^2} L_t\\left(\\delta P\\right) =\n",
    "    \\overleftarrow{\\partial x}\\left(b\\ \\overrightarrow{\\partial x} \\delta P \\right) +\n",
    "    \\overleftarrow{\\partial y}\\left(b\\ \\overrightarrow{\\partial y} \\delta P \\right) +\n",
    "    \\overleftarrow{\\partial z}\\left(b\\ \\overrightarrow{\\partial z} \\delta P \\right) + \n",
    "    \\frac{2\\ b\\ \\delta v}{v_0^3} L_t\\left(P_0\\right)\n",
    "$$\n",
    "\n",
    "Note this is the same equation as used for the nonlinear forward, only with a difference source term. The source $s$ in the nonlinear forward is replaced by the Born source $\\frac{\\displaystyle 2\\ b\\ \\delta v}{\\displaystyle v_0^3} L_t\\left(P_0\\right)$."
   ]
  },
  {
   "cell_type": "markdown",
   "metadata": {},
   "source": [
    "## Alternative linearization for slowness squared parameterization\n",
    "\n",
    "<br>\n",
    "\n",
    "$$\n",
    "b\\ m\\ L_t(P) =\n",
    "    \\overleftarrow{\\partial x}\\left(b\\ \\overrightarrow{\\partial x} P \\right) +\n",
    "    \\overleftarrow{\\partial y}\\left(b\\ \\overrightarrow{\\partial y} P \\right) +\n",
    "    \\overleftarrow{\\partial z}\\left(b\\ \\overrightarrow{\\partial z} P \\right) + s \n",
    "$$\n",
    "\n",
    "<br>\n",
    "\n",
    "$$\n",
    "b\\ (m_0+\\delta m)\\ L_t(P_0+\\delta P) =\n",
    "    \\overleftarrow{\\partial x}\\left(b\\ \\overrightarrow{\\partial x} (P_0+\\delta P) \\right) +\n",
    "    \\overleftarrow{\\partial y}\\left(b\\ \\overrightarrow{\\partial y} (P_0+\\delta P) \\right) +\n",
    "    \\overleftarrow{\\partial z}\\left(b\\ \\overrightarrow{\\partial z} (P_0+\\delta P) \\right) + s \n",
    "$$\n",
    "\n",
    "<br>\n",
    "\n",
    "$$\n",
    "b\\ m_0\\ L_t\\left(\\delta P\\right) =\n",
    "    \\overleftarrow{\\partial x}\\left(b\\ \\overrightarrow{\\partial x} \\delta P \\right) +\n",
    "    \\overleftarrow{\\partial y}\\left(b\\ \\overrightarrow{\\partial y} \\delta P \\right) +\n",
    "    \\overleftarrow{\\partial z}\\left(b\\ \\overrightarrow{\\partial z} \\delta P \\right) -\n",
    "    b\\ \\delta m\\ L_t\\left(P_0\\right)\n",
    "$$\n",
    "\n"
   ]
  },
  {
   "cell_type": "markdown",
   "metadata": {},
   "source": [
    "## Imports \n",
    "\n",
    "We have grouped all imports used in this notebook here for consistency."
   ]
  },
  {
   "cell_type": "code",
   "execution_count": 2,
   "metadata": {},
   "outputs": [
    {
     "ename": "NameError",
     "evalue": "name 'npad' is not defined",
     "output_type": "error",
     "traceback": [
      "\u001b[0;31m---------------------------------------------------------------------------\u001b[0m",
      "\u001b[0;31mNameError\u001b[0m                                 Traceback (most recent call last)",
      "\u001b[0;32m<ipython-input-2-98c3db0ef35c>\u001b[0m in \u001b[0;36m<module>\u001b[0;34m\u001b[0m\n\u001b[1;32m      5\u001b[0m \u001b[0;32mfrom\u001b[0m \u001b[0mdevito\u001b[0m\u001b[0;34m.\u001b[0m\u001b[0mfinite_differences\u001b[0m \u001b[0;32mimport\u001b[0m \u001b[0mDerivative\u001b[0m\u001b[0;34m\u001b[0m\u001b[0;34m\u001b[0m\u001b[0m\n\u001b[1;32m      6\u001b[0m \u001b[0;32mfrom\u001b[0m \u001b[0mdevito\u001b[0m\u001b[0;34m.\u001b[0m\u001b[0mbuiltins\u001b[0m \u001b[0;32mimport\u001b[0m \u001b[0mgaussian_smooth\u001b[0m\u001b[0;34m\u001b[0m\u001b[0;34m\u001b[0m\u001b[0m\n\u001b[0;32m----> 7\u001b[0;31m \u001b[0;32mfrom\u001b[0m \u001b[0mexamples\u001b[0m\u001b[0;34m.\u001b[0m\u001b[0mseismic\u001b[0m\u001b[0;34m.\u001b[0m\u001b[0mskew_self_adjoint\u001b[0m \u001b[0;32mimport\u001b[0m \u001b[0;34m*\u001b[0m\u001b[0;34m\u001b[0m\u001b[0;34m\u001b[0m\u001b[0m\n\u001b[0m\u001b[1;32m      8\u001b[0m \u001b[0;32mimport\u001b[0m \u001b[0mmatplotlib\u001b[0m \u001b[0;32mas\u001b[0m \u001b[0mmpl\u001b[0m\u001b[0;34m\u001b[0m\u001b[0;34m\u001b[0m\u001b[0m\n\u001b[1;32m      9\u001b[0m \u001b[0;32mimport\u001b[0m \u001b[0mmatplotlib\u001b[0m\u001b[0;34m.\u001b[0m\u001b[0mpyplot\u001b[0m \u001b[0;32mas\u001b[0m \u001b[0mplt\u001b[0m\u001b[0;34m\u001b[0m\u001b[0;34m\u001b[0m\u001b[0m\n",
      "\u001b[0;32m/devl/geophys/util/devito/devito/examples/seismic/skew_self_adjoint/__init__.py\u001b[0m in \u001b[0;36m<module>\u001b[0;34m\u001b[0m\n\u001b[0;32m----> 1\u001b[0;31m \u001b[0;32mfrom\u001b[0m \u001b[0;34m.\u001b[0m\u001b[0mutilities\u001b[0m \u001b[0;32mimport\u001b[0m \u001b[0;34m*\u001b[0m  \u001b[0;31m# noqa\u001b[0m\u001b[0;34m\u001b[0m\u001b[0;34m\u001b[0m\u001b[0m\n\u001b[0m",
      "\u001b[0;32m/devl/geophys/util/devito/devito/examples/seismic/skew_self_adjoint/utilities.py\u001b[0m in \u001b[0;36m<module>\u001b[0;34m\u001b[0m\n\u001b[0;32m----> 1\u001b[0;31m \u001b[0;32mdef\u001b[0m \u001b[0msetup_wOverQ\u001b[0m\u001b[0;34m(\u001b[0m\u001b[0mwOverQ\u001b[0m\u001b[0;34m,\u001b[0m \u001b[0mw\u001b[0m\u001b[0;34m,\u001b[0m \u001b[0mqmin\u001b[0m\u001b[0;34m,\u001b[0m \u001b[0mqmax\u001b[0m\u001b[0;34m,\u001b[0m \u001b[0mnpad\u001b[0m\u001b[0;34m,\u001b[0m \u001b[0msigma\u001b[0m\u001b[0;34m=\u001b[0m\u001b[0mnpad\u001b[0m\u001b[0;34m//\u001b[0m\u001b[0;36m5\u001b[0m\u001b[0;34m)\u001b[0m\u001b[0;34m:\u001b[0m\u001b[0;34m\u001b[0m\u001b[0;34m\u001b[0m\u001b[0m\n\u001b[0m\u001b[1;32m      2\u001b[0m     \"\"\"\n\u001b[1;32m      3\u001b[0m     \u001b[0mInitialise\u001b[0m \u001b[0mspatially\u001b[0m \u001b[0mvariable\u001b[0m \u001b[0mw\u001b[0m\u001b[0;34m/\u001b[0m\u001b[0mQ\u001b[0m \u001b[0mfield\u001b[0m \u001b[0mused\u001b[0m \u001b[0mto\u001b[0m \u001b[0mimplement\u001b[0m \u001b[0mattenuation\u001b[0m \u001b[0;32mand\u001b[0m\u001b[0;34m\u001b[0m\u001b[0;34m\u001b[0m\u001b[0m\n\u001b[1;32m      4\u001b[0m     \u001b[0mabsorb\u001b[0m \u001b[0moutgoing\u001b[0m \u001b[0mwaves\u001b[0m \u001b[0mat\u001b[0m \u001b[0mthe\u001b[0m \u001b[0medges\u001b[0m \u001b[0mof\u001b[0m \u001b[0mthe\u001b[0m \u001b[0mmodel\u001b[0m\u001b[0;34m.\u001b[0m\u001b[0;34m\u001b[0m\u001b[0;34m\u001b[0m\u001b[0m\n\u001b[1;32m      5\u001b[0m \u001b[0;34m\u001b[0m\u001b[0m\n",
      "\u001b[0;31mNameError\u001b[0m: name 'npad' is not defined"
     ]
    }
   ],
   "source": [
    "import numpy as np\n",
    "from examples.seismic import RickerSource, Receiver, TimeAxis\n",
    "from devito import (Grid, Function, TimeFunction, SpaceDimension, Constant, \n",
    "                    Eq, Operator, solve, configuration)\n",
    "from devito.finite_differences import Derivative\n",
    "from devito.builtins import gaussian_smooth\n",
    "from examples.seismic.skew_self_adjoint import *\n",
    "import matplotlib as mpl\n",
    "import matplotlib.pyplot as plt\n",
    "from matplotlib import cm\n",
    "from timeit import default_timer as timer\n",
    "%matplotlib inline\n",
    "mpl.rc('font', size=14)\n",
    "\n",
    "# We also define 32 bit floating point as the precision type \n",
    "dtype = np.float32\n",
    "\n",
    "# set the default language to openmp\n",
    "configuration['language'] = 'openmp'\n",
    "\n",
    "# set the logging to debug\n",
    "# this allows seeing the statistics computed on performance of operators\n",
    "configuration['log-level'] = 'DEBUG'"
   ]
  },
  {
   "cell_type": "markdown",
   "metadata": {},
   "source": [
    "<a id=\"ln_grid_and_model\"></a>\n",
    "## Instantiate the Devito grid for a two dimensional problem\n",
    "\n",
    "We define the grid the same as in the previous notebook outlining implementation for the nonlinear forward."
   ]
  },
  {
   "cell_type": "code",
   "execution_count": null,
   "metadata": {},
   "outputs": [],
   "source": [
    "# Define dimensions for the interior of the model\n",
    "nx,nz = 751,751\n",
    "dx,dz = 10.0,10.0                # Grid spacing in m\n",
    "shape = (nx, nz)                 # Number of grid points\n",
    "spacing = (dx, dz)               # Domain size is now 5 km by 5 km\n",
    "origin = (0., 0.)                # Origin of coordinate system, specified in m.\n",
    "extent = tuple([s*(n-1) for s, n in zip(spacing, shape)])\n",
    "\n",
    "# Define dimensions for the model padded with absorbing boundaries\n",
    "npad        = 50                 # number of points in absorbing boundary region (all sides)\n",
    "nxpad,nzpad = nx+2*npad, nz+2*npad\n",
    "shape_pad   = np.array(shape) + 2 * npad\n",
    "origin_pad  = tuple([o - s*npad for o, s in zip(origin, spacing)])\n",
    "extent_pad  = tuple([s*(n-1) for s, n in zip(spacing, shape_pad)])\n",
    "\n",
    "# Initialize the Devito grid \n",
    "x = SpaceDimension(name='x', spacing=Constant(name='h_x', value=extent_pad[0]/(shape_pad[0]-1)))\n",
    "z = SpaceDimension(name='z', spacing=Constant(name='h_z', value=extent_pad[1]/(shape_pad[1]-1)))\n",
    "grid = Grid(extent=extent_pad, shape=shape_pad, origin=origin_pad, dimensions=(x, z), dtype=dtype)\n",
    "\n",
    "print(\"shape;           \", shape)\n",
    "print(\"origin;          \", origin)\n",
    "print(\"spacing;         \", spacing)\n",
    "print(\"extent;          \", extent)\n",
    "print(\"\")\n",
    "print(\"shape_pad;       \", shape_pad)\n",
    "print(\"origin_pad;      \", origin_pad)\n",
    "print(\"extent_pad;      \", extent_pad)\n",
    "\n",
    "print(\"\")\n",
    "print(\"grid.shape;      \", grid.shape)\n",
    "print(\"grid.extent;     \", grid.extent)\n",
    "print(\"grid.spacing_map;\", grid.spacing_map)"
   ]
  },
  {
   "cell_type": "markdown",
   "metadata": {},
   "source": [
    "## Define velocity and buoyancy model parameters\n",
    "\n",
    "We have the following constants and fields from equation (1) that we define as time invariant using ```Functions```:\n",
    "\n",
    "| &nbsp; Symbol &nbsp; | Description |\n",
    "|:---:|:---|\n",
    "| $v(x,z)$ | Acoustic velocity |\n",
    "| $$b(x,z)=\\frac{1}{\\rho(x,z)}$$ | Buoyancy (reciprocal density) |"
   ]
  },
  {
   "cell_type": "code",
   "execution_count": null,
   "metadata": {},
   "outputs": [],
   "source": [
    "# Create the velocity and buoyancy fields. \n",
    "#   - We use a wholespace 1500 m/s velocity model here\n",
    "#   - These fields are scalar constants, so we use Function to define them\n",
    "#   - We specify space_order in order to establish the appropriate size halo on the edges \n",
    "space_order = 8\n",
    "v = Function(name='v', grid=grid, space_order=space_order)\n",
    "b = Function(name='b', grid=grid, space_order=space_order)\n",
    "v.data[:] = 1.5\n",
    "# v.data[:,:nzpad//2] = 1.5\n",
    "# v.data[:,nzpad//2:] = 2.5\n",
    "\n",
    "# constant density\n",
    "b.data[:,:] = 1.0 / 1000.0"
   ]
  },
  {
   "cell_type": "markdown",
   "metadata": {},
   "source": [
    "## Define the simulation time range\n",
    "\n",
    "In this notebook we run 1 second of simulation using the sample rate defined by the CFL condition as implemented in ```examples/seismic/model.py```.\n",
    "\n",
    "We also use the convenience ```TimeRange``` as defined in ```examples/seismic/source.py```."
   ]
  },
  {
   "cell_type": "code",
   "execution_count": null,
   "metadata": {},
   "outputs": [],
   "source": [
    "t0 = dtype(0.)     # Simulation time start\n",
    "tn = dtype(2000.)  # Simulation time end (1 second = 1000 msec)\n",
    "# dt = np.float32(0.2 * np.min(spacing) / np.max(v.data))\n",
    "dt = 1.0\n",
    "time_range = TimeAxis(start=t0, stop=tn, step=dt)\n",
    "print(\"Time min,max,dt,num; %10.6f %10.6f %10.6f %d\" % (t0, tn, dt, int(tn//dt) + 1))"
   ]
  },
  {
   "cell_type": "markdown",
   "metadata": {},
   "source": [
    "## Define the acquisition geometry: locations of sources and receivers \n",
    "\n",
    "**source**:\n",
    "- X coordinate: center of the model: dx*(nx//2)\n",
    "- Z coordinate: in the middle of the upper layer: dz*(nz//4)\n",
    "- We use a 10 Hz center frequency ```RickerSource``` wavelet source as defined in ```examples/seismic/source.py```\n",
    "\n",
    "**receivers**:\n",
    "- X coordinate: center of the model: dx*(nx//2)  \n",
    "- Z coordinate: vertical line from top to bottom of model\n",
    "- We use a ```Receiver``` as defined in ```examples/seismic/source.py```"
   ]
  },
  {
   "cell_type": "code",
   "execution_count": null,
   "metadata": {},
   "outputs": [],
   "source": [
    "# Source in the center of the model at 10 Hz center frequency\n",
    "fpeak = 0.010\n",
    "src = RickerSource(name='src', grid=grid, f0=fpeak, npoint=1, time_range=time_range)\n",
    "src.coordinates.data[0,0] = dx * (nx//2)\n",
    "src.coordinates.data[0,1] = dz * (nz//2)\n",
    "\n",
    "# line of receivers along the right edge of the model\n",
    "rec = Receiver(name='rec', grid=grid, npoint=nz, time_range=time_range)\n",
    "rec.coordinates.data[:,0] = dx * (nx//2)\n",
    "rec.coordinates.data[:,1] = np.linspace(0.0, dz*(nz-1), nz)\n",
    "\n",
    "print(\"src_coordinate  X;         %+12.4f\" % (src.coordinates.data[0,0]))\n",
    "print(\"src_coordinate  Z;         %+12.4f\" % (src.coordinates.data[0,1]))\n",
    "print(\"src_coordinates X min/max; %+12.4f %+12.4f\" % \\\n",
    "      (np.min(rec.coordinates.data[:,0]), np.max(rec.coordinates.data[:,0])))\n",
    "print(\"src_coordinates Z min/max; %+12.4f %+12.4f\" % \\\n",
    "      (np.min(rec.coordinates.data[:,1]), np.max(rec.coordinates.data[:,1])))\n",
    "\n",
    "# We can plot the time signature to see the wavelet\n",
    "src.show()"
   ]
  },
  {
   "cell_type": "markdown",
   "metadata": {},
   "source": [
    "## Plot velocity model\n",
    "\n",
    "Next we plot the half-space velocity model for illustration. \n",
    "- The demarcation between interior and absorbing boundary is shown with a dotted white line\n",
    "- The source is shown as a large red asterisk\n",
    "- The extent of the receiver array is shown with a thick dashed blue line"
   ]
  },
  {
   "cell_type": "code",
   "execution_count": null,
   "metadata": {},
   "outputs": [],
   "source": [
    "# note: flip sense of second dimension to make the plot positive downwards\n",
    "plt_extent = [origin_pad[0], origin_pad[0] + spacing[0]*(shape_pad[0]-1), \n",
    "              origin_pad[1] + spacing[1]*(shape_pad[1]-1), origin_pad[1]]\n",
    "\n",
    "plt.figure(1, figsize=(12,8))\n",
    "plt.clf()\n",
    "plt.imshow(np.transpose(v.data), cmap=cm.jet, vmin=1.25, vmax=1.75, extent=plt_extent)\n",
    "plt.plot([origin[0], origin[0], extent[0], extent[0], origin[0]], \n",
    "         [origin[1], extent[1], extent[1], origin[1], origin[1]], \n",
    "         'white', linewidth=4, linestyle=':', label=\"Absorbing Boundary\")\n",
    "plt.plot(rec.coordinates.data[:, 0], rec.coordinates.data[:, 1], \\\n",
    "         'blue', linewidth=5, linestyle='--', label=\"Receiver line\")\n",
    "plt.plot(src.coordinates.data[:, 0], src.coordinates.data[:, 1], \\\n",
    "         'red', linestyle='None', marker='*', markersize=15, label=\"Source\")\n",
    "ax = plt.legend(bbox_to_anchor=(1.25, 0.5), loc='upper left')\n",
    "ax.get_frame().set_color(\"gray\")\n",
    "plt.colorbar()\n",
    "plt.xlabel(\"X Coordinate (m)\", labelpad=15)\n",
    "plt.ylabel(\"Z Coordinate (m)\", labelpad=15)\n",
    "plt.title(\"Wholespace velocity model including absorbing boundary region\", y=1.025)\n",
    "plt.tight_layout()\n",
    "None"
   ]
  },
  {
   "cell_type": "markdown",
   "metadata": {},
   "source": [
    "## Define The $\\omega\\ /\\ Q(x,z)$ model used for dissipation only attenuation\n",
    "\n",
    "In the previous notebook we defined a python function used to initialize the  $\\omega\\ /\\ Q(x,z)$ profile and then used that function to populate our attenuation profile. Please see the figure in that notebook, not repeated here."
   ]
  },
  {
   "cell_type": "code",
   "execution_count": null,
   "metadata": {},
   "outputs": [],
   "source": [
    "# Initialize the attenuation profile\n",
    "w = 2.0 * np.pi * fpeak\n",
    "print(\"w,fpeak; \", w, fpeak)\n",
    "qmin = 0.1\n",
    "qmax = 100.0\n",
    "wOverQ = Function(name='wOverQ', grid=grid, space_order=space_order)\n",
    "setup_wOverQ(wOverQ, w, qmin, qmax, npad)"
   ]
  },
  {
   "cell_type": "markdown",
   "metadata": {},
   "source": [
    "## Define the pressure wavefield as a ```TimeFunction```\n",
    "\n",
    "We specify the time_order as 2, which allocates 3 time steps in the pressure wavefield. As described elsewhere, Devito will use \"cyclic indexing\" to index into this multi-dimensional array."
   ]
  },
  {
   "cell_type": "code",
   "execution_count": null,
   "metadata": {},
   "outputs": [],
   "source": [
    "# Define the TimeFunction\n",
    "p = TimeFunction(name=\"p\", grid=grid, time_order=2, space_order=space_order)\n",
    "\n",
    "# Get the dimensions and spacing for t, x, z \n",
    "t,x,z = p.dimensions\n",
    "h_t = t.spacing\n",
    "h_x = x.spacing\n",
    "h_z = z.spacing"
   ]
  },
  {
   "cell_type": "markdown",
   "metadata": {},
   "source": [
    "## Define the source injection and receiver extraction "
   ]
  },
  {
   "cell_type": "code",
   "execution_count": null,
   "metadata": {},
   "outputs": [],
   "source": [
    "# Finally we define the source injection and receiver extraction functions \n",
    "src_term = src.inject(field=p.forward, expr=src * h_t**2 * v**2 / b)\n",
    "\n",
    "# Create interpolation expression for receivers\n",
    "rec_term = rec.interpolate(expr=p.forward)"
   ]
  },
  {
   "cell_type": "markdown",
   "metadata": {},
   "source": [
    "## Finally, the Devito operator\n",
    "\n",
    "We next transcribe the time update expression above into a Devito ```Eq```. Then we add the source injection and receiver extraction and build an ```Operator``` that will generate the c++ code for performing the model.\n",
    "\n",
    "We copy the time update expression from above for clarity. Note we omit $s$ from the ```Eq``` below because we will be explicitly injecting the source using ```src_term```.\n",
    "\n",
    "$$\n",
    "\\begin{aligned}\n",
    "    P(t+\\delta t) &=\n",
    "        \\frac{\\delta t^2 v^2}{b} \\left[ \n",
    "            \\overleftarrow{\\partial x}\\left(b\\ \\overrightarrow{\\partial x} P \\right) +\n",
    "            \\overleftarrow{\\partial y}\\left(b\\ \\overrightarrow{\\partial y} P \\right) +\n",
    "            \\overleftarrow{\\partial z}\\left(b\\ \\overrightarrow{\\partial z} P \\right) + s\n",
    "        \\right] \\\\[5pt]\n",
    "        &\\quad +\\ P(t) \\left(2 - \\frac{\\delta t^2 \\omega}{Q} \\right)\n",
    "        - P(t-\\delta t) \\left(1 - \\frac{\\delta t\\ \\omega}{Q} \\right)\n",
    "\\end{aligned}\n",
    "$$"
   ]
  },
  {
   "cell_type": "code",
   "execution_count": null,
   "metadata": {},
   "outputs": [],
   "source": [
    "# NBVAL_IGNORE_OUTPUT\n",
    "eq_time_update = (h_t**2 * v**2 / b) * \\\n",
    "    ((b * p.dx(x0=x+h_x/2)).dx(x0=x-h_x/2) + \\\n",
    "     (b * p.dz(x0=z+h_z/2)).dz(x0=z-h_z/2)) + \\\n",
    "    p * (2 - h_t**2 * wOverQ) - p.backward * (1 - h_t * wOverQ)\n",
    "\n",
    "stencil = Eq(p.forward, eq_time_update)\n",
    "\n",
    "op = Operator([stencil] + src_term + rec_term, subs=p.grid.spacing_map)"
   ]
  },
  {
   "cell_type": "code",
   "execution_count": null,
   "metadata": {},
   "outputs": [],
   "source": [
    "# run the operator\n",
    "print(\"v        min/max; %+12.6e %+12.6e\" % (np.min(v.data), np.max(v.data)))\n",
    "print(\"b        min/max; %+12.6e %+12.6e\" % (np.min(b.data), np.max(b.data)))\n",
    "print(\"wOverQ   min/max; %+12.6e %+12.6e\" % (np.min(wOverQ.data), np.max(wOverQ.data)))\n",
    "print(time_range)\n",
    "summary = op(time=time_range.num-1, h_x=dx, h_z=dz, dt=dt)\n",
    "print(\"data min/max; %+12.6e %+12.6e\" % (np.min(p.data[1,:,:]), np.max(p.data[1,:,:])))"
   ]
  },
  {
   "cell_type": "markdown",
   "metadata": {},
   "source": [
    "## Plot the computed wavefield"
   ]
  },
  {
   "cell_type": "code",
   "execution_count": null,
   "metadata": {},
   "outputs": [],
   "source": [
    "# Plot the wavefield in the model\n",
    "plt.figure(1, figsize=(12,8))\n",
    "plt.clf()\n",
    "amax = np.max(np.abs(p.data[1,:,:]))\n",
    "plt.imshow(np.transpose(p.data[1,:,:]), vmin=-amax, vmax=+amax, cmap=\"seismic\", extent=plt_extent)\n",
    "plt.plot([origin[0], origin[0], extent[0], extent[0], origin[0]], \n",
    "         [origin[1], extent[1], extent[1], origin[1], origin[1]], \n",
    "         'black', linewidth=4, linestyle=':', label=\"Absorbing Boundary\")\n",
    "plt.plot(rec.coordinates.data[:, 0], rec.coordinates.data[:, 1], \\\n",
    "         'blue', linewidth=5, linestyle='--', label=\"Receiver line\")\n",
    "plt.plot(src.coordinates.data[:, 0], src.coordinates.data[:, 1], \\\n",
    "         'red', linestyle='None', marker='*', markersize=15, label=\"Source\")\n",
    "ax = plt.legend(bbox_to_anchor=(1.05, 0.5), loc='upper left')\n",
    "ax.get_frame().set_color(\"gray\")\n",
    "plt.xlabel('X coordinate (m)')\n",
    "plt.ylabel('Z coordinate (m)')\n",
    "plt.title('Model wavefield at time = %.2f msec' % (time_range.stop))\n",
    "plt.tight_layout()\n",
    "\n",
    "# Plot the receiver wavefield\n",
    "plt.figure(figsize=(8,8))\n",
    "amax = np.max(np.abs(rec.data[:])) / 10\n",
    "plt.imshow(rec.data[:,:], vmin=-amax, vmax=+amax, cmap=\"seismic\", aspect=\"auto\")\n",
    "plt.xlabel('Z coordinate (m)')\n",
    "plt.ylabel('Time (msec)')\n",
    "plt.title('Receiver wavefield')\n",
    "plt.tight_layout()"
   ]
  },
  {
   "cell_type": "markdown",
   "metadata": {},
   "source": []
  },
  {
   "cell_type": "markdown",
   "metadata": {},
   "source": [
    "## References\n",
    "\n",
    "- **Self-adjoint, energy-conserving second-order pseudoacoustic systems for VTI and TTI media for reverse time migration and full-waveform inversion** (2016)\n",
    "<br>Kenneth Bube, John Washbourne, Raymond Ergas, and Tamas Nemeth\n",
    "<br>SEG Technical Program Expanded Abstracts\n",
    "<br>https://library.seg.org/doi/10.1190/segam2016-13878451.1\n",
    "\n",
    "- **Generation of Finite Difference Formulas on Arbitrarily Spaced Grids** (1988)\n",
    "<br>Bengt Fornberg\n",
    "<br>Mathematics of Computation, Vol. 51, No. 184\n",
    "<br>http://dx.doi.org/10.1090/S0025-5718-1988-0935077-0\n",
    "<br>https://web.njit.edu/~jiang/math712/fornberg.pdf"
   ]
  },
  {
   "cell_type": "code",
   "execution_count": null,
   "metadata": {},
   "outputs": [],
   "source": []
  }
 ],
 "metadata": {
  "anaconda-cloud": {},
  "kernelspec": {
   "display_name": "Python 3",
   "language": "python",
   "name": "python3"
  },
  "language_info": {
   "codemirror_mode": {
    "name": "ipython",
    "version": 3
   },
   "file_extension": ".py",
   "mimetype": "text/x-python",
   "name": "python",
   "nbconvert_exporter": "python",
   "pygments_lexer": "ipython3",
   "version": "3.8.2"
  }
 },
 "nbformat": 4,
 "nbformat_minor": 4
}
