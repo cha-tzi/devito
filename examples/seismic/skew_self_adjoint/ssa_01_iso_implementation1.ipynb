{
 "cells": [
  {
   "cell_type": "markdown",
   "metadata": {},
   "source": [
    "# Implementation of a Devito skew self adjoint variable density visco- acoustic isotropic modeling operator <br>-- Nonlinear Ops --\n",
    "\n",
    "## This operator is contributed by Chevron Energy Technology Company (2020)\n",
    "\n",
    "This operator is based on simplfications of the systems presented in:\n",
    "<br>**Self-adjoint, energy-conserving second-order pseudoacoustic systems for VTI and TTI media for reverse time migration and full-waveform inversion** (2016)\n",
    "<br>Kenneth Bube, John Washbourne, Raymond Ergas, and Tamas Nemeth\n",
    "<br>SEG Technical Program Expanded Abstracts\n",
    "<br>https://library.seg.org/doi/10.1190/segam2016-13878451.1"
   ]
  },
  {
   "cell_type": "markdown",
   "metadata": {},
   "source": [
    "## Introduction \n",
    "\n",
    "The goal of this tutorial set is to generate and prove correctness of modeling and inversion capability in Devito for variable density visco- acoustics using an energy conserving form of the wave equation. We describe how the linearization of the energy conserving *skew self adjoint* system with respect to modeling parameters allows using the same modeling system for all nonlinear and linearized forward and adjoint finite difference evolutions. \n",
    "\n",
    "This notebook implements the nonlinear modeling operations and is the first in a set of 3, continuing with a notebook that implements the linearization and Jacobian ops ([ssa_02_iso_implementation2.ipynb](ssa_02_iso_implementation2.ipynb)), and finally a notebook that tests the correctness of the implemented operators ([ssa_03_iso_correctness.ipynb](ssa_03_iso_correctness.ipynb)). Note there are similar notebooks for VTI and TTI anisotropy modeling operators ([README.md](README.md)).\n",
    "\n",
    "Below we show the *skew self adjoint* form of the variable density scalar acoustic wave equation with a simple form of dissipation only Q attenuation. This dissipation only (no dispersion) attenuation term $\\left (\\frac{\\displaystyle \\omega}{Q} \\partial_t P \\right)$ is an approximation of a [Maxwell Body](https://en.wikipedia.org/wiki/Maxwell_material) -- that is to say viscoelasticity approximated with a spring and dashpot in series. In practice this approach for attentuating outgoing waves is very similar to the Cerjan style damping in absorbing boundaries used elsewhere in Devito ([[References]](#nl_refs)). \n",
    "\n",
    "The derivation of the attenuation model is not in scope for this tutorial, but one important point is that the physics in the absorbing boundary region and the interior of the model are *unified*, allowing the same modeling equations to be used everwhere, with physical Q values in the interior tapering to small Q at the boundaries to attentuate outgoing waves. \n",
    "\n",
    "## Outline \n",
    "1. Define symbols [[link]](#nl_symbols) \n",
    "2. Introduce the SSA wave equation [[link]](#nl_we) \n",
    "3. Show generation of skew symmetric derivatives and prove correctness with unit test [[link]](#nl_ssa_derivs) \n",
    "4. Derive the time update equation used to implement the nonlinear forward modeling operator [[link]](#nl_time_update) \n",
    "5. Create the Devito grid and model fields [[link]](#nl_grid_and_model) \n",
    "6. Define a function to implement the attenuation profile ($\\omega\\ /\\ Q$) [[link]](#nl_attenuation) \n",
    "7. Create the Devito operator [[link]](#nl_build_operator) \n",
    "8. Run the Devito operator [[link]](#nl_run_operator) \n",
    "9. Plot the resulting wavefields [[link]](#nl_plot_wavefield) \n",
    "10. References [[link]](#nl_refs) "
   ]
  },
  {
   "cell_type": "markdown",
   "metadata": {},
   "source": [
    "<a id=\"nl_symbols\"></a>\n",
    "## Table of symbols\n",
    "\n",
    "| Symbol &nbsp; &nbsp; &nbsp; &nbsp; | Description  | Dimensionality | \n",
    "| :---         | :---              | :--- |\n",
    "| $\\omega_c = 2 \\pi f_c$ | center angular frequency | constant |\n",
    "| $v(x,y,z)$   | P wave velocity    | function of space |\n",
    "| $b(x,y,z)$   | buoyancy $(1 / \\rho)$ | function of space |\n",
    "| $Q(x,y,z)$   | Attenuation at frequency $\\omega_c$ | function of space |\n",
    "| $P(t,x,y,z)$ | Pressure wavefield | function of time and space |\n",
    "| $s(t,x,y,z)$ | Source term        | function of time, localized in space |\n",
    "| $\\overleftarrow{\\partial_t}$ | shifted first derivative wrt $t$ | shifted 1/2 sample backward in time |\n",
    "| $\\partial_{tt}$ | centered second derivative wrt $t$ | time |\n",
    "| $\\overrightarrow{\\partial_x},\\overrightarrow{\\partial_y},\\overrightarrow{\\partial_z}$ | + shifted first derivative wrt $x,y,z$ | shifted 1/2 sample forward in space |\n",
    "| $\\overleftarrow{\\partial_x},\\overleftarrow{\\partial_y},\\overleftarrow{\\partial_z}$ | - shifted first derivative wrt $x,y,z$ | shifted 1/2 sample backward in space |"
   ]
  },
  {
   "cell_type": "markdown",
   "metadata": {},
   "source": [
    "## A word about notation \n",
    "\n",
    "We use the arrow symbols over derivatives $\\overrightarrow{\\partial_x}$ as a shorthand notation to indicate that the derivative is taken at a shifted location. For example:\n",
    "<br>\n",
    "\n",
    "- $\\overrightarrow{\\partial_x} P$ indicates that the $x$ derivative of $P(t,x,y,z)$ is taken at $P(t,x+\\frac{\\Delta x}{2},y,z)$.\n",
    "<br>\n",
    "\n",
    "- $\\overleftarrow{\\partial_z} P$ indicates that the $z$ derivative of $P(t,x,y,z)$ is taken at $P(t,x,y,z-\\frac{\\Delta z}{2})$.\n",
    "<br>\n",
    "\n",
    "- $\\overleftarrow{\\partial_t} P$ indicates that the $t$ derivative of $P(t,x,y,z)$ is taken at $P(t-\\frac{\\Delta t}{2},x,y,z)$."
   ]
  },
  {
   "cell_type": "markdown",
   "metadata": {},
   "source": [
    "<a id=\"nl_we\"></a>\n",
    "## SSA variable density visco- acoustic wave equation\n",
    "\n",
    "Our skew self adjoint wave equation is written:\n",
    "\n",
    "$$\n",
    "\\frac{b}{v^2} \\left( \\frac{\\omega_c}{Q} \\overleftarrow{\\partial_t} P + \\partial_{tt} P \\right) =\n",
    "    \\overleftarrow{\\partial_x}\\left(b\\ \\overrightarrow{\\partial_x} P \\right) +\n",
    "    \\overleftarrow{\\partial_y}\\left(b\\ \\overrightarrow{\\partial_y} P \\right) +\n",
    "    \\overleftarrow{\\partial_z}\\left(b\\ \\overrightarrow{\\partial_z} P \\right) + s \n",
    "$$\n",
    "\n",
    "An advantage of this form is that the same system can be used to provide stable modes of propagation for all operations needed in quasi- Newton optimization: \n",
    "\n",
    "- the nonlinear forward \n",
    "- the linearized forward (Jacobian forward)\n",
    "- the linearized adjoint (Jacobian adjoint)\n",
    "\n",
    "This advantage is more important for anisotropic operators, where widely utilized non energy conserving formulations can provide unstable adjoints and thus unstable gradients for anisotropy parameters.  \n",
    "\n",
    "The *skew self adjoint* formulation is evident in the shifted spatial derivatves, with the derivative on the right side $\\overrightarrow{\\partial}$ shifting forward in space one-half cell, and the derivative on the left side $\\overleftarrow{\\partial}$ shifting backward in space one-half cell. \n",
    "\n",
    "$\\overrightarrow{\\partial}$ and $\\overleftarrow{\\partial}$ are anti-symmetric (also known as skew symmetric), meaning that for two random vectors $x_1$ and $x_2$, correctly implementated numerical derivatives will have the following property:\n",
    "\n",
    "$$\n",
    "x_2 \\cdot \\left( \\overrightarrow{\\partial_x}\\ x_1 \\right) \\approx -\\ \n",
    "x_1 \\cdot \\left( \\overleftarrow{\\partial_x}\\ x_2 \\right) \n",
    "$$\n",
    "\n",
    "Below we will demonstrate this skew symmetry with a simple unit test on Devito generated derivatives. \n",
    "\n",
    "In the following notebooks in this series, material parameters *sandwiched* between the derivatives -- including anisotropy parameters -- become much more interesting, but here buoyancy $b$ is the only material parameter in the right hand side of our skew self adjoint (SSA) wave equation. "
   ]
  },
  {
   "cell_type": "markdown",
   "metadata": {},
   "source": [
    "## Imports \n",
    "\n",
    "We have grouped all imports used in this notebook here for consistency."
   ]
  },
  {
   "cell_type": "code",
   "execution_count": 1,
   "metadata": {},
   "outputs": [],
   "source": [
    "import numpy as np\n",
    "from examples.seismic import RickerSource, Receiver, TimeAxis\n",
    "from devito import (Grid, Function, TimeFunction, SpaceDimension, Constant, \n",
    "                    Eq, Operator, solve, configuration)\n",
    "from devito.finite_differences import Derivative\n",
    "from devito.builtins import gaussian_smooth\n",
    "from examples.seismic.skew_self_adjoint import *\n",
    "import matplotlib as mpl\n",
    "import matplotlib.pyplot as plt\n",
    "from matplotlib import cm\n",
    "from timeit import default_timer as timer\n",
    "\n",
    "# These lines force images to be displayed in the notebook, and scale up fonts \n",
    "%matplotlib inline\n",
    "mpl.rc('font', size=14)\n",
    "\n",
    "# We define 32 bit floating point as the precision type \n",
    "dtype = np.float32\n",
    "\n",
    "# Set the default language to openmp\n",
    "configuration['language'] = 'openmp'\n",
    "\n",
    "# Set logging to debug, captures statistics on the performance of operators\n",
    "configuration['log-level'] = 'DEBUG'"
   ]
  },
  {
   "cell_type": "markdown",
   "metadata": {},
   "source": [
    "<a id=\"nl_ssa_derivs\"></a>\n",
    "## Unit test demonstrating skew symmetry for shifted derivatives\n",
    "\n",
    "As noted above, we prove with a small 1D unit test and 8th order spatial operator that the Devito shifted first derivatives are skew symmetric. This anti-symmetry can demonstrated for the forward and backward half cell shift first derivative operators $\\overrightarrow{\\partial}$ and $\\overleftarrow{\\partial}$ with two random vectors $x_1$ and $x_2$ by verifying the *dot product test* also written above.\n",
    "\n",
    "We will use Devito to implement the following two equations with an ```Operator```:\n",
    "\n",
    "$$\n",
    "\\begin{aligned}\n",
    "f_2 = \\overrightarrow{\\partial_x}\\ f_1 \\\\[5pt]\n",
    "g_2 = \\overleftarrow{\\partial_x}\\ g_1\n",
    "\\end{aligned}\n",
    "$$\n",
    "\n",
    "And then verify the dot products are equivalent:  \n",
    "\n",
    "$$\n",
    "f_1 \\cdot g_2 \\approx g_1 \\cdot f_2\n",
    "$$\n",
    "\n",
    "We use the following test for relative error (note the flipped signs in numerator and denominator due to anti- symmetry):\n",
    "\n",
    "$$\n",
    "\\frac{\\displaystyle f_1 \\cdot g_2 + g_1 \\cdot f_2}\n",
    "     {\\displaystyle f_1 \\cdot g_2 - g_1 \\cdot f_2}\\ <\\ \\epsilon\n",
    "$$\n"
   ]
  },
  {
   "cell_type": "code",
   "execution_count": 2,
   "metadata": {},
   "outputs": [
    {
     "name": "stderr",
     "output_type": "stream",
     "text": [
      "Allocating memory for f1(117,)\n",
      "Allocating memory for g1(117,)\n",
      "Operator `Kernel` generated in 0.16 s\n",
      "  * lowering.Expressions: 0.09 s (59.4 %)\n",
      "  * lowering.IET: 0.04 s (26.4 %)\n",
      "Flops reduction after symbolic optimization: [62 --> 25]\n",
      "Allocating memory for f2(117,)\n",
      "Allocating memory for g2(117,)\n",
      "Operator `Kernel` fetched `/tmp/devito-jitcache-uid5138/8a11eb4be1534b4bdb8640c8c4100d243ec05e3f.c` in 0.08 s from jit-cache\n",
      "Operator `Kernel` run in 0.01 s\n",
      "* section0<101> with OI=1.51 computed in 0.01 s [0.01 GFlops/s]\n",
      "Performance[mode=advanced] arguments: {'nthreads': 16}\n"
     ]
    },
    {
     "name": "stdout",
     "output_type": "stream",
     "text": [
      "f1g2, g1f2, diff, tol; -1.433430e+00 +1.433430e+00 -1.247455e-07 +1.192093e-05\n"
     ]
    }
   ],
   "source": [
    "#NBVAL_INGNORE_OUTPUT\n",
    "# Make 1D grid to test derivatives \n",
    "n_1d = 101\n",
    "d_1d = 1.0\n",
    "shape_1d = (n_1d,)\n",
    "spacing_1d = (1/(n_1d-1),)   \n",
    "origin_1d = (0.,)\n",
    "extent_1d = (d_1d*(n_1d-1),)\n",
    "\n",
    "# Initialize Devito grid and Functions for input(f1,g1) and output(f2,g2)\n",
    "grid_1d = Grid(shape=shape_1d, extent=extent_1d, origin=origin_1d, dtype=dtype)\n",
    "x = grid_1d.dimensions[0]\n",
    "f1 = Function(name='f1', grid=grid_1d, space_order=8)\n",
    "f2 = Function(name='f2', grid=grid_1d, space_order=8)\n",
    "g1 = Function(name='g1', grid=grid_1d, space_order=8)\n",
    "g2 = Function(name='g2', grid=grid_1d, space_order=8)\n",
    "\n",
    "# Fill f1 and g1 with random values in [-1,+1]\n",
    "f1.data[:] = -1 + 2 * np.random.rand(n_1d,)\n",
    "g1.data[:] = -1 + 2 * np.random.rand(n_1d,)\n",
    "\n",
    "# Equation defining: [f2 = forward 1/2 cell shift derivative applied to f1]\n",
    "equation_f2 = Eq(f2, getattr(f1,'dx')(x+0.5*x.spacing))\n",
    "\n",
    "# Equation defining: [g2 = backward 1/2 cell shift derivative applied to g1]\n",
    "equation_g2 = Eq(g2, getattr(g1,'dx')(x-0.5*x.spacing))\n",
    "\n",
    "# Define an Operator to implement these equations and execute\n",
    "op = Operator([equation_f2, equation_g2])\n",
    "op()\n",
    "\n",
    "# Compute the dot products and the relative error\n",
    "f1g2 = np.dot(f1.data, g2.data)\n",
    "g1f2 = np.dot(g1.data, f2.data)   # skew symmetry requires this minus sign\n",
    "diff = (f1g2+g1f2)/(f1g2-g1f2)\n",
    "\n",
    "tol = 100 * np.finfo(np.float32).eps\n",
    "print(\"f1g2, g1f2, diff, tol; %+.6e %+.6e %+.6e %+.6e\" % (f1g2, g1f2, diff, tol))\n",
    "\n",
    "# At last the unit test\n",
    "# Assert these dot products are float epsilon close in relative error\n",
    "assert diff < 100 * np.finfo(np.float32).eps"
   ]
  },
  {
   "cell_type": "markdown",
   "metadata": {},
   "source": [
    "## Show the finite difference operators and generated code\n",
    "\n",
    "You can inspect the finite difference coefficients and locations for evaluation with the code shown below. \n",
    "\n",
    "Note that you don't need to inspect the generated code, but this does provide the option to use this highly optimized code in applications that do not need or require python."
   ]
  },
  {
   "cell_type": "code",
   "execution_count": 3,
   "metadata": {},
   "outputs": [
    {
     "name": "stdout",
     "output_type": "stream",
     "text": [
      "\n",
      "\n",
      "Forward +1/2 cell shift;\n",
      "..................................\n",
      "-1.19628906*f1(x)/h_x + 0.000697544643*f1(x - 3.0*h_x)/h_x - 0.0095703125*f1(x - 2.0*h_x)/h_x + 0.0797526042*f1(x - 1.0*h_x)/h_x + 1.19628906*f1(x + 1.0*h_x)/h_x - 0.0797526042*f1(x + 2.0*h_x)/h_x + 0.0095703125*f1(x + 3.0*h_x)/h_x - 0.000697544643*f1(x + 4.0*h_x)/h_x\n",
      "\n",
      "\n",
      "Backward -1/2 cell shift;\n",
      "..................................\n",
      "1.19628906*f1(x)/h_x + 0.000697544643*f1(x - 4.0*h_x)/h_x - 0.0095703125*f1(x - 3.0*h_x)/h_x + 0.0797526042*f1(x - 2.0*h_x)/h_x - 1.19628906*f1(x - 1.0*h_x)/h_x - 0.0797526042*f1(x + 1.0*h_x)/h_x + 0.0095703125*f1(x + 2.0*h_x)/h_x - 0.000697544643*f1(x + 3.0*h_x)/h_x\n",
      "\n",
      "\n",
      "Generated c++ code;\n",
      "..................................\n",
      "#define _POSIX_C_SOURCE 200809L\n",
      "#include \"stdlib.h\"\n",
      "#include \"math.h\"\n",
      "#include \"sys/time.h\"\n",
      "#include \"xmmintrin.h\"\n",
      "#include \"pmmintrin.h\"\n",
      "#include \"omp.h\"\n",
      "\n",
      "struct dataobj\n",
      "{\n",
      "  void *restrict data;\n",
      "  int * size;\n",
      "  int * npsize;\n",
      "  int * dsize;\n",
      "  int * hsize;\n",
      "  int * hofs;\n",
      "  int * oofs;\n",
      "} ;\n",
      "\n",
      "struct profiler\n",
      "{\n",
      "  double section0;\n",
      "} ;\n",
      "\n",
      "\n",
      "int Kernel(struct dataobj *restrict f1_vec, struct dataobj *restrict f2_vec, struct dataobj *restrict g1_vec, struct dataobj *restrict g2_vec, const float h_x, struct profiler * timers, const int x_M, const int x_m, const int nthreads)\n",
      "{\n",
      "  float (*restrict f1) __attribute__ ((aligned (64))) = (float (*)) f1_vec->data;\n",
      "  float (*restrict f2) __attribute__ ((aligned (64))) = (float (*)) f2_vec->data;\n",
      "  float (*restrict g1) __attribute__ ((aligned (64))) = (float (*)) g1_vec->data;\n",
      "  float (*restrict g2) __attribute__ ((aligned (64))) = (float (*)) g2_vec->data;\n",
      "  /* Flush denormal numbers to zero in hardware */\n",
      "  _MM_SET_DENORMALS_ZERO_MODE(_MM_DENORMALS_ZERO_ON);\n",
      "  _MM_SET_FLUSH_ZERO_MODE(_MM_FLUSH_ZERO_ON);\n",
      "  struct timeval start_section0, end_section0;\n",
      "  gettimeofday(&start_section0, NULL);\n",
      "  /* Begin section0 */\n",
      "  #pragma omp parallel num_threads(nthreads)\n",
      "  {\n",
      "    #pragma omp for collapse(1) schedule(dynamic,1)\n",
      "    for (int x = x_m; x <= x_M; x += 1)\n",
      "    {\n",
      "      float r2 = 1.0/h_x;\n",
      "      f2[x + 8] = r2*(3.57142857e-3F*(f1[x + 4] - f1[x + 12]) + 3.80952381e-2F*(-f1[x + 5] + f1[x + 11]) + 2.0e-1F*(f1[x + 6] - f1[x + 10]) + 8.0e-1F*(-f1[x + 7] + f1[x + 9]));\n",
      "      g2[x + 8] = r2*(3.57142857e-3F*(g1[x + 4] - g1[x + 12]) + 3.80952381e-2F*(-g1[x + 5] + g1[x + 11]) + 2.0e-1F*(g1[x + 6] - g1[x + 10]) + 8.0e-1F*(-g1[x + 7] + g1[x + 9]));\n",
      "    }\n",
      "  }\n",
      "  /* End section0 */\n",
      "  gettimeofday(&end_section0, NULL);\n",
      "  timers->section0 += (double)(end_section0.tv_sec-start_section0.tv_sec)+(double)(end_section0.tv_usec-start_section0.tv_usec)/1000000;\n",
      "  return 0;\n",
      "}\n",
      "\n"
     ]
    }
   ],
   "source": [
    "#NBVAL_INGNORE_OUTPUT\n",
    "\n",
    "# Show the FD coefficients generated by Devito \n",
    "# for the forward 1/2 cell shifted first derivative operator\n",
    "print(\"\\n\\nForward +1/2 cell shift;\")\n",
    "print(\"..................................\")\n",
    "print(f1.dx(x0=x+0.5*x.spacing).evaluate)\n",
    "\n",
    "# Show the FD coefficients generated by Devito \n",
    "# for the backward 1/2 cell shifted first derivative operator\n",
    "print(\"\\n\\nBackward -1/2 cell shift;\")\n",
    "print(\"..................................\")\n",
    "print(f1.dx(x0=x-0.5*x.spacing).evaluate)\n",
    "\n",
    "# Show code generated by Devito for applying the derivatives\n",
    "print(\"\\n\\nGenerated c++ code;\")\n",
    "print(\"..................................\")\n",
    "print(op.ccode)"
   ]
  },
  {
   "cell_type": "markdown",
   "metadata": {},
   "source": [
    "<a id=\"nl_time_update\"></a>\n",
    "## Doing some algebra to solve for the time update\n",
    "\n",
    "The next step in implementing our Devito modeling operator is to define the equation used to update the pressure wavefield as a function of time. What follows is a bit of algebra using the wave equation and finite difference approximations to time derivatives to express the pressure wavefield forward in time $P(t+\\delta t)$ as a function of the current $P(t)$ and previous $P(t-\\delta t)$ pressure wavefields.\n",
    "\n",
    "#### 1. Numerical approximation for $\\partial_{tt}P$\n",
    "The second order accurate centered approximation to the second time derivative involves three wavefields: $P(t-\\delta t)$, $P(t)$, and $P(t+\\delta t)$. \n",
    "\n",
    "$$\n",
    "\\partial_{tt} P = \\frac{\\displaystyle P(t+\\delta t) - 2 P(t) + P(t-\\delta t)}{\\displaystyle \\delta t^2} \n",
    "$$\n",
    "\n",
    "#### 2. Solve equation for $P(t+\\delta t)$\n",
    "In order to advance our finite difference solution in time, we solve for $P(t+\\delta t)$.\n",
    "\n",
    "$$\n",
    "P(t+\\delta t) = \\delta t^2 \\partial_{tt} P \n",
    "    + 2 P(t) - P(t-\\delta t)\n",
    "$$\n",
    "\n",
    "#### 3. Numerical approximation for $\\overleftarrow{\\partial_{t}}P$\n",
    "The argument for using a backward approximation is a bit hand wavy, but goes like this: a centered or forward approximation for $\\partial_{t}P$ would involve the term $P(t+\\delta t)$, and hence $P(t+\\delta t)$ would appear at two places in our time update equation below, essentially making the form implicit (although it would be easy to solve for $P(t+\\delta t)$). \n",
    "\n",
    "We are interested in explicit time stepping and the correct behavior of the attenuation term, and so prefer the backward approximation for $\\overleftarrow{\\partial_{t}}P$. Our experience is that the use of the backward difference is more stable than forward or centered.\n",
    "\n",
    "The first order accurate backward approximation to the first time derivative involves two wavefields: $P(t-\\delta t)$, and $P(t)$. We can use this expression as is. \n",
    "\n",
    "$$\n",
    "\\overleftarrow{\\partial_{t}}P = \\frac{\\displaystyle P(t) - P(t-\\delta t)}{\\displaystyle \\delta t}\n",
    "$$\n",
    "\n",
    "#### 4. Solve the wave equation for $\\partial_{tt}P$\n",
    "\n",
    "$$\n",
    "\\begin{aligned}\n",
    "\\frac{b}{v^2} \\left( \\frac{\\omega_c}{Q} \\overleftarrow{\\partial_{t}}P +\n",
    "    \\partial_{tt}P \\right) &=\n",
    "    \\overleftarrow{\\partial_x}\\left(b\\ \\overrightarrow{\\partial_x} P \\right) +\n",
    "    \\overleftarrow{\\partial_y}\\left(b\\ \\overrightarrow{\\partial_y} P \\right) +\n",
    "    \\overleftarrow{\\partial_z}\\left(b\\ \\overrightarrow{\\partial_z} P \\right) + s\\\\[10pt]\n",
    "    \\partial_{tt}P &=\n",
    "    \\frac{v^2}{b} \\left[ \n",
    "        \\overleftarrow{\\partial_x}\\left(b\\ \\overrightarrow{\\partial_x} P \\right) +\n",
    "        \\overleftarrow{\\partial_y}\\left(b\\ \\overrightarrow{\\partial_y} P \\right) +\n",
    "        \\overleftarrow{\\partial_z}\\left(b\\ \\overrightarrow{\\partial_z} P \\right) + s\n",
    "    \\right] \n",
    "    - \\frac{\\omega_c}{Q} \\overleftarrow{\\partial_{t}}P\n",
    "\\end{aligned}\n",
    "$$\n",
    "\n",
    "#### 5. Plug in the RHS from steps (3) and (4) into the time update equation\n",
    "Next we plug in the right hand sides for $\\partial_{tt}P$ and $\\partial_{t}P$ into the the time update expression for $P(t+\\delta t)$ from step 2.\n",
    "\n",
    "$$\n",
    "\\begin{aligned}\n",
    "    P(t+\\delta t) &= \\delta t^2 \n",
    "        \\frac{v^2}{b} \\left[ \n",
    "            \\overleftarrow{\\partial_x}\\left(b\\ \\overrightarrow{\\partial_x} P \\right) +\n",
    "            \\overleftarrow{\\partial_y}\\left(b\\ \\overrightarrow{\\partial_y} P \\right) +\n",
    "            \\overleftarrow{\\partial_z}\\left(b\\ \\overrightarrow{\\partial_z} P \\right) + s\n",
    "        \\right] \\\\[10pt]\n",
    "        & \\quad -\\ \\delta t^2 \\frac{\\omega_c}{Q}\n",
    "            \\left( \\frac{\\displaystyle P(t) - P(t-\\delta t)}{\\displaystyle \\delta t} \\right) \n",
    "            + 2 P(t) - P(t-\\delta t)\n",
    "\\end{aligned}\n",
    "$$\n",
    "\n",
    "#### 6. Simplify ...\n",
    "\n",
    "$$\n",
    "\\begin{aligned}\n",
    "    P(t+\\delta t) &=\n",
    "        \\frac{\\delta t^2 v^2}{b} \\left[ \n",
    "            \\overleftarrow{\\partial_x}\\left(b\\ \\overrightarrow{\\partial_x} P \\right) +\n",
    "            \\overleftarrow{\\partial_y}\\left(b\\ \\overrightarrow{\\partial_y} P \\right) +\n",
    "            \\overleftarrow{\\partial_z}\\left(b\\ \\overrightarrow{\\partial_z} P \\right) + s\n",
    "        \\right] \\\\[10pt]\n",
    "        &\\quad -\\ \\frac{\\delta t\\ \\omega_c}{Q} \\Bigr[P(t) - P(t-\\delta t)\\Bigr] \n",
    "        + 2 P(t) - P(t-\\delta t)\n",
    "\\end{aligned}\n",
    "$$\n",
    "\n",
    "#### 7. et voila ...\n",
    "The last equation is how we update the pressure wavefield at each time step, and depends on $P(t)$ and $P(t-\\delta t)$. \n",
    "\n",
    "The main work of the finite difference explicit time stepping is evaluating the nested spatial derivative operators on the RHS of this equation. The particular advantage of Devito symbolic optimization is that Devito is able to solve for the complicated expressions that result from substituting the discrete forms of high order numerical finite difference approximations for these nested spatial derivatives.\n",
    "\n",
    "We have now completed the maths required to implement the modeling operator. The remainder of this notebook deals with setting up and using the required Devito objects.\n"
   ]
  },
  {
   "cell_type": "markdown",
   "metadata": {},
   "source": [
    "<a id=\"nl_grid_and_model\"></a>\n",
    "## Instantiate the Devito grid for a two dimensional problem\n",
    "\n",
    "Define the dimensions and coordinates for the model. The computational domain of the model is surrounded by an *absorbing boundary region* where we implement boundary conditions to eliminate outgoing waves. We define the sizes for the interior of the model ```nx``` and ```nz```, the width of the absorbing boundary region ```npad```, and the sizes for the entire model padded with absorbing boundaries become ```nxpad = nx + 2*npad``` and ```nzpad = nz + 2*npad```."
   ]
  },
  {
   "cell_type": "code",
   "execution_count": 4,
   "metadata": {},
   "outputs": [
    {
     "name": "stdout",
     "output_type": "stream",
     "text": [
      "shape;            (751, 751)\n",
      "origin;           (0.0, 0.0)\n",
      "spacing;          (10.0, 10.0)\n",
      "extent;           (7500.0, 7500.0)\n",
      "\n",
      "shape_pad;        [851 851]\n",
      "origin_pad;       (-500.0, -500.0)\n",
      "extent_pad;       (8500.0, 8500.0)\n",
      "\n",
      "grid.shape;       (851, 851)\n",
      "grid.extent;      (8500.0, 8500.0)\n",
      "grid.spacing_map; {h_x: 10.0, h_z: 10.0}\n"
     ]
    }
   ],
   "source": [
    "# Define dimensions for the interior of the model\n",
    "nx,nz = 751,751\n",
    "dx,dz = 10.0,10.0                # Grid spacing in m\n",
    "shape = (nx, nz)                 # Number of grid points\n",
    "spacing = (dx, dz)               # Domain size is now 5 km by 5 km\n",
    "origin = (0., 0.)                # Origin of coordinate system, specified in m.\n",
    "extent = tuple([s*(n-1) for s, n in zip(spacing, shape)])\n",
    "\n",
    "# Define dimensions for the model padded with absorbing boundaries\n",
    "npad        = 50                 # number of points in absorbing boundary region (all sides)\n",
    "nxpad,nzpad = nx+2*npad, nz+2*npad\n",
    "shape_pad   = np.array(shape) + 2 * npad\n",
    "origin_pad  = tuple([o - s*npad for o, s in zip(origin, spacing)])\n",
    "extent_pad  = tuple([s*(n-1) for s, n in zip(spacing, shape_pad)])\n",
    "\n",
    "# Define the dimensions \n",
    "# Note if you do not specify dimensions, you get in order x,y,z\n",
    "x = SpaceDimension(name='x', spacing=Constant(name='h_x', value=extent_pad[0]/(shape_pad[0]-1)))\n",
    "z = SpaceDimension(name='z', spacing=Constant(name='h_z', value=extent_pad[1]/(shape_pad[1]-1)))\n",
    "\n",
    "# Initialize the Devito grid \n",
    "grid = Grid(extent=extent_pad, shape=shape_pad, origin=origin_pad, dimensions=(x, z), dtype=dtype)\n",
    "\n",
    "print(\"shape;           \", shape)\n",
    "print(\"origin;          \", origin)\n",
    "print(\"spacing;         \", spacing)\n",
    "print(\"extent;          \", extent)\n",
    "print(\"\")\n",
    "print(\"shape_pad;       \", shape_pad)\n",
    "print(\"origin_pad;      \", origin_pad)\n",
    "print(\"extent_pad;      \", extent_pad)\n",
    "\n",
    "print(\"\")\n",
    "print(\"grid.shape;      \", grid.shape)\n",
    "print(\"grid.extent;     \", grid.extent)\n",
    "print(\"grid.spacing_map;\", grid.spacing_map)"
   ]
  },
  {
   "cell_type": "markdown",
   "metadata": {},
   "source": [
    "## Define velocity and buoyancy model parameters\n",
    "\n",
    "We have the following constants and fields from our SSA wave equation that we define as time invariant using ```Functions```:\n",
    "\n",
    "| &nbsp; Symbol &nbsp; | Description |\n",
    "| :---: | :--- |\n",
    "| $v(x,z)$ | Acoustic velocity |\n",
    "| $$b(x,z)=\\frac{1}{\\rho(x,z)}$$ | Buoyancy (reciprocal density) |"
   ]
  },
  {
   "cell_type": "code",
   "execution_count": 5,
   "metadata": {},
   "outputs": [
    {
     "name": "stderr",
     "output_type": "stream",
     "text": [
      "Allocating memory for v(867, 867)\n",
      "Allocating memory for b(867, 867)\n"
     ]
    }
   ],
   "source": [
    "# Create the velocity and buoyancy fields. \n",
    "#   - We use a wholespace 1500 m/s velocity model here\n",
    "#   - These are scalar fields so we use Function to define them\n",
    "#   - We specify space_order to establish the appropriate size halo on the edges \n",
    "space_order = 8\n",
    "\n",
    "# Wholespace velocity\n",
    "v = Function(name='v', grid=grid, space_order=space_order)\n",
    "v.data[:] = 1.5\n",
    "\n",
    "# Constant density\n",
    "b = Function(name='b', grid=grid, space_order=space_order)\n",
    "b.data[:,:] = 1.0 / 1000.0"
   ]
  },
  {
   "cell_type": "markdown",
   "metadata": {},
   "source": [
    "## Define the simulation time range\n",
    "\n",
    "In this notebook we run 2 seconds of simulation using the sample rate related to the CFL condition as implemented in ```examples/seismic/model.py```. \n",
    "\n",
    "**Important note** smaller Q values in highly viscous media may require smaller temporal sampling rates than a non-viscous medium to achieve dispersion free propagation. This is a cost of the visco- acoustic modification we use here.\n",
    "\n",
    "We also use the convenience ```TimeRange``` as defined in ```examples/seismic/source.py```."
   ]
  },
  {
   "cell_type": "code",
   "execution_count": 6,
   "metadata": {},
   "outputs": [
    {
     "name": "stdout",
     "output_type": "stream",
     "text": [
      "Time min, max, dt, num;   0.000000 2000.000000   2.533333 790\n",
      "time_range;  TimeAxis: start=0, stop=2001.33, step=2.53333, num=791\n"
     ]
    }
   ],
   "source": [
    "t0 = dtype(0.)     # Simulation time start\n",
    "tn = dtype(2000.)  # Simulation time end (1 second = 1000 msec)\n",
    "dt = np.float32(0.38 * np.min(spacing) / np.max(v.data))\n",
    "# dt = np.float32(0.19 * np.min(spacing) / np.max(v.data))\n",
    "# dt = 2.0\n",
    "# dt = 1.0\n",
    "# dt = 0.5\n",
    "time_range = TimeAxis(start=t0, stop=tn, step=dt)\n",
    "print(\"Time min, max, dt, num; %10.6f %10.6f %10.6f %d\" % (t0, tn, dt, int(tn//dt) + 1))\n",
    "print(\"time_range; \", time_range)"
   ]
  },
  {
   "cell_type": "markdown",
   "metadata": {},
   "source": [
    "## Define the acquisition geometry: locations of sources and receivers \n",
    "\n",
    "**source**:\n",
    "- X coordinate: center of the model: dx*(nx//2)\n",
    "- Z coordinate: in the middle of the upper layer: dz*(nz//4)\n",
    "- We use a 10 Hz center frequency [RickerSource](https://github.com/devitocodes/devito/blob/master/examples/seismic/source.py#L280) wavelet source as defined in ```examples/seismic/source.py```\n",
    "\n",
    "**receivers**:\n",
    "- X coordinate: center of the model: dx*(nx//2)  \n",
    "- Z coordinate: vertical line from top to bottom of model\n",
    "- We use a [Receiver](https://github.com/devitocodes/devito/blob/master/examples/seismic/source.py#L80) as defined with a ```PointSource``` in ```examples/seismic/source.py```"
   ]
  },
  {
   "cell_type": "code",
   "execution_count": 7,
   "metadata": {},
   "outputs": [
    {
     "name": "stderr",
     "output_type": "stream",
     "text": [
      "Allocating memory for src(791, 1)\n",
      "Allocating memory for src_coords(1, 2)\n",
      "Allocating memory for rec_coords(751, 2)\n"
     ]
    },
    {
     "name": "stdout",
     "output_type": "stream",
     "text": [
      "src_coordinate  X;           +3750.0000\n",
      "src_coordinate  Z;           +3750.0000\n",
      "src_coordinates X min/max;   +3750.0000   +3750.0000\n",
      "src_coordinates Z min/max;      +0.0000   +7500.0000\n"
     ]
    },
    {
     "data": {
      "image/png": "[encoded data removed]",
      "text/plain": [
       "<Figure size 432x288 with 1 Axes>"
      ]
     },
     "metadata": {
      "needs_background": "light"
     },
     "output_type": "display_data"
    }
   ],
   "source": [
    "# Source in the center of the model at 10 Hz center frequency\n",
    "fpeak = 0.010\n",
    "src = RickerSource(name='src', grid=grid, f0=fpeak, npoint=1, time_range=time_range)\n",
    "src.coordinates.data[0,0] = dx * (nx//2)\n",
    "src.coordinates.data[0,1] = dz * (nz//2)\n",
    "\n",
    "# line of receivers along the right edge of the model\n",
    "rec = Receiver(name='rec', grid=grid, npoint=nz, time_range=time_range)\n",
    "rec.coordinates.data[:,0] = dx * (nx//2)\n",
    "rec.coordinates.data[:,1] = np.linspace(0.0, dz*(nz-1), nz)\n",
    "\n",
    "print(\"src_coordinate  X;         %+12.4f\" % (src.coordinates.data[0,0]))\n",
    "print(\"src_coordinate  Z;         %+12.4f\" % (src.coordinates.data[0,1]))\n",
    "print(\"src_coordinates X min/max; %+12.4f %+12.4f\" % \\\n",
    "      (np.min(rec.coordinates.data[:,0]), np.max(rec.coordinates.data[:,0])))\n",
    "print(\"src_coordinates Z min/max; %+12.4f %+12.4f\" % \\\n",
    "      (np.min(rec.coordinates.data[:,1]), np.max(rec.coordinates.data[:,1])))\n",
    "\n",
    "# We can plot the time signature to see the wavelet\n",
    "src.show()"
   ]
  },
  {
   "cell_type": "markdown",
   "metadata": {},
   "source": [
    "## Plot velocity model\n",
    "\n",
    "Next we plot the half-space velocity model for illustration. \n",
    "- The demarcation between interior and absorbing boundary is shown with a dotted white line\n",
    "- The source is shown as a large red asterisk\n",
    "- The extent of the receiver array is shown with a thick dashed blue line"
   ]
  },
  {
   "cell_type": "code",
   "execution_count": 8,
   "metadata": {},
   "outputs": [
    {
     "data": {
      "image/png": "[encoded data removed]",
      "text/plain": [
       "<Figure size 864x576 with 2 Axes>"
      ]
     },
     "metadata": {
      "needs_background": "light"
     },
     "output_type": "display_data"
    }
   ],
   "source": [
    "# note: flip sense of second dimension to make the plot positive downwards\n",
    "plt_extent = [origin_pad[0], origin_pad[0] + spacing[0]*(shape_pad[0]-1), \n",
    "              origin_pad[1] + spacing[1]*(shape_pad[1]-1), origin_pad[1]]\n",
    "\n",
    "plt.figure(1, figsize=(12,8))\n",
    "plt.clf()\n",
    "plt.imshow(np.transpose(v.data), cmap=cm.jet, vmin=1.4, vmax=1.7, extent=plt_extent)\n",
    "plt.plot([origin[0], origin[0], extent[0], extent[0], origin[0]], \n",
    "         [origin[1], extent[1], extent[1], origin[1], origin[1]], \n",
    "         'black', linewidth=4, linestyle=':', label=\"Absorbing Boundary\")\n",
    "plt.plot(rec.coordinates.data[:, 0], rec.coordinates.data[:, 1], \\\n",
    "         'blue', linewidth=5, linestyle='--', label=\"Receiver line\")\n",
    "plt.plot(src.coordinates.data[:, 0], src.coordinates.data[:, 1], \\\n",
    "         'red', linestyle='None', marker='*', markersize=15, label=\"Source\")\n",
    "ax = plt.legend(bbox_to_anchor=(1.25, 0.5), loc='upper left')\n",
    "ax.get_frame().set_color(\"gray\")\n",
    "plt.colorbar()\n",
    "plt.xlabel(\"X Coordinate (m)\", labelpad=15)\n",
    "plt.ylabel(\"Z Coordinate (m)\", labelpad=15)\n",
    "plt.title(\"Wholespace velocity model including absorbing boundary region\", y=1.025)\n",
    "plt.tight_layout()\n",
    "None"
   ]
  },
  {
   "cell_type": "markdown",
   "metadata": {},
   "source": [
    "<a id=\"nl_attenuation\"></a>\n",
    "## Create and plot the $\\omega_c\\ /\\ Q(x,z)$ model used for dissipation only attenuation\n",
    "\n",
    "We have two remaining constants and fields from our SSA wave equation that we need to define and instantiate:\n",
    "\n",
    "| &nbsp; Symbol &nbsp; | Description |\n",
    "| :---: | :--- |\n",
    "| $\\omega_c = 2 \\pi f_c$      | Center angular frequency |\n",
    "| $$\\frac{1}{Q(x,z)}$$ | Inverse Q model used in the modeling system |\n",
    "\n",
    "The strategy we use is designed to eliminate any corners or edges in the attentuation profile. We do this by making Q as a function of *distance from the nearest boundary*. \n",
    "\n",
    "We have implemented the function ```setup_wOverQ``` for 2D and 3D fields in the file ```utils.py```, and will use it below. In Devito these fields are type ```Function```, a concrete implementation of ```AbstractFunction```. \n",
    "\n",
    "Feel free to inspect the source at [utils.py](utils.py). \n",
    "\n",
    "Note that we will generate two Q models, one with strong attenuation and one with moderate attenuation -- here Q values of 25 and 100 -- in order to demonstrate the impact of attenuation on the amplitude in the receiver gathers plotted near the end of this notebook below. "
   ]
  },
  {
   "cell_type": "code",
   "execution_count": 9,
   "metadata": {},
   "outputs": [
    {
     "name": "stderr",
     "output_type": "stream",
     "text": [
      "Allocating memory for wOverQ_025(867, 867)\n",
      "Allocating memory for f_c(947, 947)\n"
     ]
    },
    {
     "name": "stdout",
     "output_type": "stream",
     "text": [
      "w,fpeak;  0.06283185307179587 0.01\n"
     ]
    },
    {
     "name": "stderr",
     "output_type": "stream",
     "text": [
      "Operator `smooth` generated in 0.51 s\n",
      "  * lowering.Expressions: 0.23 s (45.4 %)\n",
      "  * lowering.Clusters: 0.15 s (29.6 %)\n",
      "Flops reduction after symbolic optimization: [130 --> 98]\n",
      "Allocating memory for f_o(885, 885)\n",
      "Operator `smooth` fetched `/tmp/devito-jitcache-uid5138/740485db37ef92aad2a2e993522472be117304fa.c` in 0.08 s from jit-cache\n",
      "Operator `smooth` run in 0.01 s\n",
      "* section0<<16,883>,<16,883>,<851,851>,<851,851>,<883,16>,<883,16>,<851,851>,<851,851>> with OI=0.01 computed in 0.01 s [14.54 GFlops/s]\n",
      "Performance[mode=advanced] arguments: {'nthreads': 16}\n",
      "Allocating memory for wOverQ_100(867, 867)\n",
      "Allocating memory for f_c(947, 947)\n"
     ]
    },
    {
     "name": "stdout",
     "output_type": "stream",
     "text": [
      "setup_wOverQ ran in 0.8457 seconds -- min/max Q values; 0.1000 25.0000\n"
     ]
    },
    {
     "name": "stderr",
     "output_type": "stream",
     "text": [
      "Operator `smooth` generated in 0.45 s\n",
      "  * lowering.Expressions: 0.17 s (38.3 %)\n",
      "  * lowering.Clusters: 0.15 s (33.8 %)\n",
      "  * lowering.IET: 0.10 s (22.6 %)\n",
      "Flops reduction after symbolic optimization: [130 --> 98]\n",
      "Allocating memory for f_o(885, 885)\n",
      "Operator `smooth` fetched `/tmp/devito-jitcache-uid5138/740485db37ef92aad2a2e993522472be117304fa.c` in 0.08 s from jit-cache\n",
      "Operator `smooth` run in 0.01 s\n",
      "* section0<<16,883>,<16,883>,<851,851>,<851,851>,<883,16>,<883,16>,<851,851>,<851,851>> with OI=0.01 computed in 0.01 s [15.39 GFlops/s]\n",
      "Performance[mode=advanced] arguments: {'nthreads': 16}\n"
     ]
    },
    {
     "name": "stdout",
     "output_type": "stream",
     "text": [
      "setup_wOverQ ran in 0.7794 seconds -- min/max Q values; 0.1000 100.0000\n",
      "p0;  [0.05  0.125 0.45  0.88 ]\n",
      "p1;  [0.55  0.125 0.95  0.88 ]\n"
     ]
    },
    {
     "data": {
      "image/png": "[encoded data removed]",
      "text/plain": [
       "<Figure size 864x576 with 3 Axes>"
      ]
     },
     "metadata": {
      "needs_background": "light"
     },
     "output_type": "display_data"
    }
   ],
   "source": [
    "#NBVAL_INGNORE_OUTPUT\n",
    "# Initialize the attenuation profile for Q=25 and Q=100 models\n",
    "w = 2.0 * np.pi * fpeak\n",
    "print(\"w,fpeak; \", w, fpeak)\n",
    "qmin = 0.1\n",
    "\n",
    "wOverQ_025 = Function(name='wOverQ_025', grid=grid, space_order=space_order)\n",
    "wOverQ_100 = Function(name='wOverQ_100', grid=grid, space_order=space_order)\n",
    "\n",
    "setup_wOverQ(wOverQ_025, w, qmin, 25.0, npad)\n",
    "setup_wOverQ(wOverQ_100, w, qmin, 100.0, npad)\n",
    "\n",
    "# Plot the log of the generated Q profile\n",
    "q025 = np.log10(w / wOverQ_025.data)\n",
    "q100 = np.log10(w / wOverQ_100.data)\n",
    "lmin, lmax = np.log10(qmin), np.log10(100)\n",
    "\n",
    "fig, ax = plt.subplots(1, 2, figsize=(12, 8))\n",
    "plt.subplots_adjust(left=0.05, right=0.95, wspace=0.25)\n",
    "\n",
    "plt.subplot(1,2,1)\n",
    "im025 = plt.imshow(np.transpose(q025.data), cmap=cm.jet_r, vmin=lmin, vmax=lmax, extent=plt_extent)\n",
    "plt.plot([origin[0], origin[0], extent[0], extent[0], origin[0]], \n",
    "         [origin[1], extent[1], extent[1], origin[1], origin[1]], \n",
    "         'white', linewidth=4, linestyle=':', label=\"Absorbing Boundary\")\n",
    "plt.xlabel(\"X Coordinate (m)\", labelpad=15)\n",
    "plt.ylabel(\"Z Coordinate (m)\", labelpad=15)\n",
    "plt.title(\"log10 of $Q=25$ model\", y=1.035)\n",
    "# plt.colorbar()\n",
    "\n",
    "plt.subplot(1,2,2)\n",
    "im100 = plt.imshow(np.transpose(q100.data), cmap=cm.jet_r, vmin=lmin, vmax=lmax, extent=plt_extent)\n",
    "plt.plot([origin[0], origin[0], extent[0], extent[0], origin[0]], \n",
    "         [origin[1], extent[1], extent[1], origin[1], origin[1]], \n",
    "         'white', linewidth=4, linestyle=':', label=\"Absorbing Boundary\")\n",
    "plt.xlabel(\"X Coordinate (m)\", labelpad=15)\n",
    "plt.ylabel(\"Z Coordinate (m)\", labelpad=15)\n",
    "plt.title(\"log10 of $Q=100$ model\", y=1.025)\n",
    "\n",
    "plt.draw()\n",
    "p0 = ax[0].get_position().get_points().flatten()\n",
    "p1 = ax[1].get_position().get_points().flatten()\n",
    "print(\"p0; \", p0)\n",
    "print(\"p1; \", p1)\n",
    "ax_cbar = fig.add_axes([p0[0], 0, p1[2]-p0[0], 0.05])\n",
    "cbar = plt.colorbar(im100, cax=ax_cbar, orientation='horizontal')\n",
    "cbar.set_label('Log10 of Q(x,z)', labelpad=-75, y=1.035, rotation=0)\n",
    "None"
   ]
  },
  {
   "cell_type": "markdown",
   "metadata": {},
   "source": [
    "## Define the pressure wavefield as a ```TimeFunction```\n",
    "\n",
    "We specify the time_order as 2, which allocates 3 time steps in the pressure wavefield. As described elsewhere, Devito will use \"cyclic indexing\" to index into this multi-dimensional array. \n",
    "\n",
    "This [FAQ entry](https://github.com/devitocodes/devito/wiki/FAQ#as-time-increases-in-the-finite-difference-evolution-are-wavefield-arrays-swapped-as-you-might-see-in-cc-code) explains in more detail.\n",
    "\n",
    "Note that we make two ```TimeFunction``` as we will be running two operators for two different Q models."
   ]
  },
  {
   "cell_type": "code",
   "execution_count": 10,
   "metadata": {},
   "outputs": [],
   "source": [
    "# Define the TimeFunction\n",
    "p = TimeFunction(name=\"p\", grid=grid, time_order=2, space_order=space_order)\n",
    "\n",
    "# Get the symbols for dimensions for t, x, z \n",
    "# We need these below in order to write the source injection and the\n",
    "#   time update equation\n",
    "t,x,z = p.dimensions"
   ]
  },
  {
   "cell_type": "markdown",
   "metadata": {},
   "source": [
    "## Define the source injection and receiver extraction \n",
    "\n",
    "If you examine the equation for the time update we derived above you will see that the source $s$ is scaled by the term $\\frac{\\delta t^2 v^2}{b}$. You will see that scaling term in the source injection below, and for $\\delta t^2$ we use ```t.spacing**2```. \n",
    "\n",
    "Note that source injection and receiver extraction are accomplished via bi/tri linear interpolation, as implemented in ```SparseTimeFunction``` in [sparse.py](https://github.com/devitocodes/devito/blob/master/devito/types/sparse.py#L747).\n"
   ]
  },
  {
   "cell_type": "code",
   "execution_count": 11,
   "metadata": {},
   "outputs": [],
   "source": [
    "# Finally we define the source injection and receiver extraction functions \n",
    "src_term = src.inject(field=p.forward, expr=src * t.spacing**2 * v**2 / b)\n",
    "\n",
    "# Create interpolation expression for receivers\n",
    "rec_term = rec.interpolate(expr=p.forward)"
   ]
  },
  {
   "cell_type": "markdown",
   "metadata": {},
   "source": [
    "<a id=\"nl_build_operator\"></a>\n",
    "## Finally, the Devito operators\n",
    "\n",
    "We next transcribe the time update expression above into a Devito ```Eq```. Then we add the source injection and receiver extraction and build an ```Operator``` that will generate the c++ code for performing the modeling.\n",
    "\n",
    "We copy the time update expression from above for clarity. Note we omit $s$ from the ```Eq``` below because we will be explicitly injecting the source using ```src_term```. However, for the linearized operations *Born modeling* and *Born migration*, the $s$ term is an appropriately scaled field, as shown in the next notebook in this series.  \n",
    "\n",
    "$$\n",
    "\\begin{aligned}\n",
    "    P(t+\\delta t) &=\n",
    "        \\frac{\\delta t^2 v^2}{b} \\left[ \n",
    "            \\overleftarrow{\\partial_x}\\left(b\\ \\overrightarrow{\\partial_x} P \\right) +\n",
    "            \\overleftarrow{\\partial_y}\\left(b\\ \\overrightarrow{\\partial_y} P \\right) +\n",
    "            \\overleftarrow{\\partial_z}\\left(b\\ \\overrightarrow{\\partial_z} P \\right) + s\n",
    "        \\right] \\\\[10pt]\n",
    "        &\\quad -\\ \\frac{\\delta t\\ \\omega_c}{Q} \\Bigr[P(t) - P(t-\\delta t)\\Bigr] \n",
    "        + 2 P(t) - P(t-\\delta t)\n",
    "\\end{aligned}\n",
    "$$"
   ]
  },
  {
   "cell_type": "code",
   "execution_count": 12,
   "metadata": {},
   "outputs": [
    {
     "name": "stderr",
     "output_type": "stream",
     "text": [
      "Operator `Kernel` generated in 1.49 s\n",
      "  * lowering.Expressions: 0.87 s (58.5 %)\n",
      "  * lowering.Clusters: 0.33 s (22.2 %)\n",
      "Flops reduction after symbolic optimization: [299 --> 69]\n"
     ]
    }
   ],
   "source": [
    "#NBVAL_INGNORE_OUTPUT\n",
    "\n",
    "# Generate the time update equation and operator for Q=25 model\n",
    "eq_time_update = (t.spacing**2 * v**2 / b) * \\\n",
    "    ((b * p.dx(x0=x+x.spacing/2)).dx(x0=x-x.spacing/2) + \\\n",
    "     (b * p.dz(x0=z+z.spacing/2)).dz(x0=z-z.spacing/2)) - \\\n",
    "    t.spacing * wOverQ_025 * (p - p.backward) + 2 * p - p.backward\n",
    "\n",
    "stencil = Eq(p.forward, eq_time_update)\n",
    "\n",
    "# op = Operator([stencil] + src_term + rec_term)\n",
    "op = Operator([stencil] + src_term + rec_term, subs=p.grid.spacing_map)"
   ]
  },
  {
   "cell_type": "markdown",
   "metadata": {},
   "source": [
    "## Impact of hardwiring the grid spacing on operation count\n",
    "\n",
    "The argument ```subs=p.grid.spacing_map``` passed to the operator substitutes values for the current grid spacing into the expressions before code generation. This reduces the number of floating point operations executed by the kernel by pre-evaluating certain coefficients, or possibly absorbing the spacing scalars into the finite difference coefficients.  \n",
    "\n",
    "If you run the two cases of passing/not passing the ```subs=p.grid.spacing_map``` argument by commenting/un-commenting the last two lines of the cell immediately above, you can inspect the difference in computed flop count for the operator. Note also if you inspect the generated code for the two cases, you will see extra calling parameters are required for the case without the substitution. We have compiled the flop count from the two runs into the table below.\n",
    "\n",
    "| Passing subs argument | Flops reduction after symbolic optimization |\n",
    "|:---|:---:|\n",
    "| True | 300 --> 69 |\n",
    "| False | 588 --> 81 |\n",
    "\n",
    "Note the gain in performance is around 15% for this example in 2D, and would be even more significant in 3D."
   ]
  },
  {
   "cell_type": "code",
   "execution_count": 13,
   "metadata": {},
   "outputs": [
    {
     "name": "stderr",
     "output_type": "stream",
     "text": [
      "Allocating memory for p(3, 867, 867)\n",
      "Allocating memory for rec(791, 751)\n"
     ]
    },
    {
     "data": {
      "text/plain": [
       "{'b': <cparam 'P' (0x2b33a1b14470)>,\n",
       " 'x_m': 0,\n",
       " 'x_size': 851,\n",
       " 'x_M': 850,\n",
       " 'z_m': 0,\n",
       " 'z_size': 851,\n",
       " 'z_M': 850,\n",
       " 'dt': 0.0,\n",
       " 'o_x': -500.0,\n",
       " 'o_z': -500.0,\n",
       " 'p': <cparam 'P' (0x2b33e689c270)>,\n",
       " 'time_m': 1,\n",
       " 't_size': 3,\n",
       " 'rec': <cparam 'P' (0x2b33e689c5b0)>,\n",
       " 'time_size': 791,\n",
       " 'time_M': 789,\n",
       " 'p_rec_m': 0,\n",
       " 'p_rec_size': 751,\n",
       " 'p_rec_M': 750,\n",
       " 'rec_coords': <cparam 'P' (0x2b33e676fef0)>,\n",
       " 'd_m': 0,\n",
       " 'd_size': 2,\n",
       " 'd_M': 1,\n",
       " 'src': <cparam 'P' (0x2b33e057bd30)>,\n",
       " 'p_src_m': 0,\n",
       " 'p_src_size': 1,\n",
       " 'p_src_M': 0,\n",
       " 'src_coords': <cparam 'P' (0x2b33e66275b0)>,\n",
       " 'v': <cparam 'P' (0x2b33e6627f70)>,\n",
       " 'wOverQ_025': <cparam 'P' (0x2b33e6627c70)>,\n",
       " 'nthreads': 16,\n",
       " 'nthreads_nonaffine': 16,\n",
       " 'timers': <cparam 'P' (0x2b33e676a7d0)>}"
      ]
     },
     "execution_count": 13,
     "metadata": {},
     "output_type": "execute_result"
    }
   ],
   "source": [
    "# NBVAL_IGNORE_OUTPUT\n",
    "# Print the arguments used in the signature for the the c++ generated code\n",
    "op.arguments()"
   ]
  },
  {
   "cell_type": "code",
   "execution_count": 14,
   "metadata": {},
   "outputs": [
    {
     "name": "stdout",
     "output_type": "stream",
     "text": [
      "#define _POSIX_C_SOURCE 200809L\n",
      "#include \"stdlib.h\"\n",
      "#include \"math.h\"\n",
      "#include \"sys/time.h\"\n",
      "#include \"xmmintrin.h\"\n",
      "#include \"pmmintrin.h\"\n",
      "#include \"omp.h\"\n",
      "\n",
      "struct dataobj\n",
      "{\n",
      "  void *restrict data;\n",
      "  int * size;\n",
      "  int * npsize;\n",
      "  int * dsize;\n",
      "  int * hsize;\n",
      "  int * hofs;\n",
      "  int * oofs;\n",
      "} ;\n",
      "\n",
      "struct profiler\n",
      "{\n",
      "  double section0;\n",
      "  double section1;\n",
      "  double section2;\n",
      "} ;\n",
      "\n",
      "\n",
      "int Kernel(struct dataobj *restrict b_vec, const float dt, const float o_x, const float o_z, struct dataobj *restrict p_vec, struct dataobj *restrict rec_vec, struct dataobj *restrict rec_coords_vec, struct dataobj *restrict src_vec, struct dataobj *restrict src_coords_vec, struct dataobj *restrict v_vec, struct dataobj *restrict wOverQ_025_vec, const int x_M, const int x_m, const int x_size, const int z_M, const int z_m, const int z_size, const int p_rec_M, const int p_rec_m, const int p_src_M, const int p_src_m, const int time_M, const int time_m, struct profiler * timers, const int nthreads, const int nthreads_nonaffine)\n",
      "{\n",
      "  float (*restrict b)[b_vec->size[1]] __attribute__ ((aligned (64))) = (float (*)[b_vec->size[1]]) b_vec->data;\n",
      "  float (*restrict p)[p_vec->size[1]][p_vec->size[2]] __attribute__ ((aligned (64))) = (float (*)[p_vec->size[1]][p_vec->size[2]]) p_vec->data;\n",
      "  float (*restrict rec)[rec_vec->size[1]] __attribute__ ((aligned (64))) = (float (*)[rec_vec->size[1]]) rec_vec->data;\n",
      "  float (*restrict rec_coords)[rec_coords_vec->size[1]] __attribute__ ((aligned (64))) = (float (*)[rec_coords_vec->size[1]]) rec_coords_vec->data;\n",
      "  float (*restrict src)[src_vec->size[1]] __attribute__ ((aligned (64))) = (float (*)[src_vec->size[1]]) src_vec->data;\n",
      "  float (*restrict src_coords)[src_coords_vec->size[1]] __attribute__ ((aligned (64))) = (float (*)[src_coords_vec->size[1]]) src_coords_vec->data;\n",
      "  float (*restrict v)[v_vec->size[1]] __attribute__ ((aligned (64))) = (float (*)[v_vec->size[1]]) v_vec->data;\n",
      "  float (*restrict wOverQ_025)[wOverQ_025_vec->size[1]] __attribute__ ((aligned (64))) = (float (*)[wOverQ_025_vec->size[1]]) wOverQ_025_vec->data;\n",
      "  float (*r24)[z_size + 3 + 4];\n",
      "  posix_memalign((void**)&r24, 64, sizeof(float[x_size + 3 + 4][z_size + 3 + 4]));\n",
      "  float (*r25)[z_size + 3 + 4];\n",
      "  posix_memalign((void**)&r25, 64, sizeof(float[x_size + 3 + 4][z_size + 3 + 4]));\n",
      "  /* Flush denormal numbers to zero in hardware */\n",
      "  _MM_SET_DENORMALS_ZERO_MODE(_MM_DENORMALS_ZERO_ON);\n",
      "  _MM_SET_FLUSH_ZERO_MODE(_MM_FLUSH_ZERO_ON);\n",
      "  for (int time = time_m, t0 = (time)%(3), t1 = (time + 1)%(3), t2 = (time + 2)%(3); time <= time_M; time += 1, t0 = (time)%(3), t1 = (time + 1)%(3), t2 = (time + 2)%(3))\n",
      "  {\n",
      "    struct timeval start_section0, end_section0;\n",
      "    gettimeofday(&start_section0, NULL);\n",
      "    /* Begin section0 */\n",
      "    #pragma omp parallel num_threads(nthreads)\n",
      "    {\n",
      "      #pragma omp for collapse(1) schedule(dynamic,1)\n",
      "      for (int x = x_m - 4; x <= x_M + 3; x += 1)\n",
      "      {\n",
      "        #pragma omp simd aligned(p:32)\n",
      "        for (int z = z_m - 4; z <= z_M + 3; z += 1)\n",
      "        {\n",
      "          r24[x + 4][z + 4] = 6.97544653e-5F*(p[t0][x + 5][z + 8] - p[t0][x + 12][z + 8]) + 9.57031264e-4F*(-p[t0][x + 6][z + 8] + p[t0][x + 11][z + 8]) + 7.97526054e-3F*(p[t0][x + 7][z + 8] - p[t0][x + 10][z + 8]) + 1.19628908e-1F*(-p[t0][x + 8][z + 8] + p[t0][x + 9][z + 8]);\n",
      "          r25[x + 4][z + 4] = 6.97544653e-5F*(p[t0][x + 8][z + 5] - p[t0][x + 8][z + 12]) + 9.57031264e-4F*(-p[t0][x + 8][z + 6] + p[t0][x + 8][z + 11]) + 7.97526054e-3F*(p[t0][x + 8][z + 7] - p[t0][x + 8][z + 10]) + 1.19628908e-1F*(-p[t0][x + 8][z + 8] + p[t0][x + 8][z + 9]);\n",
      "        }\n",
      "      }\n",
      "    }\n",
      "    #pragma omp parallel num_threads(nthreads)\n",
      "    {\n",
      "      #pragma omp for collapse(1) schedule(dynamic,1)\n",
      "      for (int x = x_m; x <= x_M; x += 1)\n",
      "      {\n",
      "        #pragma omp simd aligned(b,p,v,wOverQ_025:32)\n",
      "        for (int z = z_m; z <= z_M; z += 1)\n",
      "        {\n",
      "          float r26 = -p[t2][x + 8][z + 8];\n",
      "          float r6 = r26 + p[t0][x + 8][z + 8];\n",
      "          float r23 = r26 + 2*p[t0][x + 8][z + 8];\n",
      "          p[t1][x + 8][z + 8] = r23 + r6*(-dt*wOverQ_025[x + 8][z + 8]) + ((dt*dt)*(v[x + 8][z + 8]*v[x + 8][z + 8])*(6.97544653e-5F*(b[x + 4][z + 8]*r24[x][z + 4] + b[x + 8][z + 4]*r25[x + 4][z] - b[x + 8][z + 11]*r25[x + 4][z + 7] - b[x + 11][z + 8]*r24[x + 7][z + 4]) + 9.57031264e-4F*(-b[x + 5][z + 8]*r24[x + 1][z + 4] - b[x + 8][z + 5]*r25[x + 4][z + 1] + b[x + 8][z + 10]*r25[x + 4][z + 6] + b[x + 10][z + 8]*r24[x + 6][z + 4]) + 7.97526054e-3F*(b[x + 6][z + 8]*r24[x + 2][z + 4] + b[x + 8][z + 6]*r25[x + 4][z + 2] - b[x + 8][z + 9]*r25[x + 4][z + 5] - b[x + 9][z + 8]*r24[x + 5][z + 4]) + 1.19628908e-1F*(-b[x + 7][z + 8]*r24[x + 3][z + 4] - b[x + 8][z + 7]*r25[x + 4][z + 3] + b[x + 8][z + 8]*r24[x + 4][z + 4] + b[x + 8][z + 8]*r25[x + 4][z + 4])))/b[x + 8][z + 8];\n",
      "        }\n",
      "      }\n",
      "    }\n",
      "    /* End section0 */\n",
      "    gettimeofday(&end_section0, NULL);\n",
      "    timers->section0 += (double)(end_section0.tv_sec-start_section0.tv_sec)+(double)(end_section0.tv_usec-start_section0.tv_usec)/1000000;\n",
      "    struct timeval start_section1, end_section1;\n",
      "    gettimeofday(&start_section1, NULL);\n",
      "    /* Begin section1 */\n",
      "    #pragma omp parallel num_threads(nthreads_nonaffine)\n",
      "    {\n",
      "      int chunk_size = (int)(fmax(1, (1.0F/3.0F)*(p_src_M - p_src_m + 1)/nthreads_nonaffine));\n",
      "      #pragma omp for collapse(1) schedule(dynamic,chunk_size)\n",
      "      for (int p_src = p_src_m; p_src <= p_src_M; p_src += 1)\n",
      "      {\n",
      "        int ii_src_0 = (int)(floor(-1.0e-1*o_x + 1.0e-1*src_coords[p_src][0]));\n",
      "        int ii_src_1 = (int)(floor(-1.0e-1*o_z + 1.0e-1*src_coords[p_src][1]));\n",
      "        int ii_src_2 = (int)(floor(-1.0e-1*o_z + 1.0e-1*src_coords[p_src][1])) + 1;\n",
      "        int ii_src_3 = (int)(floor(-1.0e-1*o_x + 1.0e-1*src_coords[p_src][0])) + 1;\n",
      "        float px = (float)(-o_x - 1.0e+1F*(int)(floor(-1.0e-1F*o_x + 1.0e-1F*src_coords[p_src][0])) + src_coords[p_src][0]);\n",
      "        float pz = (float)(-o_z - 1.0e+1F*(int)(floor(-1.0e-1F*o_z + 1.0e-1F*src_coords[p_src][1])) + src_coords[p_src][1]);\n",
      "        if (ii_src_0 >= x_m - 1 && ii_src_1 >= z_m - 1 && ii_src_0 <= x_M + 1 && ii_src_1 <= z_M + 1)\n",
      "        {\n",
      "          float r0 = (dt*dt)*(v[ii_src_0 + 8][ii_src_1 + 8]*v[ii_src_0 + 8][ii_src_1 + 8])*(1.0e-2F*px*pz - 1.0e-1F*px - 1.0e-1F*pz + 1)*src[time][p_src]/b[ii_src_0 + 8][ii_src_1 + 8];\n",
      "          #pragma omp atomic update\n",
      "          p[t1][ii_src_0 + 8][ii_src_1 + 8] += r0;\n",
      "        }\n",
      "        if (ii_src_0 >= x_m - 1 && ii_src_2 >= z_m - 1 && ii_src_0 <= x_M + 1 && ii_src_2 <= z_M + 1)\n",
      "        {\n",
      "          float r1 = (dt*dt)*(v[ii_src_0 + 8][ii_src_2 + 8]*v[ii_src_0 + 8][ii_src_2 + 8])*(-1.0e-2F*px*pz + 1.0e-1F*pz)*src[time][p_src]/b[ii_src_0 + 8][ii_src_2 + 8];\n",
      "          #pragma omp atomic update\n",
      "          p[t1][ii_src_0 + 8][ii_src_2 + 8] += r1;\n",
      "        }\n",
      "        if (ii_src_1 >= z_m - 1 && ii_src_3 >= x_m - 1 && ii_src_1 <= z_M + 1 && ii_src_3 <= x_M + 1)\n",
      "        {\n",
      "          float r2 = (dt*dt)*(v[ii_src_3 + 8][ii_src_1 + 8]*v[ii_src_3 + 8][ii_src_1 + 8])*(-1.0e-2F*px*pz + 1.0e-1F*px)*src[time][p_src]/b[ii_src_3 + 8][ii_src_1 + 8];\n",
      "          #pragma omp atomic update\n",
      "          p[t1][ii_src_3 + 8][ii_src_1 + 8] += r2;\n",
      "        }\n",
      "        if (ii_src_2 >= z_m - 1 && ii_src_3 >= x_m - 1 && ii_src_2 <= z_M + 1 && ii_src_3 <= x_M + 1)\n",
      "        {\n",
      "          float r3 = 1.0e-2F*px*pz*(dt*dt)*(v[ii_src_3 + 8][ii_src_2 + 8]*v[ii_src_3 + 8][ii_src_2 + 8])*src[time][p_src]/b[ii_src_3 + 8][ii_src_2 + 8];\n",
      "          #pragma omp atomic update\n",
      "          p[t1][ii_src_3 + 8][ii_src_2 + 8] += r3;\n",
      "        }\n",
      "      }\n",
      "    }\n",
      "    /* End section1 */\n",
      "    gettimeofday(&end_section1, NULL);\n",
      "    timers->section1 += (double)(end_section1.tv_sec-start_section1.tv_sec)+(double)(end_section1.tv_usec-start_section1.tv_usec)/1000000;\n",
      "    struct timeval start_section2, end_section2;\n",
      "    gettimeofday(&start_section2, NULL);\n",
      "    /* Begin section2 */\n",
      "    #pragma omp parallel num_threads(nthreads_nonaffine)\n",
      "    {\n",
      "      int chunk_size = (int)(fmax(1, (1.0F/3.0F)*(p_rec_M - p_rec_m + 1)/nthreads_nonaffine));\n",
      "      #pragma omp for collapse(1) schedule(dynamic,chunk_size)\n",
      "      for (int p_rec = p_rec_m; p_rec <= p_rec_M; p_rec += 1)\n",
      "      {\n",
      "        int ii_rec_0 = (int)(floor(-1.0e-1*o_x + 1.0e-1*rec_coords[p_rec][0]));\n",
      "        int ii_rec_1 = (int)(floor(-1.0e-1*o_z + 1.0e-1*rec_coords[p_rec][1]));\n",
      "        int ii_rec_2 = (int)(floor(-1.0e-1*o_z + 1.0e-1*rec_coords[p_rec][1])) + 1;\n",
      "        int ii_rec_3 = (int)(floor(-1.0e-1*o_x + 1.0e-1*rec_coords[p_rec][0])) + 1;\n",
      "        float px = (float)(-o_x - 1.0e+1F*(int)(floor(-1.0e-1F*o_x + 1.0e-1F*rec_coords[p_rec][0])) + rec_coords[p_rec][0]);\n",
      "        float pz = (float)(-o_z - 1.0e+1F*(int)(floor(-1.0e-1F*o_z + 1.0e-1F*rec_coords[p_rec][1])) + rec_coords[p_rec][1]);\n",
      "        float sum = 0.0F;\n",
      "        if (ii_rec_0 >= x_m - 1 && ii_rec_1 >= z_m - 1 && ii_rec_0 <= x_M + 1 && ii_rec_1 <= z_M + 1)\n",
      "        {\n",
      "          sum += (1.0e-2F*px*pz - 1.0e-1F*px - 1.0e-1F*pz + 1)*p[t1][ii_rec_0 + 8][ii_rec_1 + 8];\n",
      "        }\n",
      "        if (ii_rec_0 >= x_m - 1 && ii_rec_2 >= z_m - 1 && ii_rec_0 <= x_M + 1 && ii_rec_2 <= z_M + 1)\n",
      "        {\n",
      "          sum += (-1.0e-2F*px*pz + 1.0e-1F*pz)*p[t1][ii_rec_0 + 8][ii_rec_2 + 8];\n",
      "        }\n",
      "        if (ii_rec_1 >= z_m - 1 && ii_rec_3 >= x_m - 1 && ii_rec_1 <= z_M + 1 && ii_rec_3 <= x_M + 1)\n",
      "        {\n",
      "          sum += (-1.0e-2F*px*pz + 1.0e-1F*px)*p[t1][ii_rec_3 + 8][ii_rec_1 + 8];\n",
      "        }\n",
      "        if (ii_rec_2 >= z_m - 1 && ii_rec_3 >= x_m - 1 && ii_rec_2 <= z_M + 1 && ii_rec_3 <= x_M + 1)\n",
      "        {\n",
      "          sum += 1.0e-2F*px*pz*p[t1][ii_rec_3 + 8][ii_rec_2 + 8];\n",
      "        }\n",
      "        rec[time][p_rec] = sum;\n",
      "      }\n",
      "    }\n",
      "    /* End section2 */\n",
      "    gettimeofday(&end_section2, NULL);\n",
      "    timers->section2 += (double)(end_section2.tv_sec-start_section2.tv_sec)+(double)(end_section2.tv_usec-start_section2.tv_usec)/1000000;\n",
      "  }\n",
      "  free(r24);\n",
      "  free(r25);\n",
      "  return 0;\n",
      "}\n",
      "\n"
     ]
    }
   ],
   "source": [
    "# NBVAL_IGNORE_OUTPUT\n",
    "# Print the generated c++ code\n",
    "print(op)"
   ]
  },
  {
   "cell_type": "markdown",
   "metadata": {},
   "source": [
    "<a id=\"nl_run_operator\"></a>\n",
    "## Performing the modeling: run the operator\n",
    "\n",
    "Note that by setting Devito logging ```configuration['log-level'] = 'DEBUG'``` we have enabled output of statistics related to the performance of the operator, which you will see below when the operator runs."
   ]
  },
  {
   "cell_type": "code",
   "execution_count": 15,
   "metadata": {},
   "outputs": [
    {
     "name": "stderr",
     "output_type": "stream",
     "text": [
      "Operator `Kernel` fetched `/tmp/devito-jitcache-uid5138/c82830e60bb66e8aa3bee93b437dfc9e1b88a50c.c` in 0.01 s from jit-cache\n"
     ]
    },
    {
     "name": "stdout",
     "output_type": "stream",
     "text": [
      "v          min/max; +1.500000e+00 +1.500000e+00\n",
      "b          min/max; +1.000000e-03 +1.000000e-03\n",
      "wOverQ_025 min/max; +2.513274e-03 +6.283185e-01\n",
      "wOverQ_100 min/max; +6.283185e-04 +6.283185e-01\n",
      "TimeAxis: start=0, stop=2001.33, step=2.53333, num=791\n"
     ]
    },
    {
     "name": "stderr",
     "output_type": "stream",
     "text": [
      "Operator `Kernel` run in 0.56 s\n",
      "Global performance indicators\n",
      "  * Achieved 1.03 FD-GPts/s\n",
      "Local performance indicators\n",
      "  * section0<<790,858,858>,<790,851,851>> with OI=1.91 computed in 0.54 s [74.51 GFlops/s, 1.08 GPts/s]\n",
      "  * section1<<790,1>,<790,1>,<790,1>,<790,1>,<790,1>> with OI=4.10 computed in 0.01 s [0.01 GFlops/s, 0.01 GPts/s]\n",
      "  * section2<<790,751>,<790,751>,<790,751>,<790,751>,<790,751>,<790,751>> with OI=4.84 computed in 0.02 s [3.02 GFlops/s]\n",
      "Performance[mode=advanced] arguments: {'nthreads': 16, 'nthreads_nonaffine': 16}\n"
     ]
    },
    {
     "name": "stdout",
     "output_type": "stream",
     "text": [
      "Q= 25 data min/max; -1.138284e+02 +1.527430e+02\n"
     ]
    }
   ],
   "source": [
    "#NBVAL_INGNORE_OUTPUT\n",
    "\n",
    "# run the operator for the Q=25 model\n",
    "print(\"v          min/max; %+12.6e %+12.6e\" % (np.min(v.data), np.max(v.data)))\n",
    "print(\"b          min/max; %+12.6e %+12.6e\" % (np.min(b.data), np.max(b.data)))\n",
    "print(\"wOverQ_025 min/max; %+12.6e %+12.6e\" % (np.min(wOverQ_025.data), np.max(wOverQ_025.data)))\n",
    "print(\"wOverQ_100 min/max; %+12.6e %+12.6e\" % (np.min(wOverQ_100.data), np.max(wOverQ_100.data)))\n",
    "print(time_range)\n",
    "summary = op(time=time_range.num-1, dt=dt)\n",
    "# summary = op(time=time_range.num-1, h_x=dx, h_z=dz, dt=dt)\n",
    "print(\"Q= 25 data min/max; %+12.6e %+12.6e\" % (np.min(p.data[1,:,:]), np.max(p.data[1,:,:])))"
   ]
  },
  {
   "cell_type": "markdown",
   "metadata": {},
   "source": [
    "## Now we save the Q=25 output and run the Q=100 model"
   ]
  },
  {
   "cell_type": "code",
   "execution_count": 16,
   "metadata": {},
   "outputs": [
    {
     "name": "stderr",
     "output_type": "stream",
     "text": [
      "Allocating memory for p(3, 867, 867)\n",
      "Allocating memory for rec(791, 751)\n",
      "Allocating memory for rec_coords(751, 2)\n",
      "Operator `Kernel` generated in 1.22 s\n",
      "  * lowering.Expressions: 0.60 s (49.5 %)\n",
      "  * lowering.Clusters: 0.33 s (27.3 %)\n",
      "  * lowering.IET: 0.25 s (20.7 %)\n",
      "Flops reduction after symbolic optimization: [299 --> 69]\n",
      "Operator `Kernel` fetched `/tmp/devito-jitcache-uid5138/f66fd26f883be8a4378f64fd5b2dca8d24399880.c` in 0.12 s from jit-cache\n"
     ]
    },
    {
     "name": "stdout",
     "output_type": "stream",
     "text": [
      "TimeAxis: start=0, stop=2001.33, step=2.53333, num=791\n"
     ]
    },
    {
     "name": "stderr",
     "output_type": "stream",
     "text": [
      "Operator `Kernel` run in 0.52 s\n",
      "Global performance indicators\n",
      "  * Achieved 1.10 FD-GPts/s\n",
      "Local performance indicators\n",
      "  * section0<<790,858,858>,<790,851,851>> with OI=1.91 computed in 0.51 s [79.34 GFlops/s, 1.15 GPts/s]\n",
      "  * section1<<790,1>,<790,1>,<790,1>,<790,1>,<790,1>> with OI=4.10 computed in 0.01 s [0.01 GFlops/s, 0.01 GPts/s]\n",
      "  * section2<<790,751>,<790,751>,<790,751>,<790,751>,<790,751>,<790,751>> with OI=4.84 computed in 0.01 s [3.52 GFlops/s]\n",
      "Performance[mode=advanced] arguments: {'nthreads': 16, 'nthreads_nonaffine': 16}\n"
     ]
    },
    {
     "name": "stdout",
     "output_type": "stream",
     "text": [
      "Q=100 data min/max; -6.931937e+02 +9.182638e+02\n"
     ]
    }
   ],
   "source": [
    "#NBVAL_INGNORE_OUTPUT\n",
    "import copy\n",
    "pQ25 = copy.copy(p)\n",
    "recQ25 = copy.copy(rec)\n",
    "\n",
    "# Generate the time update equation and operator for Q=100 model\n",
    "eq_time_update = (t.spacing**2 * v**2 / b) * \\\n",
    "    ((b * p.dx(x0=x+x.spacing/2)).dx(x0=x-x.spacing/2) + \\\n",
    "     (b * p.dz(x0=z+z.spacing/2)).dz(x0=z-z.spacing/2)) - \\\n",
    "    t.spacing * wOverQ_100 * (p - p.backward) + 2 * p - p.backward\n",
    "\n",
    "stencil = Eq(p.forward, eq_time_update)\n",
    "\n",
    "# op = Operator([stencil] + src_term + rec_term)\n",
    "op = Operator([stencil] + src_term + rec_term, subs=p.grid.spacing_map)\n",
    "\n",
    "# run the operator for the Q=100 model\n",
    "print(time_range)\n",
    "p.data[:] = 0\n",
    "summary = op(time=time_range.num-1, dt=dt)\n",
    "# summary = op(time=time_range.num-1, h_x=dx, h_z=dz, dt=dt)\n",
    "print(\"Q=100 data min/max; %+12.6e %+12.6e\" % (np.min(p.data[1,:,:]), np.max(p.data[1,:,:])))"
   ]
  },
  {
   "cell_type": "markdown",
   "metadata": {},
   "source": [
    "<a id=\"nl_plot_wavefield\"></a>\n",
    "## Plot the computed Q=25 and Q=100 wavefields"
   ]
  },
  {
   "cell_type": "code",
   "execution_count": 17,
   "metadata": {},
   "outputs": [
    {
     "name": "stdout",
     "output_type": "stream",
     "text": [
      "amax Q= 25;   152.742996\n",
      "amax Q=100;   918.263794\n",
      "p0;  [0.05  0.125 0.45  0.88 ]\n",
      "p1;  [0.55  0.125 0.95  0.88 ]\n"
     ]
    },
    {
     "data": {
      "image/png": "[encoded data removed]",
      "text/plain": [
       "<Figure size 864x576 with 3 Axes>"
      ]
     },
     "metadata": {
      "needs_background": "light"
     },
     "output_type": "display_data"
    }
   ],
   "source": [
    "# Plot the two wavefields, normalized to Q=100 (the larger amplitude)\n",
    "amax_Q25  = 1.0 * np.max(np.abs(pQ25.data[1,:,:]))\n",
    "amax_Q100 = 1.0 * np.max(np.abs(p.data[1,:,:]))\n",
    "print(\"amax Q= 25; %12.6f\" % (amax_Q25))\n",
    "print(\"amax Q=100; %12.6f\" % (amax_Q100))\n",
    "\n",
    "fig, ax = plt.subplots(1, 2, figsize=(12, 8))\n",
    "plt.subplots_adjust(left=0.05, right=0.95, wspace=0.25)\n",
    "\n",
    "plt.subplot(1,2,1)\n",
    "im025 = plt.imshow(np.transpose(pQ25.data[1,:,:]), cmap=\"seismic\", vmin=-amax_Q100, vmax=+amax_Q100, extent=plt_extent)\n",
    "plt.plot([origin[0], origin[0], extent[0], extent[0], origin[0]], \n",
    "         [origin[1], extent[1], extent[1], origin[1], origin[1]], \n",
    "         'white', linewidth=4, linestyle=':', label=\"Absorbing Boundary\")\n",
    "plt.xlabel(\"X Coordinate (m)\", labelpad=15)\n",
    "plt.ylabel(\"Z Coordinate (m)\", labelpad=15)\n",
    "plt.title('Wavefield at t=%.0f Q=25' % (time_range.stop))\n",
    "# plt.colorbar()\n",
    "\n",
    "plt.subplot(1,2,2)\n",
    "im100 = plt.imshow(np.transpose(p.data[1,:,:]), cmap=\"seismic\", vmin=-amax_Q100, vmax=+amax_Q100, extent=plt_extent)\n",
    "plt.plot([origin[0], origin[0], extent[0], extent[0], origin[0]], \n",
    "         [origin[1], extent[1], extent[1], origin[1], origin[1]], \n",
    "         'white', linewidth=4, linestyle=':', label=\"Absorbing Boundary\")\n",
    "plt.xlabel(\"X Coordinate (m)\", labelpad=15)\n",
    "plt.ylabel(\"Z Coordinate (m)\", labelpad=15)\n",
    "plt.title('Wavefield at t=%.0f Q=100' % (time_range.stop))\n",
    "\n",
    "plt.draw()\n",
    "p0 = ax[0].get_position().get_points().flatten()\n",
    "p1 = ax[1].get_position().get_points().flatten()\n",
    "print(\"p0; \", p0)\n",
    "print(\"p1; \", p1)\n",
    "ax_cbar = fig.add_axes([p0[0], 0, p1[2]-p0[0], 0.05])\n",
    "cbar = plt.colorbar(im100, cax=ax_cbar, orientation='horizontal')\n",
    "cbar.set_label('Log10 of Q(x,z)', labelpad=-75, y=1.035, rotation=0)\n",
    "None"
   ]
  },
  {
   "cell_type": "markdown",
   "metadata": {},
   "source": [
    "## Plot the computed Q=25 and Q=100 receiver gathers"
   ]
  },
  {
   "cell_type": "code",
   "execution_count": 18,
   "metadata": {},
   "outputs": [
    {
     "name": "stdout",
     "output_type": "stream",
     "text": [
      "amax Q= 25;  4211.005469\n",
      "amax Q=100;  4223.079297\n",
      "p0;  [0.05  0.125 0.45  0.88 ]\n",
      "p1;  [0.55  0.125 0.95  0.88 ]\n"
     ]
    },
    {
     "data": {
      "image/png": "[encoded data removed]",
      "text/plain": [
       "<Figure size 864x576 with 3 Axes>"
      ]
     },
     "metadata": {
      "needs_background": "light"
     },
     "output_type": "display_data"
    }
   ],
   "source": [
    "# Plot the two receiver gathers, normalized to Q=100 (the larger amplitude)\n",
    "amax_Q25  = 0.1 * np.max(np.abs(recQ25.data[:]))\n",
    "amax_Q100 = 0.1 * np.max(np.abs(rec.data[:]))\n",
    "print(\"amax Q= 25; %12.6f\" % (amax_Q25))\n",
    "print(\"amax Q=100; %12.6f\" % (amax_Q100))\n",
    "\n",
    "fig, ax = plt.subplots(1, 2, figsize=(12, 8))\n",
    "plt.subplots_adjust(left=0.05, right=0.95, wspace=0.25)\n",
    "\n",
    "plt.subplot(1,2,1)\n",
    "im025 = plt.imshow(recQ25.data[:,:], cmap=\"seismic\", vmin=-amax_Q100, vmax=+amax_Q100, extent=plt_extent)\n",
    "plt.plot([origin[0], origin[0], extent[0], extent[0], origin[0]], \n",
    "         [origin[1], extent[1], extent[1], origin[1], origin[1]], \n",
    "         'white', linewidth=4, linestyle=':', label=\"Absorbing Boundary\")\n",
    "plt.xlabel(\"X Coordinate (m)\", labelpad=15)\n",
    "plt.ylabel(\"Z Coordinate (m)\", labelpad=15)\n",
    "plt.title('Receiver gather for Q=25')\n",
    "# plt.colorbar()\n",
    "\n",
    "plt.subplot(1,2,2)\n",
    "im100 = plt.imshow(rec.data[:,:], cmap=\"seismic\", vmin=-amax_Q100, vmax=+amax_Q100, extent=plt_extent)\n",
    "plt.plot([origin[0], origin[0], extent[0], extent[0], origin[0]], \n",
    "         [origin[1], extent[1], extent[1], origin[1], origin[1]], \n",
    "         'white', linewidth=4, linestyle=':', label=\"Absorbing Boundary\")\n",
    "plt.xlabel(\"X Coordinate (m)\", labelpad=15)\n",
    "plt.ylabel(\"Z Coordinate (m)\", labelpad=15)\n",
    "plt.title('Receiver gather for Q=100')\n",
    "\n",
    "plt.draw()\n",
    "p0 = ax[0].get_position().get_points().flatten()\n",
    "p1 = ax[1].get_position().get_points().flatten()\n",
    "print(\"p0; \", p0)\n",
    "print(\"p1; \", p1)\n",
    "ax_cbar = fig.add_axes([p0[0], 0, p1[2]-p0[0], 0.05])\n",
    "cbar = plt.colorbar(im100, cax=ax_cbar, orientation='horizontal')\n",
    "cbar.set_label('Log10 of Q(x,z)', labelpad=-75, y=1.035, rotation=0)\n",
    "None"
   ]
  },
  {
   "cell_type": "markdown",
   "metadata": {},
   "source": [
    "## Show the output from Devito solving for the stencil\n",
    "\n",
    "Note this takes a **long time** ... about 50 seconds, but obviates the need to solve for the time update expression as we did above.\n",
    "\n",
    "If you would like to see the time update equation as generated by Devito symbolic optimization, uncomment the lines for the solve below."
   ]
  },
  {
   "cell_type": "code",
   "execution_count": 19,
   "metadata": {},
   "outputs": [],
   "source": [
    "#NBVAL_INGNORE_OUTPUT\n",
    "# Define the partial_differential equation\n",
    "# Note the backward shifted time derivative is obtained via p.dt(x0=t-0.5*t.spacing) \n",
    "pde = (b / v**2) * (wOverQ_100 * p.dt(x0=t-0.5*t.spacing) + p.dt2) -\\\n",
    "        (b * p.dx(x0=x+0.5*x.spacing)).dx(x0=x-0.5*x.spacing) -\\\n",
    "        (b * p.dz(x0=z+0.5*z.spacing)).dz(x0=z-0.5*z.spacing)\n",
    "\n",
    "# Uncomment the next 5 lines to see the equation as generated by Devito\n",
    "# t1 = timer()\n",
    "# stencil = Eq(p.forward, solve(pde, p.forward))\n",
    "# t2 = timer()\n",
    "# print(\"solve ran in %.4f seconds.\" % (t2-t1)) \n",
    "# stencil"
   ]
  },
  {
   "cell_type": "markdown",
   "metadata": {},
   "source": []
  },
  {
   "cell_type": "markdown",
   "metadata": {},
   "source": [
    "<a id=\"nl_refs\"></a>\n",
    "## References\n",
    "<br>\n",
    "\n",
    "- **A nonreflecting boundary condition for discrete acoustic and elastic wave equations** (1985)\n",
    "<br>Charles Cerjan, Dan Kosloff, Ronnie Kosloff, and Moshe Resheq\n",
    "<br> Geophysics, Vol. 50, No. 4\n",
    "<br>https://library.seg.org/doi/pdfplus/10.1190/segam2016-13878451.1\n",
    "<br>\n",
    "\n",
    "- **Generation of Finite Difference Formulas on Arbitrarily Spaced Grids** (1988)\n",
    "<br>Bengt Fornberg\n",
    "<br>Mathematics of Computation, Vol. 51, No. 184\n",
    "<br>http://dx.doi.org/10.1090/S0025-5718-1988-0935077-0\n",
    "<br>https://web.njit.edu/~jiang/math712/fornberg.pdf\n",
    "<br>\n",
    "\n",
    "- **Self-adjoint, energy-conserving second-order pseudoacoustic systems for VTI and TTI media for reverse time migration and full-waveform inversion** (2016)\n",
    "<br>Kenneth Bube, John Washbourne, Raymond Ergas, and Tamas Nemeth\n",
    "<br>SEG Technical Program Expanded Abstracts\n",
    "<br>https://library.seg.org/doi/10.1190/segam2016-13878451.1\n"
   ]
  },
  {
   "cell_type": "markdown",
   "metadata": {},
   "source": []
  }
 ],
 "metadata": {
  "anaconda-cloud": {},
  "kernelspec": {
   "display_name": "Python 3",
   "language": "python",
   "name": "python3"
  },
  "language_info": {
   "codemirror_mode": {
    "name": "ipython",
    "version": 3
   },
   "file_extension": ".py",
   "mimetype": "text/x-python",
   "name": "python",
   "nbconvert_exporter": "python",
   "pygments_lexer": "ipython3",
   "version": "3.8.2"
  }
 },
 "nbformat": 4,
 "nbformat_minor": 4
}
