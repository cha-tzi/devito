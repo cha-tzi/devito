{
 "cells": [
  {
   "cell_type": "markdown",
   "metadata": {},
   "source": [
    "# Testing correctness for our Devito skew self adjoint variable density visco- acoustic isotropic modeling operator\n",
    "\n",
    "## This operator is contributed by Chevron Energy Technology Company (2020)\n",
    "\n",
    "Based on simplfications of the systems presented in *Self-adjoint, energy-conserving second-order pseudoacoustic systems for VTI and TTI media for reverse time migration and full-waveform inversion*, Bube et. al., 2016.\n",
    "https://doi.org/10.1190/segam2016-13878451.1"
   ]
  },
  {
   "cell_type": "markdown",
   "metadata": {},
   "source": [
    "## Introduction \n",
    "\n",
    "The goal of this tutorial is to generate and test modeling and inversion capability in Devito for variable density visco- acoustics using an energy conserving form of the wave equation. We will use a simple form of dissipation only Q attenuation that allows unifying modeling physics in the interior and the absorbing boundary region. We also describe how the linearization of this skew self adjoint system with respect to acoustic velocity results in the the ability to use the same modeling system for the Jacobian in both forward and adjoint evolutions. This notebook is the first in a series, continuing with skew self adjoint pseudo- visco- acoustic VTI and TTI systems. \n",
    "\n",
    "We begin with the *skew self adjoint* form of the variable density scalar acoustic wave equation with dissipation only Q. The dissipation only (no dispersion) attenuation term used below $\\left (\\frac{\\displaystyle \\omega}{Q} \\frac{\\displaystyle \\partial}{\\displaystyle \\partial t} P \\right)$ is an approximation of a [Maxwell Body](https://en.wikipedia.org/wiki/Maxwell_material) -- that is to say viscoelasticity approximated by placing a spring and dashpot in series. In practice this approach for attentuating outgoing waves is very similar to the Cernan style damping in absorbing boundaries used elsewhere in Devito (**needs link**). \n",
    "\n",
    "The derivation of the attenuation model is not in scope for this tutorial, but one important point is that the physics in the absorbing boundary region and the interior of the model are *unified*, allowing the same modeling equations to be used everwhere, with physical Q values in the interior tapering to small Q at the boundaries to attentuate outgoing waves. "
   ]
  },
  {
   "cell_type": "code",
   "execution_count": null,
   "metadata": {},
   "outputs": [],
   "source": []
  },
  {
   "cell_type": "code",
   "execution_count": null,
   "metadata": {},
   "outputs": [],
   "source": []
  }
 ],
 "metadata": {
  "anaconda-cloud": {},
  "kernelspec": {
   "display_name": "Python 3",
   "language": "python",
   "name": "python3"
  },
  "language_info": {
   "codemirror_mode": {
    "name": "ipython",
    "version": 3
   },
   "file_extension": ".py",
   "mimetype": "text/x-python",
   "name": "python",
   "nbconvert_exporter": "python",
   "pygments_lexer": "ipython3",
   "version": "3.8.2"
  }
 },
 "nbformat": 4,
 "nbformat_minor": 4
}
