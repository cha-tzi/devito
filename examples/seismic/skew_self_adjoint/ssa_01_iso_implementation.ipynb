{
 "cells": [
  {
   "cell_type": "markdown",
   "metadata": {},
   "source": [
    "# Implementation of a Devito skew self adjoint variable density visco- acoustic isotropic modeling operator\n",
    "\n",
    "## This operator is contributed by Chevron Energy Technology Company (2020)\n",
    "\n",
    "This operator is based on simplfications of the systems presented in:\n",
    "<br>**Self-adjoint, energy-conserving second-order pseudoacoustic systems for VTI and TTI media for reverse time migration and full-waveform inversion** (2016)\n",
    "<br>Kenneth Bube, John Washbourne, Raymond Ergas, and Tamas Nemeth\n",
    "<br>SEG Technical Program Expanded Abstracts\n",
    "<br>https://library.seg.org/doi/10.1190/segam2016-13878451.1"
   ]
  },
  {
   "cell_type": "markdown",
   "metadata": {},
   "source": [
    "## Introduction \n",
    "\n",
    "The goal of this tutorial is to generate and prove correctness of modeling and inversion capability in Devito for variable density visco- acoustics using an energy conserving form of the wave equation. We will use a simple form of dissipation only Q attenuation that allows unifying modeling physics in the interior and the absorbing boundary region. We also describe how the linearization of an energy conserving *skew self adjoint* system with respect to modeling parameters allows using the same modeling system for both forward and adjoint evolutions. This notebook is the first in a series, continuing with VTI and TTI anisotropic systems. \n",
    "\n",
    "We begin with the *skew self adjoint* form of the variable density scalar acoustic wave equation with dissipation only Q. The dissipation only (no dispersion) attenuation term used below $\\left (\\frac{\\displaystyle \\omega}{Q} \\frac{\\displaystyle \\partial}{\\displaystyle \\partial t} P \\right)$ is an approximation of a [Maxwell Body](https://en.wikipedia.org/wiki/Maxwell_material) -- that is to say viscoelasticity approximated with a spring and dashpot in series. In practice this approach for attentuating outgoing waves is very similar to the Cernan style damping in absorbing boundaries used elsewhere in Devito (**needs link**). \n",
    "\n",
    "The derivation of the attenuation model is not in scope for this tutorial, but one important point is that the physics in the absorbing boundary region and the interior of the model are *unified*, allowing the same modeling equations to be used everwhere, with physical Q values in the interior tapering to small Q at the boundaries to attentuate outgoing waves. "
   ]
  },
  {
   "cell_type": "markdown",
   "metadata": {},
   "source": [
    "## Table of symbols\n",
    "\n",
    "\n",
    "| Symbol &nbsp; &nbsp; &nbsp; &nbsp; | Description  | Dimensionality | \n",
    "| :---         | :---              | :--- |\n",
    "| $\\omega = 2 \\pi f$ | center angular frequency | constant |\n",
    "| $v(x,y,z)$   | P wave velocity    | function of space |\n",
    "| $b(x,y,z)$   | buoyancy $(1 / \\rho)$ | function of space |\n",
    "| $Q(x,y,z)$   | Attenuation at frequency $\\omega$ | function of space |\n",
    "| $P(t,x,y,z)$ | Pressure wavefield | function of time and space |\n",
    "| $s(t,x,y,z)$ | Source term        | function of time, localized in space |\n",
    "| $\\overrightarrow{\\partial x},\\overrightarrow{\\partial y},\\overrightarrow{\\partial z}$ | + shifted first derivative wrt $x,y,z$ | shifted 1/2 cell forward in space |\n",
    "| $\\overleftarrow{\\partial x},\\overleftarrow{\\partial y},\\overleftarrow{\\partial z}$ | - shifted first derivative wrt $x,y,z$ | shifted 1/2 cell backward in space |"
   ]
  },
  {
   "cell_type": "markdown",
   "metadata": {},
   "source": [
    "## SSA variable density visco- acoustic wave equation\n",
    "\n",
    "$$\n",
    "\\frac{b}{v^2} \\left( \\frac{\\omega}{Q} \\frac{\\partial}{\\partial t} P +\n",
    "    \\frac{\\partial^2}{\\partial t^2} P \\right) =\n",
    "    \\overleftarrow{\\partial x}\\left(b\\ \\overrightarrow{\\partial x} P \\right) +\n",
    "    \\overleftarrow{\\partial y}\\left(b\\ \\overrightarrow{\\partial y} P \\right) +\n",
    "    \\overleftarrow{\\partial z}\\left(b\\ \\overrightarrow{\\partial z} P \\right) + s \n",
    "    \\tag{1}\n",
    "$$\n",
    "\n",
    "An advantage of this *skew self adjoint* form of the wave equation is that with modified source term $s$, the same system (1) can be used to provide stable modes of propagation for all operations needed in quasi- Newton optimization: \n",
    "\n",
    "- the nonlinear forward \n",
    "- the linearized forward (Jacobian forward)\n",
    "- the linearized adjoint (Jacobian adjoint)\n",
    "\n",
    "This advantage is more important for anisotropic operators, where widely utilized non energy conserving formulations can provide unstable adjoints and thus unstable gradients for anisotropy parameters.  \n",
    "\n",
    "The *skew self adjoint* formulation is evident in the shifted spatial derivatves, with the derivative on the right side $\\overrightarrow{\\partial}$ shifting forward in space one-half cell, and the derivative on the left side $\\overleftarrow{\\partial}$ shifting backward in space one-half cell. $\\overrightarrow{\\partial}$ and $\\overleftarrow{\\partial}$ are anti-symmetric (also known as skew symmetric), meaning that for two random vectors $x_1$ and $x_2$:\n",
    "\n",
    "$$\n",
    "x_2 \\cdot \\left( \\overrightarrow{\\partial x}\\ x_1 \\right) \\approx -\\ \n",
    "x_1 \\cdot \\left( \\overleftarrow{\\partial x}\\ x_2 \\right) \n",
    "\\tag{2}\n",
    "$$\n",
    "\n",
    "Below we will demonstrate this skew symmetry with a simple unit test on Devito shifted first derivatives. \n",
    "\n",
    "In the following notebooks in this series, material parameters *sandwiched* between the derivatives -- including anisotropy parameters -- become much more interesting, but here buoyancy $b$ is the only material parameter in the RHS of equation (1). "
   ]
  },
  {
   "cell_type": "markdown",
   "metadata": {},
   "source": [
    "## Imports \n",
    "\n",
    "We have grouped all imports used in this notebook here for consistency."
   ]
  },
  {
   "cell_type": "code",
   "execution_count": 22,
   "metadata": {},
   "outputs": [],
   "source": [
    "import numpy as np\n",
    "from examples.seismic import RickerSource, Receiver, TimeAxis\n",
    "from devito import (Grid, Function, TimeFunction, SpaceDimension, Constant, \n",
    "                    Eq, Operator, solve)\n",
    "from devito.finite_differences import Derivative\n",
    "from devito.builtins import gaussian_smooth\n",
    "import matplotlib as mpl\n",
    "import matplotlib.pyplot as plt\n",
    "from matplotlib import cm\n",
    "from timeit import default_timer as timer\n",
    "%matplotlib inline\n",
    "mpl.rc('font', size=14)\n",
    "\n",
    "# We also define 32 bit floating point as the precision type \n",
    "dtype = np.float32"
   ]
  },
  {
   "cell_type": "markdown",
   "metadata": {},
   "source": [
    "## Unit test demonstrating skew symmetry for shifted derivatives\n",
    "\n",
    "As noted above, we will demonstrate with a small 1D unit test and 8th order spatial operator that the devito shifted first derivatives are skew symmetric. This anti-symmetry can demonstrated for the forward and backward half cell shift first derivative operators $\\overrightarrow{\\partial}$ and $\\overleftarrow{\\partial}$ with two random vectors $x_1$ and $x_2$ by verifying the following *dot product test* equation (2) written above."
   ]
  },
  {
   "cell_type": "code",
   "execution_count": 23,
   "metadata": {},
   "outputs": [
    {
     "name": "stderr",
     "output_type": "stream",
     "text": [
      "Operator `Kernel` run in 0.01 s\n"
     ]
    },
    {
     "name": "stdout",
     "output_type": "stream",
     "text": [
      "f1g2,g1f2,diff; +1.18745196e+00 +1.18745136e+00 +2.50977166e-07\n"
     ]
    }
   ],
   "source": [
    "# Make small 1D function to test derivatives \n",
    "n_1d = 101\n",
    "d_1d = 1.0\n",
    "shape_1d = (n_1d,)\n",
    "spacing_1d = (1/(n_1d-1),)   \n",
    "origin_1d = (0.,)\n",
    "extent_1d = (d_1d*(n_1d-1),)\n",
    "\n",
    "# Initialize Devito grid and Functions for input(2) and output(2)\n",
    "grid_1d = Grid(shape=shape_1d, extent=extent_1d, origin=origin_1d, dtype=dtype)\n",
    "x = grid_1d.dimensions[0]\n",
    "f1 = Function(name='f1', grid=grid_1d, space_order=8)\n",
    "f2 = Function(name='f2', grid=grid_1d, space_order=8)\n",
    "g1 = Function(name='g1', grid=grid_1d, space_order=8)\n",
    "g2 = Function(name='g2', grid=grid_1d, space_order=8)\n",
    "\n",
    "# Fill f1 and g1 with random values in [-1,+1]\n",
    "f1.data[:] = -1 + 2 * np.random.rand(n_1d,)\n",
    "g1.data[:] = -1 + 2 * np.random.rand(n_1d,)\n",
    "\n",
    "# Equation defining: f2 = forward 1/2 cell shift derivative applied to f1\n",
    "equation_f2 = Eq(f2, getattr(f1,'dx')(x+0.5*x.spacing))\n",
    "\n",
    "# Equation defining: g2 = backward 1/2 cell shift derivative applied to g1\n",
    "equation_g2 = Eq(g2, getattr(g1,'dx')(x-0.5*x.spacing))\n",
    "\n",
    "# Define an Operator to implement these equations and execute\n",
    "op = Operator([equation_f2, equation_g2])\n",
    "op()\n",
    "\n",
    "# Compute the dot products and the relative error\n",
    "f1g2 = + np.dot(f1.data, g2.data)\n",
    "g1f2 = - np.dot(g1.data, f2.data)   # skew symmetry requires this minus sign\n",
    "diff = (f1g2-g1f2)/(f1g2+g1f2)\n",
    "\n",
    "print(\"f1g2,g1f2,diff; %+12.8e %+12.8e %+12.8e\" % (f1g2, g1f2, diff))\n",
    "\n",
    "# At last the unit test\n",
    "# Assert these dot products are float epsilon close in relative error\n",
    "assert np.isclose(diff, 0, atol=1e-6)"
   ]
  },
  {
   "cell_type": "markdown",
   "metadata": {},
   "source": [
    "## Show the finite difference operators and c++ code generated by Devito\n",
    "\n",
    "You can inspect the finite difference coefficients and locations these are evaluated with the code shown below. \n",
    "\n",
    "Note that you dont need to inspect the generate code, but Devito provides the option to use this highly optimized code in applications that do not need or require python."
   ]
  },
  {
   "cell_type": "code",
   "execution_count": 24,
   "metadata": {},
   "outputs": [
    {
     "name": "stdout",
     "output_type": "stream",
     "text": [
      "\n",
      "\n",
      "+1/2 cell shift;\n",
      "..................................\n",
      "-1.19628906*f1(x)/h_x + 0.000697544643*f1(x - 3.0*h_x)/h_x - 0.0095703125*f1(x - 2.0*h_x)/h_x + 0.0797526042*f1(x - 1.0*h_x)/h_x + 1.19628906*f1(x + 1.0*h_x)/h_x - 0.0797526042*f1(x + 2.0*h_x)/h_x + 0.0095703125*f1(x + 3.0*h_x)/h_x - 0.000697544643*f1(x + 4.0*h_x)/h_x\n",
      "\n",
      "\n",
      "-1/2 cell shift;\n",
      "..................................\n",
      "1.19628906*f1(x)/h_x + 0.000697544643*f1(x - 4.0*h_x)/h_x - 0.0095703125*f1(x - 3.0*h_x)/h_x + 0.0797526042*f1(x - 2.0*h_x)/h_x - 1.19628906*f1(x - 1.0*h_x)/h_x - 0.0797526042*f1(x + 1.0*h_x)/h_x + 0.0095703125*f1(x + 2.0*h_x)/h_x - 0.000697544643*f1(x + 3.0*h_x)/h_x\n",
      "\n",
      "\n",
      "Generated c++ code;\n",
      "..................................\n",
      "#define _POSIX_C_SOURCE 200809L\n",
      "#include \"stdlib.h\"\n",
      "#include \"math.h\"\n",
      "#include \"sys/time.h\"\n",
      "#include \"xmmintrin.h\"\n",
      "#include \"pmmintrin.h\"\n",
      "\n",
      "struct dataobj\n",
      "{\n",
      "  void *restrict data;\n",
      "  int * size;\n",
      "  int * npsize;\n",
      "  int * dsize;\n",
      "  int * hsize;\n",
      "  int * hofs;\n",
      "  int * oofs;\n",
      "} ;\n",
      "\n",
      "struct profiler\n",
      "{\n",
      "  double section0;\n",
      "} ;\n",
      "\n",
      "\n",
      "int Kernel(struct dataobj *restrict f1_vec, struct dataobj *restrict f2_vec, struct dataobj *restrict g1_vec, struct dataobj *restrict g2_vec, const float h_x, struct profiler * timers, const int x_M, const int x_m)\n",
      "{\n",
      "  float (*restrict f1) __attribute__ ((aligned (64))) = (float (*)) f1_vec->data;\n",
      "  float (*restrict f2) __attribute__ ((aligned (64))) = (float (*)) f2_vec->data;\n",
      "  float (*restrict g1) __attribute__ ((aligned (64))) = (float (*)) g1_vec->data;\n",
      "  float (*restrict g2) __attribute__ ((aligned (64))) = (float (*)) g2_vec->data;\n",
      "  /* Flush denormal numbers to zero in hardware */\n",
      "  _MM_SET_DENORMALS_ZERO_MODE(_MM_DENORMALS_ZERO_ON);\n",
      "  _MM_SET_FLUSH_ZERO_MODE(_MM_FLUSH_ZERO_ON);\n",
      "  struct timeval start_section0, end_section0;\n",
      "  gettimeofday(&start_section0, NULL);\n",
      "  /* Begin section0 */\n",
      "  for (int x = x_m; x <= x_M; x += 1)\n",
      "  {\n",
      "    float r2 = 1.0/h_x;\n",
      "    f2[x + 8] = r2*(3.57142857e-3F*(f1[x + 4] - f1[x + 12]) + 3.80952381e-2F*(-f1[x + 5] + f1[x + 11]) + 2.0e-1F*(f1[x + 6] - f1[x + 10]) + 8.0e-1F*(-f1[x + 7] + f1[x + 9]));\n",
      "    g2[x + 8] = r2*(3.57142857e-3F*(g1[x + 4] - g1[x + 12]) + 3.80952381e-2F*(-g1[x + 5] + g1[x + 11]) + 2.0e-1F*(g1[x + 6] - g1[x + 10]) + 8.0e-1F*(-g1[x + 7] + g1[x + 9]));\n",
      "  }\n",
      "  /* End section0 */\n",
      "  gettimeofday(&end_section0, NULL);\n",
      "  timers->section0 += (double)(end_section0.tv_sec-start_section0.tv_sec)+(double)(end_section0.tv_usec-start_section0.tv_usec)/1000000;\n",
      "  return 0;\n",
      "}\n",
      "\n"
     ]
    }
   ],
   "source": [
    "# Show the FD coefficients/locations for the forward 1/2 cell shifted first derivative operator\n",
    "print(\"\\n\\n+1/2 cell shift;\")\n",
    "print(\"..................................\")\n",
    "print(f1.dx(x0=x+0.5*x.spacing).evaluate)\n",
    "\n",
    "# Show the FD coefficients/locations for the backward 1/2 cell shifted first derivative operator\n",
    "print(\"\\n\\n-1/2 cell shift;\")\n",
    "print(\"..................................\")\n",
    "print(f1.dx(x0=x-0.5*x.spacing).evaluate)\n",
    "\n",
    "# Show the generated c++ code generated by Devito for applying both forward and backward \n",
    "# 1/2 cell shifted derivatives\n",
    "print(\"\\n\\nGenerated c++ code;\")\n",
    "print(\"..................................\")\n",
    "print(op.ccode)"
   ]
  },
  {
   "cell_type": "markdown",
   "metadata": {},
   "source": [
    "## Doing some algebra to solve for the time update\n",
    "\n",
    "The next step in implementing our Devito modeling operator to define the equation used to update time. What follows is a bit of algebra using the wave equation and finite difference approximations to time derivatives in order to calculate the equation used to update the pressure wavefield forward in time $P(t+\\delta t)$ from the current and previous pressure wavefields\n",
    "$P(t)$ and $P(t-\\delta t)$.\n",
    "\n",
    "#### 1. Numerical approximation for $\\frac{\\displaystyle \\partial^2}{\\displaystyle \\partial t^2}P$\n",
    "The second order accurate centered approximation to the second time derivative involves three wavefields: $P(t-\\delta t)$, $P(t)$, and $P(t+\\delta t)$. \n",
    "\n",
    "$$\n",
    "\\frac{\\partial^2}{\\partial t^2} P = \\frac{\\displaystyle P(t+\\delta t) \n",
    "    - 2 P(t) + P(t-\\delta t)}{\\displaystyle \\delta t^2} \n",
    "$$\n",
    "\n",
    "#### 2. Solve equation from step (1) for $P(t+\\delta t)$\n",
    "In order to advance our finite difference solution in time, we solve for the expression used to evalute $P(t+\\delta t)$.\n",
    "\n",
    "$$\n",
    "P(t+\\delta t) = \\delta t^2 \\frac{\\displaystyle \\partial^2}{\\displaystyle \\partial t^2} P \n",
    "    + 2 P(t) - P(t-\\delta t)\n",
    "$$\n",
    "\n",
    "#### 3. Numerical approximation for $\\frac{\\displaystyle \\partial}{\\displaystyle \\partial t}P$\n",
    "The argument for using a backward approximation is a bit hand wavy, but goes like this: a centered or forward approximation for $\\frac{\\displaystyle \\partial}{\\displaystyle \\partial t}P$ would involve the term $P(t+\\delta t)$, and hence $P(t+\\delta t)$ would appear at two places in equation (7) below, essentially making the form of the time update equation implicit. \n",
    "\n",
    "We are interested in explicit time stepping and so prefer the backward approximation for  $\\frac{\\displaystyle \\partial}{\\displaystyle \\partial t}P$.  In practical application, our experience is that the use of the backward difference is more stable than forward or centered.\n",
    "\n",
    "The first order accurate backward approximation to the first time derivative involves two wavefields: $P(t-\\delta t)$, and $P(t)$. We can use this expression as is. \n",
    "\n",
    "$$\n",
    "\\frac{\\partial}{\\partial t} P = \\frac{\\displaystyle P(t) \n",
    "    - P(t-\\delta t)}{\\displaystyle \\delta t}\n",
    "$$\n",
    "\n",
    "#### 4. Solve the wave equation for $\\frac{\\displaystyle \\partial^2}{\\displaystyle \\partial t^2} P$\n",
    "\n",
    "$$\n",
    "\\begin{aligned}\n",
    "\\frac{b}{v^2} \\left( \\frac{\\omega}{Q} \\frac{\\partial}{\\partial t} P +\n",
    "    \\frac{\\partial^2}{\\partial t^2} P \\right) &=\n",
    "    \\overleftarrow{\\partial x}\\left(b\\ \\overrightarrow{\\partial x} P \\right) +\n",
    "    \\overleftarrow{\\partial y}\\left(b\\ \\overrightarrow{\\partial y} P \\right) +\n",
    "    \\overleftarrow{\\partial z}\\left(b\\ \\overrightarrow{\\partial z} P \\right) + s\\\\[5pt]\n",
    "    \\frac{\\partial^2}{\\partial t^2} P &=\n",
    "    \\frac{v^2}{b} \\left[ \n",
    "        \\overleftarrow{\\partial x}\\left(b\\ \\overrightarrow{\\partial x} P \\right) +\n",
    "        \\overleftarrow{\\partial y}\\left(b\\ \\overrightarrow{\\partial y} P \\right) +\n",
    "        \\overleftarrow{\\partial z}\\left(b\\ \\overrightarrow{\\partial z} P \\right) + s\n",
    "    \\right] \n",
    "    - \\frac{\\omega}{Q} \\frac{\\partial}{\\partial t} P\n",
    "\\end{aligned}\n",
    "$$\n",
    "\n",
    "#### 5. Plug equations from steps (3) and (4) into equation from step (2)\n",
    "Next we plug in the expression for $\\frac{\\displaystyle \\partial^2}{\\displaystyle \\partial t^2} P$ from equation (6) and the expression for $\\frac{\\displaystyle \\partial}{\\displaystyle \\partial t} P$ from equation (5) into the the time update expression for $P(t+\\delta t)$ in equation (4).\n",
    "\n",
    "$$\n",
    "\\begin{aligned}\n",
    "    P(t+\\delta t) &= \\delta t^2 \n",
    "        \\frac{v^2}{b} \\left[ \n",
    "            \\overleftarrow{\\partial x}\\left(b\\ \\overrightarrow{\\partial x} P \\right) +\n",
    "            \\overleftarrow{\\partial y}\\left(b\\ \\overrightarrow{\\partial y} P \\right) +\n",
    "            \\overleftarrow{\\partial z}\\left(b\\ \\overrightarrow{\\partial z} P \\right) + s\n",
    "        \\right] \\\\[5pt]\n",
    "        & \\quad -\\ \\delta t^2 \\frac{\\omega}{Q}\n",
    "            \\left( \\frac{\\displaystyle P(t) - P(t-\\delta t)}{\\displaystyle \\delta t} \\right) \n",
    "            + 2 P(t) - P(t-\\delta t)\n",
    "\\end{aligned}\n",
    "$$\n",
    "\n",
    "#### 6. Simplify ...\n",
    "\n",
    "$$\n",
    "\\begin{aligned}\n",
    "    P(t+\\delta t) &=\n",
    "        \\frac{\\delta t^2 v^2}{b} \\left[ \n",
    "            \\overleftarrow{\\partial x}\\left(b\\ \\overrightarrow{\\partial x} P \\right) +\n",
    "            \\overleftarrow{\\partial y}\\left(b\\ \\overrightarrow{\\partial y} P \\right) +\n",
    "            \\overleftarrow{\\partial z}\\left(b\\ \\overrightarrow{\\partial z} P \\right) + s\n",
    "        \\right] \\\\[5pt]\n",
    "        &\\quad +\\ P(t) \\left(2 - \\frac{\\delta t^2 \\omega}{Q} \\right)\n",
    "        - P(t-\\delta t) \\left(1 - \\frac{\\delta t\\ \\omega}{Q} \\right)\n",
    "\\end{aligned}\n",
    "$$\n",
    "\n",
    "#### 7. et voila ...\n",
    "The last equation from step (6) is the expression we will use to update the pressure wavefield at each time step. It depends on the pressure wavefield at the current time step $P(t)$, and the pressure wavefield at the previous time step $P(t-\\delta t)$. \n",
    "\n",
    "The main work of the finite difference time stepping is evaluating the nested spatial derivative operators on the RHS of this equation. The particular advantage of Devito symbolic optimization is that Devito is able to solve for the complicated expressions that result from substituting the discrete forms of high order numerical finite difference approximations for the nested spatial derivatives seen in the last equation.\n",
    "\n",
    "We have now completed the maths required to implementat the modeling operator. The remainder of this notebook deals with setting up and using the required Devito objects."
   ]
  },
  {
   "cell_type": "markdown",
   "metadata": {},
   "source": [
    "## Instantiate the Devito grid for a two dimensional problem\n",
    "\n",
    "Define the dimensions and coordinates for the model. The computational domain of the model is surrounded by an *absorbing boundary region* where we implement boundary conditions to elimnate outgoing waves. We define the sizes for the interior of the model ```nx``` and ```nz```, the width of the absorbing boundary region ```npad```, and the sizes for the entire model padded with absorbing boundaries become ```nxpad = nx + 2*npad``` and ```nzpad = nz + 2*npad```."
   ]
  },
  {
   "cell_type": "code",
   "execution_count": 25,
   "metadata": {},
   "outputs": [
    {
     "name": "stdout",
     "output_type": "stream",
     "text": [
      "shape;            (501, 501)\n",
      "origin;           (0.0, 0.0)\n",
      "spacing;          (10.0, 10.0)\n",
      "extent;           (5000.0, 5000.0)\n",
      "\n",
      "shape_pad;        [601 601]\n",
      "origin_pad;       (-500.0, -500.0)\n",
      "extent_pad;       (6000.0, 6000.0)\n",
      "\n",
      "grid.shape;       (601, 601)\n",
      "grid.extent;      (6000.0, 6000.0)\n",
      "grid.spacing_map; {h_x: 10.0, h_z: 10.0}\n"
     ]
    }
   ],
   "source": [
    "# Define dimensions for the interior of the model\n",
    "nx,nz = 501,501\n",
    "dx,dz = 10.0,10.0                # Grid spacing in m\n",
    "shape = (nx, nz)                 # Number of grid points\n",
    "spacing = (dx, dz)               # Domain size is now 5 km by 5 km\n",
    "origin = (0., 0.)                # Origin of coordinate system, specified in m.\n",
    "extent = tuple([s*(n-1) for s, n in zip(spacing, shape)])\n",
    "\n",
    "# Define dimensions for the model padded with absorbing boundaries\n",
    "npad        = 50                 # number of points in absorbing boundary region (all sides)\n",
    "nxpad,nzpad = nx+2*npad, nz+2*npad\n",
    "shape_pad   = np.array(shape) + 2 * npad\n",
    "origin_pad  = tuple([o - s*npad for o, s in zip(origin, spacing)])\n",
    "extent_pad  = tuple([s*(n-1) for s, n in zip(spacing, shape_pad)])\n",
    "\n",
    "# Initialize the Devito grid \n",
    "x = SpaceDimension(name='x', spacing=Constant(name='h_x', value=extent_pad[0]/(shape_pad[0]-1)))\n",
    "z = SpaceDimension(name='z', spacing=Constant(name='h_z', value=extent_pad[1]/(shape_pad[1]-1)))\n",
    "grid = Grid(extent=extent_pad, shape=shape_pad, origin=origin_pad, dimensions=(x, z), dtype=dtype)\n",
    "\n",
    "print(\"shape;           \", shape)\n",
    "print(\"origin;          \", origin)\n",
    "print(\"spacing;         \", spacing)\n",
    "print(\"extent;          \", extent)\n",
    "print(\"\")\n",
    "print(\"shape_pad;       \", shape_pad)\n",
    "print(\"origin_pad;      \", origin_pad)\n",
    "print(\"extent_pad;      \", extent_pad)\n",
    "\n",
    "print(\"\")\n",
    "print(\"grid.shape;      \", grid.shape)\n",
    "print(\"grid.extent;     \", grid.extent)\n",
    "print(\"grid.spacing_map;\", grid.spacing_map)"
   ]
  },
  {
   "cell_type": "markdown",
   "metadata": {},
   "source": [
    "## Define the acquisition geometry: locations of sources and receivers \n",
    "\n",
    "**source**:\n",
    "- X coordinate: left edge of the model\n",
    "- Z coordinate: 1 cell below the top of the absorbing boundary\n",
    "\n",
    "**receivers**:\n",
    "- X coordinate: nx on-grid receivers across the top of the model \n",
    "- Z coordinate: 1 cell below the top of the absorbing boundary"
   ]
  },
  {
   "cell_type": "code",
   "execution_count": 26,
   "metadata": {},
   "outputs": [
    {
     "name": "stdout",
     "output_type": "stream",
     "text": [
      "src_coordinate  X;           +2500.0000\n",
      "src_coordinate  Z;           +2500.0000\n",
      "src_coordinates X min/max;      +0.0000   +5000.0000\n",
      "src_coordinates Z min/max;     +10.0000     +10.0000\n"
     ]
    }
   ],
   "source": [
    "# Source at top left edge of model \n",
    "src_coordinates = np.empty((1, 2))\n",
    "src_coordinates[0, 0] = dx * (nx//2)\n",
    "src_coordinates[0, 1] = dz * (nz//2)\n",
    "\n",
    "# line of receivers across top of model\n",
    "rec_coordinates = np.empty((nx, 2))\n",
    "rec_coordinates[:, 0] = np.linspace(0.0, dx*(nx-1), nx)\n",
    "rec_coordinates[:, 1] = dz\n",
    "\n",
    "print(\"src_coordinate  X;         %+12.4f\" % (src_coordinates[0,0]))\n",
    "print(\"src_coordinate  Z;         %+12.4f\" % (src_coordinates[0,1]))\n",
    "print(\"src_coordinates X min/max; %+12.4f %+12.4f\" % (np.min(rec_coordinates[:,0]), np.max(rec_coordinates[:,0])))\n",
    "print(\"src_coordinates Z min/max; %+12.4f %+12.4f\" % (np.min(rec_coordinates[:,1]), np.max(rec_coordinates[:,1])))"
   ]
  },
  {
   "cell_type": "markdown",
   "metadata": {},
   "source": [
    "## Define velocity and buoyancy model parameters\n",
    "\n",
    "We have the following constants and fields from equation (1) that we define as time invariant using ```Functions```:\n",
    "\n",
    "| &nbsp; Symbol &nbsp; | Description |\n",
    "|:---:|:---|\n",
    "| $v(x,z)$ | Acoustic velocity |\n",
    "| $$b(x,z)=\\frac{1}{\\rho(x,z)}$$ | Buoyancy (reciprocal density) |"
   ]
  },
  {
   "cell_type": "code",
   "execution_count": 27,
   "metadata": {},
   "outputs": [],
   "source": [
    "# Create the velocity and buoyancy fields. We use a halfspace of 1500 over 2000 m/s\n",
    "#   - These fields are scalar constants, so we use Function to define them\n",
    "#   - We specify space_order in order to establish the appropriate size halo on the edges \n",
    "space_order = 8\n",
    "v = Function(name='v', grid=grid, space_order=space_order)\n",
    "b = Function(name='b', grid=grid, space_order=space_order)\n",
    "\n",
    "v.data[:,:nzpad//2] = 1.500    # upper layer, specified in m/s\n",
    "v.data[:,nzpad//2:] = 2.000    # lowe layer, specified in m/s\n",
    "b.data[:,:] = 1.0              # initially constant density specified in g/cm^2"
   ]
  },
  {
   "cell_type": "markdown",
   "metadata": {},
   "source": [
    "## Plot velocity of the halfspace model\n",
    "\n",
    "Next we plot the half-space velocity model for illustration. \n",
    "- The demarcation between interior and absorbing boundary is shown with a dotted white line\n",
    "- The source is shown as a large red asterisk\n",
    "- The extent of the receiver array is shown with a thick dashed green line"
   ]
  },
  {
   "cell_type": "code",
   "execution_count": 28,
   "metadata": {},
   "outputs": [
    {
     "data": {
      "image/png": "[encoded data removed]",
      "text/plain": [
       "<Figure size 864x576 with 2 Axes>"
      ]
     },
     "metadata": {
      "needs_background": "light"
     },
     "output_type": "display_data"
    }
   ],
   "source": [
    "# note: flip sense of second dimension to make the plot positive downwards\n",
    "plt_extent = [origin_pad[0], origin_pad[0] + spacing[0]*(shape_pad[0]-1), \n",
    "              origin_pad[1] + spacing[1]*(shape_pad[1]-1), origin_pad[1]]\n",
    "\n",
    "plt.figure(1, figsize=(12,8))\n",
    "plt.clf()\n",
    "plt.imshow(np.transpose(v.data), cmap=cm.jet, vmin=1.5, vmax=2.0, extent=plt_extent)\n",
    "plt.plot([origin[0], origin[0], extent[0], extent[0], origin[0]], \n",
    "         [origin[1], extent[1], extent[1], origin[1], origin[1]], \n",
    "         'white', linewidth=4, linestyle=':', label=\"Absorbing Boundary\")\n",
    "plt.plot(rec_coordinates[:, 0], rec_coordinates[:, 1], 'green', linewidth=5, linestyle='--', label=\"Receiver line\")\n",
    "plt.plot(src_coordinates[:, 0], src_coordinates[:, 1], 'red', linestyle='None', marker='*', markersize=20, label=\"Source\")\n",
    "ax = plt.legend(bbox_to_anchor=(1.25, 0.5), loc='upper left')\n",
    "ax.get_frame().set_color(\"gray\")\n",
    "plt.colorbar()\n",
    "plt.xlabel(\"X Coordinate (m)\", labelpad=15)\n",
    "plt.ylabel(\"Z Coordinate (m)\", labelpad=15)\n",
    "plt.title(\"Halfspace velocity model including absorbing boundary region\", y=1.025)\n",
    "plt.tight_layout()\n",
    "None"
   ]
  },
  {
   "cell_type": "markdown",
   "metadata": {},
   "source": [
    "## Create the $\\omega$/Q model used for dissipation only attenuation\n",
    "\n",
    "We have the following constants and fields from equation (1) that we need to define and instantiate:\n",
    "\n",
    "| &nbsp; Symbol &nbsp; | Description |\n",
    "|:---:|:---|\n",
    "| $\\omega$      | Center angular frequency |\n",
    "| $$\\frac{1}{Q(x,z)}$$ | Inverse Q model used in the modeling system |\n",
    "\n",
    "The strategy we use is designed to eliminate any corners or edges in the attentuation profile. We do this by making Q as a function of *distance from the **nearest** boundary*.\n",
    "\n",
    "## Define a python function for setting w/Q array \n",
    "\n",
    "The python code in the function ```setup_wOverQ``` below uses the ```numpy.ogrid``` function, which allows an *outer product* over index arrays for the two dimensions to build up the attenuation profile. This approach is about 100x faster than using nested loops in python. This function is defined in the ```devito/examples/seismic/skew_self_adjoint``` directory but shown here for completeness.\n",
    "\n",
    "In the next three cells we will:\n",
    "1. Define a function for setting up the $\\omega/Q(x,z)$ array\n",
    "2. Use that function to establish the array we need to implement attenuation as a ```Function```\n",
    "3. Plot the generated Q profile "
   ]
  },
  {
   "cell_type": "code",
   "execution_count": 29,
   "metadata": {},
   "outputs": [],
   "source": [
    "def setup_wOverQ(wOverQ, w, qmin, qmax, npad, sigma=npad//5):\n",
    "    \"\"\"\n",
    "    Initialise spatially variable w/Q field used to implement attenuation and\n",
    "    absorb outgoing waves at the edges of the model.\n",
    "\n",
    "    Parameters\n",
    "    ----------\n",
    "    wOverQ : Function\n",
    "        The omega over Q field used to implement attenuation in the model, \n",
    "        and the absorbing boundary condition for outgoing waves.\n",
    "    w : float32\n",
    "        center angular frequency, e.g. peak frequency of Ricker source wavelet \n",
    "        used for modeling.\n",
    "    qmin : float32\n",
    "        Q value at the edge of the model. Typically set to 0.1 to strongly \n",
    "        attenuate outgoing waves.\n",
    "    qmax : float32\n",
    "        Q value in the interior of the model. Typically set to 100 as a \n",
    "        reasonable and physically meaningful Q value.\n",
    "    npad : int\n",
    "        Number of points in the absorbing boundary region. Note that we expect \n",
    "        this to be the same on all sides of the model.\n",
    "    sigma : float32\n",
    "        sigma value for call to scipy gaussian smoother, default 5.\n",
    "    \"\"\"\n",
    "    assert w > 0, \"supplied w value [%f] must be positive\" % (w)\n",
    "    assert qmin > 0, \"supplied qmin value [%f] must be positive\" % (qmin)\n",
    "    assert qmax > 0, \"supplied qmax value [%f] must be positive\" % (qmax)\n",
    "    assert npad > 0, \"supplied npad value [%f] must be positive\" % (npad)\n",
    "    \n",
    "    t1 = timer()\n",
    "    lqmin = np.log(qmin);\n",
    "    lqmax = np.log(qmax);\n",
    "\n",
    "    kxMin,kzMin = np.ogrid[:nxpad,:nzpad]\n",
    "    kxArr,kzArr = np.minimum(kxMin,nxpad-1-kxMin),np.minimum(kzMin,nzpad-1-kzMin)\n",
    "    nval1 = np.minimum(kxArr,kzArr)\n",
    "    nval2 = np.minimum(1,nval1/(npad))\n",
    "    nval3 = np.exp(lqmin+nval2*(lqmax-lqmin))\n",
    "    wOverQ.data[:,:] = w / nval3\n",
    "\n",
    "    if sigma > 0:\n",
    "        wOverQ.data[:] = gaussian_smooth(wOverQ.data, sigma=sigma)\n",
    "\n",
    "    # report min/max output Q value\n",
    "    q1 = (np.min(1 / (wOverQ.data / w)))\n",
    "    q2 = (np.max(1 / (wOverQ.data / w)))\n",
    "    t2 = timer()\n",
    "    print(\"setup_wOverQ ran in %.4f seconds -- min/max Q values; %8.4f %8.4f\" % (t2-t1, q1, q2)) "
   ]
  },
  {
   "cell_type": "code",
   "execution_count": 30,
   "metadata": {},
   "outputs": [
    {
     "name": "stdout",
     "output_type": "stream",
     "text": [
      "w,fpeak;  0.06283185307179587 0.01\n"
     ]
    },
    {
     "name": "stderr",
     "output_type": "stream",
     "text": [
      "Operator `smooth` run in 0.01 s\n"
     ]
    },
    {
     "name": "stdout",
     "output_type": "stream",
     "text": [
      "setup_wOverQ ran in 1.4916 seconds -- min/max Q values;   0.1593 100.0000\n"
     ]
    }
   ],
   "source": [
    "# Initialize the attenuation profile\n",
    "fpeak = 0.010  # peak frequency 10Hz (0.010 kHz)\n",
    "w = 2.0 * np.pi * fpeak\n",
    "print(\"w,fpeak; \", w, fpeak)\n",
    "qmin = 0.1\n",
    "qmax = 100.0\n",
    "wOverQ = Function(name='wOverQ', grid=grid, space_order=space_order)\n",
    "setup_wOverQ(wOverQ, w, qmin, qmax, npad)"
   ]
  },
  {
   "cell_type": "code",
   "execution_count": 31,
   "metadata": {},
   "outputs": [
    {
     "data": {
      "image/png": "[encoded data removed]",
      "text/plain": [
       "<Figure size 864x576 with 2 Axes>"
      ]
     },
     "metadata": {
      "needs_background": "light"
     },
     "output_type": "display_data"
    }
   ],
   "source": [
    "# Plot the generated Q profile\n",
    "Q = np.log10(1 / (wOverQ.data / w)) \n",
    "plt.figure(1, figsize=(12,8))\n",
    "plt.clf()\n",
    "plt.imshow(np.transpose(Q), cmap=cm.jet_r, vmin=np.log10(qmin), vmax=np.log10(qmax), extent=plt_extent)\n",
    "plt.plot([origin[0], origin[0], extent[0], extent[0], origin[0]], \n",
    "         [origin[1], extent[1], extent[1], origin[1], origin[1]], \n",
    "         'white', linewidth=4, linestyle=':', label=\"Absorbing Boundary\")\n",
    "ax = plt.legend(bbox_to_anchor=(1.25, 0.5), loc='upper left')\n",
    "ax.get_frame().set_color(\"gray\")\n",
    "plt.xlabel(\"X Coordinate (m)\", labelpad=15)\n",
    "plt.ylabel(\"Z Coordinate (m)\", labelpad=15)\n",
    "plt.title(\"log10 of $Q$ value\", y=1.025)\n",
    "plt.colorbar()\n",
    "plt.tight_layout()\n",
    "None"
   ]
  },
  {
   "cell_type": "markdown",
   "metadata": {},
   "source": [
    "## Define the simulation time range\n",
    "\n",
    "In this notebook we run 1 second of simulation using the sample rate defined by the CFL condition as implemented in ```examples/seismic/model.py```.\n",
    "\n",
    "We also use the convenience ```TimeRange``` as defined in ```examples/seismic/source.py```."
   ]
  },
  {
   "cell_type": "code",
   "execution_count": 32,
   "metadata": {},
   "outputs": [
    {
     "name": "stdout",
     "output_type": "stream",
     "text": [
      "Time min,max,dt,num;   0.000000 2000.000000   1.000000 2001\n"
     ]
    }
   ],
   "source": [
    "t0 = dtype(0.)        # Simulation time start\n",
    "tn = dtype(1250.)     # Simulation time end (1 second = 1000 msec)\n",
    "# cfl = 0.38     # Stability criteria for 2nd order acoustics\n",
    "cfl = 0.2        # Stability criteria for 2nd order acoustics\n",
    "dt  = dtype(dtype(cfl * np.min(spacing) / np.max(v.data)))\n",
    "time_range = TimeAxis(start=t0, stop=tn, step=dt)\n",
    "print(\"Time min,max,dt,num; %10.6f %10.6f %10.6f %d\" % (t0, tn, dt, int(tn//dt) + 1))"
   ]
  },
  {
   "cell_type": "markdown",
   "metadata": {},
   "source": [
    "## Define the source\n",
    "\n",
    "We use a 10 Hz center frequency ```RickerSource``` wavelet source as defined in ```examples/seismic/source.py```. Note that we have defined the source coordinates above, and copy here into the strucure defined by ```RickerSource```."
   ]
  },
  {
   "cell_type": "code",
   "execution_count": 33,
   "metadata": {},
   "outputs": [
    {
     "data": {
      "image/png": "[encoded data removed]",
      "text/plain": [
       "<Figure size 432x288 with 1 Axes>"
      ]
     },
     "metadata": {
      "needs_background": "light"
     },
     "output_type": "display_data"
    }
   ],
   "source": [
    "src = RickerSource(name='src', grid=grid, f0=fpeak, npoint=1, time_range=time_range)\n",
    "src.coordinates.data[:] = src_coordinates\n",
    "\n",
    "# We can plot the time signature to see the wavelet\n",
    "src.show()"
   ]
  },
  {
   "cell_type": "markdown",
   "metadata": {},
   "source": [
    "## Define the receivers\n",
    "\n",
    "We use a ```Receiver``` as defined in ```examples/seismic/source.py```. Note that we have defined the receiver coordinates above, and copy here into the strucure defined by ```Receiver```."
   ]
  },
  {
   "cell_type": "code",
   "execution_count": 34,
   "metadata": {},
   "outputs": [],
   "source": [
    "rec = Receiver(name='rec', grid=grid, npoint=nx, time_range=time_range)\n",
    "rec.coordinates.data[:] = rec_coordinates"
   ]
  },
  {
   "cell_type": "markdown",
   "metadata": {},
   "source": [
    "## Define the pressure wavefield as a ```TimeFunction```\n",
    "\n",
    "We specify the time_order as 2, which allocates 3 time steps in the pressure wavefield. As described elsewhere, Devito will use \"cyclic indexing\" to index into this multi-dimensional array."
   ]
  },
  {
   "cell_type": "code",
   "execution_count": 35,
   "metadata": {},
   "outputs": [],
   "source": [
    "# Define the TimeFunction\n",
    "p = TimeFunction(name=\"p\", grid=grid, time_order=2, space_order=space_order)\n",
    "\n",
    "# Get the dimensions and spacing for t, x, z \n",
    "t,x,z = p.dimensions\n",
    "h_t = t.spacing\n",
    "h_x = x.spacing\n",
    "h_z = z.spacing"
   ]
  },
  {
   "cell_type": "markdown",
   "metadata": {},
   "source": [
    "## Define the source injection and receiver extraction "
   ]
  },
  {
   "cell_type": "code",
   "execution_count": 36,
   "metadata": {},
   "outputs": [],
   "source": [
    "# Finally we define the source injection and receiver extraction functions \n",
    "src_term = src.inject(field=p.forward, expr=src * h_t**2 * v**2 / b)\n",
    "\n",
    "# Create interpolation expression for receivers\n",
    "rec_term = rec.interpolate(expr=p.forward)"
   ]
  },
  {
   "cell_type": "markdown",
   "metadata": {},
   "source": [
    "## Finally, the Devito operator\n",
    "\n",
    "We next transcribe the time update expression above into a Devito ```Eq```. Then we add the source injection and receiver extraction and build an ```Operator``` that will generate the c++ code for performing the model.\n",
    "\n",
    "We copy the time update expression from above for clarity. Note we omit $s$ from the ```Eq``` below because we will be explicitly injecting the source using ```src_term```.\n",
    "\n",
    "$$\n",
    "\\begin{aligned}\n",
    "    P(t+\\delta t) &=\n",
    "        \\frac{\\delta t^2 v^2}{b} \\left[ \n",
    "            \\overleftarrow{\\partial x}\\left(b\\ \\overrightarrow{\\partial x} P \\right) +\n",
    "            \\overleftarrow{\\partial y}\\left(b\\ \\overrightarrow{\\partial y} P \\right) +\n",
    "            \\overleftarrow{\\partial z}\\left(b\\ \\overrightarrow{\\partial z} P \\right) + s\n",
    "        \\right] \\\\[5pt]\n",
    "        &\\quad +\\ P(t) \\left(2 - \\frac{\\delta t^2 \\omega}{Q} \\right)\n",
    "        - P(t-\\delta t) \\left(1 - \\frac{\\delta t\\ \\omega}{Q} \\right)\n",
    "\\end{aligned}\n",
    "$$"
   ]
  },
  {
   "cell_type": "code",
   "execution_count": 37,
   "metadata": {},
   "outputs": [],
   "source": [
    "# NBVAL_IGNORE_OUTPUT\n",
    "\n",
    "eq_time_update = (h_t**2 * v**2 / b) * \\\n",
    "    ((b * p.dx(x0=x+h_x/2)).dx(x0=x-h_x/2) + \\\n",
    "     (b * p.dz(x0=z+h_z/2)).dz(x0=z-h_z/2)) + \\\n",
    "    p * (2 - h_t**2 * wOverQ) - p.backward * (1 - h_t * wOverQ)\n",
    "\n",
    "stencil = Eq(p.forward, eq_time_update)\n",
    "\n",
    "# op = Operator([stencil] + src_term + rec_term, subs=p.grid.spacing_map)\n",
    "op = Operator([stencil] + src_term + rec_term)"
   ]
  },
  {
   "cell_type": "code",
   "execution_count": 38,
   "metadata": {},
   "outputs": [],
   "source": [
    "# Print the arguments used in the signature for the the c++ generated code\n",
    "# op.arguments()"
   ]
  },
  {
   "cell_type": "code",
   "execution_count": 39,
   "metadata": {},
   "outputs": [],
   "source": [
    "# Print the generated c++ code\n",
    "# print(op)"
   ]
  },
  {
   "cell_type": "code",
   "execution_count": 40,
   "metadata": {},
   "outputs": [
    {
     "name": "stdout",
     "output_type": "stream",
     "text": [
      "v        min/max; +1.500000e+00 +2.000000e+00\n",
      "b        min/max; +1.000000e+00 +1.000000e+00\n",
      "wOverQ   min/max; +6.283185e-04 +3.944902e-01\n",
      "time_range.num;  2001\n",
      "TimeAxis: start=0, stop=2000, step=1, num=2001\n",
      "dt;  1.0\n"
     ]
    },
    {
     "name": "stderr",
     "output_type": "stream",
     "text": [
      "Operator `Kernel` run in 3.86 s\n"
     ]
    },
    {
     "name": "stdout",
     "output_type": "stream",
     "text": [
      "PerformanceSummary([(PerfKey(name='section0', rank=None), PerfEntry(time=3.813433999999979, gflopss=0.0, gpointss=0.0, oi=0.0, ops=0, itershapes=[])), (PerfKey(name='section1', rank=None), PerfEntry(time=0.0008600000000000137, gflopss=0.0, gpointss=0.0, oi=0.0, ops=0, itershapes=[])), (PerfKey(name='section2', rank=None), PerfEntry(time=0.03571299999999993, gflopss=0.0, gpointss=0.0, oi=0.0, ops=0, itershapes=[]))])\n"
     ]
    }
   ],
   "source": [
    "# run the operator\n",
    "print(\"v        min/max; %+12.6e %+12.6e\" % (np.min(v.data), np.max(v.data)))\n",
    "print(\"b        min/max; %+12.6e %+12.6e\" % (np.min(b.data), np.max(b.data)))\n",
    "print(\"wOverQ   min/max; %+12.6e %+12.6e\" % (np.min(wOverQ.data), np.max(wOverQ.data)))\n",
    "print(\"time_range.num; \", time_range.num)\n",
    "\n",
    "print(time_range)\n",
    "print(\"dt; \", dt)\n",
    "# op(time=time_range.num-1, h_x=dx, h_z=dz, dt=dt)\n",
    "summary = op(time=time_range.num-1, h_x=dx, h_z=dz, dt=dt)\n",
    "print(summary)\n",
    "# print(\"rec.data min/max; %+12.6e %+12.6e\" % (np.min(rec.data), np.max(rec.data)))"
   ]
  },
  {
   "cell_type": "markdown",
   "metadata": {},
   "source": [
    "## Plot the computed wavefield"
   ]
  },
  {
   "cell_type": "code",
   "execution_count": 41,
   "metadata": {},
   "outputs": [
    {
     "name": "stderr",
     "output_type": "stream",
     "text": [
      "No handles with labels found to put in legend.\n"
     ]
    },
    {
     "data": {
      "image/png": "[encoded data removed]",
      "text/plain": [
       "<Figure size 576x576 with 1 Axes>"
      ]
     },
     "metadata": {
      "needs_background": "light"
     },
     "output_type": "display_data"
    }
   ],
   "source": [
    "# Plot wavefield and source/rec position\n",
    "plt.figure(figsize=(8,8))\n",
    "amax = np.max(np.abs(p.data[1,:,:]))\n",
    "plt.imshow(np.transpose(p.data[1,:,:]), vmin=-amax, vmax=+amax, cmap=\"seismic\")\n",
    "plt.legend()\n",
    "plt.xlabel('X coordinate (m)')\n",
    "plt.ylabel('Z coordinate (m)')\n",
    "plt.title('Transmitted wavefield in halfspace velocity model')\n",
    "plt.tight_layout()\n",
    "# plt.savefig('wavefieldperf.pdf')\n"
   ]
  },
  {
   "cell_type": "code",
   "execution_count": 42,
   "metadata": {},
   "outputs": [],
   "source": [
    "# # Define the TimeFunction\n",
    "# p = TimeFunction(name=\"p\", grid=grid, time_order=2, space_order=space_order)\n",
    "\n",
    "# # Get the dimensions and spacing for t, x, z \n",
    "# t,x,z = p.dimensions\n",
    "# h_t = t.spacing\n",
    "# h_x = x.spacing\n",
    "# h_z = z.spacing\n",
    "\n",
    "# # the partial differential equation\n",
    "# pde = (b / v**2) * (wOverQ * p.dt(x0=t-0.5*h_t) + p.dt2) -\\\n",
    "#         (b * p.dx(x0=x+0.5*h_x)).dx(x0=x-0.5*h_x) -\\\n",
    "#         (b * p.dz(x0=z+0.5*h_z)).dz(x0=z-0.5*h_z)\n",
    "\n",
    "# pde\n",
    "\n",
    "# t1 = timer()\n",
    "# stencil = Eq(p.forward, solve(pde, p.forward))\n",
    "# t2 = timer()\n",
    "# print(\"solve ran in %.4f seconds.\" % (t2-t1)) \n",
    "# stencil"
   ]
  },
  {
   "cell_type": "markdown",
   "metadata": {},
   "source": []
  },
  {
   "cell_type": "markdown",
   "metadata": {},
   "source": [
    "## References\n",
    "\n",
    "- **Self-adjoint, energy-conserving second-order pseudoacoustic systems for VTI and TTI media for reverse time migration and full-waveform inversion** (2016)\n",
    "<br>Kenneth Bube, John Washbourne, Raymond Ergas, and Tamas Nemeth\n",
    "<br>SEG Technical Program Expanded Abstracts\n",
    "<br>https://library.seg.org/doi/10.1190/segam2016-13878451.1\n",
    "\n",
    "- **Generation of Finite Difference Formulas on Arbitrarily Spaced Grids** (1988)\n",
    "<br>Bengt Fornberg\n",
    "<br>Mathematics of Computation, Vol. 51, No. 184\n",
    "<br>http://dx.doi.org/10.1090/S0025-5718-1988-0935077-0\n",
    "<br>https://web.njit.edu/~jiang/math712/fornberg.pdf"
   ]
  },
  {
   "cell_type": "code",
   "execution_count": null,
   "metadata": {},
   "outputs": [],
   "source": []
  },
  {
   "cell_type": "markdown",
   "metadata": {},
   "source": [
    "## questions\n",
    "- use of src/rec two different ways\n",
    "- should I show the output from solve() on the pde? It is pretty infomative"
   ]
  },
  {
   "cell_type": "code",
   "execution_count": null,
   "metadata": {},
   "outputs": [],
   "source": []
  }
 ],
 "metadata": {
  "anaconda-cloud": {},
  "kernelspec": {
   "display_name": "Python 3",
   "language": "python",
   "name": "python3"
  },
  "language_info": {
   "codemirror_mode": {
    "name": "ipython",
    "version": 3
   },
   "file_extension": ".py",
   "mimetype": "text/x-python",
   "name": "python",
   "nbconvert_exporter": "python",
   "pygments_lexer": "ipython3",
   "version": "3.8.2"
  }
 },
 "nbformat": 4,
 "nbformat_minor": 4
}
