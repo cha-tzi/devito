{
 "cells": [
  {
   "cell_type": "markdown",
   "metadata": {},
   "source": [
    "# Time update for *Cernan* damped constant density acoustics with forward approximation for $\\frac{\\partial}{\\partial t}$\n",
    "\n",
    "We show a derivation for the time update expression used for the constant density acoustic solver. You can compare the end result of this derivation in the last equation line below with lines 58-59 in the file ```examples/seismic/acoustic/operators.py```."
   ]
  },
  {
   "cell_type": "markdown",
   "metadata": {},
   "source": [
    "**First order numerical derivative (forward)**\n",
    "\n",
    "$$\n",
    "\\frac{\\partial}{\\partial t} P(t) = \n",
    "    \\frac{P(t+\\delta t) - P(t)}{\\delta t}\n",
    "$$\n",
    "<br>\n",
    "\n",
    "**Second order numerical derivative**\n",
    "\n",
    "$$\n",
    "\\frac{\\partial^2}{\\partial t^2} P(t) = \n",
    "    \\frac{P(t+\\delta t) - 2 P(t) + P(t-\\delta t)}{\\delta t^2}\n",
    "$$\n",
    "<br>\n",
    "\n",
    "**Second order time update**\n",
    "\n",
    "$$\n",
    "P(t+\\delta t) = \\delta t^2 \\frac{\\partial^2}{\\partial t^2} P \n",
    "    + 2 P(t) - P(t-\\delta t)\n",
    "$$\n",
    "<br>\n",
    "\n",
    "**Damped wave equation**\n",
    "\n",
    "$$\n",
    "\\begin{aligned}\n",
    "m \\frac{\\partial^2}{\\partial t^2} P(t) + \\eta\\ \\frac{\\partial}{\\partial t} P(t) &=\n",
    "    \\nabla^2 P(t) + q \\\\[10pt]\n",
    "\\frac{\\partial^2}{\\partial t^2} P(t) &=\n",
    "    \\frac{1}{m} \\left( \\nabla^2 P(t) + q - \\eta \\frac{\\partial}{\\partial t} P(t) \\right) \n",
    "\\end{aligned}\n",
    "$$\n",
    "\n",
    "**Time update**\n",
    "\n",
    "$$\n",
    "\\begin{aligned}\n",
    "P(t+\\delta t) &=\n",
    "    \\frac{\\delta t^2}{m} \\left\\{ \\nabla^2 P(t) + q \n",
    "        - \\frac{\\eta}{\\delta t} \\left[P(t+\\delta t) - P(t)\\right] \\right\\} \n",
    "    + 2 P(t) - P(t-\\delta t) \\\\[10pt]\n",
    "\\left(1 + \\frac{\\delta t\\ \\eta}{m}\\right) P(t+\\delta t) &= \n",
    "    \\left\\{ \n",
    "        \\frac{\\delta t^2}{m} \\left( \\nabla^2 P(t) + q \\right)\n",
    "        + \\frac{\\delta t\\ \\eta}{m} P(t)\n",
    "        + 2 P(t)\n",
    "        - P(t-\\delta t)\n",
    "    \\right\\} \\\\[10pt]\n",
    "P(t+\\delta t) &=\n",
    "    \\left( \\frac{1}{m+\\delta t\\ \\eta} \\right) \\left\\{ \n",
    "        \\delta t^2 \\left( \\nabla^2 P(t) + q \\right)\n",
    "        + \\delta t\\ \\eta P(t)\n",
    "        + m \\left[2 P(t) - P(t-\\delta t) \\right]\n",
    "    \\right\\}\n",
    "\\end{aligned}\n",
    "$$\n",
    "\n",
    "**Compare**\n",
    "\n",
    "<br> Compare the last line in the equation above with [lines 58-59 in examples/seismic/acoustic/operators.py](https://github.com/devitocodes/devito/blob/master/examples/seismic/acoustic/operators.py#L58-L59)"
   ]
  },
  {
   "cell_type": "code",
   "execution_count": null,
   "metadata": {},
   "outputs": [],
   "source": []
  }
 ],
 "metadata": {
  "kernelspec": {
   "display_name": "Python 3",
   "language": "python",
   "name": "python3"
  },
  "language_info": {
   "codemirror_mode": {
    "name": "ipython",
    "version": 3
   },
   "file_extension": ".py",
   "mimetype": "text/x-python",
   "name": "python",
   "nbconvert_exporter": "python",
   "pygments_lexer": "ipython3",
   "version": "3.8.2"
  }
 },
 "nbformat": 4,
 "nbformat_minor": 4
}
