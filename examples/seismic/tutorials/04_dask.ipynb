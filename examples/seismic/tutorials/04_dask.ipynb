{
 "cells": [
  {
   "cell_type": "markdown",
   "metadata": {},
   "source": [
    "# 04 - Full Waveform Inversion with Devito and Dask"
   ]
  },
  {
   "cell_type": "markdown",
   "metadata": {},
   "source": [
    "## Introduction\n"
   ]
  },
  {
   "cell_type": "markdown",
   "metadata": {},
   "source": [
    "In this tutorial, we will build on the [previous](https://github.com/devitocodes/devito/blob/master/examples/seismic/tutorials/03_fwi.ipynb) FWI tutorial and implement parallel versions of both forward modeling and FWI objective functions. Furthermore, we will show how our parallel FWI function can be passed to black-box third party optimization libraries, such as scipy's [optimize](https://docs.scipy.org/doc/scipy/reference/tutorial/optimize.html) package, to access sophisticated optimization algorithms without having to implement them from scratch!\n",
    "\n",
    "To implement parallel versions of forward modeling and FWI, we will use [Dask](https://dask.pydata.org/en/latest/#dask), a Python library for distributed computing based on parallel data structures and task-based programming. As computing multiple seismic shot records or gradients for subsequent source locations is an embarassingly parallel process, we will use Dask to dynamically distribute our workload to a pool of available workers and afterwards collect the results.\n",
    "\n",
    "The first part of this tutorial closely follows [tutorial 3](https://github.com/devitocodes/devito/blob/master/examples/seismic/tutorials/03_fwi.ipynb) and consists of reading the velocity model and setting up the acquisition geometry. Subsequently, we will implement serial versions of forward modeling and FWI objective functions and then show how we can use Dask to implement parallel versions of these functions. Finally, we will show how to write a wrapper that lets us pass our objective function to scipy's optimize package and how to run a small 2D FWI example using a limited-memory Quasi-Newton method."
   ]
  },
  {
   "cell_type": "markdown",
   "metadata": {},
   "source": [
    "## Set up velocity models"
   ]
  },
  {
   "cell_type": "markdown",
   "metadata": {},
   "source": [
    "As before, we start by reading the true (i.e. unknown) velocity model, as well as the starting model for FWI. For our example, we once again use the 2D Camembert model with a transmission acquisition set up, which involves having sources on one side of the model and receivers on the other side.\n",
    "\n",
    "In reality, we obvisouly cannot know what the true velocity is, but here we use the true model to generate our own data (inverse crime alert!) and to compare it to our FWI result."
   ]
  },
  {
   "cell_type": "code",
   "execution_count": 1,
   "metadata": {
    "tags": [
     "nbval-ignore-output"
    ]
   },
   "outputs": [
    {
     "name": "stderr",
     "output_type": "stream",
     "text": [
      "Operator `initdamp` run in 0.01 s\n",
      "Operator `padfunc` run in 0.01 s\n",
      "Operator `initdamp` run in 0.01 s\n",
      "Operator `padfunc` run in 0.01 s\n"
     ]
    }
   ],
   "source": [
    "from examples.seismic import demo_model\n",
    "\n",
    "# Set up velocity model\n",
    "shape = (101, 101)      # Number of grid points (nx, nz).\n",
    "spacing = (10., 10.)    # Grid spacing in m. The domain size is now 1km by 1km.\n",
    "origin = (0, 0)         # Need origin to define relative source and receiver locations.\n",
    "nbl = 40\n",
    "\n",
    "# True model\n",
    "model = demo_model('circle-isotropic', vp_circle=3.0, vp_background=2.5,\n",
    "                    origin=origin, shape=shape, spacing=spacing, nbl=40)\n",
    "\n",
    "# Initial model\n",
    "model0 = demo_model('circle-isotropic', vp_circle=2.5, vp_background=2.5,\n",
    "                     origin=origin, shape=shape, spacing=spacing, nbl=40,\n",
    "                    grid = model.grid)"
   ]
  },
  {
   "cell_type": "markdown",
   "metadata": {},
   "source": [
    "## Acquisition geometry"
   ]
  },
  {
   "cell_type": "markdown",
   "metadata": {},
   "source": [
    "For the acquisition geometry, we use the same setup as in tutorial 3 and put 5 source position on one side of the model, and an array of 101 receivers on the other side. Note that now our source coordinate array (`src_coordinates`) is a 5 x 2 array, containing the shot locations of all 5 source experiments. After defining the source/receiver coordinates, we set up individual geometry objects for both the observed data (using `model`) and the predicted data (using `model0`)."
   ]
  },
  {
   "cell_type": "code",
   "execution_count": 2,
   "metadata": {},
   "outputs": [],
   "source": [
    "from examples.seismic import AcquisitionGeometry\n",
    "import numpy as np\n",
    "\n",
    "# Set up acquisiton geometry\n",
    "t0 = 0.\n",
    "tn = 1000. \n",
    "f0 = 0.010\n",
    "\n",
    "# Set up source geometry, but define 5 source instead of just one.\n",
    "nsources = 5\n",
    "src_coordinates = np.empty((nsources, 2))\n",
    "src_coordinates[:, 1] = np.linspace(spacing[0], model.domain_size[0] - spacing[0], num=nsources)\n",
    "src_coordinates[:, 0] = 20.  # Source depth is 20m\n",
    "\n",
    "# Initialize receivers for synthetic and imaging data\n",
    "nreceivers = 101\n",
    "rec_coordinates = np.empty((nreceivers, 2))\n",
    "rec_coordinates[:, 1] = np.linspace(spacing[1], model.domain_size[0] - spacing[1], num=nreceivers)\n",
    "rec_coordinates[:, 0] = 980.    # Receiver depth\n",
    "\n",
    "# Set up geometry objects for observed and predicted data\n",
    "geometry = AcquisitionGeometry(model, rec_coordinates, src_coordinates, t0, tn, f0=f0, src_type='Ricker')\n",
    "geometry0 = AcquisitionGeometry(model0, rec_coordinates, src_coordinates, t0, tn, f0=f0, src_type='Ricker')"
   ]
  },
  {
   "cell_type": "markdown",
   "metadata": {},
   "source": [
    "## Forward modeling"
   ]
  },
  {
   "cell_type": "markdown",
   "metadata": {},
   "source": [
    "Before diving into FWI, we will start with forward modeling and show how we can use Dask to implement a parallel wrapper around a serial modeling function to compute seismic shot records for multiple source locations in parallel.\n",
    "\n",
    "First, we implement a forward modeling function for a single shot, which takes a geometry data structure as the only mandatory input argument. This function assumes that the geometry structure only contains a *single* source location. To solve the wave equation for the current shot location and model as specified in `geometry`, we use the `AcousticSolver` from previous tutorials, which is an abstract layer built on top of (generic) Devito objects. `AcousticSolver` contains Devito implementations of forward and adjoint wave equations, as well as Jacobians as specified in tutorials 1 and 2, so we don't have to re-implement these PDEs here."
   ]
  },
  {
   "cell_type": "code",
   "execution_count": 3,
   "metadata": {},
   "outputs": [],
   "source": [
    "from examples.seismic.acoustic import AcousticWaveSolver\n",
    "\n",
    "# Serial modeling function\n",
    "def forward_modeling_single_shot(geometry, save=False, dt=4.0):\n",
    "    solver = AcousticWaveSolver(geometry.model, geometry, space_order=4)\n",
    "    d_obs, u0 = solver.forward(vp=geometry.model.vp, save=save)[0:2]\n",
    "    return d_obs.resample(dt), u0"
   ]
  },
  {
   "cell_type": "markdown",
   "metadata": {},
   "source": [
    "With our modeling function for a single shot record in place, we now implement our parallel version of our modeling function, which consists of a loop over all source locations. As the `geometry` object in `forward_modeling_single_shot` expects only a single source location, we set up a new geometry structure for the i-th source location to pass to our modeling function. However, rather than simpling calling the modeling function for single shots, we tell Dask to create a *task* for each source location and to distribute them to the available parallel workers. Dask returns a remote reference  to the result on each worker called `future`. The `wait` statement tells our function to wait for all tasks to finish their computations, after which we collect the modeled shot records from the workers."
   ]
  },
  {
   "cell_type": "code",
   "execution_count": 4,
   "metadata": {},
   "outputs": [],
   "source": [
    "# Parallel modeling function\n",
    "def forward_modeling_multi_shots(geometry, save=False, dt=4.0):\n",
    "\n",
    "    futures = []\n",
    "    for i in range(geometry.nsrc):\n",
    "\n",
    "        # Geometry for current shot\n",
    "        geometry_i = AcquisitionGeometry(geometry.model, geometry.rec_positions, geometry.src_positions[i, :], \n",
    "            geometry.t0, geometry.tn, f0=geometry.f0, src_type=geometry.src_type)\n",
    "        \n",
    "        # Call serial modeling function for each index\n",
    "        futures.append(client.submit(forward_modeling_single_shot, geometry_i, save=save, dt=dt))\n",
    "\n",
    "    # Wait for all workers to finish and collect shots\n",
    "    wait(futures)\n",
    "    shots = []\n",
    "    for i in range(geometry.nsrc):\n",
    "        shots.append(futures[i].result()[0])\n",
    "\n",
    "    return shots"
   ]
  },
  {
   "cell_type": "markdown",
   "metadata": {},
   "source": [
    "We can use this parallel modeling function to generate our own observed data set, which we will subsequently use for our FWI example. In reality, we would instead read our observed data from a SEG-Y file. To compute the data in parallel, we launch a pool of workers on our local machine and then call the parallel modeling function:"
   ]
  },
  {
   "cell_type": "code",
   "execution_count": null,
   "metadata": {
    "tags": [
     "nbval-ignore-output"
    ]
   },
   "outputs": [],
   "source": [
    "from distributed import Client, LocalCluster, wait\n",
    "\n",
    "# Start Dask cluster\n",
    "cluster = LocalCluster(n_workers=nsources, death_timeout=600)\n",
    "client = Client(cluster)\n",
    "\n",
    "# Compute observed data in parallel (inverse crime). In real life we would read the SEG-Y data here.\n",
    "d_obs = forward_modeling_multi_shots(geometry, save=False)"
   ]
  },
  {
   "cell_type": "markdown",
   "metadata": {},
   "source": [
    "The variable `d_obs` is a list of the 5 shots records and we can plot one of the shot records as follows:"
   ]
  },
  {
   "cell_type": "code",
   "execution_count": null,
   "metadata": {
    "tags": [
     "nbval-ignore-output"
    ]
   },
   "outputs": [
    {
     "data": {
      "image/png": "[encoded data removed]",
      "text/plain": [
       "<Figure size 432x288 with 2 Axes>"
      ]
     },
     "metadata": {
      "needs_background": "light"
     },
     "output_type": "display_data"
    }
   ],
   "source": [
    "from examples.seismic import plot_shotrecord\n",
    "\n",
    "# Plot shot no. 3 of 5\n",
    "plot_shotrecord(d_obs[2].data, model, t0, tn)"
   ]
  },
  {
   "cell_type": "markdown",
   "metadata": {},
   "source": [
    "## Parallel Full-Waveform Inversion"
   ]
  },
  {
   "cell_type": "markdown",
   "metadata": {},
   "source": [
    "Now that we know how to use Dask to implement a parallel loop around a (serial) modeling function for a single shots, we can apply the same concept to an FWI objective function, which computes the FWI function value and gradient for a given geometry and observed shot record. This function follows largely the structure in tutorial 3 and involves computing the predicted data and backpropagating the residual to compute the gradient. As we do not want to update the velocity in the area of the absorbing boundaries, we only return the gradient on the (original) physical grid."
   ]
  },
  {
   "cell_type": "code",
   "execution_count": null,
   "metadata": {},
   "outputs": [],
   "source": [
    "from devito import Function\n",
    "from examples.seismic import Receiver\n",
    "\n",
    "# Serial FWI objective function\n",
    "def fwi_objective_single_shot(geometry, d_obs):\n",
    "\n",
    "    # Devito objects for gradient and data residual\n",
    "    grad = Function(name=\"grad\", grid=model.grid)\n",
    "    residual = Receiver(name='rec', grid=model.grid,\n",
    "                        time_range=geometry.time_axis, \n",
    "                        coordinates=geometry.rec_positions)\n",
    "    solver = AcousticWaveSolver(geometry.model, geometry, space_order=4)\n",
    "\n",
    "    # Predicted data and residual\n",
    "    d_pred, u0 = solver.forward(vp=geometry.model.vp, save=True)[0:2]\n",
    "    residual.data[:] = d_pred.data[:] - d_obs.resample(geometry.dt).data[:][0:d_pred.data.shape[0], :]\n",
    "\n",
    "    # Function value and gradient    \n",
    "    fval = .5*np.linalg.norm(residual.data.flatten())**2\n",
    "    solver.gradient(rec=residual, u=u0, vp=geometry.model.vp, grad=grad)\n",
    "    \n",
    "    # Convert to numpy array and remove absorbing boundaries\n",
    "    grad_crop = np.array(grad.data[:])[model.nbl:-model.nbl, model.nbl:-model.nbl]\n",
    "    \n",
    "    return fval, grad_crop"
   ]
  },
  {
   "cell_type": "markdown",
   "metadata": {},
   "source": [
    "As for the serial modeling function, we can call `fwi_objective_single_shot` with a geometry structure containing a single source location and a single observed shot record. Since we are interested in evaluating this function for multiple sources in parallel, we follow the strategy from our forward modeling example and implement a parallel loop over all shots, in which we create a task for each shot location. As before, we use Dask to create one task per shot location and evaluate the single-shot FWI objective function for each source. We wait for all computations to finish via `wait(futures)` and then we sum the function values and gradients from all workers."
   ]
  },
  {
   "cell_type": "code",
   "execution_count": null,
   "metadata": {},
   "outputs": [],
   "source": [
    "# Parallel FWI objective function\n",
    "def fwi_objective_multi_shots(geometry, d_obs):\n",
    "\n",
    "    futures = []\n",
    "    for i in range(geometry.nsrc):\n",
    "\n",
    "        # Geometry for current shot\n",
    "        geometry_i = AcquisitionGeometry(geometry.model, geometry.rec_positions, geometry.src_positions[i, :], \n",
    "            geometry.t0, geometry.tn, f0=geometry.f0, src_type=geometry.src_type)\n",
    "        \n",
    "        # Call serial FWI objective function for each shot location\n",
    "        futures.append(client.submit(fwi_objective_single_shot, geometry_i, d_obs[i]))\n",
    "\n",
    "    # Wait for all workers to finish and collect function values and gradients\n",
    "    wait(futures)\n",
    "    fval = 0.0\n",
    "    grad = np.zeros(geometry.model.shape)\n",
    "    for i in range(geometry.nsrc):\n",
    "        fval += futures[i].result()[0]\n",
    "        grad += futures[i].result()[1]\n",
    "\n",
    "    return fval, grad"
   ]
  },
  {
   "cell_type": "markdown",
   "metadata": {},
   "source": [
    "We can compute a single gradient of the FWI objective function for all shots by passing the geometry structure with the initial model to the objective function, as well as the observed data we generated earlier."
   ]
  },
  {
   "cell_type": "code",
   "execution_count": null,
   "metadata": {
    "tags": [
     "nbval-ignore-output"
    ]
   },
   "outputs": [],
   "source": [
    "# Compute FWI gradient for 5 shots\n",
    "f, g = fwi_objective_multi_shots(geometry0, d_obs)"
   ]
  },
  {
   "cell_type": "markdown",
   "metadata": {},
   "source": [
    "The physical units of the gradient are $s^2/km^2$, which means our gradient is an update of the squared slowness, rather than of the velocity."
   ]
  },
  {
   "cell_type": "code",
   "execution_count": null,
   "metadata": {
    "tags": [
     "nbval-ignore-output"
    ]
   },
   "outputs": [
    {
     "data": {
      "image/png": "[encoded data removed]",
      "text/plain": [
       "<Figure size 432x288 with 2 Axes>"
      ]
     },
     "metadata": {
      "needs_background": "light"
     },
     "output_type": "display_data"
    }
   ],
   "source": [
    "from examples.seismic import plot_image\n",
    "\n",
    "# Plot g\n",
    "plot_image(g.reshape(model.shape), vmin=-6e3, vmax=6e3, cmap=\"cividis\")"
   ]
  },
  {
   "cell_type": "markdown",
   "metadata": {},
   "source": [
    "## FWI with scipy's L-BFGS\n"
   ]
  },
  {
   "cell_type": "markdown",
   "metadata": {},
   "source": [
    "With our parallel FWI objective function in place, we can in principle implement a wide range of gradient-based optimization algorithms for FWI, such as (stochastic) gradient descent or the nonlinear conjugate gradient method. However, many optimization algorithms, especially second order methods or algorithms for constrained optimization, are far from trivial to implement correctly from scratch. Luckily, many optimization libraries exist that we can adapt for our purposes. \n",
    "\n",
    "Here, we demonstrate how we can interface the scipy *optimize* package to run FWI with a limited-memory Quasi-Newton method. The scipy optimize package was not specifically designed for FWI, but this does not matter, as the library simply accepts any Python function that can be evaluated for a current model iterate `x` and returns the function value and gradient:\n",
    "\n",
    "```\n",
    "f, g = objective_function(x, args)\n",
    "```\n",
    "\n",
    "where `f` is function value and `g` is a one-dimensional numpy array of type `float64`. Our parallel FWI function does not take the current model as an input argument, but instead expects a geometry structure and the observed data. Therefore, we have to write a little wrapper function called `loss`, which provides the input argument structure that is expected by `scipy.optimize`. The function takes the current model iteratve `x` (in squared slowness) as the first input argument and overwrites the current velocity in `geometry` with `x`. The gradient that is returned to `scipy.optimize` is converted to a numpy array of the required type (`float64`)."
   ]
  },
  {
   "cell_type": "code",
   "execution_count": null,
   "metadata": {},
   "outputs": [],
   "source": [
    "# Wrapper for scipy optimizer: x is current model in squared slowness [s^2/km^2]\n",
    "def loss(x, geometry, d_obs):\n",
    "    \n",
    "    # Convert x to velocity\n",
    "    v_curr = 1.0/np.sqrt(x.reshape(geometry.model.shape))\n",
    "    \n",
    "    # Overwrite current velocity in geometry (don't update boundary region)\n",
    "    geometry.model.vp.data[model.nbl:-model.nbl, model.nbl:-model.nbl] = v_curr\n",
    "    \n",
    "    # Evaluate objective function \n",
    "    fval, grad = fwi_objective_multi_shots(geometry, d_obs)\n",
    "    return fval, grad.flatten().astype(np.float64)    # scipy expects double precision vector"
   ]
  },
  {
   "cell_type": "markdown",
   "metadata": {},
   "source": [
    "The `scipy.optimize` function also takes an optional callback function as an input argument, which can be used to keep track of the model error as a function of the iteration number. The callback function takes the current model iterate `xk` as the only input argument and computes the $\\ell_2$-misfit with the true model `m`:"
   ]
  },
  {
   "cell_type": "code",
   "execution_count": null,
   "metadata": {},
   "outputs": [],
   "source": [
    "# Callback to track model error\n",
    "model_error = []\n",
    "def fwi_callback(xk):\n",
    "    vp = model.vp.data[model.nbl:-model.nbl, model.nbl:-model.nbl]\n",
    "    m = 1.0 / (vp.reshape(-1).astype(np.float64))**2\n",
    "    model_error.append(np.linalg.norm((xk - m)/m))"
   ]
  },
  {
   "cell_type": "markdown",
   "metadata": {},
   "source": [
    "The final preparation step before we can run our example, is the definition of box constraints for the velocity. At each iteration, the optimizer will project the current model iterate onto a feasible set of velocites as defined by the lower and upper bounds `vmin` and `vmax`. Box contraints allow us to prevent velocites from taking negative values or values that are too small or large for the stability criteria of our modeling stepping scheme. We define the box constraints for the velocity in $km/s$ and then convert them to squared slownesses. Furthermore, we define our initial guess `m0`:"
   ]
  },
  {
   "cell_type": "code",
   "execution_count": null,
   "metadata": {},
   "outputs": [],
   "source": [
    "# Box contraints\n",
    "vmin = 1.4    # do not allow velocities slower than water\n",
    "vmax = 4.0\n",
    "bounds = [(1.0/vmax**2, 1.0/vmin**2) for _ in range(np.prod(model0.shape))]    # in [s^2/km^2]\n",
    "\n",
    "# Initial guess\n",
    "v0 = model0.vp.data[model.nbl:-model.nbl, model.nbl:-model.nbl]\n",
    "m0 = 1.0 / (v0.reshape(-1).astype(np.float64))**2"
   ]
  },
  {
   "cell_type": "markdown",
   "metadata": {},
   "source": [
    "Finally, we run our 2D FWI example by calling the `optimize.minimize` function. The first input argument is the function to be minimized, which is our `loss` function. The second input argument is the starting value, which in our case is our initial model in squared slowness. The third input argument (`args`) are the arguments that are passed to the loss function other than `x`. For this example we use the L-BFGS algorithm, a limited-memory Quasi-Newton algorithm which builds up an approximation of the (inverse) hessian as we iterate. As our `loss` function returns the analytically computed gradient (as opposed to a numerically approximated gradient), we set the argument `jac=True`. Furthermore, we pass our callback function, box constraints and the maximum number of iterations (in this case 5) to the optimizer. "
   ]
  },
  {
   "cell_type": "code",
   "execution_count": null,
   "metadata": {},
   "outputs": [],
   "source": [
    "from scipy import optimize\n",
    "\n",
    "# FWI with L-BFGS\n",
    "ftol = 0.1\n",
    "maxiter = 5\n",
    "result = optimize.minimize(loss, m0, args=(geometry0, d_obs), method='L-BFGS-B', jac=True, \n",
    "    callback=fwi_callback, bounds=bounds, options={'ftol':ftol, 'maxiter':maxiter, 'disp':True})"
   ]
  },
  {
   "cell_type": "code",
   "execution_count": null,
   "metadata": {},
   "outputs": [],
   "source": [
    "# Check termination criteria\n",
    "assert np.isclose(result['fun'], ftol) or result['nit'] == maxiter"
   ]
  },
  {
   "cell_type": "markdown",
   "metadata": {},
   "source": [
    "After either the maximum iteration number is reached or we find the minimum of the objective function within some tolerance level `ftol`, the optimizer returns a dictionary with the results and some additional information. We convert the result back to the velocity in $km/s$ and compare it to the true model:"
   ]
  },
  {
   "cell_type": "code",
   "execution_count": null,
   "metadata": {
    "tags": [
     "nbval-ignore-output"
    ]
   },
   "outputs": [],
   "source": [
    "# Plot FWI result\n",
    "vp = 1.0/np.sqrt(result['x'].reshape(model.shape))\n",
    "plot_image(model.vp.data[model.nbl:-model.nbl, model.nbl:-model.nbl], vmin=2.4, vmax=2.8, cmap=\"cividis\")\n",
    "plot_image(vp, vmin=2.4, vmax=2.8, cmap=\"cividis\")"
   ]
  },
  {
   "cell_type": "markdown",
   "metadata": {},
   "source": [
    "Looking at the model error as a function of the iteration number, we find that the error decays monotonically, as we would expect."
   ]
  },
  {
   "cell_type": "code",
   "execution_count": null,
   "metadata": {
    "tags": [
     "nbval-ignore-output"
    ]
   },
   "outputs": [],
   "source": [
    "import matplotlib.pyplot as plt\n",
    "\n",
    "# Plot model error\n",
    "plt.plot(range(1, maxiter+1), model_error); plt.xlabel('Iteration number'); plt.ylabel('L2-model error')\n",
    "plt.show()"
   ]
  },
  {
   "cell_type": "markdown",
   "metadata": {},
   "source": [
    "## Next steps"
   ]
  },
  {
   "cell_type": "markdown",
   "metadata": {},
   "source": [
    "In our current example, the master process keeps all shot records in memory and distributes the data to the workers in the parallel pool. This works perfectly fine for 2D and even small 3D examples, but quickly becomes infeasible for large-scale data sets. Therefore, an extension of our current code should include the following steps if we want to scale things up in the future:\n",
    "\n",
    " - Write shot records directly to disk on each worker and return a file pointer back to the master process.\n",
    " \n",
    " - Avoid sending the velocity model to the workers and read the model directly onto each worker.\n",
    " \n",
    " - Include optimal checkpointing or domain-decomposition to address the memory bottleneck in the gradient computations.\n",
    " \n",
    " \n",
    "For scaling Devito to industry-scale problems and being able to work on data sets in the range of multiple terabytes, it is furthermore necessary to have a fast SEG-Y reader that is able to scan through large data volumes and efficiently access blocks of data such as single shot records. Furthermore, we need the SEG-Y reader to be able to interact with Devito and automatically set up `geometry` objects from the SEG-Y headers. For this purpose, please check out the [Julia Devito Inversion framework (JUDI)](https://github.com/slimgroup/JUDI.jl), an extension built on top of Devito in the Julia programming language. JUDI consists on an abstract linear algebra framework and an interface to a fast and parallel SEG-Y reader called [SEGYIO.jl](https://github.com/slimgroup/SegyIO.jl), making it possible to:\n",
    "\n",
    " - Scan large-scale data sets and create look-up tables from which shot records can be directly accessed through their byte locations (no need to loop over traces or read full files).\n",
    " \n",
    " - Use look-up tables to automatically set up Devito objects with source and receiver coordinates. \n",
    " \n",
    " - Work with out-of-core data containers that only read the data into memory when it is used for computations.\n",
    " \n",
    "You can find a full FWI example of the 3D Overthrust model using a 1.1 TB large data set on [JUDI's Github page](https://github.com/slimgroup/JUDI.jl/blob/master/examples/software_paper/examples/fwi_3D_overthrust_spg.jl)."
   ]
  }
 ],
 "metadata": {
  "@webio": {
   "lastCommId": null,
   "lastKernelId": null
  },
  "kernelspec": {
   "display_name": "Python 3",
   "language": "python",
   "name": "python3"
  },
  "language_info": {
   "codemirror_mode": {
    "name": "ipython",
    "version": 3
   },
   "file_extension": ".py",
   "mimetype": "text/x-python",
   "name": "python",
   "nbconvert_exporter": "python",
   "pygments_lexer": "ipython3",
   "version": "3.6.7"
  }
 },
 "nbformat": 4,
 "nbformat_minor": 2
}
