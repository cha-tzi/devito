{
 "cells": [
  {
   "cell_type": "markdown",
   "metadata": {},
   "source": [
    "## Prerequisites\n",
    "\n",
    "This notebook contains examples which are expected *to be run with exactly 4 MPI processes*; not because they wouldn't work otherwise, but simply because it's what their description assumes. For this, you need to:\n",
    "\n",
    "* Install an MPI distribution on your system, such as OpenMPI, MPICH, or Intel MPI (if not already available).\n",
    "* Install some optional dependencies, including `mpi4py` and `ipyparallel`; from the root Devito directory, run\n",
    "```\n",
    "pip install -r requirements-optional.txt\n",
    "```\n",
    "* Create an `ipyparallel` MPI profile, by running our simple setup script. From the root directory, run\n",
    "```\n",
    "./scripts/create_ipyparallel_mpi_profile.sh\n",
    "```\n",
    "\n",
    "## Launch and connect to an ipyparallel cluster\n",
    "\n",
    "We're finally ready to launch an ipyparallel cluster. Open a new terminal and run the following command\n",
    "```\n",
    "ipcluster start --profile=mpi -n 4\n",
    "```"
   ]
  },
  {
   "cell_type": "markdown",
   "metadata": {},
   "source": [
    "Once the engines have started successfully, we can connect to the cluster"
   ]
  },
  {
   "cell_type": "code",
   "execution_count": 1,
   "metadata": {},
   "outputs": [],
   "source": [
    "import ipyparallel as ipp\n",
    "c = ipp.Client(profile='mpi')"
   ]
  },
  {
   "cell_type": "markdown",
   "metadata": {},
   "source": [
    "In this tutorial, to run commands in parallel over the engines, we will use the %px line magic."
   ]
  },
  {
   "cell_type": "code",
   "execution_count": 2,
   "metadata": {},
   "outputs": [
    {
     "name": "stdout",
     "output_type": "stream",
     "text": [
      "[stdout:0] Hi, I'm rank 0.\n",
      "[stdout:1] Hi, I'm rank 1.\n",
      "[stdout:2] Hi, I'm rank 2.\n",
      "[stdout:3] Hi, I'm rank 3.\n"
     ]
    }
   ],
   "source": [
    "%%px\n",
    "from mpi4py import MPI\n",
    "print(f\"Hi, I'm rank %d.\" % MPI.COMM_WORLD.rank)"
   ]
  },
  {
   "cell_type": "markdown",
   "metadata": {},
   "source": [
    "## Overview of MPI in Devito\n",
    "\n",
    "Distributed-memory parallelism via MPI is designed so that users can \"think sequentially\" for as much as possible. The few things requested to the user are:\n",
    "\n",
    "* Like any other MPI program, run with `mpirun -np X python ...`\n",
    "* Some pre- and/or post-processing may be rank-specific (e.g., we may want to plot on a given MPI rank only, even though this might be hidden away in the next Devito releases, when newer support APIs will be provided.\n",
    "* Parallel I/O (if and when necessary) to populate the MPI-distributed datasets in input to a Devito Operator. If a shared file system is available, there are a few simple alternatives to pick from, such as NumPy’s memory-mapped arrays.\n",
    "\n",
    "To enable MPI, users have two options. Either export the environment variable `DEVITO_MPI=1` or, programmatically:"
   ]
  },
  {
   "cell_type": "code",
   "execution_count": 3,
   "metadata": {},
   "outputs": [],
   "source": [
    "%%px\n",
    "from devito import configuration\n",
    "configuration['mpi'] = True"
   ]
  },
  {
   "cell_type": "code",
   "execution_count": 4,
   "metadata": {},
   "outputs": [],
   "source": [
    "%%px\n",
    "# Keep generated code as simple as possible\n",
    "configuration['openmp'] = False\n",
    "# Fix platform so that this notebook can be tested by py.test --nbval\n",
    "configuration['platform'] = 'knl7210'"
   ]
  },
  {
   "cell_type": "markdown",
   "metadata": {},
   "source": [
    "An `Operator` will then generate MPI code, including sends/receives for halo exchanges. Below, we introduce a running example through which we explain how domain decomposition as well as data access (read/write) and distribution work. Performance optimizations are discussed [in a later section](#Performance-optimizations).\n",
    "\n",
    "Let's start by creating a `TimeFunction`."
   ]
  },
  {
   "cell_type": "code",
   "execution_count": 5,
   "metadata": {},
   "outputs": [],
   "source": [
    "%%px\n",
    "from devito import Grid, TimeFunction, Eq, Operator \n",
    "grid = Grid(shape=(4, 4))\n",
    "u = TimeFunction(name=\"u\", grid=grid, space_order=2, time_order=0)"
   ]
  },
  {
   "cell_type": "markdown",
   "metadata": {},
   "source": [
    "Domain decomposition is performed when creating a `Grid`. Users may supply their own domain decomposition, but this is not shown in this notebook. Devito exploits the MPI Cartesian topology abstraction to logically split the `Grid` over the available MPI processes. Since `u` is defined over a decomposed `Grid`, its data get distributed too."
   ]
  },
  {
   "cell_type": "code",
   "execution_count": 6,
   "metadata": {
    "scrolled": false
   },
   "outputs": [
    {
     "data": {
      "text/plain": [
       "\u001b[0;31mOut[0:5]: \u001b[0m\n",
       "Data([[[0., 0.],\n",
       "       [0., 0.]]], dtype=float32)"
      ]
     },
     "metadata": {
      "after": [],
      "completed": "2019-06-05T09:09:39.764389",
      "data": {},
      "engine_id": 0,
      "engine_uuid": "fdaa1e52-642a68e1593002d608a0b9e8",
      "error": null,
      "execute_input": "u.data",
      "execute_result": {
       "data": {
        "text/plain": "Data([[[0., 0.],\n       [0., 0.]]], dtype=float32)"
       },
       "execution_count": 5,
       "metadata": {}
      },
      "follow": [],
      "msg_id": "37da8895-ef15d9201c8c9df68106db87",
      "outputs": [],
      "received": "2019-06-05T09:09:39.766408",
      "started": "2019-06-05T09:09:39.712127",
      "status": "ok",
      "stderr": "",
      "stdout": "",
      "submitted": "2019-06-05T09:09:39.705336"
     },
     "output_type": "display_data"
    },
    {
     "data": {
      "text/plain": [
       "\u001b[0;31mOut[1:5]: \u001b[0m\n",
       "Data([[[0., 0.],\n",
       "       [0., 0.]]], dtype=float32)"
      ]
     },
     "metadata": {
      "after": [],
      "completed": "2019-06-05T09:09:39.752941",
      "data": {},
      "engine_id": 1,
      "engine_uuid": "5349907c-17a431cb2b54558a8f3b9e70",
      "error": null,
      "execute_input": "u.data",
      "execute_result": {
       "data": {
        "text/plain": "Data([[[0., 0.],\n       [0., 0.]]], dtype=float32)"
       },
       "execution_count": 5,
       "metadata": {}
      },
      "follow": [],
      "msg_id": "1386d040-df46d4d97f3f184b35083456",
      "outputs": [],
      "received": "2019-06-05T09:09:39.762991",
      "started": "2019-06-05T09:09:39.712965",
      "status": "ok",
      "stderr": "",
      "stdout": "",
      "submitted": "2019-06-05T09:09:39.705604"
     },
     "output_type": "display_data"
    },
    {
     "data": {
      "text/plain": [
       "\u001b[0;31mOut[2:5]: \u001b[0m\n",
       "Data([[[0., 0.],\n",
       "       [0., 0.]]], dtype=float32)"
      ]
     },
     "metadata": {
      "after": [],
      "completed": "2019-06-05T09:09:39.754543",
      "data": {},
      "engine_id": 2,
      "engine_uuid": "6f5dd36c-b372656e39dae9df8aac02ca",
      "error": null,
      "execute_input": "u.data",
      "execute_result": {
       "data": {
        "text/plain": "Data([[[0., 0.],\n       [0., 0.]]], dtype=float32)"
       },
       "execution_count": 5,
       "metadata": {}
      },
      "follow": [],
      "msg_id": "b7328ed3-a04a3b9422af58f826389618",
      "outputs": [],
      "received": "2019-06-05T09:09:39.760814",
      "started": "2019-06-05T09:09:39.714458",
      "status": "ok",
      "stderr": "",
      "stdout": "",
      "submitted": "2019-06-05T09:09:39.706553"
     },
     "output_type": "display_data"
    },
    {
     "data": {
      "text/plain": [
       "\u001b[0;31mOut[3:5]: \u001b[0m\n",
       "Data([[[0., 0.],\n",
       "       [0., 0.]]], dtype=float32)"
      ]
     },
     "metadata": {
      "after": [],
      "completed": "2019-06-05T09:09:39.760391",
      "data": {},
      "engine_id": 3,
      "engine_uuid": "b2ab207c-45cbbd11117a66b012087cd6",
      "error": null,
      "execute_input": "u.data",
      "execute_result": {
       "data": {
        "text/plain": "Data([[[0., 0.],\n       [0., 0.]]], dtype=float32)"
       },
       "execution_count": 5,
       "metadata": {}
      },
      "follow": [],
      "msg_id": "10b1869d-ad1baa362f0bb016e372d45f",
      "outputs": [],
      "received": "2019-06-05T09:09:39.765813",
      "started": "2019-06-05T09:09:39.716204",
      "status": "ok",
      "stderr": "",
      "stdout": "",
      "submitted": "2019-06-05T09:09:39.706758"
     },
     "output_type": "display_data"
    }
   ],
   "source": [
    "%%px\n",
    "u.data"
   ]
  },
  {
   "cell_type": "markdown",
   "metadata": {},
   "source": [
    "Globally, `u` consists of 4x4 points -- this is what users \"see\". But locally, as shown above, each rank has got a 2x2 subdomain. The key point is: **for the user, the fact that `u.data` is distributed is completely abstracted away -- the perception is that of indexing into a classic NumPy array, regardless of whether MPI is enabled or not**. All sort of NumPy indexing schemes (basic, slicing, etc.) are supported. For example, we can write into a slice-generated view of our data."
   ]
  },
  {
   "cell_type": "code",
   "execution_count": 7,
   "metadata": {},
   "outputs": [
    {
     "data": {
      "text/plain": [
       "\u001b[0;31mOut[0:6]: \u001b[0m\n",
       "Data([[[0., 0.],\n",
       "       [0., 1.]]], dtype=float32)"
      ]
     },
     "metadata": {
      "after": [],
      "completed": "2019-06-05T09:09:39.820299",
      "data": {},
      "engine_id": 0,
      "engine_uuid": "fdaa1e52-642a68e1593002d608a0b9e8",
      "error": null,
      "execute_input": "u.data[0, 1:-1, 1:-1] = 1.\nu.data",
      "execute_result": {
       "data": {
        "text/plain": "Data([[[0., 0.],\n       [0., 1.]]], dtype=float32)"
       },
       "execution_count": 6,
       "metadata": {}
      },
      "follow": [],
      "msg_id": "e4ad1e7d-2471bbf9d99f4f90f763ebcd",
      "outputs": [],
      "received": "2019-06-05T09:09:39.824581",
      "started": "2019-06-05T09:09:39.803573",
      "status": "ok",
      "stderr": "",
      "stdout": "",
      "submitted": "2019-06-05T09:09:39.790759"
     },
     "output_type": "display_data"
    },
    {
     "data": {
      "text/plain": [
       "\u001b[0;31mOut[1:6]: \u001b[0m\n",
       "Data([[[0., 0.],\n",
       "       [1., 0.]]], dtype=float32)"
      ]
     },
     "metadata": {
      "after": [],
      "completed": "2019-06-05T09:09:39.822544",
      "data": {},
      "engine_id": 1,
      "engine_uuid": "5349907c-17a431cb2b54558a8f3b9e70",
      "error": null,
      "execute_input": "u.data[0, 1:-1, 1:-1] = 1.\nu.data",
      "execute_result": {
       "data": {
        "text/plain": "Data([[[0., 0.],\n       [1., 0.]]], dtype=float32)"
       },
       "execution_count": 6,
       "metadata": {}
      },
      "follow": [],
      "msg_id": "dfa2c600-d1ba6ab1753a1a13c0b993c3",
      "outputs": [],
      "received": "2019-06-05T09:09:39.831033",
      "started": "2019-06-05T09:09:39.803914",
      "status": "ok",
      "stderr": "",
      "stdout": "",
      "submitted": "2019-06-05T09:09:39.791030"
     },
     "output_type": "display_data"
    },
    {
     "data": {
      "text/plain": [
       "\u001b[0;31mOut[2:6]: \u001b[0m\n",
       "Data([[[0., 1.],\n",
       "       [0., 0.]]], dtype=float32)"
      ]
     },
     "metadata": {
      "after": [],
      "completed": "2019-06-05T09:09:39.819972",
      "data": {},
      "engine_id": 2,
      "engine_uuid": "6f5dd36c-b372656e39dae9df8aac02ca",
      "error": null,
      "execute_input": "u.data[0, 1:-1, 1:-1] = 1.\nu.data",
      "execute_result": {
       "data": {
        "text/plain": "Data([[[0., 1.],\n       [0., 0.]]], dtype=float32)"
       },
       "execution_count": 6,
       "metadata": {}
      },
      "follow": [],
      "msg_id": "fb5e7c53-d235ddd180abdca80d2c7c2c",
      "outputs": [],
      "received": "2019-06-05T09:09:39.826816",
      "started": "2019-06-05T09:09:39.802608",
      "status": "ok",
      "stderr": "",
      "stdout": "",
      "submitted": "2019-06-05T09:09:39.791383"
     },
     "output_type": "display_data"
    },
    {
     "data": {
      "text/plain": [
       "\u001b[0;31mOut[3:6]: \u001b[0m\n",
       "Data([[[1., 0.],\n",
       "       [0., 0.]]], dtype=float32)"
      ]
     },
     "metadata": {
      "after": [],
      "completed": "2019-06-05T09:09:39.828526",
      "data": {},
      "engine_id": 3,
      "engine_uuid": "b2ab207c-45cbbd11117a66b012087cd6",
      "error": null,
      "execute_input": "u.data[0, 1:-1, 1:-1] = 1.\nu.data",
      "execute_result": {
       "data": {
        "text/plain": "Data([[[1., 0.],\n       [0., 0.]]], dtype=float32)"
       },
       "execution_count": 6,
       "metadata": {}
      },
      "follow": [],
      "msg_id": "d6a1592b-4ff24b659a01c8d9d06fbebe",
      "outputs": [],
      "received": "2019-06-05T09:09:39.832538",
      "started": "2019-06-05T09:09:39.813324",
      "status": "ok",
      "stderr": "",
      "stdout": "",
      "submitted": "2019-06-05T09:09:39.791824"
     },
     "output_type": "display_data"
    }
   ],
   "source": [
    "%%px\n",
    "u.data[0, 1:-1, 1:-1] = 1.\n",
    "u.data"
   ]
  },
  {
   "cell_type": "markdown",
   "metadata": {},
   "source": [
    "The only limitation, currently, is that a data access cannot require a direct data exchange among two or more processes (e.g., the assignment `u.data[0, 0] = u.data[3, 3]` will raise an exception unless both entries belong to the same MPI rank).\n",
    "\n",
    "We can finally write out a trivial `Operator` to try running something."
   ]
  },
  {
   "cell_type": "code",
   "execution_count": 8,
   "metadata": {},
   "outputs": [
    {
     "name": "stderr",
     "output_type": "stream",
     "text": [
      "[stderr:0] Operator `Kernel` run in 0.00 s\n",
      "[stderr:1] Operator `Kernel` run in 0.00 s\n",
      "[stderr:2] Operator `Kernel` run in 0.00 s\n",
      "[stderr:3] Operator `Kernel` run in 0.00 s\n"
     ]
    }
   ],
   "source": [
    "%%px\n",
    "#NBVAL_IGNORE_OUTPUT\n",
    "op = Operator(Eq(u.forward, u + 1))\n",
    "summary = op.apply(time_M=0)"
   ]
  },
  {
   "cell_type": "markdown",
   "metadata": {},
   "source": [
    "And we can now check again the (distributed) content of our `u.data`"
   ]
  },
  {
   "cell_type": "code",
   "execution_count": 9,
   "metadata": {},
   "outputs": [
    {
     "data": {
      "text/plain": [
       "\u001b[0;31mOut[0:8]: \u001b[0m\n",
       "Data([[[1., 1.],\n",
       "       [1., 2.]]], dtype=float32)"
      ]
     },
     "metadata": {
      "after": [],
      "completed": "2019-06-05T09:09:40.554147",
      "data": {},
      "engine_id": 0,
      "engine_uuid": "fdaa1e52-642a68e1593002d608a0b9e8",
      "error": null,
      "execute_input": "u.data",
      "execute_result": {
       "data": {
        "text/plain": "Data([[[1., 1.],\n       [1., 2.]]], dtype=float32)"
       },
       "execution_count": 8,
       "metadata": {}
      },
      "follow": [],
      "msg_id": "5a3923a9-94a89e76135e2841614a0e9f",
      "outputs": [],
      "received": "2019-06-05T09:09:40.558005",
      "started": "2019-06-05T09:09:40.544499",
      "status": "ok",
      "stderr": "",
      "stdout": "",
      "submitted": "2019-06-05T09:09:40.536436"
     },
     "output_type": "display_data"
    },
    {
     "data": {
      "text/plain": [
       "\u001b[0;31mOut[1:8]: \u001b[0m\n",
       "Data([[[1., 1.],\n",
       "       [2., 1.]]], dtype=float32)"
      ]
     },
     "metadata": {
      "after": [],
      "completed": "2019-06-05T09:09:40.566760",
      "data": {},
      "engine_id": 1,
      "engine_uuid": "5349907c-17a431cb2b54558a8f3b9e70",
      "error": null,
      "execute_input": "u.data",
      "execute_result": {
       "data": {
        "text/plain": "Data([[[1., 1.],\n       [2., 1.]]], dtype=float32)"
       },
       "execution_count": 8,
       "metadata": {}
      },
      "follow": [],
      "msg_id": "e39c8826-89e2665123b0b355b41e06c6",
      "outputs": [],
      "received": "2019-06-05T09:09:40.571543",
      "started": "2019-06-05T09:09:40.550773",
      "status": "ok",
      "stderr": "",
      "stdout": "",
      "submitted": "2019-06-05T09:09:40.537233"
     },
     "output_type": "display_data"
    },
    {
     "data": {
      "text/plain": [
       "\u001b[0;31mOut[2:8]: \u001b[0m\n",
       "Data([[[1., 2.],\n",
       "       [1., 1.]]], dtype=float32)"
      ]
     },
     "metadata": {
      "after": [],
      "completed": "2019-06-05T09:09:40.560318",
      "data": {},
      "engine_id": 2,
      "engine_uuid": "6f5dd36c-b372656e39dae9df8aac02ca",
      "error": null,
      "execute_input": "u.data",
      "execute_result": {
       "data": {
        "text/plain": "Data([[[1., 2.],\n       [1., 1.]]], dtype=float32)"
       },
       "execution_count": 8,
       "metadata": {}
      },
      "follow": [],
      "msg_id": "5a569817-b57f9ac247b3b61d28c6f28f",
      "outputs": [],
      "received": "2019-06-05T09:09:40.564128",
      "started": "2019-06-05T09:09:40.548672",
      "status": "ok",
      "stderr": "",
      "stdout": "",
      "submitted": "2019-06-05T09:09:40.537439"
     },
     "output_type": "display_data"
    },
    {
     "data": {
      "text/plain": [
       "\u001b[0;31mOut[3:8]: \u001b[0m\n",
       "Data([[[2., 1.],\n",
       "       [1., 1.]]], dtype=float32)"
      ]
     },
     "metadata": {
      "after": [],
      "completed": "2019-06-05T09:09:40.571358",
      "data": {},
      "engine_id": 3,
      "engine_uuid": "b2ab207c-45cbbd11117a66b012087cd6",
      "error": null,
      "execute_input": "u.data",
      "execute_result": {
       "data": {
        "text/plain": "Data([[[2., 1.],\n       [1., 1.]]], dtype=float32)"
       },
       "execution_count": 8,
       "metadata": {}
      },
      "follow": [],
      "msg_id": "9d691ad9-bf435addf2299753c1444e5f",
      "outputs": [],
      "received": "2019-06-05T09:09:40.575365",
      "started": "2019-06-05T09:09:40.561746",
      "status": "ok",
      "stderr": "",
      "stdout": "",
      "submitted": "2019-06-05T09:09:40.537672"
     },
     "output_type": "display_data"
    }
   ],
   "source": [
    "%%px\n",
    "u.data"
   ]
  },
  {
   "cell_type": "markdown",
   "metadata": {},
   "source": [
    "Everything as expected. We could also peek at the generated code, because we may be curious to see what sort of MPI calls Devito has generated..."
   ]
  },
  {
   "cell_type": "code",
   "execution_count": 10,
   "metadata": {
    "scrolled": true
   },
   "outputs": [
    {
     "name": "stdout",
     "output_type": "stream",
     "text": [
      "#define _POSIX_C_SOURCE 200809L\n",
      "#include \"stdlib.h\"\n",
      "#include \"math.h\"\n",
      "#include \"sys/time.h\"\n",
      "#include \"xmmintrin.h\"\n",
      "#include \"pmmintrin.h\"\n",
      "#include \"mpi.h\"\n",
      "\n",
      "struct dataobj\n",
      "{\n",
      "  void *restrict data;\n",
      "  int * size;\n",
      "  int * npsize;\n",
      "  int * dsize;\n",
      "  int * hsize;\n",
      "  int * hofs;\n",
      "  int * oofs;\n",
      "} ;\n",
      "\n",
      "struct profiler\n",
      "{\n",
      "  double section0;\n",
      "} ;\n",
      "\n",
      "\n",
      "int Kernel(struct dataobj *restrict u_vec, const int time_M, const int time_m, struct profiler * timers, const int x_M, const int x_m, const int y_M, const int y_m)\n",
      "{\n",
      "  float (*restrict u)[u_vec->size[1]][u_vec->size[2]] __attribute__ ((aligned (64))) = (float (*)[u_vec->size[1]][u_vec->size[2]]) u_vec->data;\n",
      "  /* Flush denormal numbers to zero in hardware */\n",
      "  _MM_SET_DENORMALS_ZERO_MODE(_MM_DENORMALS_ZERO_ON);\n",
      "  _MM_SET_FLUSH_ZERO_MODE(_MM_FLUSH_ZERO_ON);\n",
      "  for (int time = time_m, t0 = (time)%(1), t1 = (time)%(1); time <= time_M; time += 1, t0 = (time)%(1), t1 = (time)%(1))\n",
      "  {\n",
      "    struct timeval start_section0, end_section0;\n",
      "    gettimeofday(&start_section0, NULL);\n",
      "    /* Begin section0 */\n",
      "    for (int x = x_m; x <= x_M; x += 1)\n",
      "    {\n",
      "      #pragma omp simd aligned(u:64)\n",
      "      for (int y = y_m; y <= y_M; y += 1)\n",
      "      {\n",
      "        u[t1][x + 2][y + 2] = u[t0][x + 2][y + 2] + 1;\n",
      "      }\n",
      "    }\n",
      "    /* End section0 */\n",
      "    gettimeofday(&end_section0, NULL);\n",
      "    timers->section0 += (double)(end_section0.tv_sec-start_section0.tv_sec)+(double)(end_section0.tv_usec-start_section0.tv_usec)/1000000;\n",
      "  }\n",
      "  return 0;\n",
      "}\n",
      "\n"
     ]
    }
   ],
   "source": [
    "%%px --targets 0\n",
    "print(op)"
   ]
  },
  {
   "cell_type": "markdown",
   "metadata": {},
   "source": [
    "Hang on. There's nothing MPI-specific here! At least apart from the header file `#include \"mpi.h\"`. What's going on? Well, it's simple. Devito was smart enough to realize that this trivial `Operator` doesn't even need any sort of halo exchange -- the `Eq` implements a pure \"map computation\" (i.e., fully parallel), so it can just let each MPI process do its job without ever synchronizing with halo exchanges. We might want try again with a proper stencil `Eq`."
   ]
  },
  {
   "cell_type": "code",
   "execution_count": 11,
   "metadata": {
    "scrolled": true
   },
   "outputs": [
    {
     "name": "stdout",
     "output_type": "stream",
     "text": [
      "#define _POSIX_C_SOURCE 200809L\n",
      "#include \"stdlib.h\"\n",
      "#include \"math.h\"\n",
      "#include \"sys/time.h\"\n",
      "#include \"xmmintrin.h\"\n",
      "#include \"pmmintrin.h\"\n",
      "#include \"mpi.h\"\n",
      "\n",
      "struct dataobj\n",
      "{\n",
      "  void *restrict data;\n",
      "  int * size;\n",
      "  int * npsize;\n",
      "  int * dsize;\n",
      "  int * hsize;\n",
      "  int * hofs;\n",
      "  int * oofs;\n",
      "} ;\n",
      "\n",
      "struct neighborhood\n",
      "{\n",
      "  int ll, lc, lr;\n",
      "  int cl, cc, cr;\n",
      "  int rl, rc, rr;\n",
      "} ;\n",
      "\n",
      "struct profiler\n",
      "{\n",
      "  double section0;\n",
      "} ;\n",
      "\n",
      "void haloupdate0(struct dataobj *restrict a_vec, MPI_Comm comm, struct neighborhood * nb, int otime);\n",
      "void sendrecv0(struct dataobj *restrict a_vec, const int buf_x_size, const int buf_y_size, int ogtime, int ogx, int ogy, int ostime, int osx, int osy, int fromrank, int torank, MPI_Comm comm);\n",
      "void gather0(float *restrict buf_vec, const int buf_x_size, const int buf_y_size, struct dataobj *restrict a_vec, int otime, int ox, int oy);\n",
      "void scatter0(float *restrict buf_vec, const int buf_x_size, const int buf_y_size, struct dataobj *restrict a_vec, int otime, int ox, int oy);\n",
      "\n",
      "int Kernel(const float h_x, struct dataobj *restrict u_vec, MPI_Comm comm, struct neighborhood * nb, const int time_M, const int time_m, struct profiler * timers, const int x_M, const int x_m, const int y_M, const int y_m)\n",
      "{\n",
      "  float (*restrict u)[u_vec->size[1]][u_vec->size[2]] __attribute__ ((aligned (64))) = (float (*)[u_vec->size[1]][u_vec->size[2]]) u_vec->data;\n",
      "  /* Flush denormal numbers to zero in hardware */\n",
      "  _MM_SET_DENORMALS_ZERO_MODE(_MM_DENORMALS_ZERO_ON);\n",
      "  _MM_SET_FLUSH_ZERO_MODE(_MM_FLUSH_ZERO_ON);\n",
      "  for (int time = time_m, t0 = (time)%(1), t1 = (time)%(1); time <= time_M; time += 1, t0 = (time)%(1), t1 = (time)%(1))\n",
      "  {\n",
      "    struct timeval start_section0, end_section0;\n",
      "    gettimeofday(&start_section0, NULL);\n",
      "    /* Begin section0 */\n",
      "    haloupdate0(u_vec,comm,nb,t0);\n",
      "    for (int x = x_m; x <= x_M; x += 1)\n",
      "    {\n",
      "      #pragma omp simd aligned(u:64)\n",
      "      for (int y = y_m; y <= y_M; y += 1)\n",
      "      {\n",
      "        float r0 = 1.0/h_x;\n",
      "        u[t1][x + 2][y + 2] = 5.0e-1F*(-r0*u[t0][x + 1][y + 2] + r0*u[t0][x + 3][y + 2]) + 1;\n",
      "      }\n",
      "    }\n",
      "    /* End section0 */\n",
      "    gettimeofday(&end_section0, NULL);\n",
      "    timers->section0 += (double)(end_section0.tv_sec-start_section0.tv_sec)+(double)(end_section0.tv_usec-start_section0.tv_usec)/1000000;\n",
      "  }\n",
      "  return 0;\n",
      "}\n",
      "\n",
      "void haloupdate0(struct dataobj *restrict a_vec, MPI_Comm comm, struct neighborhood * nb, int otime)\n",
      "{\n",
      "  sendrecv0(a_vec,a_vec->hsize[3],a_vec->npsize[2],otime,a_vec->oofs[2],a_vec->hofs[4],otime,a_vec->hofs[3],a_vec->hofs[4],nb->rc,nb->lc,comm);\n",
      "  sendrecv0(a_vec,a_vec->hsize[2],a_vec->npsize[2],otime,a_vec->oofs[3],a_vec->hofs[4],otime,a_vec->hofs[2],a_vec->hofs[4],nb->lc,nb->rc,comm);\n",
      "}\n",
      "\n",
      "void sendrecv0(struct dataobj *restrict a_vec, const int buf_x_size, const int buf_y_size, int ogtime, int ogx, int ogy, int ostime, int osx, int osy, int fromrank, int torank, MPI_Comm comm)\n",
      "{\n",
      "  float (*bufs)[buf_y_size];\n",
      "  float (*bufg)[buf_y_size];\n",
      "  posix_memalign((void**)&bufs, 64, sizeof(float[buf_x_size][buf_y_size]));\n",
      "  posix_memalign((void**)&bufg, 64, sizeof(float[buf_x_size][buf_y_size]));\n",
      "  MPI_Request rrecv;\n",
      "  MPI_Request rsend;\n",
      "  MPI_Irecv((float *)bufs,buf_x_size*buf_y_size,MPI_FLOAT,fromrank,13,comm,&rrecv);\n",
      "  if (torank != MPI_PROC_NULL)\n",
      "  {\n",
      "    gather0((float *)bufg,buf_x_size,buf_y_size,a_vec,ogtime,ogx,ogy);\n",
      "  }\n",
      "  MPI_Isend((float *)bufg,buf_x_size*buf_y_size,MPI_FLOAT,torank,13,comm,&rsend);\n",
      "  MPI_Wait(&rsend,MPI_STATUS_IGNORE);\n",
      "  MPI_Wait(&rrecv,MPI_STATUS_IGNORE);\n",
      "  if (fromrank != MPI_PROC_NULL)\n",
      "  {\n",
      "    scatter0((float *)bufs,buf_x_size,buf_y_size,a_vec,ostime,osx,osy);\n",
      "  }\n",
      "  free(bufs);\n",
      "  free(bufg);\n",
      "}\n",
      "\n",
      "void gather0(float *restrict buf_vec, const int buf_x_size, const int buf_y_size, struct dataobj *restrict a_vec, int otime, int ox, int oy)\n",
      "{\n",
      "  float (*restrict buf)[buf_y_size] __attribute__ ((aligned (64))) = (float (*)[buf_y_size]) buf_vec;\n",
      "  float (*restrict a)[a_vec->size[1]][a_vec->size[2]] __attribute__ ((aligned (64))) = (float (*)[a_vec->size[1]][a_vec->size[2]]) a_vec->data;\n",
      "  for (int x = 0; x <= buf_x_size - 1; x += 1)\n",
      "  {\n",
      "    for (int y = 0; y <= buf_y_size - 1; y += 1)\n",
      "    {\n",
      "      buf[x][y] = a[otime][x + ox][y + oy];\n",
      "    }\n",
      "  }\n",
      "}\n",
      "\n",
      "void scatter0(float *restrict buf_vec, const int buf_x_size, const int buf_y_size, struct dataobj *restrict a_vec, int otime, int ox, int oy)\n",
      "{\n",
      "  float (*restrict buf)[buf_y_size] __attribute__ ((aligned (64))) = (float (*)[buf_y_size]) buf_vec;\n",
      "  float (*restrict a)[a_vec->size[1]][a_vec->size[2]] __attribute__ ((aligned (64))) = (float (*)[a_vec->size[1]][a_vec->size[2]]) a_vec->data;\n",
      "  for (int x = 0; x <= buf_x_size - 1; x += 1)\n",
      "  {\n",
      "    for (int y = 0; y <= buf_y_size - 1; y += 1)\n",
      "    {\n",
      "      a[otime][x + ox][y + oy] = buf[x][y];\n",
      "    }\n",
      "  }\n",
      "}\n",
      "\n"
     ]
    }
   ],
   "source": [
    "%%px --targets 0\n",
    "op = Operator(Eq(u.forward, u.dx + 1))\n",
    "print(op)"
   ]
  },
  {
   "cell_type": "markdown",
   "metadata": {},
   "source": [
    "Uh-oh -- now the generated code looks more complicated than before, though it still is pretty much human-readable. We can spot the following routines:\n",
    "\n",
    "* `haloupdate0` performs a blocking halo exchange, relying on three additional functions, `gather0`, `sendrecv0`, and `scatter0`;\n",
    "* `gather0` copies the (generally non-contiguous) boundary data into a contiguous buffer;\n",
    "* `sendrecv0` takes the buffered data and sends it to one or more neighboring processes; then it waits until all data from the neighboring processes is received;\n",
    "* `scatter0` copies the received data into the proper array locations.\n",
    "\n",
    "This is the simplest halo exchange scheme available in Devito. There are a few, and some of them apply aggressive optimizations, [as shown later on](#Performance-optimizations)."
   ]
  },
  {
   "cell_type": "markdown",
   "metadata": {},
   "source": [
    "Before looking at other scenarios and performance optimizations, there is one last thing it is worth discussing -- the `data_with_halo` view."
   ]
  },
  {
   "cell_type": "code",
   "execution_count": 12,
   "metadata": {},
   "outputs": [
    {
     "data": {
      "text/plain": [
       "\u001b[0;31mOut[0:11]: \u001b[0m\n",
       "Data([[[0., 0., 0., 0.],\n",
       "       [0., 0., 0., 0.],\n",
       "       [0., 0., 1., 1.],\n",
       "       [0., 0., 1., 2.]]], dtype=float32)"
      ]
     },
     "metadata": {
      "after": [],
      "completed": "2019-06-05T09:09:40.819489",
      "data": {},
      "engine_id": 0,
      "engine_uuid": "fdaa1e52-642a68e1593002d608a0b9e8",
      "error": null,
      "execute_input": "u.data_with_halo",
      "execute_result": {
       "data": {
        "text/plain": "Data([[[0., 0., 0., 0.],\n       [0., 0., 0., 0.],\n       [0., 0., 1., 1.],\n       [0., 0., 1., 2.]]], dtype=float32)"
       },
       "execution_count": 11,
       "metadata": {}
      },
      "follow": [],
      "msg_id": "818525c0-05ee690e5d6f646e84da8352",
      "outputs": [],
      "received": "2019-06-05T09:09:40.823724",
      "started": "2019-06-05T09:09:40.798424",
      "status": "ok",
      "stderr": "",
      "stdout": "",
      "submitted": "2019-06-05T09:09:40.791220"
     },
     "output_type": "display_data"
    },
    {
     "data": {
      "text/plain": [
       "\u001b[0;31mOut[1:9]: \u001b[0m\n",
       "Data([[[0., 0., 0., 0.],\n",
       "       [0., 0., 0., 0.],\n",
       "       [1., 1., 0., 0.],\n",
       "       [2., 1., 0., 0.]]], dtype=float32)"
      ]
     },
     "metadata": {
      "after": [],
      "completed": "2019-06-05T09:09:40.822888",
      "data": {},
      "engine_id": 1,
      "engine_uuid": "5349907c-17a431cb2b54558a8f3b9e70",
      "error": null,
      "execute_input": "u.data_with_halo",
      "execute_result": {
       "data": {
        "text/plain": "Data([[[0., 0., 0., 0.],\n       [0., 0., 0., 0.],\n       [1., 1., 0., 0.],\n       [2., 1., 0., 0.]]], dtype=float32)"
       },
       "execution_count": 9,
       "metadata": {}
      },
      "follow": [],
      "msg_id": "9848f6bc-91d259057b02daba7d4de0ea",
      "outputs": [],
      "received": "2019-06-05T09:09:40.827320",
      "started": "2019-06-05T09:09:40.804587",
      "status": "ok",
      "stderr": "",
      "stdout": "",
      "submitted": "2019-06-05T09:09:40.792102"
     },
     "output_type": "display_data"
    },
    {
     "data": {
      "text/plain": [
       "\u001b[0;31mOut[2:9]: \u001b[0m\n",
       "Data([[[0., 0., 1., 2.],\n",
       "       [0., 0., 1., 1.],\n",
       "       [0., 0., 0., 0.],\n",
       "       [0., 0., 0., 0.]]], dtype=float32)"
      ]
     },
     "metadata": {
      "after": [],
      "completed": "2019-06-05T09:09:40.818632",
      "data": {},
      "engine_id": 2,
      "engine_uuid": "6f5dd36c-b372656e39dae9df8aac02ca",
      "error": null,
      "execute_input": "u.data_with_halo",
      "execute_result": {
       "data": {
        "text/plain": "Data([[[0., 0., 1., 2.],\n       [0., 0., 1., 1.],\n       [0., 0., 0., 0.],\n       [0., 0., 0., 0.]]], dtype=float32)"
       },
       "execution_count": 9,
       "metadata": {}
      },
      "follow": [],
      "msg_id": "a7ce4556-14d129daaee270e32d7aa4d5",
      "outputs": [],
      "received": "2019-06-05T09:09:40.822640",
      "started": "2019-06-05T09:09:40.800840",
      "status": "ok",
      "stderr": "",
      "stdout": "",
      "submitted": "2019-06-05T09:09:40.793360"
     },
     "output_type": "display_data"
    },
    {
     "data": {
      "text/plain": [
       "\u001b[0;31mOut[3:9]: \u001b[0m\n",
       "Data([[[2., 1., 0., 0.],\n",
       "       [1., 1., 0., 0.],\n",
       "       [0., 0., 0., 0.],\n",
       "       [0., 0., 0., 0.]]], dtype=float32)"
      ]
     },
     "metadata": {
      "after": [],
      "completed": "2019-06-05T09:09:40.821690",
      "data": {},
      "engine_id": 3,
      "engine_uuid": "b2ab207c-45cbbd11117a66b012087cd6",
      "error": null,
      "execute_input": "u.data_with_halo",
      "execute_result": {
       "data": {
        "text/plain": "Data([[[2., 1., 0., 0.],\n       [1., 1., 0., 0.],\n       [0., 0., 0., 0.],\n       [0., 0., 0., 0.]]], dtype=float32)"
       },
       "execution_count": 9,
       "metadata": {}
      },
      "follow": [],
      "msg_id": "600c08c5-789df3f0cbc856bf6d1b27aa",
      "outputs": [],
      "received": "2019-06-05T09:09:40.825797",
      "started": "2019-06-05T09:09:40.805453",
      "status": "ok",
      "stderr": "",
      "stdout": "",
      "submitted": "2019-06-05T09:09:40.793890"
     },
     "output_type": "display_data"
    }
   ],
   "source": [
    "%%px\n",
    "u.data_with_halo"
   ]
  },
  {
   "cell_type": "markdown",
   "metadata": {},
   "source": [
    "This is again a global data view. The shown *with_halo* is the \"true\" halo surrounding the physical domain, **not** the halo used for the MPI halo exchanges (often referred to as \"ghost region\"). So it gets trivial for a user to initialize the \"true\" halo region (which is typically read by a stencil `Eq` when an `Operator` iterates in proximity of the domain bounday)."
   ]
  },
  {
   "cell_type": "code",
   "execution_count": 13,
   "metadata": {},
   "outputs": [
    {
     "data": {
      "text/plain": [
       "\u001b[0;31mOut[0:12]: \u001b[0m\n",
       "Data([[[1., 1., 1., 1.],\n",
       "       [1., 1., 1., 1.],\n",
       "       [1., 1., 1., 1.],\n",
       "       [1., 1., 1., 1.]]], dtype=float32)"
      ]
     },
     "metadata": {
      "after": [],
      "completed": "2019-06-05T09:09:40.865185",
      "data": {},
      "engine_id": 0,
      "engine_uuid": "fdaa1e52-642a68e1593002d608a0b9e8",
      "error": null,
      "execute_input": "u.data_with_halo[:] = 1.\nu.data_with_halo",
      "execute_result": {
       "data": {
        "text/plain": "Data([[[1., 1., 1., 1.],\n       [1., 1., 1., 1.],\n       [1., 1., 1., 1.],\n       [1., 1., 1., 1.]]], dtype=float32)"
       },
       "execution_count": 12,
       "metadata": {}
      },
      "follow": [],
      "msg_id": "4b8cbd43-daabf0a1d8eb5bc7eb80d355",
      "outputs": [],
      "received": "2019-06-05T09:09:40.868776",
      "started": "2019-06-05T09:09:40.845777",
      "status": "ok",
      "stderr": "",
      "stdout": "",
      "submitted": "2019-06-05T09:09:40.839617"
     },
     "output_type": "display_data"
    },
    {
     "data": {
      "text/plain": [
       "\u001b[0;31mOut[1:10]: \u001b[0m\n",
       "Data([[[1., 1., 1., 1.],\n",
       "       [1., 1., 1., 1.],\n",
       "       [1., 1., 1., 1.],\n",
       "       [1., 1., 1., 1.]]], dtype=float32)"
      ]
     },
     "metadata": {
      "after": [],
      "completed": "2019-06-05T09:09:40.865401",
      "data": {},
      "engine_id": 1,
      "engine_uuid": "5349907c-17a431cb2b54558a8f3b9e70",
      "error": null,
      "execute_input": "u.data_with_halo[:] = 1.\nu.data_with_halo",
      "execute_result": {
       "data": {
        "text/plain": "Data([[[1., 1., 1., 1.],\n       [1., 1., 1., 1.],\n       [1., 1., 1., 1.],\n       [1., 1., 1., 1.]]], dtype=float32)"
       },
       "execution_count": 10,
       "metadata": {}
      },
      "follow": [],
      "msg_id": "d9530600-2c67adffabf3081ec38d8753",
      "outputs": [],
      "received": "2019-06-05T09:09:40.870421",
      "started": "2019-06-05T09:09:40.848821",
      "status": "ok",
      "stderr": "",
      "stdout": "",
      "submitted": "2019-06-05T09:09:40.840388"
     },
     "output_type": "display_data"
    },
    {
     "data": {
      "text/plain": [
       "\u001b[0;31mOut[2:10]: \u001b[0m\n",
       "Data([[[1., 1., 1., 1.],\n",
       "       [1., 1., 1., 1.],\n",
       "       [1., 1., 1., 1.],\n",
       "       [1., 1., 1., 1.]]], dtype=float32)"
      ]
     },
     "metadata": {
      "after": [],
      "completed": "2019-06-05T09:09:40.870610",
      "data": {},
      "engine_id": 2,
      "engine_uuid": "6f5dd36c-b372656e39dae9df8aac02ca",
      "error": null,
      "execute_input": "u.data_with_halo[:] = 1.\nu.data_with_halo",
      "execute_result": {
       "data": {
        "text/plain": "Data([[[1., 1., 1., 1.],\n       [1., 1., 1., 1.],\n       [1., 1., 1., 1.],\n       [1., 1., 1., 1.]]], dtype=float32)"
       },
       "execution_count": 10,
       "metadata": {}
      },
      "follow": [],
      "msg_id": "cb37fd7a-1813e55948992e0ea481f3e4",
      "outputs": [],
      "received": "2019-06-05T09:09:40.873321",
      "started": "2019-06-05T09:09:40.851169",
      "status": "ok",
      "stderr": "",
      "stdout": "",
      "submitted": "2019-06-05T09:09:40.841329"
     },
     "output_type": "display_data"
    },
    {
     "data": {
      "text/plain": [
       "\u001b[0;31mOut[3:10]: \u001b[0m\n",
       "Data([[[1., 1., 1., 1.],\n",
       "       [1., 1., 1., 1.],\n",
       "       [1., 1., 1., 1.],\n",
       "       [1., 1., 1., 1.]]], dtype=float32)"
      ]
     },
     "metadata": {
      "after": [],
      "completed": "2019-06-05T09:09:40.868678",
      "data": {},
      "engine_id": 3,
      "engine_uuid": "b2ab207c-45cbbd11117a66b012087cd6",
      "error": null,
      "execute_input": "u.data_with_halo[:] = 1.\nu.data_with_halo",
      "execute_result": {
       "data": {
        "text/plain": "Data([[[1., 1., 1., 1.],\n       [1., 1., 1., 1.],\n       [1., 1., 1., 1.],\n       [1., 1., 1., 1.]]], dtype=float32)"
       },
       "execution_count": 10,
       "metadata": {}
      },
      "follow": [],
      "msg_id": "2784a547-a2ac9dae116ce1704b14c856",
      "outputs": [],
      "received": "2019-06-05T09:09:40.871659",
      "started": "2019-06-05T09:09:40.851615",
      "status": "ok",
      "stderr": "",
      "stdout": "",
      "submitted": "2019-06-05T09:09:40.841574"
     },
     "output_type": "display_data"
    }
   ],
   "source": [
    "%%px\n",
    "u.data_with_halo[:] = 1.\n",
    "u.data_with_halo"
   ]
  },
  {
   "cell_type": "markdown",
   "metadata": {},
   "source": [
    "## MPI and SparseFunction\n",
    "\n",
    "A `SparseFunction` represents a sparse set of points which are generically unaligned with the `Grid`. A sparse point could be anywhere within a grid, and is therefore attached some coordinates. Given a sparse point, Devito looks at its coordinates and, based on the domain decomposition, **logically** assigns it to a given MPI process; this is purely logical ownership, as in Python-land, before running an Operator, the sparse point physically lives on the MPI rank which created it. Within `op.apply`, right before jumping to C-land, the sparse points are scattered to their logical owners; upon returning to Python-land, the sparse points are gathered back to their original location.\n",
    "\n",
    "In the following example, we attempt injection of four sparse points into the neighboring grid points via linear interpolation."
   ]
  },
  {
   "cell_type": "code",
   "execution_count": 14,
   "metadata": {},
   "outputs": [],
   "source": [
    "%%px\n",
    "from devito import Function, SparseFunction\n",
    "grid = Grid(shape=(4, 4), extent=(3.0, 3.0))\n",
    "x, y = grid.dimensions\n",
    "f = Function(name='f', grid=grid)\n",
    "coords = [(0.5, 0.5), (1.5, 2.5), (1.5, 1.5), (2.5, 1.5)]\n",
    "sf = SparseFunction(name='sf', grid=grid, npoint=len(coords), coordinates=coords)"
   ]
  },
  {
   "cell_type": "markdown",
   "metadata": {},
   "source": [
    "Let:\n",
    "* O be a grid point\n",
    "* x be a halo point\n",
    "* A, B, C, D be the sparse points\n",
    "\n",
    "We show the global view, that is what the user \"sees\".\n",
    "\n",
    "```\n",
    "O --- O --- O --- O\n",
    "|  A  |     |     |\n",
    "O --- O --- O --- O\n",
    "|     |  C  |  B  |\n",
    "O --- O --- O --- O\n",
    "|     |  D  |     |\n",
    "O --- O --- O --- O\n",
    "```\n",
    "\n",
    "And now the local view, that is what the MPI ranks own when jumping to C-land.        \n",
    "\n",
    "```\n",
    "Rank 0          Rank 1\n",
    "O --- O --- x   x --- O --- O\n",
    "|  A  |     |   |     |     |\n",
    "O --- O --- x   x --- O --- O\n",
    "|     |  C  |   |  C  |  B  |\n",
    "x --- x --- x   x --- x --- x\n",
    "\n",
    "Rank 2           Rank 3\n",
    "x --- x --- x   x --- x --- x\n",
    "|     |  C  |   |  C  |  B  |\n",
    "O --- O --- x   x --- O --- O\n",
    "|     |  D  |   |  D  |     |\n",
    "O --- O --- x   x --- O --- O\n",
    "```\n",
    "\n",
    "We observe that the sparse points along the boundary of two or more MPI ranks are _duplicated_ and thus redundantly computed over multiple processes. However, the contributions from these points to the neighboring halo points are naturally ditched, so the final result of the interpolation is as expected. Let's convince ourselves that this is the case. We assign a value of $5$ to each sparse point. Since we are using linear interpolation and all points are placed at the exact center of a grid quadrant, we expect that the contribution of each sparse point to a neighboring grid point will be $5 * 0.25 = 1.25$. Based on the global view above, we eventually expect `f` to look like as follows:\n",
    "\n",
    "```\n",
    "1.25 --- 1.25 --- 0.00 --- 0.00\n",
    "|         |        |        |\n",
    "1.25 --- 2.50 --- 2.50 --- 1.25\n",
    "|         |        |        |\n",
    "0.00 --- 2.50 --- 3.75 --- 1.25\n",
    "|         |        |        |\n",
    "0.00 --- 1.25 --- 1.25 --- 0.00\n",
    "```\n",
    "\n",
    "Let's check this out."
   ]
  },
  {
   "cell_type": "code",
   "execution_count": 15,
   "metadata": {},
   "outputs": [
    {
     "name": "stderr",
     "output_type": "stream",
     "text": [
      "[stderr:0] Operator `Kernel` run in 0.00 s\n",
      "[stderr:1] Operator `Kernel` run in 0.00 s\n",
      "[stderr:2] Operator `Kernel` run in 0.00 s\n",
      "[stderr:3] Operator `Kernel` run in 0.00 s\n"
     ]
    }
   ],
   "source": [
    "%%px\n",
    "#NBVAL_IGNORE_OUTPUT\n",
    "sf.data[:] = 5.\n",
    "op = Operator(sf.inject(field=f, expr=sf))\n",
    "summary = op.apply()"
   ]
  },
  {
   "cell_type": "code",
   "execution_count": 16,
   "metadata": {},
   "outputs": [
    {
     "data": {
      "text/plain": [
       "\u001b[0;31mOut[0:15]: \u001b[0m\n",
       "Data([[1.25, 1.25],\n",
       "      [1.25, 2.5 ]], dtype=float32)"
      ]
     },
     "metadata": {
      "after": [],
      "completed": "2019-06-05T09:09:42.290627",
      "data": {},
      "engine_id": 0,
      "engine_uuid": "fdaa1e52-642a68e1593002d608a0b9e8",
      "error": null,
      "execute_input": "f.data",
      "execute_result": {
       "data": {
        "text/plain": "Data([[1.25, 1.25],\n      [1.25, 2.5 ]], dtype=float32)"
       },
       "execution_count": 15,
       "metadata": {}
      },
      "follow": [],
      "msg_id": "c83378e5-8563ef7e127e1cd9c3e6cca8",
      "outputs": [],
      "received": "2019-06-05T09:09:42.296258",
      "started": "2019-06-05T09:09:42.281645",
      "status": "ok",
      "stderr": "",
      "stdout": "",
      "submitted": "2019-06-05T09:09:42.273916"
     },
     "output_type": "display_data"
    },
    {
     "data": {
      "text/plain": [
       "\u001b[0;31mOut[1:13]: \u001b[0m\n",
       "Data([[0.  , 0.  ],\n",
       "      [2.5 , 1.25]], dtype=float32)"
      ]
     },
     "metadata": {
      "after": [],
      "completed": "2019-06-05T09:09:42.296517",
      "data": {},
      "engine_id": 1,
      "engine_uuid": "5349907c-17a431cb2b54558a8f3b9e70",
      "error": null,
      "execute_input": "f.data",
      "execute_result": {
       "data": {
        "text/plain": "Data([[0.  , 0.  ],\n      [2.5 , 1.25]], dtype=float32)"
       },
       "execution_count": 13,
       "metadata": {}
      },
      "follow": [],
      "msg_id": "81327077-ba6bcb8baa548cdf173c5112",
      "outputs": [],
      "received": "2019-06-05T09:09:42.299122",
      "started": "2019-06-05T09:09:42.284167",
      "status": "ok",
      "stderr": "",
      "stdout": "",
      "submitted": "2019-06-05T09:09:42.274163"
     },
     "output_type": "display_data"
    },
    {
     "data": {
      "text/plain": [
       "\u001b[0;31mOut[2:13]: \u001b[0m\n",
       "Data([[0.  , 2.5 ],\n",
       "      [0.  , 1.25]], dtype=float32)"
      ]
     },
     "metadata": {
      "after": [],
      "completed": "2019-06-05T09:09:42.302404",
      "data": {},
      "engine_id": 2,
      "engine_uuid": "6f5dd36c-b372656e39dae9df8aac02ca",
      "error": null,
      "execute_input": "f.data",
      "execute_result": {
       "data": {
        "text/plain": "Data([[0.  , 2.5 ],\n      [0.  , 1.25]], dtype=float32)"
       },
       "execution_count": 13,
       "metadata": {}
      },
      "follow": [],
      "msg_id": "5fa6b9b7-ea0ee47901b8c8212c05f211",
      "outputs": [],
      "received": "2019-06-05T09:09:42.304953",
      "started": "2019-06-05T09:09:42.290792",
      "status": "ok",
      "stderr": "",
      "stdout": "",
      "submitted": "2019-06-05T09:09:42.275208"
     },
     "output_type": "display_data"
    },
    {
     "data": {
      "text/plain": [
       "\u001b[0;31mOut[3:13]: \u001b[0m\n",
       "Data([[3.75, 1.25],\n",
       "      [1.25, 0.  ]], dtype=float32)"
      ]
     },
     "metadata": {
      "after": [],
      "completed": "2019-06-05T09:09:42.304988",
      "data": {},
      "engine_id": 3,
      "engine_uuid": "b2ab207c-45cbbd11117a66b012087cd6",
      "error": null,
      "execute_input": "f.data",
      "execute_result": {
       "data": {
        "text/plain": "Data([[3.75, 1.25],\n      [1.25, 0.  ]], dtype=float32)"
       },
       "execution_count": 13,
       "metadata": {}
      },
      "follow": [],
      "msg_id": "923cb845-179c6877c72b77077f04ce28",
      "outputs": [],
      "received": "2019-06-05T09:09:42.307247",
      "started": "2019-06-05T09:09:42.298270",
      "status": "ok",
      "stderr": "",
      "stdout": "",
      "submitted": "2019-06-05T09:09:42.275608"
     },
     "output_type": "display_data"
    }
   ],
   "source": [
    "%%px\n",
    "f.data"
   ]
  },
  {
   "cell_type": "markdown",
   "metadata": {},
   "source": [
    "## Performance optimizations\n",
    "\n",
    "The Devito compiler applies several optimizations before generating code.\n",
    "\n",
    "* Redundant halo exchanges are identified and removed. A halo exchange is redundant if a prior halo exchange carries out the same `Function` update and the data is not “dirty” yet.\n",
    "* Computation/communication overlap, with explicit prodding of the asynchronous progress engine to make sure that non-blocking communications execute in background during the compute part.\n",
    "* Halo exchanges could also be reshuffled to maximize the extension of the computation/communication overlap region.\n",
    "\n",
    "To run with all these optimizations enabled, instead of `DEVITO_MPI=1`, users should set `DEVITO_MPI=full`, or, equivalently"
   ]
  },
  {
   "cell_type": "code",
   "execution_count": 17,
   "metadata": {},
   "outputs": [],
   "source": [
    "%%px\n",
    "configuration['mpi'] = 'full'"
   ]
  },
  {
   "cell_type": "markdown",
   "metadata": {},
   "source": [
    "We could now peek at the generated code to see that things now look differently."
   ]
  },
  {
   "cell_type": "code",
   "execution_count": 18,
   "metadata": {
    "scrolled": true
   },
   "outputs": [],
   "source": [
    "%%px\n",
    "op = Operator(Eq(u.forward, u.dx + 1))\n",
    "# Uncomment below to show code (it's quite verbose)\n",
    "# print(op)"
   ]
  },
  {
   "cell_type": "markdown",
   "metadata": {},
   "source": [
    "The body of the time-stepping loop has changed, as it now implements a classic computation/communication overlap scheme:\n",
    "\n",
    "* `haloupdate0` triggers non-blocking communications;\n",
    "* `compute0` executes the core domain region, that is the sub-region which doesn't require reading from halo data to be computed;\n",
    "* `halowait0` wait and terminates the non-blocking communications;\n",
    "* `remainder0`, which internally calls `compute0`, computes the boundary region requiring the now up-to-date halo data."
   ]
  }
 ],
 "metadata": {
  "kernelspec": {
   "display_name": "Python 3",
   "language": "python",
   "name": "python3"
  },
  "language_info": {
   "codemirror_mode": {
    "name": "ipython",
    "version": 3
   },
   "file_extension": ".py",
   "mimetype": "text/x-python",
   "name": "python",
   "nbconvert_exporter": "python",
   "pygments_lexer": "ipython3",
   "version": "3.6.8"
  }
 },
 "nbformat": 4,
 "nbformat_minor": 2
}
