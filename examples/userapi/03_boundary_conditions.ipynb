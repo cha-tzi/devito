{
 "cells": [
  {
   "cell_type": "markdown",
   "metadata": {},
   "source": [
    "# Boundary conditions tutorial"
   ]
  },
  {
   "cell_type": "markdown",
   "metadata": {},
   "source": [
    "This tutorial aims to demonstrate how users can implement various boundary conditions in Devito, building on concepts introduced in previous tutorials. Over the course of this notebook we will go over the implementation of both free surface boundary conditions and perfectly-matched layers (PMLs) in the context of the first-order acoustic wave equation. This tutorial is based on a simplified version of the method outlined in Liu and Tao's 1997 paper (https://doi.org/10.1121/1.419657).\n",
    "\n",
    "For purely educational purposes, we will set up our domain with PMLs along the left and right edges, and free surface boundaries at the top and bottom.\n",
    "\n",
    "(Add a picture here)\n",
    "\n",
    "As always, we will begin by specifying some parameters for our `Grid`:"
   ]
  },
  {
   "cell_type": "code",
   "execution_count": 1,
   "metadata": {},
   "outputs": [],
   "source": [
    "shape = (101, 101)\n",
    "extent = (2000., 2000.)\n",
    "PMLS = 10  # Number of PMLs on left and right sides"
   ]
  },
  {
   "cell_type": "markdown",
   "metadata": {},
   "source": [
    "Additionally, we will need to specify the dimensions for our `Grid`."
   ]
  },
  {
   "cell_type": "code",
   "execution_count": 2,
   "metadata": {},
   "outputs": [],
   "source": [
    "from devito import SpaceDimension, Constant\n",
    "\n",
    "x = SpaceDimension(name='x', spacing=Constant(name='h_x',\n",
    "                                              value=extent[0]/(shape[0]-1)))\n",
    "y = SpaceDimension(name='y', spacing=Constant(name='h_y',\n",
    "                                              value=extent[1]/(shape[1]-1)))"
   ]
  },
  {
   "cell_type": "markdown",
   "metadata": {},
   "source": [
    "We will need to use subdomains to accomodate the modified equations in the PML regions. As `Grid` objects are immutable, we must define our subdomains beforehand."
   ]
  },
  {
   "cell_type": "code",
   "execution_count": 3,
   "metadata": {},
   "outputs": [],
   "source": [
    "from devito import SubDomain\n",
    "\n",
    "class MainDomain(SubDomain):  # Main section with no damping\n",
    "    name = 'main'\n",
    "\n",
    "    def define(self, dimensions):\n",
    "        x, y = dimensions\n",
    "        return {x: ('middle', PMLS, PMLS), y: y}\n",
    "\n",
    "\n",
    "class Left(SubDomain):  # Left PML region\n",
    "    name = 'left'\n",
    "\n",
    "    def define(self, dimensions):\n",
    "        x, y = dimensions\n",
    "        return {x: ('left', PMLS), y: y}\n",
    "\n",
    "\n",
    "class Right(SubDomain):  # Right PML region\n",
    "    name = 'right'\n",
    "\n",
    "    def define(self, dimensions):\n",
    "        x, y = dimensions\n",
    "        return {x: ('right', PMLS), y: y}\n",
    "\n",
    "\n",
    "main_domain = MainDomain()\n",
    "left = Left()\n",
    "right = Right()"
   ]
  },
  {
   "cell_type": "markdown",
   "metadata": {},
   "source": [
    "And create the grid, attaching our subdomains:"
   ]
  },
  {
   "cell_type": "code",
   "execution_count": 4,
   "metadata": {},
   "outputs": [],
   "source": [
    "from devito import Grid\n",
    "\n",
    "grid = Grid(shape=shape, extent=extent, dimensions=(x, y),\n",
    "            subdomains=(main_domain, left, right))"
   ]
  },
  {
   "cell_type": "markdown",
   "metadata": {},
   "source": [
    "We can then begin to specify our problem starting with some parameters."
   ]
  },
  {
   "cell_type": "code",
   "execution_count": 5,
   "metadata": {},
   "outputs": [],
   "source": [
    "density = 1.  # 1000kg/m^3\n",
    "velocity = 4.  # km/s"
   ]
  },
  {
   "cell_type": "markdown",
   "metadata": {},
   "source": [
    "We also need a `TimeFunction` object for each of our wavefields. Note that the pressure field is split in this case: a necessity for implementing the PML boundary conditions. As particle velocity is a vector, we will choose a `VectorTimeFunction` object to encapsulate it."
   ]
  },
  {
   "cell_type": "code",
   "execution_count": 6,
   "metadata": {},
   "outputs": [],
   "source": [
    "from devito import TimeFunction, VectorTimeFunction, NODE\n",
    "\n",
    "ux = TimeFunction(name='ux', grid=grid, time_order=1,\n",
    "                  space_order=6, staggered=NODE)\n",
    "uy = TimeFunction(name='uy', grid=grid, time_order=1,\n",
    "                  space_order=6, staggered=NODE)\n",
    "v = VectorTimeFunction(name='v', grid=grid, time_order=1,\n",
    "                       space_order=6)"
   ]
  },
  {
   "cell_type": "markdown",
   "metadata": {},
   "source": [
    "A `VectorTimeFunction` is near identical in function to a standard `TimeFunction`, albeit with a field for each grid dimension. The fields associated with each component can be accessed as follows:"
   ]
  },
  {
   "cell_type": "code",
   "execution_count": 7,
   "metadata": {},
   "outputs": [
    {
     "name": "stdout",
     "output_type": "stream",
     "text": [
      "[[[0. 0. 0. ... 0. 0. 0.]\n",
      "  [0. 0. 0. ... 0. 0. 0.]\n",
      "  [0. 0. 0. ... 0. 0. 0.]\n",
      "  ...\n",
      "  [0. 0. 0. ... 0. 0. 0.]\n",
      "  [0. 0. 0. ... 0. 0. 0.]\n",
      "  [0. 0. 0. ... 0. 0. 0.]]\n",
      "\n",
      " [[0. 0. 0. ... 0. 0. 0.]\n",
      "  [0. 0. 0. ... 0. 0. 0.]\n",
      "  [0. 0. 0. ... 0. 0. 0.]\n",
      "  ...\n",
      "  [0. 0. 0. ... 0. 0. 0.]\n",
      "  [0. 0. 0. ... 0. 0. 0.]\n",
      "  [0. 0. 0. ... 0. 0. 0.]]]\n"
     ]
    }
   ],
   "source": [
    "print(v[0].data)  # Print the data attribute associated with the x component of v"
   ]
  },
  {
   "cell_type": "markdown",
   "metadata": {},
   "source": [
    "You may have also noticed the keyword `staggered` in the arguments when we created these functions. As one might expect, these are used for specifying where derivatives should be evaluated relative to the grid, as required for implementing formulations such as the first-order acoustic wave equation or P-SV elastic. Passing a function `staggered=NODE` specifies that its derivatives should be evaluated at the node. One can also pass `staggered=x` or `staggered=y` to stagger the grid by half a spacing in those respective directions. Additionally, a tuple of dimensions can be passed to stagger in multiple directions (e.g. `staggered=(x, y)`). `VectorTimeFunction` objects have their associated grids staggered by default.\n",
    "\n",
    "Next we prepare the source term:"
   ]
  },
  {
   "cell_type": "code",
   "execution_count": 8,
   "metadata": {},
   "outputs": [],
   "source": [
    "import numpy as np\n",
    "from examples.seismic import TimeAxis, RickerSource\n",
    "\n",
    "t0 = 0.  # Simulation starts at t=0\n",
    "tn = 400.  # Simulation length in ms\n",
    "dt = 1e2*(1. / np.sqrt(2.)) / 60.  # Time step\n",
    "\n",
    "time_range = TimeAxis(start=t0, stop=tn, step=dt)\n",
    "\n",
    "f0 = 0.01\n",
    "src = RickerSource(name='src', grid=grid, f0=f0,\n",
    "                   npoint=1, time_range=time_range)\n",
    "\n",
    "# Position source centrally in all dimensions\n",
    "src.coordinates.data[0, :] = 1000."
   ]
  },
  {
   "cell_type": "code",
   "execution_count": 9,
   "metadata": {},
   "outputs": [
    {
     "data": {
      "image/png": "[encoded data removed]",
      "text/plain": [
       "<Figure size 432x288 with 1 Axes>"
      ]
     },
     "metadata": {
      "needs_background": "light"
     },
     "output_type": "display_data"
    }
   ],
   "source": [
    "#NBVAL_SKIP\n",
    "\n",
    "src.show()"
   ]
  },
  {
   "cell_type": "markdown",
   "metadata": {},
   "source": [
    "For our PMLs, we will need some damping parameter. In this case, we will use a quadratic taper over the absorbing regions on the left and right sides of the domain."
   ]
  },
  {
   "cell_type": "code",
   "execution_count": 10,
   "metadata": {},
   "outputs": [],
   "source": [
    "# Damping parameterisation\n",
    "damp_x_l = (1-0.1*x)**2  # Left side\n",
    "damp_x_r = (1-0.1*(grid.shape[0]-x))**2  # Right side"
   ]
  },
  {
   "cell_type": "markdown",
   "metadata": {},
   "source": [
    "Now for our main domain equations:"
   ]
  },
  {
   "cell_type": "code",
   "execution_count": 11,
   "metadata": {},
   "outputs": [],
   "source": [
    "from devito import Eq, grad\n",
    "\n",
    "eq_v = Eq(v.forward, v - dt*grad(ux + uy)/density,\n",
    "          subdomain=grid.subdomains['main'])\n",
    "\n",
    "# Note that u is split into vertical and horizontal components\n",
    "eq_ux = Eq(ux.forward, ux - dt*velocity**2*density*v[0].forward.dx,\n",
    "           subdomain=grid.subdomains['main'])\n",
    "\n",
    "eq_uy = Eq(uy.forward, uy - dt*velocity**2*density*v[1].forward.dy,\n",
    "           subdomain=grid.subdomains['main'])"
   ]
  },
  {
   "cell_type": "markdown",
   "metadata": {},
   "source": [
    "And the equations for our damped region:"
   ]
  },
  {
   "cell_type": "code",
   "execution_count": 12,
   "metadata": {},
   "outputs": [],
   "source": [
    "# Left side\n",
    "eq_v_damp_left = Eq(v.forward,\n",
    "                    (1-damp_x_l)*v - dt*grad(ux + uy)/density,\n",
    "                    subdomain=grid.subdomains['left'])\n",
    "\n",
    "eq_ux_damp_left = Eq(ux.forward,\n",
    "                     (1-damp_x_l)*ux - dt*velocity**2*density*v[0].forward.dx,\n",
    "                     subdomain=grid.subdomains['left'])\n",
    "\n",
    "eq_uy_damp_left = Eq(uy.forward,\n",
    "                     uy - dt*velocity**2*density*v[1].forward.dy,\n",
    "                     subdomain=grid.subdomains['left'])\n",
    "\n",
    "# Right side\n",
    "eq_v_damp_right = Eq(v.forward,\n",
    "                     (1-damp_x_r)*v - dt*grad(ux + uy)/density,\n",
    "                     subdomain=grid.subdomains['right'])\n",
    "\n",
    "eq_ux_damp_right = Eq(ux.forward,\n",
    "                      (1-damp_x_r)*ux - dt*velocity**2*density*v[0].forward.dx,\n",
    "                      subdomain=grid.subdomains['right'])\n",
    "\n",
    "eq_uy_damp_right = Eq(uy.forward,\n",
    "                      uy - dt*velocity**2*density*v[1].forward.dy,\n",
    "                      subdomain=grid.subdomains['right'])"
   ]
  },
  {
   "cell_type": "markdown",
   "metadata": {},
   "source": [
    "Add our free surface boundary conditions (currently only Drichlet...):"
   ]
  },
  {
   "cell_type": "code",
   "execution_count": 13,
   "metadata": {},
   "outputs": [],
   "source": [
    "time = grid.stepping_dim\n",
    "bc_u = [Eq(uy[time+1, x, 0], 0.)]\n",
    "bc_u += [Eq(uy[time+1, x, -1], 0.)]"
   ]
  },
  {
   "cell_type": "markdown",
   "metadata": {},
   "source": [
    "And our source terms:"
   ]
  },
  {
   "cell_type": "code",
   "execution_count": 14,
   "metadata": {},
   "outputs": [],
   "source": [
    "src_term_x = src.inject(field=ux.forward, expr=src)\n",
    "src_term_y = src.inject(field=uy.forward, expr=src)"
   ]
  },
  {
   "cell_type": "markdown",
   "metadata": {},
   "source": [
    "Construct our operator and run:"
   ]
  },
  {
   "cell_type": "code",
   "execution_count": 15,
   "metadata": {},
   "outputs": [
    {
     "name": "stderr",
     "output_type": "stream",
     "text": [
      "Operator `Kernel` run in 0.02 s\n"
     ]
    }
   ],
   "source": [
    "#NBVAL_IGNORE_OUTPUT\n",
    "from devito import Operator\n",
    "\n",
    "op = Operator([eq_v, eq_ux, eq_uy,\n",
    "               eq_v_damp_left, eq_ux_damp_left, eq_uy_damp_left,\n",
    "               eq_v_damp_right, eq_ux_damp_right, eq_uy_damp_right]\n",
    "              + src_term_x + src_term_y + bc_u)\n",
    "\n",
    "op(time=time_range.num-1)"
   ]
  },
  {
   "cell_type": "markdown",
   "metadata": {},
   "source": [
    "Now let's plot the wavefield."
   ]
  },
  {
   "cell_type": "code",
   "execution_count": 16,
   "metadata": {},
   "outputs": [
    {
     "data": {
      "image/png": "[encoded data removed]",
      "text/plain": [
       "<Figure size 432x288 with 2 Axes>"
      ]
     },
     "metadata": {
      "needs_background": "light"
     },
     "output_type": "display_data"
    }
   ],
   "source": [
    "#NBVAL_SKIP\n",
    "import matplotlib.pyplot as plt\n",
    "\n",
    "fig = plt.figure()\n",
    "plt.imshow(np.swapaxes(ux.data[1] + uy.data[1], 0, 1),\n",
    "           origin=\"upper\",\n",
    "           extent=[0, grid.extent[0], grid.extent[1], 0])\n",
    "plt.colorbar()\n",
    "plt.xlabel(\"x (m)\")\n",
    "plt.ylabel(\"y (m)\")\n",
    "plt.show()"
   ]
  },
  {
   "cell_type": "markdown",
   "metadata": {},
   "source": [
    "As we can see, the wave is effectively damped at the edge of the domain by the 10 layers of PMLs, with minimal reflections back into the domain."
   ]
  }
 ],
 "metadata": {
  "kernelspec": {
   "display_name": "Python [conda env:devito] *",
   "language": "python",
   "name": "conda-env-devito-py"
  },
  "language_info": {
   "codemirror_mode": {
    "name": "ipython",
    "version": 3
   },
   "file_extension": ".py",
   "mimetype": "text/x-python",
   "name": "python",
   "nbconvert_exporter": "python",
   "pygments_lexer": "ipython3",
   "version": "3.7.4"
  }
 },
 "nbformat": 4,
 "nbformat_minor": 2
}
