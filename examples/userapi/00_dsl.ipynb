{
 "cells": [
  {
   "cell_type": "markdown",
   "metadata": {},
   "source": [
    "# The Devito domain specific language: an overview\n",
    "\n",
    "This notebook presents an overview of the symbolic layers of Devito to express and discretize operators, in particular partial differential equations (PDEs).\n",
    "\n",
    "For simplicity, let's import all Devito modules"
   ]
  },
  {
   "cell_type": "code",
   "execution_count": 1,
   "metadata": {},
   "outputs": [],
   "source": [
    "from devito import *"
   ]
  },
  {
   "cell_type": "markdown",
   "metadata": {},
   "source": [
    "## From equations to code in a few lines of Python\n",
    "\n",
    "Today's objective is to demonstrate how Devito and its [SymPy](http://www.sympy.org/en/index.html)-powered symbolic API can be used to solve partial differential equations using the finite difference method with highly optimized stencils in a few lines of Python. We will show how to derive computational stencils directly from the equation in an automated fashion and how we can use Devito to generate and execute optimized C code at runtime to solve our problem.\n",
    "\n",
    "\n",
    "## Defining the physical domain \n",
    "Before we can start creating stencils we will need to give Devito a few details about the computational domain in which we want to solve our problem. For this purpose we create a `Grid` object that stores the physical `extent` (the size) of our domain and knows how many points we want to use in each dimension to discretize our data.\n",
    "\n",
    "<img src=\"figures/grid.png\" style=\"width: 220px;\"/>"
   ]
  },
  {
   "cell_type": "code",
   "execution_count": 2,
   "metadata": {},
   "outputs": [
    {
     "data": {
      "text/plain": [
       "Grid[extent=(1.0, 1.0), shape=(5, 6), dimensions=(x, y)]"
      ]
     },
     "execution_count": 2,
     "metadata": {},
     "output_type": "execute_result"
    }
   ],
   "source": [
    "grid = Grid(shape=(5, 6), extent=(1., 1.))\n",
    "grid"
   ]
  },
  {
   "cell_type": "markdown",
   "metadata": {},
   "source": [
    "## Functions and data\n",
    "\n",
    "To express our equation in symbolic form and discretize it using finite differences, Devito provides a set of `Function` types. A `Function` object:\n",
    "\n",
    "1. Behaves like a `sympy.Function` symbol\n",
    "2. Manages data associated with the symbol\n",
    "\n",
    "To get more information on how to create and use a `Function` object, or any type provided by Devito, we can take a look at the documentation."
   ]
  },
  {
   "cell_type": "code",
   "execution_count": 3,
   "metadata": {},
   "outputs": [
    {
     "name": "stdout",
     "output_type": "stream",
     "text": [
      "\n",
      "    Tensor symbol representing a discrete function in symbolic equations.\n",
      "\n",
      "    A Function carries multi-dimensional data and provides operations to create\n",
      "    finite-differences approximations.\n",
      "\n",
      "    A Function encapsulates space-varying data; for data that also varies in time,\n",
      "    use TimeFunction instead.\n",
      "\n",
      "    Parameters\n",
      "    ----------\n",
      "    name : str\n",
      "        Name of the symbol.\n",
      "    grid : Grid, optional\n",
      "        Carries shape, dimensions, and dtype of the Function. When grid is not\n",
      "        provided, shape and dimensions must be given. For MPI execution, a\n",
      "        Grid is compulsory.\n",
      "    space_order : int or 3-tuple of ints, optional\n",
      "        Discretisation order for space derivatives. Defaults to 1. ``space_order`` also\n",
      "        impacts the number of points available around a generic point of interest.  By\n",
      "        default, ``space_order`` points are available on both sides of a generic point of\n",
      "        interest, including those nearby the grid boundary. Sometimes, fewer points\n",
      "        suffice; in other scenarios, more points are necessary. In such cases, instead of\n",
      "        an integer, one can pass a 3-tuple ``(o, lp, rp)`` indicating the discretization\n",
      "        order (``o``) as well as the number of points on the left (``lp``) and right\n",
      "        (``rp``) sides of a generic point of interest.\n",
      "    shape : tuple of ints, optional\n",
      "        Shape of the domain region in grid points. Only necessary if ``grid`` isn't given.\n",
      "    dimensions : tuple of Dimension, optional\n",
      "        Dimensions associated with the object. Only necessary if ``grid`` isn't given.\n",
      "    dtype : data-type, optional\n",
      "        Any object that can be interpreted as a numpy data type. Defaults\n",
      "        to ``np.float32``.\n",
      "    staggered : Dimension or tuple of Dimension or Stagger, optional\n",
      "        Define how the Function is staggered.\n",
      "    initializer : callable or any object exposing the buffer interface, optional\n",
      "        Data initializer. If a callable is provided, data is allocated lazily.\n",
      "    allocator : MemoryAllocator, optional\n",
      "        Controller for memory allocation. To be used, for example, when one wants\n",
      "        to take advantage of the memory hierarchy in a NUMA architecture. Refer to\n",
      "        `default_allocator.__doc__` for more information.\n",
      "    padding : int or tuple of ints, optional\n",
      "        .. deprecated:: shouldn't be used; padding is now automatically inserted.\n",
      "\n",
      "        Allocate extra grid points to maximize data access alignment. When a tuple\n",
      "        of ints, one int per Dimension should be provided.\n",
      "\n",
      "    Examples\n",
      "    --------\n",
      "    Creation\n",
      "\n",
      "    >>> from devito import Grid, Function\n",
      "    >>> grid = Grid(shape=(4, 4))\n",
      "    >>> f = Function(name='f', grid=grid)\n",
      "    >>> f\n",
      "    f(x, y)\n",
      "    >>> g = Function(name='g', grid=grid, space_order=2)\n",
      "    >>> g\n",
      "    g(x, y)\n",
      "\n",
      "    First-order derivatives through centered finite-difference approximations\n",
      "\n",
      "    >>> f.dx\n",
      "    Derivative(f(x, y), x)\n",
      "    >>> f.dy\n",
      "    Derivative(f(x, y), y)\n",
      "    >>> g.dx\n",
      "    Derivative(g(x, y), x)\n",
      "    >>> (f + g).dx\n",
      "    Derivative(f(x, y) + g(x, y), x)\n",
      "\n",
      "    First-order derivatives through left/right finite-difference approximations\n",
      "\n",
      "    >>> f.dxl\n",
      "    Derivative(f(x, y), x)\n",
      "\n",
      "    Note that the fact that it's a left-derivative isn't captured in the representation.\n",
      "    However, upon derivative expansion, this becomes clear\n",
      "\n",
      "    >>> f.dxl.evaluate\n",
      "    f(x, y)/h_x - f(x - h_x, y)/h_x\n",
      "    >>> f.dxr\n",
      "    Derivative(f(x, y), x)\n",
      "\n",
      "    Second-order derivative through centered finite-difference approximation\n",
      "\n",
      "    >>> g.dx2\n",
      "    Derivative(g(x, y), (x, 2))\n",
      "\n",
      "    Notes\n",
      "    -----\n",
      "    The parameters must always be given as keyword arguments, since SymPy\n",
      "    uses ``*args`` to (re-)create the dimension arguments of the symbolic object.\n",
      "    \n"
     ]
    }
   ],
   "source": [
    "print(Function.__doc__)"
   ]
  },
  {
   "cell_type": "markdown",
   "metadata": {},
   "source": [
    "Ok, let's create a function $f(x, y)$ and look at the data Devito has associated with it. Please note that it is important to use explicit keywords, such as `name` or `grid` when creating `Function` objects."
   ]
  },
  {
   "cell_type": "code",
   "execution_count": 4,
   "metadata": {},
   "outputs": [
    {
     "data": {
      "text/latex": [
       "$\\displaystyle f{\\left(x,y \\right)}$"
      ],
      "text/plain": [
       "f(x, y)"
      ]
     },
     "execution_count": 4,
     "metadata": {},
     "output_type": "execute_result"
    }
   ],
   "source": [
    "f = Function(name='f', grid=grid)\n",
    "f"
   ]
  },
  {
   "cell_type": "code",
   "execution_count": 5,
   "metadata": {},
   "outputs": [
    {
     "data": {
      "text/plain": [
       "Data([[0., 0., 0., 0., 0., 0.],\n",
       "      [0., 0., 0., 0., 0., 0.],\n",
       "      [0., 0., 0., 0., 0., 0.],\n",
       "      [0., 0., 0., 0., 0., 0.],\n",
       "      [0., 0., 0., 0., 0., 0.]], dtype=float32)"
      ]
     },
     "execution_count": 5,
     "metadata": {},
     "output_type": "execute_result"
    }
   ],
   "source": [
    "f.data"
   ]
  },
  {
   "cell_type": "markdown",
   "metadata": {},
   "source": [
    "By default Devito's `Function` objects will use the spatial dimensions `(x, y)` for 2D grids and `(x, y, z)` for 3D grids. To solve a PDE for several timesteps, we need a time dimension for our symbolic function. For this Devito provides a second function type, `TimeFunction`, that provides the correct dimension and some other intricacies needed to create a time stepping scheme."
   ]
  },
  {
   "cell_type": "code",
   "execution_count": 6,
   "metadata": {},
   "outputs": [
    {
     "data": {
      "text/latex": [
       "$\\displaystyle g{\\left(t,x,y \\right)}$"
      ],
      "text/plain": [
       "g(t, x, y)"
      ]
     },
     "execution_count": 6,
     "metadata": {},
     "output_type": "execute_result"
    }
   ],
   "source": [
    "g = TimeFunction(name='g', grid=grid)\n",
    "g"
   ]
  },
  {
   "cell_type": "markdown",
   "metadata": {},
   "source": [
    "The shape of `f` is `(2, 5, 6)`. Devito has allocated two buffers to represent `g(t, x, y)` and `g(t + dt, x, y)`."
   ]
  },
  {
   "cell_type": "code",
   "execution_count": 7,
   "metadata": {},
   "outputs": [
    {
     "data": {
      "text/plain": [
       "(2, 5, 6)"
      ]
     },
     "execution_count": 7,
     "metadata": {},
     "output_type": "execute_result"
    }
   ],
   "source": [
    "g.shape"
   ]
  },
  {
   "cell_type": "markdown",
   "metadata": {},
   "source": [
    "## Derivatives of symbolic functions\n",
    "\n",
    "The Devito functions we have created so far all act as `sympy.Function` objects, which means that we can form symbolic derivative expressions for them. Devito provides a set of shorthand expressions (implemented as Python properties) that allow us to generate finite differences in symbolic form. For example, the property `f.dx` denotes $\\frac{\\partial}{\\partial x} f(x, y)$ - only that Devito has already discretized it with a finite difference expression. There are also a set of shorthand expressions for left (backward) and right (forward) derivatives:\n",
    "\n",
    "| Derivative | Shorthand | Discretized | Stencil |\n",
    "| ---------- |:---------:|:-----------:|:-------:|\n",
    "| $\\frac{\\partial}{\\partial x}f(x, y)$ (right) | `f.dxr` | $\\frac{f(x+h_x,y)}{h_x} - \\frac{f(x,y)}{h_x}$ | <img src=\"figures/stencil_forward.png\" style=\"width: 180px;\"/> |\n",
    "| $\\frac{\\partial}{\\partial x}f(x, y)$ (left) | `f.dxl` | $\\frac{f(x,y)}{h_x} - \\frac{f(x-h_x,y)}{h_x}$ | <img src=\"figures/stencil_backward.png\" style=\"width: 180px;\"/> |\n",
    "\n",
    "A similar set of expressions exist for each spatial dimension defined on our grid, for example `f.dy` and `f.dyl`. Obviously, one can also take derivatives in time using $g(t, x, y)$. For example, for the first derivative in time"
   ]
  },
  {
   "cell_type": "code",
   "execution_count": 8,
   "metadata": {},
   "outputs": [
    {
     "data": {
      "text/latex": [
       "$\\displaystyle \\frac{\\partial}{\\partial t} g{\\left(t,x,y \\right)}$"
      ],
      "text/plain": [
       "Derivative(g(t, x, y), t)"
      ]
     },
     "execution_count": 8,
     "metadata": {},
     "output_type": "execute_result"
    }
   ],
   "source": [
    "g.dt"
   ]
  },
  {
   "cell_type": "markdown",
   "metadata": {},
   "source": [
    "We may also want to take a look at the stencil that Devito will generate based on the chosen discretization"
   ]
  },
  {
   "cell_type": "code",
   "execution_count": 9,
   "metadata": {},
   "outputs": [
    {
     "data": {
      "text/latex": [
       "$\\displaystyle - \\frac{g{\\left(t,x,y \\right)}}{dt} + \\frac{g{\\left(t + dt,x,y \\right)}}{dt}$"
      ],
      "text/plain": [
       "-g(t, x, y)/dt + g(t + dt, x, y)/dt"
      ]
     },
     "execution_count": 9,
     "metadata": {},
     "output_type": "execute_result"
    }
   ],
   "source": [
    "g.dt.evaluate"
   ]
  },
  {
   "cell_type": "markdown",
   "metadata": {},
   "source": [
    "There also exist convenient shortcuts to express the forward and backward stencil points, `g(t+dt, x, y)` and `g(t-dt, x, y)`."
   ]
  },
  {
   "cell_type": "code",
   "execution_count": 10,
   "metadata": {},
   "outputs": [
    {
     "data": {
      "text/latex": [
       "$\\displaystyle g{\\left(t + dt,x,y \\right)}$"
      ],
      "text/plain": [
       "g(t + dt, x, y)"
      ]
     },
     "execution_count": 10,
     "metadata": {},
     "output_type": "execute_result"
    }
   ],
   "source": [
    "g.forward"
   ]
  },
  {
   "cell_type": "code",
   "execution_count": 11,
   "metadata": {},
   "outputs": [
    {
     "data": {
      "text/latex": [
       "$\\displaystyle g{\\left(t - dt,x,y \\right)}$"
      ],
      "text/plain": [
       "g(t - dt, x, y)"
      ]
     },
     "execution_count": 11,
     "metadata": {},
     "output_type": "execute_result"
    }
   ],
   "source": [
    "g.backward"
   ]
  },
  {
   "cell_type": "markdown",
   "metadata": {},
   "source": [
    "And there's clearly nothing stopping us from taking derivatives on these objects"
   ]
  },
  {
   "cell_type": "code",
   "execution_count": 12,
   "metadata": {},
   "outputs": [
    {
     "data": {
      "text/latex": [
       "$\\displaystyle \\frac{\\partial}{\\partial t} g{\\left(t + dt,x,y \\right)}$"
      ],
      "text/plain": [
       "Derivative(g(t + dt, x, y), t)"
      ]
     },
     "execution_count": 12,
     "metadata": {},
     "output_type": "execute_result"
    }
   ],
   "source": [
    "g.forward.dt"
   ]
  },
  {
   "cell_type": "code",
   "execution_count": 13,
   "metadata": {},
   "outputs": [
    {
     "data": {
      "text/latex": [
       "$\\displaystyle \\frac{\\partial}{\\partial y} g{\\left(t + dt,x,y \\right)}$"
      ],
      "text/plain": [
       "Derivative(g(t + dt, x, y), y)"
      ]
     },
     "execution_count": 13,
     "metadata": {},
     "output_type": "execute_result"
    }
   ],
   "source": [
    "g.forward.dy"
   ]
  },
  {
   "cell_type": "markdown",
   "metadata": {},
   "source": [
    "## A linear convection operator\n",
    "\n",
    "**Note:** The following example is derived from [step 5](http://nbviewer.ipython.org/github/barbagroup/CFDPython/blob/master/lessons/07_Step_5.ipynb) in the excellent tutorial series [CFD Python: 12 steps to Navier-Stokes](http://lorenabarba.com/blog/cfd-python-12-steps-to-navier-stokes/).\n",
    "\n",
    "In this simple example we will show how to derive a very simple convection operator from a high-level description of the governing equation. We will go through the process of deriving a discretized finite difference formulation of the state update for the field variable $u$, before creating a callable `Operator` object. Luckily, the automation provided by SymPy makes the derivation very nice and easy.\n",
    "\n",
    "The governing equation we want to implement is the linear convection equation:\n",
    "$$\\frac{\\partial u}{\\partial t}+c\\frac{\\partial u}{\\partial x} + c\\frac{\\partial u}{\\partial y} = 0$$\n",
    "\n",
    "Before we start, we need to define some parameters, such as the grid, the number of timesteps and the timestep size. We will also initialize our initial velocity field `u` with a smooth initial condition."
   ]
  },
  {
   "cell_type": "code",
   "execution_count": 14,
   "metadata": {
    "tags": [
     "nbval-ignore-output"
    ]
   },
   "outputs": [
    {
     "data": {
      "text/plain": [
       "<Figure size 1100x700 with 1 Axes>"
      ]
     },
     "metadata": {},
     "output_type": "display_data"
    }
   ],
   "source": [
    "from examples.cfd import init_smooth, plot_field\n",
    "\n",
    "nt = 100  # Number of timesteps\n",
    "dt = 0.2 * 2. / 80  # Timestep size (sigma=0.2)\n",
    "c = 1  # Value for c\n",
    "\n",
    "# Then we create a grid and our function\n",
    "grid = Grid(shape=(81, 81), extent=(2., 2.))\n",
    "u = TimeFunction(name='u', grid=grid)\n",
    "\n",
    "# We can now set the initial condition and plot it\n",
    "init_smooth(field=u.data[0], dx=grid.spacing[0], dy=grid.spacing[1])\n",
    "init_smooth(field=u.data[1], dx=grid.spacing[0], dy=grid.spacing[1])\n",
    "\n",
    "plot_field(u.data[0])"
   ]
  },
  {
   "cell_type": "markdown",
   "metadata": {},
   "source": [
    "Next, we want to discretize our governing equation so that we can create a functional `Operator` from it. We can start by simply writing out the equation as a symbolic expression, while using the shorthand expressions for derivatives that the `Function` objects provide. This will create a symbolic object of the dicretized equation.\n",
    "\n",
    "Using the Devito shorthand notation, we can express the governing equations as"
   ]
  },
  {
   "cell_type": "code",
   "execution_count": 15,
   "metadata": {},
   "outputs": [
    {
     "data": {
      "text/latex": [
       "$\\displaystyle \\frac{\\partial}{\\partial x} u{\\left(t,x,y \\right)} + \\frac{\\partial}{\\partial y} u{\\left(t,x,y \\right)} + \\frac{\\partial}{\\partial t} u{\\left(t,x,y \\right)} = 0$"
      ],
      "text/plain": [
       "Eq(Derivative(u(t, x, y), x) + Derivative(u(t, x, y), y) + Derivative(u(t, x, y), t), 0)"
      ]
     },
     "execution_count": 15,
     "metadata": {},
     "output_type": "execute_result"
    }
   ],
   "source": [
    "eq = Eq(u.dt + c * u.dxl + c * u.dyl)\n",
    "eq"
   ]
  },
  {
   "cell_type": "markdown",
   "metadata": {},
   "source": [
    "Next, we need to rearrange our equation so that the term $u(t+dt, x, y)$ is on the left-hand side, since it represents the next point in time for our state variable $u$. Devito provides a utility called `solve`, built on top of SymPy's `solve`, to rearrange our equation for us, so that it represents a valid state update for $u$. Here, we use `solve` to create a valid stencil for our update to `u(t+dt, x, y)`."
   ]
  },
  {
   "cell_type": "code",
   "execution_count": 16,
   "metadata": {},
   "outputs": [
    {
     "data": {
      "text/latex": [
       "$\\displaystyle u{\\left(t + dt,x,y \\right)} = \\frac{- dt h_{x} u{\\left(t,x,y \\right)} + dt h_{x} u{\\left(t,x,y - h_{y} \\right)} - dt h_{y} u{\\left(t,x,y \\right)} + dt h_{y} u{\\left(t,x - h_{x},y \\right)} + h_{x} h_{y} u{\\left(t,x,y \\right)}}{h_{x} h_{y}}$"
      ],
      "text/plain": [
       "Eq(u(t + dt, x, y), (-dt*h_x*u(t, x, y) + dt*h_x*u(t, x, y - h_y) - dt*h_y*u(t, x, y) + dt*h_y*u(t, x - h_x, y) + h_x*h_y*u(t, x, y))/(h_x*h_y))"
      ]
     },
     "execution_count": 16,
     "metadata": {},
     "output_type": "execute_result"
    }
   ],
   "source": [
    "stencil = solve(eq, u.forward)\n",
    "update = Eq(u.forward, stencil)\n",
    "update"
   ]
  },
  {
   "cell_type": "markdown",
   "metadata": {},
   "source": [
    "The right-hand side of the update equation should be a stencil of the shape\n",
    "<img src=\"figures/stencil_convection.png\" style=\"width: 160px;\"/>\n",
    "\n",
    "Once we have created this update expression, we can create a Devito `Operator`. This `Operator` will basically behave like a Python function that we can call to apply the created stencil over our associated data, as long as we provide all necessary unknowns. In this case we need to provide the number of timesteps to compute via the keyword `time` and the timestep size to use via `dt` (both have been defined above)."
   ]
  },
  {
   "cell_type": "code",
   "execution_count": 17,
   "metadata": {
    "tags": [
     "nbval-ignore-output"
    ]
   },
   "outputs": [
    {
     "name": "stderr",
     "output_type": "stream",
     "text": [
      "Operator `Kernel` run in 0.01 s\n"
     ]
    },
    {
     "data": {
      "image/png": "[encoded data removed]",
      "text/plain": [
       "<Figure size 1100x700 with 1 Axes>"
      ]
     },
     "metadata": {
      "needs_background": "light"
     },
     "output_type": "display_data"
    }
   ],
   "source": [
    "op = Operator(update)\n",
    "op(time=nt+1, dt=dt)\n",
    "\n",
    "plot_field(u.data[0])"
   ]
  },
  {
   "cell_type": "markdown",
   "metadata": {},
   "source": [
    "Please note that the `Operator` is where all the Devito power is hidden, as it will automatically generate and compile optimized C code. We can look at this code - although we don't need to execute it."
   ]
  },
  {
   "cell_type": "code",
   "execution_count": 18,
   "metadata": {
    "tags": [
     "nbval-ignore-output"
    ]
   },
   "outputs": [
    {
     "name": "stdout",
     "output_type": "stream",
     "text": [
      "#define _POSIX_C_SOURCE 200809L\n",
      "#include \"stdlib.h\"\n",
      "#include \"math.h\"\n",
      "#include \"sys/time.h\"\n",
      "\n",
      "struct dataobj\n",
      "{\n",
      "  void *restrict data;\n",
      "  int * size;\n",
      "  int * npsize;\n",
      "  int * dsize;\n",
      "  int * hsize;\n",
      "  int * hofs;\n",
      "  int * oofs;\n",
      "} ;\n",
      "\n",
      "struct profiler\n",
      "{\n",
      "  double section0;\n",
      "} ;\n",
      "\n",
      "\n",
      "int Kernel(const float dt, const float h_x, const float h_y, struct dataobj *restrict u_vec, const int time_M, const int time_m, struct profiler * timers, const int x_M, const int x_m, const int y_M, const int y_m)\n",
      "{\n",
      "  float (*restrict u)[u_vec->size[1]][u_vec->size[2]] __attribute__ ((aligned (64))) = (float (*)[u_vec->size[1]][u_vec->size[2]]) u_vec->data;\n",
      "  for (int time = time_m, t0 = (time)%(2), t1 = (time + 1)%(2); time <= time_M; time += 1, t0 = (time)%(2), t1 = (time + 1)%(2))\n",
      "  {\n",
      "    struct timeval start_section0, end_section0;\n",
      "    gettimeofday(&start_section0, NULL);\n",
      "    /* Begin section0 */\n",
      "    for (int x = x_m; x <= x_M; x += 1)\n",
      "    {\n",
      "      for (int y = y_m; y <= y_M; y += 1)\n",
      "      {\n",
      "        u[t1][x + 1][y + 1] = (dt*h_x*u[t0][x + 1][y] + dt*h_y*u[t0][x][y + 1] + h_x*h_y*u[t0][x + 1][y + 1] - (dt*h_x*u[t0][x + 1][y + 1] + dt*h_y*u[t0][x + 1][y + 1]))/(h_x*h_y);\n",
      "      }\n",
      "    }\n",
      "    /* End section0 */\n",
      "    gettimeofday(&end_section0, NULL);\n",
      "    timers->section0 += (double)(end_section0.tv_sec-start_section0.tv_sec)+(double)(end_section0.tv_usec-start_section0.tv_usec)/1000000;\n",
      "  }\n",
      "  return 0;\n",
      "}\n",
      "\n"
     ]
    }
   ],
   "source": [
    "print(op.ccode)"
   ]
  },
  {
   "cell_type": "markdown",
   "metadata": {},
   "source": [
    "## Second derivatives and high-order stencils\n",
    "\n",
    "For the above example all we had to do was combine some first derivatives. However, lots of common scientific problems require second derivative, most notably any PDE including diffusion. To generate second order derivatives we need to give the `devito.Function` object another piece of information: the desired discretization of the stencils.\n",
    "\n",
    "First, let's do a simple second derivative in `x`, for which we need to give $u$ at least a `space_order` of `2`. The shorthand for the second derivative is then `u.dx2`. "
   ]
  },
  {
   "cell_type": "code",
   "execution_count": 19,
   "metadata": {},
   "outputs": [
    {
     "data": {
      "text/latex": [
       "$\\displaystyle \\frac{\\partial^{2}}{\\partial x^{2}} u{\\left(t,x,y \\right)}$"
      ],
      "text/plain": [
       "Derivative(u(t, x, y), (x, 2))"
      ]
     },
     "execution_count": 19,
     "metadata": {},
     "output_type": "execute_result"
    }
   ],
   "source": [
    "u = TimeFunction(name='u', grid=grid, space_order=2)\n",
    "u.dx2"
   ]
  },
  {
   "cell_type": "code",
   "execution_count": 20,
   "metadata": {},
   "outputs": [
    {
     "data": {
      "text/latex": [
       "$\\displaystyle - \\frac{2.0 u{\\left(t,x,y \\right)}}{h_{x}^{2}} + \\frac{u{\\left(t,x - h_{x},y \\right)}}{h_{x}^{2}} + \\frac{u{\\left(t,x + h_{x},y \\right)}}{h_{x}^{2}}$"
      ],
      "text/plain": [
       "-2.0*u(t, x, y)/h_x**2 + u(t, x - h_x, y)/h_x**2 + u(t, x + h_x, y)/h_x**2"
      ]
     },
     "execution_count": 20,
     "metadata": {},
     "output_type": "execute_result"
    }
   ],
   "source": [
    "u.dx2.evaluate"
   ]
  },
  {
   "cell_type": "markdown",
   "metadata": {},
   "source": [
    "We can arbitrarily drive the discretization order up if require higher order stencils. "
   ]
  },
  {
   "cell_type": "code",
   "execution_count": 21,
   "metadata": {},
   "outputs": [
    {
     "data": {
      "text/latex": [
       "$\\displaystyle \\frac{\\partial^{2}}{\\partial x^{2}} u{\\left(t,x,y \\right)}$"
      ],
      "text/plain": [
       "Derivative(u(t, x, y), (x, 2))"
      ]
     },
     "execution_count": 21,
     "metadata": {},
     "output_type": "execute_result"
    }
   ],
   "source": [
    "u = TimeFunction(name='u', grid=grid, space_order=4)\n",
    "u.dx2"
   ]
  },
  {
   "cell_type": "code",
   "execution_count": 22,
   "metadata": {},
   "outputs": [
    {
     "data": {
      "text/latex": [
       "$\\displaystyle - \\frac{2.5 u{\\left(t,x,y \\right)}}{h_{x}^{2}} - \\frac{0.0833333333 u{\\left(t,x - 2 h_{x},y \\right)}}{h_{x}^{2}} + \\frac{1.33333333 u{\\left(t,x - h_{x},y \\right)}}{h_{x}^{2}} + \\frac{1.33333333 u{\\left(t,x + h_{x},y \\right)}}{h_{x}^{2}} - \\frac{0.0833333333 u{\\left(t,x + 2 h_{x},y \\right)}}{h_{x}^{2}}$"
      ],
      "text/plain": [
       "-2.5*u(t, x, y)/h_x**2 - 0.0833333333*u(t, x - 2*h_x, y)/h_x**2 + 1.33333333*u(t, x - h_x, y)/h_x**2 + 1.33333333*u(t, x + h_x, y)/h_x**2 - 0.0833333333*u(t, x + 2*h_x, y)/h_x**2"
      ]
     },
     "execution_count": 22,
     "metadata": {},
     "output_type": "execute_result"
    }
   ],
   "source": [
    "u.dx2.evaluate"
   ]
  },
  {
   "cell_type": "markdown",
   "metadata": {},
   "source": [
    "To implement diffusion or wave equations, we need to take the Laplacian $\\nabla^2 u$, which is simply the second derivative in all space dimensions. For this, Devito also provides a shorthand expression, which means we do not have to hard-code the problem dimension (2D or 3D) in the code. To change the problem dimension we can create another `Grid` object and use this to re-define our `Function`s."
   ]
  },
  {
   "cell_type": "code",
   "execution_count": 23,
   "metadata": {},
   "outputs": [
    {
     "data": {
      "text/latex": [
       "$\\displaystyle u{\\left(t,x,y,z \\right)}$"
      ],
      "text/plain": [
       "u(t, x, y, z)"
      ]
     },
     "execution_count": 23,
     "metadata": {},
     "output_type": "execute_result"
    }
   ],
   "source": [
    "grid_3d = Grid(shape=(5, 6, 7), extent=(1., 1., 1.))\n",
    "\n",
    "u = TimeFunction(name='u', grid=grid_3d, space_order=2)\n",
    "u"
   ]
  },
  {
   "cell_type": "markdown",
   "metadata": {},
   "source": [
    "We can re-define our function `u` with a different `space_order` argument to change the discretization order of the created stencil expression. For example, we can derive an expression of the 12th-order Laplacian $\\nabla^2 u$."
   ]
  },
  {
   "cell_type": "code",
   "execution_count": 24,
   "metadata": {},
   "outputs": [
    {
     "data": {
      "text/latex": [
       "$\\displaystyle \\frac{\\partial^{2}}{\\partial x^{2}} u{\\left(t,x,y,z \\right)} + \\frac{\\partial^{2}}{\\partial y^{2}} u{\\left(t,x,y,z \\right)} + \\frac{\\partial^{2}}{\\partial z^{2}} u{\\left(t,x,y,z \\right)}$"
      ],
      "text/plain": [
       "Derivative(u(t, x, y, z), (x, 2)) + Derivative(u(t, x, y, z), (y, 2)) + Derivative(u(t, x, y, z), (z, 2))"
      ]
     },
     "execution_count": 24,
     "metadata": {},
     "output_type": "execute_result"
    }
   ],
   "source": [
    "u = TimeFunction(name='u', grid=grid_3d, space_order=12)\n",
    "u.laplace"
   ]
  },
  {
   "cell_type": "markdown",
   "metadata": {},
   "source": [
    "Clearly, we could have obtained the same expression explicitly with"
   ]
  },
  {
   "cell_type": "code",
   "execution_count": 25,
   "metadata": {},
   "outputs": [
    {
     "data": {
      "text/latex": [
       "$\\displaystyle \\frac{\\partial^{2}}{\\partial x^{2}} u{\\left(t,x,y,z \\right)} + \\frac{\\partial^{2}}{\\partial y^{2}} u{\\left(t,x,y,z \\right)} + \\frac{\\partial^{2}}{\\partial z^{2}} u{\\left(t,x,y,z \\right)}$"
      ],
      "text/plain": [
       "Derivative(u(t, x, y, z), (x, 2)) + Derivative(u(t, x, y, z), (y, 2)) + Derivative(u(t, x, y, z), (z, 2))"
      ]
     },
     "execution_count": 25,
     "metadata": {},
     "output_type": "execute_result"
    }
   ],
   "source": [
    "u.dx2 + u.dy2 + u.dz2"
   ]
  },
  {
   "cell_type": "markdown",
   "metadata": {},
   "source": [
    "## Derivatives of composite expressions\n",
    "\n",
    "We can take derivatives of any arbitrary expression"
   ]
  },
  {
   "cell_type": "code",
   "execution_count": 26,
   "metadata": {},
   "outputs": [],
   "source": [
    "u = TimeFunction(name='u', grid=grid, space_order=2)\n",
    "v = TimeFunction(name='v', grid=grid, space_order=2, time_order=2)"
   ]
  },
  {
   "cell_type": "code",
   "execution_count": 27,
   "metadata": {},
   "outputs": [
    {
     "data": {
      "text/latex": [
       "$\\displaystyle \\frac{\\partial^{2}}{\\partial x^{2}} u{\\left(t,x,y \\right)} + \\frac{\\partial^{2}}{\\partial y^{2}} u{\\left(t,x,y \\right)} + \\frac{\\partial^{2}}{\\partial t^{2}} v{\\left(t,x,y \\right)}$"
      ],
      "text/plain": [
       "Derivative(u(t, x, y), (x, 2)) + Derivative(u(t, x, y), (y, 2)) + Derivative(v(t, x, y), (t, 2))"
      ]
     },
     "execution_count": 27,
     "metadata": {},
     "output_type": "execute_result"
    }
   ],
   "source": [
    "v.dt2 + u.laplace"
   ]
  },
  {
   "cell_type": "code",
   "execution_count": 28,
   "metadata": {},
   "outputs": [
    {
     "data": {
      "text/latex": [
       "$\\displaystyle \\frac{\\partial^{2}}{\\partial x^{2}} \\left(\\frac{\\partial^{2}}{\\partial x^{2}} u{\\left(t,x,y \\right)} + \\frac{\\partial^{2}}{\\partial y^{2}} u{\\left(t,x,y \\right)} + \\frac{\\partial^{2}}{\\partial t^{2}} v{\\left(t,x,y \\right)}\\right)$"
      ],
      "text/plain": [
       "Derivative(Derivative(u(t, x, y), (x, 2)) + Derivative(u(t, x, y), (y, 2)) + Derivative(v(t, x, y), (t, 2)), (x, 2))"
      ]
     },
     "execution_count": 28,
     "metadata": {},
     "output_type": "execute_result"
    }
   ],
   "source": [
    "(v.dt2 + u.laplace).dx2"
   ]
  },
  {
   "cell_type": "markdown",
   "metadata": {},
   "source": [
    "Which may lead to fairly complex stencils, also depending on the chosen discretization"
   ]
  },
  {
   "cell_type": "code",
   "execution_count": 29,
   "metadata": {},
   "outputs": [
    {
     "data": {
      "text/latex": [
       "$\\displaystyle - \\frac{2.0 \\left(- \\frac{2.0 u{\\left(t,x,y \\right)}}{h_{y}^{2}} + \\frac{u{\\left(t,x,y - h_{y} \\right)}}{h_{y}^{2}} + \\frac{u{\\left(t,x,y + h_{y} \\right)}}{h_{y}^{2}} - \\frac{2.0 u{\\left(t,x,y \\right)}}{h_{x}^{2}} + \\frac{u{\\left(t,x - h_{x},y \\right)}}{h_{x}^{2}} + \\frac{u{\\left(t,x + h_{x},y \\right)}}{h_{x}^{2}} - \\frac{2.0 v{\\left(t,x,y \\right)}}{dt^{2}} + \\frac{v{\\left(t - dt,x,y \\right)}}{dt^{2}} + \\frac{v{\\left(t + dt,x,y \\right)}}{dt^{2}}\\right)}{h_{x}^{2}} + \\frac{- \\frac{2.0 u{\\left(t,x - h_{x},y \\right)}}{h_{y}^{2}} + \\frac{u{\\left(t,x - h_{x},y - h_{y} \\right)}}{h_{y}^{2}} + \\frac{u{\\left(t,x - h_{x},y + h_{y} \\right)}}{h_{y}^{2}} + \\frac{u{\\left(t,x,y \\right)}}{h_{x}^{2}} + \\frac{u{\\left(t,x - 2 h_{x},y \\right)}}{h_{x}^{2}} - \\frac{2.0 u{\\left(t,x - h_{x},y \\right)}}{h_{x}^{2}} - \\frac{2.0 v{\\left(t,x - h_{x},y \\right)}}{dt^{2}} + \\frac{v{\\left(t - dt,x - h_{x},y \\right)}}{dt^{2}} + \\frac{v{\\left(t + dt,x - h_{x},y \\right)}}{dt^{2}}}{h_{x}^{2}} + \\frac{- \\frac{2.0 u{\\left(t,x + h_{x},y \\right)}}{h_{y}^{2}} + \\frac{u{\\left(t,x + h_{x},y - h_{y} \\right)}}{h_{y}^{2}} + \\frac{u{\\left(t,x + h_{x},y + h_{y} \\right)}}{h_{y}^{2}} + \\frac{u{\\left(t,x,y \\right)}}{h_{x}^{2}} - \\frac{2.0 u{\\left(t,x + h_{x},y \\right)}}{h_{x}^{2}} + \\frac{u{\\left(t,x + 2 h_{x},y \\right)}}{h_{x}^{2}} - \\frac{2.0 v{\\left(t,x + h_{x},y \\right)}}{dt^{2}} + \\frac{v{\\left(t - dt,x + h_{x},y \\right)}}{dt^{2}} + \\frac{v{\\left(t + dt,x + h_{x},y \\right)}}{dt^{2}}}{h_{x}^{2}}$"
      ],
      "text/plain": [
       "-2.0*(-2.0*u(t, x, y)/h_y**2 + u(t, x, y - h_y)/h_y**2 + u(t, x, y + h_y)/h_y**2 - 2.0*u(t, x, y)/h_x**2 + u(t, x - h_x, y)/h_x**2 + u(t, x + h_x, y)/h_x**2 - 2.0*v(t, x, y)/dt**2 + v(t - dt, x, y)/dt**2 + v(t + dt, x, y)/dt**2)/h_x**2 + (-2.0*u(t, x - h_x, y)/h_y**2 + u(t, x - h_x, y - h_y)/h_y**2 + u(t, x - h_x, y + h_y)/h_y**2 + u(t, x, y)/h_x**2 + u(t, x - 2*h_x, y)/h_x**2 - 2.0*u(t, x - h_x, y)/h_x**2 - 2.0*v(t, x - h_x, y)/dt**2 + v(t - dt, x - h_x, y)/dt**2 + v(t + dt, x - h_x, y)/dt**2)/h_x**2 + (-2.0*u(t, x + h_x, y)/h_y**2 + u(t, x + h_x, y - h_y)/h_y**2 + u(t, x + h_x, y + h_y)/h_y**2 + u(t, x, y)/h_x**2 - 2.0*u(t, x + h_x, y)/h_x**2 + u(t, x + 2*h_x, y)/h_x**2 - 2.0*v(t, x + h_x, y)/dt**2 + v(t - dt, x + h_x, y)/dt**2 + v(t + dt, x + h_x, y)/dt**2)/h_x**2"
      ]
     },
     "execution_count": 29,
     "metadata": {},
     "output_type": "execute_result"
    }
   ],
   "source": [
    "(v.dt2 + u.laplace).dx2.evaluate"
   ]
  }
 ],
 "metadata": {
  "kernelspec": {
   "display_name": "Python 3",
   "language": "python",
   "name": "python3"
  },
  "language_info": {
   "codemirror_mode": {
    "name": "ipython",
    "version": 3
   },
   "file_extension": ".py",
   "mimetype": "text/x-python",
   "name": "python",
   "nbconvert_exporter": "python",
   "pygments_lexer": "ipython3",
   "version": "3.6.8"
  },
  "widgets": {
   "state": {},
   "version": "1.1.2"
  }
 },
 "nbformat": 4,
 "nbformat_minor": 2
}
